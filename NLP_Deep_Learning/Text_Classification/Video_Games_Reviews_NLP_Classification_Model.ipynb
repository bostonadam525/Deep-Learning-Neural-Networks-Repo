{
  "cells": [
    {
      "cell_type": "markdown",
      "metadata": {
        "id": "554t62XotmHF"
      },
      "source": [
        "# Video Games Reviews - NLP Classification Model\n",
        "* Notebook by Adam Lang\n",
        "* Date: 5/21/2024\n",
        "* In this notebook we will build 2 Naive Bayes Classifiers including\n",
        "1. Multinomial Naive Bayes Classifier\n",
        "  * The features will represent counts of words or other discrete elements.\n",
        "2. Bernoulli Naive Bayes Classifier\n",
        "  * Features represent the presence or abscence of words (e.g. one-hot-encoding)\n",
        "\n",
        "# Data Science/NLP Problem\n",
        "  * Predict whether a player or \"gamer\" will recommend the game to someone or not."
      ]
    },
    {
      "cell_type": "markdown",
      "metadata": {
        "id": "317e1zHKu-6V"
      },
      "source": [
        "## Import libraries"
      ]
    },
    {
      "cell_type": "code",
      "execution_count": 1,
      "metadata": {
        "id": "r11kDhhrtk05"
      },
      "outputs": [],
      "source": [
        "import nltk\n",
        "import pandas as pd\n",
        "import numpy as np\n",
        "import spacy\n",
        "from nltk.corpus import stopwords\n",
        "from nltk.stem import WordNetLemmatizer\n",
        "from sklearn.model_selection import train_test_split, cross_validate, StratifiedKFold\n",
        "from sklearn.pipeline import Pipeline\n",
        "\n",
        "## feature extraction -- CountVectorizer, TfidfVectorizer\n",
        "from sklearn.feature_extraction.text import CountVectorizer, TfidfVectorizer\n",
        "\n",
        "## MultinomialNB, BernolliNB\n",
        "from sklearn.naive_bayes import MultinomialNB, BernoulliNB\n",
        "\n",
        "## evaluation metrics\n",
        "from sklearn.metrics import accuracy_score, classification_report"
      ]
    },
    {
      "cell_type": "code",
      "execution_count": 2,
      "metadata": {
        "colab": {
          "base_uri": "https://localhost:8080/"
        },
        "id": "-X5Frf8guNcb",
        "outputId": "a42e6e8f-56ac-48d4-f97f-c9bb1bfc34ac"
      },
      "outputs": [
        {
          "output_type": "stream",
          "name": "stderr",
          "text": [
            "[nltk_data] Downloading package punkt to /root/nltk_data...\n",
            "[nltk_data]   Unzipping tokenizers/punkt.zip.\n",
            "[nltk_data] Downloading package stopwords to /root/nltk_data...\n",
            "[nltk_data]   Unzipping corpora/stopwords.zip.\n"
          ]
        },
        {
          "output_type": "execute_result",
          "data": {
            "text/plain": [
              "True"
            ]
          },
          "metadata": {},
          "execution_count": 2
        }
      ],
      "source": [
        "# Download NLTK resources\n",
        "nltk.download('punkt')\n",
        "nltk.download('stopwords')"
      ]
    },
    {
      "cell_type": "markdown",
      "metadata": {
        "id": "IDnGywIyuxZT"
      },
      "source": [
        "## Read in text data"
      ]
    },
    {
      "cell_type": "code",
      "execution_count": 2,
      "metadata": {
        "id": "NsDMupkuvKhE"
      },
      "outputs": [],
      "source": []
    },
    {
      "cell_type": "code",
      "execution_count": 3,
      "metadata": {
        "id": "Xur0mUoNuv06"
      },
      "outputs": [],
      "source": [
        "## dataset read in\n",
        "train = pd.read_csv('/content/drive/MyDrive/Colab Notebooks/Deep Learning Notebooks/NLP_deep_learning/Text_Classification/Building a Classification Model/NLP_Classification_Modeling/train.csv')\n",
        "validation = pd.read_csv('/content/drive/MyDrive/Colab Notebooks/Deep Learning Notebooks/NLP_deep_learning/Text_Classification/Building a Classification Model/NLP_Classification_Modeling/validation.csv')\n",
        "test = pd.read_csv('/content/drive/MyDrive/Colab Notebooks/Deep Learning Notebooks/NLP_deep_learning/Text_Classification/Building a Classification Model/NLP_Classification_Modeling/test.csv')"
      ]
    },
    {
      "cell_type": "code",
      "execution_count": 4,
      "metadata": {
        "colab": {
          "base_uri": "https://localhost:8080/"
        },
        "id": "jyWWKxic6YXu",
        "outputId": "d9820920-2803-49c8-8b51-227e4b4d5941"
      },
      "outputs": [
        {
          "output_type": "stream",
          "name": "stdout",
          "text": [
            "Shape of train data: (17877, 5)\n",
            "Shape of validation data: (3831, 5)\n",
            "Shape of test data: (3831, 5)\n"
          ]
        }
      ],
      "source": [
        "## check shape of datasets\n",
        "print(f\"Shape of train data: {train.shape}\")\n",
        "print(f\"Shape of validation data: {validation.shape}\")\n",
        "print(f\"Shape of test data: {test.shape}\")"
      ]
    },
    {
      "cell_type": "code",
      "execution_count": 5,
      "metadata": {
        "colab": {
          "base_uri": "https://localhost:8080/",
          "height": 206
        },
        "id": "gYLRdlLZ6xuh",
        "outputId": "207af922-9f1a-45b5-ecc6-f250902e81d9"
      },
      "outputs": [
        {
          "output_type": "execute_result",
          "data": {
            "text/plain": [
              "   review_id                           title    year  \\\n",
              "0        460                     Black Squad  2018.0   \n",
              "1       2166   Tree of Savior (English Ver.)  2016.0   \n",
              "2      17242               Eternal Card Game  2016.0   \n",
              "3       6959  Tactical Monsters Rumble Arena  2018.0   \n",
              "4       8807            Yu-Gi-Oh! Duel Links  2017.0   \n",
              "\n",
              "                                         user_review  user_suggestion  \n",
              "0  Early Access ReviewVery great shooter, that ha...                1  \n",
              "1  I love love love playing this game!Super 100%!...                1  \n",
              "2  Early Access ReviewAs a fan of MTG and Hearths...                1  \n",
              "3  Turn based strategy game similiar to FF Tactic...                1  \n",
              "4  This game has an insanely huge download for be...                0  "
            ],
            "text/html": [
              "\n",
              "  <div id=\"df-b099fbfe-c27e-4cb2-b55c-d4eb3d231a4c\" class=\"colab-df-container\">\n",
              "    <div>\n",
              "<style scoped>\n",
              "    .dataframe tbody tr th:only-of-type {\n",
              "        vertical-align: middle;\n",
              "    }\n",
              "\n",
              "    .dataframe tbody tr th {\n",
              "        vertical-align: top;\n",
              "    }\n",
              "\n",
              "    .dataframe thead th {\n",
              "        text-align: right;\n",
              "    }\n",
              "</style>\n",
              "<table border=\"1\" class=\"dataframe\">\n",
              "  <thead>\n",
              "    <tr style=\"text-align: right;\">\n",
              "      <th></th>\n",
              "      <th>review_id</th>\n",
              "      <th>title</th>\n",
              "      <th>year</th>\n",
              "      <th>user_review</th>\n",
              "      <th>user_suggestion</th>\n",
              "    </tr>\n",
              "  </thead>\n",
              "  <tbody>\n",
              "    <tr>\n",
              "      <th>0</th>\n",
              "      <td>460</td>\n",
              "      <td>Black Squad</td>\n",
              "      <td>2018.0</td>\n",
              "      <td>Early Access ReviewVery great shooter, that ha...</td>\n",
              "      <td>1</td>\n",
              "    </tr>\n",
              "    <tr>\n",
              "      <th>1</th>\n",
              "      <td>2166</td>\n",
              "      <td>Tree of Savior (English Ver.)</td>\n",
              "      <td>2016.0</td>\n",
              "      <td>I love love love playing this game!Super 100%!...</td>\n",
              "      <td>1</td>\n",
              "    </tr>\n",
              "    <tr>\n",
              "      <th>2</th>\n",
              "      <td>17242</td>\n",
              "      <td>Eternal Card Game</td>\n",
              "      <td>2016.0</td>\n",
              "      <td>Early Access ReviewAs a fan of MTG and Hearths...</td>\n",
              "      <td>1</td>\n",
              "    </tr>\n",
              "    <tr>\n",
              "      <th>3</th>\n",
              "      <td>6959</td>\n",
              "      <td>Tactical Monsters Rumble Arena</td>\n",
              "      <td>2018.0</td>\n",
              "      <td>Turn based strategy game similiar to FF Tactic...</td>\n",
              "      <td>1</td>\n",
              "    </tr>\n",
              "    <tr>\n",
              "      <th>4</th>\n",
              "      <td>8807</td>\n",
              "      <td>Yu-Gi-Oh! Duel Links</td>\n",
              "      <td>2017.0</td>\n",
              "      <td>This game has an insanely huge download for be...</td>\n",
              "      <td>0</td>\n",
              "    </tr>\n",
              "  </tbody>\n",
              "</table>\n",
              "</div>\n",
              "    <div class=\"colab-df-buttons\">\n",
              "\n",
              "  <div class=\"colab-df-container\">\n",
              "    <button class=\"colab-df-convert\" onclick=\"convertToInteractive('df-b099fbfe-c27e-4cb2-b55c-d4eb3d231a4c')\"\n",
              "            title=\"Convert this dataframe to an interactive table.\"\n",
              "            style=\"display:none;\">\n",
              "\n",
              "  <svg xmlns=\"http://www.w3.org/2000/svg\" height=\"24px\" viewBox=\"0 -960 960 960\">\n",
              "    <path d=\"M120-120v-720h720v720H120Zm60-500h600v-160H180v160Zm220 220h160v-160H400v160Zm0 220h160v-160H400v160ZM180-400h160v-160H180v160Zm440 0h160v-160H620v160ZM180-180h160v-160H180v160Zm440 0h160v-160H620v160Z\"/>\n",
              "  </svg>\n",
              "    </button>\n",
              "\n",
              "  <style>\n",
              "    .colab-df-container {\n",
              "      display:flex;\n",
              "      gap: 12px;\n",
              "    }\n",
              "\n",
              "    .colab-df-convert {\n",
              "      background-color: #E8F0FE;\n",
              "      border: none;\n",
              "      border-radius: 50%;\n",
              "      cursor: pointer;\n",
              "      display: none;\n",
              "      fill: #1967D2;\n",
              "      height: 32px;\n",
              "      padding: 0 0 0 0;\n",
              "      width: 32px;\n",
              "    }\n",
              "\n",
              "    .colab-df-convert:hover {\n",
              "      background-color: #E2EBFA;\n",
              "      box-shadow: 0px 1px 2px rgba(60, 64, 67, 0.3), 0px 1px 3px 1px rgba(60, 64, 67, 0.15);\n",
              "      fill: #174EA6;\n",
              "    }\n",
              "\n",
              "    .colab-df-buttons div {\n",
              "      margin-bottom: 4px;\n",
              "    }\n",
              "\n",
              "    [theme=dark] .colab-df-convert {\n",
              "      background-color: #3B4455;\n",
              "      fill: #D2E3FC;\n",
              "    }\n",
              "\n",
              "    [theme=dark] .colab-df-convert:hover {\n",
              "      background-color: #434B5C;\n",
              "      box-shadow: 0px 1px 3px 1px rgba(0, 0, 0, 0.15);\n",
              "      filter: drop-shadow(0px 1px 2px rgba(0, 0, 0, 0.3));\n",
              "      fill: #FFFFFF;\n",
              "    }\n",
              "  </style>\n",
              "\n",
              "    <script>\n",
              "      const buttonEl =\n",
              "        document.querySelector('#df-b099fbfe-c27e-4cb2-b55c-d4eb3d231a4c button.colab-df-convert');\n",
              "      buttonEl.style.display =\n",
              "        google.colab.kernel.accessAllowed ? 'block' : 'none';\n",
              "\n",
              "      async function convertToInteractive(key) {\n",
              "        const element = document.querySelector('#df-b099fbfe-c27e-4cb2-b55c-d4eb3d231a4c');\n",
              "        const dataTable =\n",
              "          await google.colab.kernel.invokeFunction('convertToInteractive',\n",
              "                                                    [key], {});\n",
              "        if (!dataTable) return;\n",
              "\n",
              "        const docLinkHtml = 'Like what you see? Visit the ' +\n",
              "          '<a target=\"_blank\" href=https://colab.research.google.com/notebooks/data_table.ipynb>data table notebook</a>'\n",
              "          + ' to learn more about interactive tables.';\n",
              "        element.innerHTML = '';\n",
              "        dataTable['output_type'] = 'display_data';\n",
              "        await google.colab.output.renderOutput(dataTable, element);\n",
              "        const docLink = document.createElement('div');\n",
              "        docLink.innerHTML = docLinkHtml;\n",
              "        element.appendChild(docLink);\n",
              "      }\n",
              "    </script>\n",
              "  </div>\n",
              "\n",
              "\n",
              "<div id=\"df-cc969b03-a547-4824-8da5-88cda7068291\">\n",
              "  <button class=\"colab-df-quickchart\" onclick=\"quickchart('df-cc969b03-a547-4824-8da5-88cda7068291')\"\n",
              "            title=\"Suggest charts\"\n",
              "            style=\"display:none;\">\n",
              "\n",
              "<svg xmlns=\"http://www.w3.org/2000/svg\" height=\"24px\"viewBox=\"0 0 24 24\"\n",
              "     width=\"24px\">\n",
              "    <g>\n",
              "        <path d=\"M19 3H5c-1.1 0-2 .9-2 2v14c0 1.1.9 2 2 2h14c1.1 0 2-.9 2-2V5c0-1.1-.9-2-2-2zM9 17H7v-7h2v7zm4 0h-2V7h2v10zm4 0h-2v-4h2v4z\"/>\n",
              "    </g>\n",
              "</svg>\n",
              "  </button>\n",
              "\n",
              "<style>\n",
              "  .colab-df-quickchart {\n",
              "      --bg-color: #E8F0FE;\n",
              "      --fill-color: #1967D2;\n",
              "      --hover-bg-color: #E2EBFA;\n",
              "      --hover-fill-color: #174EA6;\n",
              "      --disabled-fill-color: #AAA;\n",
              "      --disabled-bg-color: #DDD;\n",
              "  }\n",
              "\n",
              "  [theme=dark] .colab-df-quickchart {\n",
              "      --bg-color: #3B4455;\n",
              "      --fill-color: #D2E3FC;\n",
              "      --hover-bg-color: #434B5C;\n",
              "      --hover-fill-color: #FFFFFF;\n",
              "      --disabled-bg-color: #3B4455;\n",
              "      --disabled-fill-color: #666;\n",
              "  }\n",
              "\n",
              "  .colab-df-quickchart {\n",
              "    background-color: var(--bg-color);\n",
              "    border: none;\n",
              "    border-radius: 50%;\n",
              "    cursor: pointer;\n",
              "    display: none;\n",
              "    fill: var(--fill-color);\n",
              "    height: 32px;\n",
              "    padding: 0;\n",
              "    width: 32px;\n",
              "  }\n",
              "\n",
              "  .colab-df-quickchart:hover {\n",
              "    background-color: var(--hover-bg-color);\n",
              "    box-shadow: 0 1px 2px rgba(60, 64, 67, 0.3), 0 1px 3px 1px rgba(60, 64, 67, 0.15);\n",
              "    fill: var(--button-hover-fill-color);\n",
              "  }\n",
              "\n",
              "  .colab-df-quickchart-complete:disabled,\n",
              "  .colab-df-quickchart-complete:disabled:hover {\n",
              "    background-color: var(--disabled-bg-color);\n",
              "    fill: var(--disabled-fill-color);\n",
              "    box-shadow: none;\n",
              "  }\n",
              "\n",
              "  .colab-df-spinner {\n",
              "    border: 2px solid var(--fill-color);\n",
              "    border-color: transparent;\n",
              "    border-bottom-color: var(--fill-color);\n",
              "    animation:\n",
              "      spin 1s steps(1) infinite;\n",
              "  }\n",
              "\n",
              "  @keyframes spin {\n",
              "    0% {\n",
              "      border-color: transparent;\n",
              "      border-bottom-color: var(--fill-color);\n",
              "      border-left-color: var(--fill-color);\n",
              "    }\n",
              "    20% {\n",
              "      border-color: transparent;\n",
              "      border-left-color: var(--fill-color);\n",
              "      border-top-color: var(--fill-color);\n",
              "    }\n",
              "    30% {\n",
              "      border-color: transparent;\n",
              "      border-left-color: var(--fill-color);\n",
              "      border-top-color: var(--fill-color);\n",
              "      border-right-color: var(--fill-color);\n",
              "    }\n",
              "    40% {\n",
              "      border-color: transparent;\n",
              "      border-right-color: var(--fill-color);\n",
              "      border-top-color: var(--fill-color);\n",
              "    }\n",
              "    60% {\n",
              "      border-color: transparent;\n",
              "      border-right-color: var(--fill-color);\n",
              "    }\n",
              "    80% {\n",
              "      border-color: transparent;\n",
              "      border-right-color: var(--fill-color);\n",
              "      border-bottom-color: var(--fill-color);\n",
              "    }\n",
              "    90% {\n",
              "      border-color: transparent;\n",
              "      border-bottom-color: var(--fill-color);\n",
              "    }\n",
              "  }\n",
              "</style>\n",
              "\n",
              "  <script>\n",
              "    async function quickchart(key) {\n",
              "      const quickchartButtonEl =\n",
              "        document.querySelector('#' + key + ' button');\n",
              "      quickchartButtonEl.disabled = true;  // To prevent multiple clicks.\n",
              "      quickchartButtonEl.classList.add('colab-df-spinner');\n",
              "      try {\n",
              "        const charts = await google.colab.kernel.invokeFunction(\n",
              "            'suggestCharts', [key], {});\n",
              "      } catch (error) {\n",
              "        console.error('Error during call to suggestCharts:', error);\n",
              "      }\n",
              "      quickchartButtonEl.classList.remove('colab-df-spinner');\n",
              "      quickchartButtonEl.classList.add('colab-df-quickchart-complete');\n",
              "    }\n",
              "    (() => {\n",
              "      let quickchartButtonEl =\n",
              "        document.querySelector('#df-cc969b03-a547-4824-8da5-88cda7068291 button');\n",
              "      quickchartButtonEl.style.display =\n",
              "        google.colab.kernel.accessAllowed ? 'block' : 'none';\n",
              "    })();\n",
              "  </script>\n",
              "</div>\n",
              "\n",
              "    </div>\n",
              "  </div>\n"
            ],
            "application/vnd.google.colaboratory.intrinsic+json": {
              "type": "dataframe",
              "variable_name": "train",
              "summary": "{\n  \"name\": \"train\",\n  \"rows\": 17877,\n  \"fields\": [\n    {\n      \"column\": \"review_id\",\n      \"properties\": {\n        \"dtype\": \"number\",\n        \"std\": 6385,\n        \"min\": 0,\n        \"max\": 20427,\n        \"num_unique_values\": 14968,\n        \"samples\": [\n          16355,\n          10879,\n          7945\n        ],\n        \"semantic_type\": \"\",\n        \"description\": \"\"\n      }\n    },\n    {\n      \"column\": \"title\",\n      \"properties\": {\n        \"dtype\": \"category\",\n        \"num_unique_values\": 64,\n        \"samples\": [\n          \"RaceRoom Racing Experience\",\n          \"SMITE\\u00ae\",\n          \"Black Squad\"\n        ],\n        \"semantic_type\": \"\",\n        \"description\": \"\"\n      }\n    },\n    {\n      \"column\": \"year\",\n      \"properties\": {\n        \"dtype\": \"number\",\n        \"std\": 1.3697574180800818,\n        \"min\": 2011.0,\n        \"max\": 2018.0,\n        \"num_unique_values\": 8,\n        \"samples\": [\n          2016.0,\n          2013.0,\n          2018.0\n        ],\n        \"semantic_type\": \"\",\n        \"description\": \"\"\n      }\n    },\n    {\n      \"column\": \"user_review\",\n      \"properties\": {\n        \"dtype\": \"string\",\n        \"num_unique_values\": 17873,\n        \"samples\": [\n          \"worst pay to win garbage I've ever seen and that's saying a lot .. you spawn in starter server and go to a store .. it wants currency needed bought through cash payments .. wonder off into wilderness and 20 minutes later doing nothing because I won't pony up my wallet ... this game is pure garbage\",\n          \"Pretty good race sim, especially considering it is a free-to-play. The only problem is the framerate can drop on slightly lower powered machines like mine and the purchasing of extra cars/tracks you want can get expensive.\",\n          \"Its a good game, Its brings back Ragnarok in a new and better way.Look at it as a cross with Maple story (the grind for levels) + Ragnarok (the class and skill systems)Pros++-Alot of Fun classes to try out and build.-Not a very High learning curve for a MMORPG.-Skills and Attaks are pretty decent-Leveling can be fun with party or sometimes even solo-Daily Dungens that give you good expCons---The way the class system is set up can be confusing.-Once you mess a char up, There is no turning back unless you spend money or delete.-Buggy quest and controls in certain locations or to much clicking.-Poor optimaization, running at GTX 1080 8G still has FPS drops at certain areas.-Unable to rotate camera, Sometimes can obstructe your view and even block mobs/npc/players(OverAll)Over all a good game, been putting a lot of hours in it. Late game is also fun with guild wars Just like classic RO.Though this game is grindy, then again what MMORPG does not have a grind. All the more this is Free to play game.This a Grindy MMORPG where you build your character how you want to.Its Not Pay to win that i can assure you, as you can get most of the items in the game for in game SILVER.For more info ill be making an Update guide on my Up coming Youtube Channel. =D \"\n        ],\n        \"semantic_type\": \"\",\n        \"description\": \"\"\n      }\n    },\n    {\n      \"column\": \"user_suggestion\",\n      \"properties\": {\n        \"dtype\": \"number\",\n        \"std\": 0,\n        \"min\": 0,\n        \"max\": 1,\n        \"num_unique_values\": 2,\n        \"samples\": [\n          0,\n          1\n        ],\n        \"semantic_type\": \"\",\n        \"description\": \"\"\n      }\n    }\n  ]\n}"
            }
          },
          "metadata": {},
          "execution_count": 5
        }
      ],
      "source": [
        "# head of train data\n",
        "train.head()"
      ]
    },
    {
      "cell_type": "code",
      "execution_count": 6,
      "metadata": {
        "colab": {
          "base_uri": "https://localhost:8080/",
          "height": 206
        },
        "id": "lcXXv2TF61QZ",
        "outputId": "8c049a57-4e57-40d4-a5e5-6e8a6d318a42"
      },
      "outputs": [
        {
          "output_type": "execute_result",
          "data": {
            "text/plain": [
              "   review_id                           title    year  \\\n",
              "0      12053          Infestation: The New Z  2016.0   \n",
              "1      12536                          SMITE®  2015.0   \n",
              "2        747               Heroes & Generals  2016.0   \n",
              "3       3214               World of Warships  2018.0   \n",
              "4       4036  World of Guns: Gun Disassembly  2016.0   \n",
              "\n",
              "                                         user_review  user_suggestion  \n",
              "0  Unbelievable that this rehash copy and paste t...                0  \n",
              "1  I can't recommened this game in its current st...                0  \n",
              "2  Early Access ReviewThis game is constantly evo...                0  \n",
              "3  I play this game because it scratches an itch....                0  \n",
              "4  Finally, a game for people like us to enjoy! P...                1  "
            ],
            "text/html": [
              "\n",
              "  <div id=\"df-86f06bd3-9d02-4c66-b194-5670ad8a5c32\" class=\"colab-df-container\">\n",
              "    <div>\n",
              "<style scoped>\n",
              "    .dataframe tbody tr th:only-of-type {\n",
              "        vertical-align: middle;\n",
              "    }\n",
              "\n",
              "    .dataframe tbody tr th {\n",
              "        vertical-align: top;\n",
              "    }\n",
              "\n",
              "    .dataframe thead th {\n",
              "        text-align: right;\n",
              "    }\n",
              "</style>\n",
              "<table border=\"1\" class=\"dataframe\">\n",
              "  <thead>\n",
              "    <tr style=\"text-align: right;\">\n",
              "      <th></th>\n",
              "      <th>review_id</th>\n",
              "      <th>title</th>\n",
              "      <th>year</th>\n",
              "      <th>user_review</th>\n",
              "      <th>user_suggestion</th>\n",
              "    </tr>\n",
              "  </thead>\n",
              "  <tbody>\n",
              "    <tr>\n",
              "      <th>0</th>\n",
              "      <td>12053</td>\n",
              "      <td>Infestation: The New Z</td>\n",
              "      <td>2016.0</td>\n",
              "      <td>Unbelievable that this rehash copy and paste t...</td>\n",
              "      <td>0</td>\n",
              "    </tr>\n",
              "    <tr>\n",
              "      <th>1</th>\n",
              "      <td>12536</td>\n",
              "      <td>SMITE®</td>\n",
              "      <td>2015.0</td>\n",
              "      <td>I can't recommened this game in its current st...</td>\n",
              "      <td>0</td>\n",
              "    </tr>\n",
              "    <tr>\n",
              "      <th>2</th>\n",
              "      <td>747</td>\n",
              "      <td>Heroes &amp; Generals</td>\n",
              "      <td>2016.0</td>\n",
              "      <td>Early Access ReviewThis game is constantly evo...</td>\n",
              "      <td>0</td>\n",
              "    </tr>\n",
              "    <tr>\n",
              "      <th>3</th>\n",
              "      <td>3214</td>\n",
              "      <td>World of Warships</td>\n",
              "      <td>2018.0</td>\n",
              "      <td>I play this game because it scratches an itch....</td>\n",
              "      <td>0</td>\n",
              "    </tr>\n",
              "    <tr>\n",
              "      <th>4</th>\n",
              "      <td>4036</td>\n",
              "      <td>World of Guns: Gun Disassembly</td>\n",
              "      <td>2016.0</td>\n",
              "      <td>Finally, a game for people like us to enjoy! P...</td>\n",
              "      <td>1</td>\n",
              "    </tr>\n",
              "  </tbody>\n",
              "</table>\n",
              "</div>\n",
              "    <div class=\"colab-df-buttons\">\n",
              "\n",
              "  <div class=\"colab-df-container\">\n",
              "    <button class=\"colab-df-convert\" onclick=\"convertToInteractive('df-86f06bd3-9d02-4c66-b194-5670ad8a5c32')\"\n",
              "            title=\"Convert this dataframe to an interactive table.\"\n",
              "            style=\"display:none;\">\n",
              "\n",
              "  <svg xmlns=\"http://www.w3.org/2000/svg\" height=\"24px\" viewBox=\"0 -960 960 960\">\n",
              "    <path d=\"M120-120v-720h720v720H120Zm60-500h600v-160H180v160Zm220 220h160v-160H400v160Zm0 220h160v-160H400v160ZM180-400h160v-160H180v160Zm440 0h160v-160H620v160ZM180-180h160v-160H180v160Zm440 0h160v-160H620v160Z\"/>\n",
              "  </svg>\n",
              "    </button>\n",
              "\n",
              "  <style>\n",
              "    .colab-df-container {\n",
              "      display:flex;\n",
              "      gap: 12px;\n",
              "    }\n",
              "\n",
              "    .colab-df-convert {\n",
              "      background-color: #E8F0FE;\n",
              "      border: none;\n",
              "      border-radius: 50%;\n",
              "      cursor: pointer;\n",
              "      display: none;\n",
              "      fill: #1967D2;\n",
              "      height: 32px;\n",
              "      padding: 0 0 0 0;\n",
              "      width: 32px;\n",
              "    }\n",
              "\n",
              "    .colab-df-convert:hover {\n",
              "      background-color: #E2EBFA;\n",
              "      box-shadow: 0px 1px 2px rgba(60, 64, 67, 0.3), 0px 1px 3px 1px rgba(60, 64, 67, 0.15);\n",
              "      fill: #174EA6;\n",
              "    }\n",
              "\n",
              "    .colab-df-buttons div {\n",
              "      margin-bottom: 4px;\n",
              "    }\n",
              "\n",
              "    [theme=dark] .colab-df-convert {\n",
              "      background-color: #3B4455;\n",
              "      fill: #D2E3FC;\n",
              "    }\n",
              "\n",
              "    [theme=dark] .colab-df-convert:hover {\n",
              "      background-color: #434B5C;\n",
              "      box-shadow: 0px 1px 3px 1px rgba(0, 0, 0, 0.15);\n",
              "      filter: drop-shadow(0px 1px 2px rgba(0, 0, 0, 0.3));\n",
              "      fill: #FFFFFF;\n",
              "    }\n",
              "  </style>\n",
              "\n",
              "    <script>\n",
              "      const buttonEl =\n",
              "        document.querySelector('#df-86f06bd3-9d02-4c66-b194-5670ad8a5c32 button.colab-df-convert');\n",
              "      buttonEl.style.display =\n",
              "        google.colab.kernel.accessAllowed ? 'block' : 'none';\n",
              "\n",
              "      async function convertToInteractive(key) {\n",
              "        const element = document.querySelector('#df-86f06bd3-9d02-4c66-b194-5670ad8a5c32');\n",
              "        const dataTable =\n",
              "          await google.colab.kernel.invokeFunction('convertToInteractive',\n",
              "                                                    [key], {});\n",
              "        if (!dataTable) return;\n",
              "\n",
              "        const docLinkHtml = 'Like what you see? Visit the ' +\n",
              "          '<a target=\"_blank\" href=https://colab.research.google.com/notebooks/data_table.ipynb>data table notebook</a>'\n",
              "          + ' to learn more about interactive tables.';\n",
              "        element.innerHTML = '';\n",
              "        dataTable['output_type'] = 'display_data';\n",
              "        await google.colab.output.renderOutput(dataTable, element);\n",
              "        const docLink = document.createElement('div');\n",
              "        docLink.innerHTML = docLinkHtml;\n",
              "        element.appendChild(docLink);\n",
              "      }\n",
              "    </script>\n",
              "  </div>\n",
              "\n",
              "\n",
              "<div id=\"df-14ad9b1e-7e6b-4834-871d-4155abd5bed8\">\n",
              "  <button class=\"colab-df-quickchart\" onclick=\"quickchart('df-14ad9b1e-7e6b-4834-871d-4155abd5bed8')\"\n",
              "            title=\"Suggest charts\"\n",
              "            style=\"display:none;\">\n",
              "\n",
              "<svg xmlns=\"http://www.w3.org/2000/svg\" height=\"24px\"viewBox=\"0 0 24 24\"\n",
              "     width=\"24px\">\n",
              "    <g>\n",
              "        <path d=\"M19 3H5c-1.1 0-2 .9-2 2v14c0 1.1.9 2 2 2h14c1.1 0 2-.9 2-2V5c0-1.1-.9-2-2-2zM9 17H7v-7h2v7zm4 0h-2V7h2v10zm4 0h-2v-4h2v4z\"/>\n",
              "    </g>\n",
              "</svg>\n",
              "  </button>\n",
              "\n",
              "<style>\n",
              "  .colab-df-quickchart {\n",
              "      --bg-color: #E8F0FE;\n",
              "      --fill-color: #1967D2;\n",
              "      --hover-bg-color: #E2EBFA;\n",
              "      --hover-fill-color: #174EA6;\n",
              "      --disabled-fill-color: #AAA;\n",
              "      --disabled-bg-color: #DDD;\n",
              "  }\n",
              "\n",
              "  [theme=dark] .colab-df-quickchart {\n",
              "      --bg-color: #3B4455;\n",
              "      --fill-color: #D2E3FC;\n",
              "      --hover-bg-color: #434B5C;\n",
              "      --hover-fill-color: #FFFFFF;\n",
              "      --disabled-bg-color: #3B4455;\n",
              "      --disabled-fill-color: #666;\n",
              "  }\n",
              "\n",
              "  .colab-df-quickchart {\n",
              "    background-color: var(--bg-color);\n",
              "    border: none;\n",
              "    border-radius: 50%;\n",
              "    cursor: pointer;\n",
              "    display: none;\n",
              "    fill: var(--fill-color);\n",
              "    height: 32px;\n",
              "    padding: 0;\n",
              "    width: 32px;\n",
              "  }\n",
              "\n",
              "  .colab-df-quickchart:hover {\n",
              "    background-color: var(--hover-bg-color);\n",
              "    box-shadow: 0 1px 2px rgba(60, 64, 67, 0.3), 0 1px 3px 1px rgba(60, 64, 67, 0.15);\n",
              "    fill: var(--button-hover-fill-color);\n",
              "  }\n",
              "\n",
              "  .colab-df-quickchart-complete:disabled,\n",
              "  .colab-df-quickchart-complete:disabled:hover {\n",
              "    background-color: var(--disabled-bg-color);\n",
              "    fill: var(--disabled-fill-color);\n",
              "    box-shadow: none;\n",
              "  }\n",
              "\n",
              "  .colab-df-spinner {\n",
              "    border: 2px solid var(--fill-color);\n",
              "    border-color: transparent;\n",
              "    border-bottom-color: var(--fill-color);\n",
              "    animation:\n",
              "      spin 1s steps(1) infinite;\n",
              "  }\n",
              "\n",
              "  @keyframes spin {\n",
              "    0% {\n",
              "      border-color: transparent;\n",
              "      border-bottom-color: var(--fill-color);\n",
              "      border-left-color: var(--fill-color);\n",
              "    }\n",
              "    20% {\n",
              "      border-color: transparent;\n",
              "      border-left-color: var(--fill-color);\n",
              "      border-top-color: var(--fill-color);\n",
              "    }\n",
              "    30% {\n",
              "      border-color: transparent;\n",
              "      border-left-color: var(--fill-color);\n",
              "      border-top-color: var(--fill-color);\n",
              "      border-right-color: var(--fill-color);\n",
              "    }\n",
              "    40% {\n",
              "      border-color: transparent;\n",
              "      border-right-color: var(--fill-color);\n",
              "      border-top-color: var(--fill-color);\n",
              "    }\n",
              "    60% {\n",
              "      border-color: transparent;\n",
              "      border-right-color: var(--fill-color);\n",
              "    }\n",
              "    80% {\n",
              "      border-color: transparent;\n",
              "      border-right-color: var(--fill-color);\n",
              "      border-bottom-color: var(--fill-color);\n",
              "    }\n",
              "    90% {\n",
              "      border-color: transparent;\n",
              "      border-bottom-color: var(--fill-color);\n",
              "    }\n",
              "  }\n",
              "</style>\n",
              "\n",
              "  <script>\n",
              "    async function quickchart(key) {\n",
              "      const quickchartButtonEl =\n",
              "        document.querySelector('#' + key + ' button');\n",
              "      quickchartButtonEl.disabled = true;  // To prevent multiple clicks.\n",
              "      quickchartButtonEl.classList.add('colab-df-spinner');\n",
              "      try {\n",
              "        const charts = await google.colab.kernel.invokeFunction(\n",
              "            'suggestCharts', [key], {});\n",
              "      } catch (error) {\n",
              "        console.error('Error during call to suggestCharts:', error);\n",
              "      }\n",
              "      quickchartButtonEl.classList.remove('colab-df-spinner');\n",
              "      quickchartButtonEl.classList.add('colab-df-quickchart-complete');\n",
              "    }\n",
              "    (() => {\n",
              "      let quickchartButtonEl =\n",
              "        document.querySelector('#df-14ad9b1e-7e6b-4834-871d-4155abd5bed8 button');\n",
              "      quickchartButtonEl.style.display =\n",
              "        google.colab.kernel.accessAllowed ? 'block' : 'none';\n",
              "    })();\n",
              "  </script>\n",
              "</div>\n",
              "\n",
              "    </div>\n",
              "  </div>\n"
            ],
            "application/vnd.google.colaboratory.intrinsic+json": {
              "type": "dataframe",
              "variable_name": "test",
              "summary": "{\n  \"name\": \"test\",\n  \"rows\": 3831,\n  \"fields\": [\n    {\n      \"column\": \"review_id\",\n      \"properties\": {\n        \"dtype\": \"number\",\n        \"std\": 6394,\n        \"min\": 1,\n        \"max\": 20430,\n        \"num_unique_values\": 3656,\n        \"samples\": [\n          2135,\n          10906,\n          3528\n        ],\n        \"semantic_type\": \"\",\n        \"description\": \"\"\n      }\n    },\n    {\n      \"column\": \"title\",\n      \"properties\": {\n        \"dtype\": \"category\",\n        \"num_unique_values\": 64,\n        \"samples\": [\n          \"Business Tour - Board Game with Online Multiplayer\",\n          \"Digimon Masters Online\",\n          \"Infestation: The New Z\"\n        ],\n        \"semantic_type\": \"\",\n        \"description\": \"\"\n      }\n    },\n    {\n      \"column\": \"year\",\n      \"properties\": {\n        \"dtype\": \"number\",\n        \"std\": 1.3613348944463914,\n        \"min\": 2011.0,\n        \"max\": 2018.0,\n        \"num_unique_values\": 8,\n        \"samples\": [\n          2015.0,\n          2012.0,\n          2016.0\n        ],\n        \"semantic_type\": \"\",\n        \"description\": \"\"\n      }\n    },\n    {\n      \"column\": \"user_review\",\n      \"properties\": {\n        \"dtype\": \"string\",\n        \"num_unique_values\": 3831,\n        \"samples\": [\n          \" I don't speak English really well, so try to understand what is implied.  Counter-Strike: Global Offensive Review Counter-Strike is a series of multiplayer FPS games, where two teams, the Terrorists and the Counter-Terrorists, battle for a specific mission. The game was initially a mod for Half-Life, Valve's first game, until the sequels of the game were created some time later.Counter-Strike: Global Offensive is the latest game of the series, and today it is the most-popular competitive FPS game ever played. The game is just basically the same as the first Counter-Strike games, but a ton of additions and improvements were done.  Graphics First, the graphics. This is probably the biggest improvement in the series, as the game now looks more pleasing to the eyes, it has smooth movements throughout the game, and there has been a lot of decal improvements. Compared to the earlier games, Global Offensive provides a better and player-friendly nature thanks of today's modern graphics.Of course all of these cannot be achieved if you don't have the requirements to play on a flawless gameplay, but it is believed that it can run even on entry-level PC's.  Gameplay Gameplay. As I have said before, Global Offensive is mostly the same as the earlier games, consisting of the two game modes Bomb Scenario, wherein Terrorists must plant a bomb to a bomb site in a map and the Counter-Terrorists must defend or defuse the bomb if planted, and Hostage Scenario, wherein Counter-Terrorists must rescue hostages held by Terrorists.Though there are additionals game modes that can be played. These modes are the Arms Race, Demolition, and Deathmatch. (although I believe these modes can be played on the previous games through a mod)Global Offensive also made changes to the gun system, they have added more guns to the shop and made improvements to them.The sound is still the same as the previous ones, however, around this year they have made changes to the guns' sounds, But the sound from Global Offensive is a lot better and clear than the others. Community The community is what most Valve games' community have. There isn't really much to say here, although it's worth mentioning that the community on this game series is actually more friendly and cooperative than other Valve's games. And since this a competitive game, (I'd say highly competitive), a lot of players are pretty serious on playing since this involves a huge amount of cooperation with the team.Toxicity is somewhat not that visible to the game, so players who are really serious about competitive games are present. Miscellaneous Like DOTA 2 and Team Fortress 2, Valve's other popular games, Counter-Strike: Global Offensive has also what they call the inventory system. Here you can get item drops such as gun skins, gun stickers, and cases where you can get the gun skins and stickers. These items can be used to customize your gun loadout, or sell them to the Steam Market, where you can get money from. (If you are lucky, there are rare items which have high price on the market listings where you can sell those rare items for $$$.) Final Notes Overall, this game is one of the best games out there, for a cheap price, and offers a lot of opportunities to choose how you want to play the game. You could try making yourself into the game and go for the rankings, play casually to pass time, or probably to troll just to relieve stress and have fun for yourself. There is a lot of space for you to improve in the game, but still, like most multiplayer game does, playing this game with friends give the best possible experience and gameplay for the game.Counter-Strike: Global Offensive is not a pay-to-win game, and if you wanted to spend money on this game, make sure you just make it worth the money you spend on the game.-----------Definitely get this game if you want to get started on competitive gaming, or if you're just looking for a game that is worth the time and money spending. In fact, the most annoying and irritating things that could occur in the game is actually the most hilarious and most fun to deal with.Counter-Strike is a really popular game, so why not just get the game, and shoot down other players and join the fun?\",\n          \"While writting this review i've over 1000+ hours played, several characters with max lvl and finished all end game content.The good:- pretty good and enjoyable combat system (pretty much the reason i still play it)- decent graphics- option for free 2 play players to get almost everything from the real cash shop (though it's hard and time consuming)- decent events and promotions once in a while (includes pvp events)- hourly activity event system (this is one of the best things which can happen to MMO, it pretty much helps to reduce queue times and give some bonus rewards to the players)The Bad:- This game had few heavy curreny exploits which totaly ruined the econmy. Lot's of the exploited currency was not removed and impact this game to this day. Many exploiters were not banned and run in Best in Slot items without any penalty.- Real money means very little (unless you can spend several thousand of $ on a game). Basically if you would want to get full BIS gear you'd need like ~2k of real $.- Bugs take months to get fixed (if they even bother to fix them in the first place)- Lot's of Overpowered items which come from Lockboxes. (sadly this game is not living on cosmetics stuff like Dota 2)- Several end game instances is often nearly unplayable due to server lags.- Very poor Class Balance- Extremely poor PvP balance (for example, you can move your Best in slot enchant from your high lvl character to a totaly low lvl character and use it in pvp because it have no min. lvl required) - I think i dont have to explain how much impact it have. Even at max lvl pvp there's insane gear gap between players.- Refiling system - pretty much pay to win feature. It makes all your gear useless so you have to spend lot's of real $ to get nearly BIS or BIS gear or pray to get lucky with some extremely rare drops.- This game does very little to reduce the gap between old and new players. If this doesnt change in near future it will be the reason why this game dies.\",\n          \"Interesting, catching, funny and kind of comfortable game with great graphics and really nice community. If you want to spend some time living your Tolkien dreams, talking to awesome people, questing and deeding and crafting and roleplaying, this is just the game for you.Main towns and cities are well-arranged (no big chance to get lost, like I did many times trying to play Dungeons and Dragons), there's efficient navigation, quest tracking system and game guide, smooth and sensitive movement control (I don't get why it's so hard to turn in World of Warcraft or Age of Wulin, but perhaps it's my PC's fault), skill queue, automatic movement towards target (e.g. an ore deposit or a vendor) by right-clicking it and it's easy to get around an object in your path without turning (you just kind of slip around, hardly ever get stuck). Game has a honed race and class system, you can chose from basic to advanced difficulty classes and from 3 trait trees focusing on different skills and have real fun figuring out how to fight best. You can buy your own house, have fun with decorating it, store stuff in the chest (purchaseable space), exhibit your trophies. Crafting is easy and various, crafted items are usually far better than any you can buy (except the stock of the Auction House, where you can put something for sale yourself if you have free slots - VIPs get 30, Premium 5). There are many events where you can win great prizes, you can gain reputation with many societies and get privileges and awesome unique items, you can even chose to play the bad guys (Creeps) and create an orc or warg or spider and fight PvP against the Free Peoples (Freeps) at level 85. In the LOTRO Store you can buy whatever you like for real money, there's a great choice of buffs, additional slots (trait slots, inventory bags, chatacter slots,..), steeds, outfits, quests packs and more. It's not even necessary to use real money - you can earn Turbine points used in the Store by finishing deeds (it's slow, but hey - who gives you something for free these days?).When you're lost, you can always turn to the LOTRO-Wiki, there's usually everything you need to complete any quest or deed, even when you feel it's impossible to figure one out. And if not Wiki, you can get some answers from other players on the Advice chat channel. LOTRO's community is one of the kindest, most generous and most obliging in the gaming world.It's kind of comfortable to play this game, it's thrilling, sometimes scary, often funny and not always trivial. You don't have to quest and level, you can just relax and roleplay or craft or hunt materials, money and reputation. You can freely use the chat to meet great new people, join kinships and fellowships and have plenty of fun socializing. And beware - it's very addictive ;).\"\n        ],\n        \"semantic_type\": \"\",\n        \"description\": \"\"\n      }\n    },\n    {\n      \"column\": \"user_suggestion\",\n      \"properties\": {\n        \"dtype\": \"number\",\n        \"std\": 0,\n        \"min\": 0,\n        \"max\": 1,\n        \"num_unique_values\": 2,\n        \"samples\": [\n          1,\n          0\n        ],\n        \"semantic_type\": \"\",\n        \"description\": \"\"\n      }\n    }\n  ]\n}"
            }
          },
          "metadata": {},
          "execution_count": 6
        }
      ],
      "source": [
        "# view head of test data\n",
        "test.head()"
      ]
    },
    {
      "cell_type": "code",
      "execution_count": 7,
      "metadata": {
        "colab": {
          "base_uri": "https://localhost:8080/",
          "height": 206
        },
        "id": "xPwylDrO65AL",
        "outputId": "0c1c6fe7-fd93-4e85-e18e-74bf81c42abe"
      },
      "outputs": [
        {
          "output_type": "execute_result",
          "data": {
            "text/plain": [
              "   review_id                 title    year  \\\n",
              "0       8604  Dungeon Defenders II  2015.0   \n",
              "1      20407        Minion Masters  2017.0   \n",
              "2        636           Magic Duels  2018.0   \n",
              "3      10217             Robocraft  2016.0   \n",
              "4       9564  Realm of the Mad God  2014.0   \n",
              "\n",
              "                                         user_review  user_suggestion  \n",
              "0  Early Access Review* Ok Played the first DD lo...                1  \n",
              "1  Product received for freeEarly Access ReviewSo...                1  \n",
              "2  Game is extremely unfun to play unless you wan...                0  \n",
              "3  Early Access ReviewThis used to be an amazing ...                0  \n",
              "4  With stunning visuals, an immersive storyline,...                1  "
            ],
            "text/html": [
              "\n",
              "  <div id=\"df-4ecacb4a-80b1-4a74-833d-832dff4e6463\" class=\"colab-df-container\">\n",
              "    <div>\n",
              "<style scoped>\n",
              "    .dataframe tbody tr th:only-of-type {\n",
              "        vertical-align: middle;\n",
              "    }\n",
              "\n",
              "    .dataframe tbody tr th {\n",
              "        vertical-align: top;\n",
              "    }\n",
              "\n",
              "    .dataframe thead th {\n",
              "        text-align: right;\n",
              "    }\n",
              "</style>\n",
              "<table border=\"1\" class=\"dataframe\">\n",
              "  <thead>\n",
              "    <tr style=\"text-align: right;\">\n",
              "      <th></th>\n",
              "      <th>review_id</th>\n",
              "      <th>title</th>\n",
              "      <th>year</th>\n",
              "      <th>user_review</th>\n",
              "      <th>user_suggestion</th>\n",
              "    </tr>\n",
              "  </thead>\n",
              "  <tbody>\n",
              "    <tr>\n",
              "      <th>0</th>\n",
              "      <td>8604</td>\n",
              "      <td>Dungeon Defenders II</td>\n",
              "      <td>2015.0</td>\n",
              "      <td>Early Access Review* Ok Played the first DD lo...</td>\n",
              "      <td>1</td>\n",
              "    </tr>\n",
              "    <tr>\n",
              "      <th>1</th>\n",
              "      <td>20407</td>\n",
              "      <td>Minion Masters</td>\n",
              "      <td>2017.0</td>\n",
              "      <td>Product received for freeEarly Access ReviewSo...</td>\n",
              "      <td>1</td>\n",
              "    </tr>\n",
              "    <tr>\n",
              "      <th>2</th>\n",
              "      <td>636</td>\n",
              "      <td>Magic Duels</td>\n",
              "      <td>2018.0</td>\n",
              "      <td>Game is extremely unfun to play unless you wan...</td>\n",
              "      <td>0</td>\n",
              "    </tr>\n",
              "    <tr>\n",
              "      <th>3</th>\n",
              "      <td>10217</td>\n",
              "      <td>Robocraft</td>\n",
              "      <td>2016.0</td>\n",
              "      <td>Early Access ReviewThis used to be an amazing ...</td>\n",
              "      <td>0</td>\n",
              "    </tr>\n",
              "    <tr>\n",
              "      <th>4</th>\n",
              "      <td>9564</td>\n",
              "      <td>Realm of the Mad God</td>\n",
              "      <td>2014.0</td>\n",
              "      <td>With stunning visuals, an immersive storyline,...</td>\n",
              "      <td>1</td>\n",
              "    </tr>\n",
              "  </tbody>\n",
              "</table>\n",
              "</div>\n",
              "    <div class=\"colab-df-buttons\">\n",
              "\n",
              "  <div class=\"colab-df-container\">\n",
              "    <button class=\"colab-df-convert\" onclick=\"convertToInteractive('df-4ecacb4a-80b1-4a74-833d-832dff4e6463')\"\n",
              "            title=\"Convert this dataframe to an interactive table.\"\n",
              "            style=\"display:none;\">\n",
              "\n",
              "  <svg xmlns=\"http://www.w3.org/2000/svg\" height=\"24px\" viewBox=\"0 -960 960 960\">\n",
              "    <path d=\"M120-120v-720h720v720H120Zm60-500h600v-160H180v160Zm220 220h160v-160H400v160Zm0 220h160v-160H400v160ZM180-400h160v-160H180v160Zm440 0h160v-160H620v160ZM180-180h160v-160H180v160Zm440 0h160v-160H620v160Z\"/>\n",
              "  </svg>\n",
              "    </button>\n",
              "\n",
              "  <style>\n",
              "    .colab-df-container {\n",
              "      display:flex;\n",
              "      gap: 12px;\n",
              "    }\n",
              "\n",
              "    .colab-df-convert {\n",
              "      background-color: #E8F0FE;\n",
              "      border: none;\n",
              "      border-radius: 50%;\n",
              "      cursor: pointer;\n",
              "      display: none;\n",
              "      fill: #1967D2;\n",
              "      height: 32px;\n",
              "      padding: 0 0 0 0;\n",
              "      width: 32px;\n",
              "    }\n",
              "\n",
              "    .colab-df-convert:hover {\n",
              "      background-color: #E2EBFA;\n",
              "      box-shadow: 0px 1px 2px rgba(60, 64, 67, 0.3), 0px 1px 3px 1px rgba(60, 64, 67, 0.15);\n",
              "      fill: #174EA6;\n",
              "    }\n",
              "\n",
              "    .colab-df-buttons div {\n",
              "      margin-bottom: 4px;\n",
              "    }\n",
              "\n",
              "    [theme=dark] .colab-df-convert {\n",
              "      background-color: #3B4455;\n",
              "      fill: #D2E3FC;\n",
              "    }\n",
              "\n",
              "    [theme=dark] .colab-df-convert:hover {\n",
              "      background-color: #434B5C;\n",
              "      box-shadow: 0px 1px 3px 1px rgba(0, 0, 0, 0.15);\n",
              "      filter: drop-shadow(0px 1px 2px rgba(0, 0, 0, 0.3));\n",
              "      fill: #FFFFFF;\n",
              "    }\n",
              "  </style>\n",
              "\n",
              "    <script>\n",
              "      const buttonEl =\n",
              "        document.querySelector('#df-4ecacb4a-80b1-4a74-833d-832dff4e6463 button.colab-df-convert');\n",
              "      buttonEl.style.display =\n",
              "        google.colab.kernel.accessAllowed ? 'block' : 'none';\n",
              "\n",
              "      async function convertToInteractive(key) {\n",
              "        const element = document.querySelector('#df-4ecacb4a-80b1-4a74-833d-832dff4e6463');\n",
              "        const dataTable =\n",
              "          await google.colab.kernel.invokeFunction('convertToInteractive',\n",
              "                                                    [key], {});\n",
              "        if (!dataTable) return;\n",
              "\n",
              "        const docLinkHtml = 'Like what you see? Visit the ' +\n",
              "          '<a target=\"_blank\" href=https://colab.research.google.com/notebooks/data_table.ipynb>data table notebook</a>'\n",
              "          + ' to learn more about interactive tables.';\n",
              "        element.innerHTML = '';\n",
              "        dataTable['output_type'] = 'display_data';\n",
              "        await google.colab.output.renderOutput(dataTable, element);\n",
              "        const docLink = document.createElement('div');\n",
              "        docLink.innerHTML = docLinkHtml;\n",
              "        element.appendChild(docLink);\n",
              "      }\n",
              "    </script>\n",
              "  </div>\n",
              "\n",
              "\n",
              "<div id=\"df-0dc91a5a-db50-43bf-804a-2997ea27af94\">\n",
              "  <button class=\"colab-df-quickchart\" onclick=\"quickchart('df-0dc91a5a-db50-43bf-804a-2997ea27af94')\"\n",
              "            title=\"Suggest charts\"\n",
              "            style=\"display:none;\">\n",
              "\n",
              "<svg xmlns=\"http://www.w3.org/2000/svg\" height=\"24px\"viewBox=\"0 0 24 24\"\n",
              "     width=\"24px\">\n",
              "    <g>\n",
              "        <path d=\"M19 3H5c-1.1 0-2 .9-2 2v14c0 1.1.9 2 2 2h14c1.1 0 2-.9 2-2V5c0-1.1-.9-2-2-2zM9 17H7v-7h2v7zm4 0h-2V7h2v10zm4 0h-2v-4h2v4z\"/>\n",
              "    </g>\n",
              "</svg>\n",
              "  </button>\n",
              "\n",
              "<style>\n",
              "  .colab-df-quickchart {\n",
              "      --bg-color: #E8F0FE;\n",
              "      --fill-color: #1967D2;\n",
              "      --hover-bg-color: #E2EBFA;\n",
              "      --hover-fill-color: #174EA6;\n",
              "      --disabled-fill-color: #AAA;\n",
              "      --disabled-bg-color: #DDD;\n",
              "  }\n",
              "\n",
              "  [theme=dark] .colab-df-quickchart {\n",
              "      --bg-color: #3B4455;\n",
              "      --fill-color: #D2E3FC;\n",
              "      --hover-bg-color: #434B5C;\n",
              "      --hover-fill-color: #FFFFFF;\n",
              "      --disabled-bg-color: #3B4455;\n",
              "      --disabled-fill-color: #666;\n",
              "  }\n",
              "\n",
              "  .colab-df-quickchart {\n",
              "    background-color: var(--bg-color);\n",
              "    border: none;\n",
              "    border-radius: 50%;\n",
              "    cursor: pointer;\n",
              "    display: none;\n",
              "    fill: var(--fill-color);\n",
              "    height: 32px;\n",
              "    padding: 0;\n",
              "    width: 32px;\n",
              "  }\n",
              "\n",
              "  .colab-df-quickchart:hover {\n",
              "    background-color: var(--hover-bg-color);\n",
              "    box-shadow: 0 1px 2px rgba(60, 64, 67, 0.3), 0 1px 3px 1px rgba(60, 64, 67, 0.15);\n",
              "    fill: var(--button-hover-fill-color);\n",
              "  }\n",
              "\n",
              "  .colab-df-quickchart-complete:disabled,\n",
              "  .colab-df-quickchart-complete:disabled:hover {\n",
              "    background-color: var(--disabled-bg-color);\n",
              "    fill: var(--disabled-fill-color);\n",
              "    box-shadow: none;\n",
              "  }\n",
              "\n",
              "  .colab-df-spinner {\n",
              "    border: 2px solid var(--fill-color);\n",
              "    border-color: transparent;\n",
              "    border-bottom-color: var(--fill-color);\n",
              "    animation:\n",
              "      spin 1s steps(1) infinite;\n",
              "  }\n",
              "\n",
              "  @keyframes spin {\n",
              "    0% {\n",
              "      border-color: transparent;\n",
              "      border-bottom-color: var(--fill-color);\n",
              "      border-left-color: var(--fill-color);\n",
              "    }\n",
              "    20% {\n",
              "      border-color: transparent;\n",
              "      border-left-color: var(--fill-color);\n",
              "      border-top-color: var(--fill-color);\n",
              "    }\n",
              "    30% {\n",
              "      border-color: transparent;\n",
              "      border-left-color: var(--fill-color);\n",
              "      border-top-color: var(--fill-color);\n",
              "      border-right-color: var(--fill-color);\n",
              "    }\n",
              "    40% {\n",
              "      border-color: transparent;\n",
              "      border-right-color: var(--fill-color);\n",
              "      border-top-color: var(--fill-color);\n",
              "    }\n",
              "    60% {\n",
              "      border-color: transparent;\n",
              "      border-right-color: var(--fill-color);\n",
              "    }\n",
              "    80% {\n",
              "      border-color: transparent;\n",
              "      border-right-color: var(--fill-color);\n",
              "      border-bottom-color: var(--fill-color);\n",
              "    }\n",
              "    90% {\n",
              "      border-color: transparent;\n",
              "      border-bottom-color: var(--fill-color);\n",
              "    }\n",
              "  }\n",
              "</style>\n",
              "\n",
              "  <script>\n",
              "    async function quickchart(key) {\n",
              "      const quickchartButtonEl =\n",
              "        document.querySelector('#' + key + ' button');\n",
              "      quickchartButtonEl.disabled = true;  // To prevent multiple clicks.\n",
              "      quickchartButtonEl.classList.add('colab-df-spinner');\n",
              "      try {\n",
              "        const charts = await google.colab.kernel.invokeFunction(\n",
              "            'suggestCharts', [key], {});\n",
              "      } catch (error) {\n",
              "        console.error('Error during call to suggestCharts:', error);\n",
              "      }\n",
              "      quickchartButtonEl.classList.remove('colab-df-spinner');\n",
              "      quickchartButtonEl.classList.add('colab-df-quickchart-complete');\n",
              "    }\n",
              "    (() => {\n",
              "      let quickchartButtonEl =\n",
              "        document.querySelector('#df-0dc91a5a-db50-43bf-804a-2997ea27af94 button');\n",
              "      quickchartButtonEl.style.display =\n",
              "        google.colab.kernel.accessAllowed ? 'block' : 'none';\n",
              "    })();\n",
              "  </script>\n",
              "</div>\n",
              "\n",
              "    </div>\n",
              "  </div>\n"
            ],
            "application/vnd.google.colaboratory.intrinsic+json": {
              "type": "dataframe",
              "variable_name": "validation",
              "summary": "{\n  \"name\": \"validation\",\n  \"rows\": 3831,\n  \"fields\": [\n    {\n      \"column\": \"review_id\",\n      \"properties\": {\n        \"dtype\": \"number\",\n        \"std\": 6350,\n        \"min\": 0,\n        \"max\": 20407,\n        \"num_unique_values\": 3685,\n        \"samples\": [\n          3735,\n          14968,\n          19812\n        ],\n        \"semantic_type\": \"\",\n        \"description\": \"\"\n      }\n    },\n    {\n      \"column\": \"title\",\n      \"properties\": {\n        \"dtype\": \"category\",\n        \"num_unique_values\": 64,\n        \"samples\": [\n          \"Neverwinter\",\n          \"Shop Heroes\",\n          \"Dungeon Defenders II\"\n        ],\n        \"semantic_type\": \"\",\n        \"description\": \"\"\n      }\n    },\n    {\n      \"column\": \"year\",\n      \"properties\": {\n        \"dtype\": \"number\",\n        \"std\": 1.3957262873268965,\n        \"min\": 2011.0,\n        \"max\": 2018.0,\n        \"num_unique_values\": 8,\n        \"samples\": [\n          2017.0,\n          2012.0,\n          2015.0\n        ],\n        \"semantic_type\": \"\",\n        \"description\": \"\"\n      }\n    },\n    {\n      \"column\": \"user_review\",\n      \"properties\": {\n        \"dtype\": \"string\",\n        \"num_unique_values\": 3831,\n        \"samples\": [\n          \"Early Access ReviewIt was good while it lasted; turns out you can't teach an old dog new tricks. Except in this case the dog is Hi-Rez and the trick is not ruining their games for once.\",\n          \"Dota 2 is one of those rare games which can get you addicted, but since you can play a game within an hour, you can stop it after each game with satisfaction - as in contrast to those endless MMORPGs.I've been playing it since the very release of the original Defense of the Ancients, and I still can't get bored with it. I've seen many friends who started out as total newbies and became very skilled. With Dota 2's matchmaking - even though it has its obvious flaws - it's even more fun for a beginner to get into the game. All in all, Dota2 is definately worth trying - even more so since it's free to play, and promises thousands of hours of potential fun!Feel free to try my Dota 2 themed Windows Desktop skin collection pack too, which you can find in the Dota 2 Artwork gallery:http://steamcommunity.com/sharedfiles/filedetails/?id=176107812 \",\n          \"It has a cartoony, fun style with more customization on both looks and abilities than any other game I've ever played. Like playing a healing paladin? You can make it! Like playing a gun toting super soldier with an attitude? You can make it! Like playing a vampire who glitters in sunlight and can control people's minds, bite them and suck their blood? YOU CAN MAKE IT!The raw customization this game gives you for free outshines most other games that make you pay for customization. Sure, it has quite a few options that require paying Zen, but it also has a (though slow to aquire) way to earn Zen just by playing the game. Questionite (one of the currencies) can be sold for Zen, and that can be used to buy anything from the cash store. Yeah, I did say it was slow, but another option is buying items with in game resources from the auction house. Almost anything that is tradable can be purchased there.Also, if you don't like the comic style outline, you can turn it off and have it look more like the other two superhero games and still have the extra customization this one affords you!\"\n        ],\n        \"semantic_type\": \"\",\n        \"description\": \"\"\n      }\n    },\n    {\n      \"column\": \"user_suggestion\",\n      \"properties\": {\n        \"dtype\": \"number\",\n        \"std\": 0,\n        \"min\": 0,\n        \"max\": 1,\n        \"num_unique_values\": 2,\n        \"samples\": [\n          0,\n          1\n        ],\n        \"semantic_type\": \"\",\n        \"description\": \"\"\n      }\n    }\n  ]\n}"
            }
          },
          "metadata": {},
          "execution_count": 7
        }
      ],
      "source": [
        "# view head of validation data\n",
        "validation.head()"
      ]
    },
    {
      "cell_type": "code",
      "execution_count": 8,
      "metadata": {
        "colab": {
          "base_uri": "https://localhost:8080/"
        },
        "id": "X_IkKV6-68Xu",
        "outputId": "7d218274-6070-408d-9b92-b85d21a30d87"
      },
      "outputs": [
        {
          "output_type": "execute_result",
          "data": {
            "text/plain": [
              "user_suggestion\n",
              "1    2187\n",
              "0    1644\n",
              "Name: count, dtype: int64"
            ]
          },
          "metadata": {},
          "execution_count": 8
        }
      ],
      "source": [
        "## value_counts of the TARGET class - 'user_suggestion'\n",
        "test['user_suggestion'].value_counts()"
      ]
    },
    {
      "cell_type": "markdown",
      "metadata": {
        "id": "on1Txd7c7GNL"
      },
      "source": [
        "Observation:\n",
        "* We can see there is a bit of imbalance in the target class with more users recommending the product (1) than not (0)."
      ]
    },
    {
      "cell_type": "markdown",
      "metadata": {
        "id": "-kjpEUao7WRS"
      },
      "source": [
        "## Load spacy model"
      ]
    },
    {
      "cell_type": "code",
      "execution_count": 9,
      "metadata": {
        "id": "WXcSA06n7EVf"
      },
      "outputs": [],
      "source": [
        "## load spacy model and disable NER as we don't need it\n",
        "nlp = spacy.load(\"en_core_web_sm\",disable=\"ner\")"
      ]
    },
    {
      "cell_type": "markdown",
      "metadata": {
        "id": "usm8-ZXJ7fie"
      },
      "source": [
        "## Preprocessing Function\n",
        "This is what it does:\n",
        "1. creates empty list `processed_texts` to store processed versions of input texts.\n",
        "2. Loops and iterates through input texts using SpaCy's `nlp.pipe` method with `n_process=-1` for multi-core processing.\n",
        "3. Lemmatization and Stopword Removal: For each text or doc object:\n",
        "    * extracts tokens (words)\n",
        "    * lemmatizes each token converting words to base form (\"running\" --> \"run\")\n",
        "    * converts all tokens to lowercase\n",
        "    * The `is_alpha` attribute makes sure only alpha numeric tokens are considered.\n",
        "    * Removes stop words like \"the\" and \"a\" using `nlp.Defaults.stop_words`.\n",
        "4. Text joining: joins remaining lemmatized tokens back to single string.\n",
        "5. Storage: appends processed text to processed_texts list.\n",
        "6. Return: function returns list of preprocessed texts."
      ]
    },
    {
      "cell_type": "code",
      "execution_count": 10,
      "metadata": {
        "id": "BD8cQH2R7eR5"
      },
      "outputs": [],
      "source": [
        "## function to preprocess text\n",
        "def preprocess_text(texts):\n",
        "  # lemmatize tokens and store in list\n",
        "  processed_texts = []\n",
        "  # loop through them\n",
        "  for doc in nlp.pipe(texts, n_process=-1):\n",
        "    lemmatized_tokens = [token.lemma_.lower() for token in doc if token.is_alpha and token.lemma_ not in nlp.Defaults.stop_words]\n",
        "\n",
        "    # Join the lemmatized tokens into a string\n",
        "    processed_text = \" \".join(lemmatized_tokens)\n",
        "\n",
        "    processed_texts.append(processed_text)\n",
        "\n",
        "  return processed_texts"
      ]
    },
    {
      "cell_type": "code",
      "execution_count": 11,
      "metadata": {
        "id": "eTNGapfD8EBO"
      },
      "outputs": [],
      "source": [
        "## apply the preprocess_text function to user_review column\n",
        "train['user_review'] = preprocess_text(train['user_review'])\n",
        "validation['user_review'] = preprocess_text(validation['user_review'])\n",
        "test['user_review'] = preprocess_text(test['user_review'])"
      ]
    },
    {
      "cell_type": "code",
      "execution_count": 12,
      "metadata": {
        "colab": {
          "base_uri": "https://localhost:8080/"
        },
        "id": "5lY8JNwalDrM",
        "outputId": "866526ff-6b2a-4d77-ce0c-cc5fe736382f"
      },
      "outputs": [
        {
          "output_type": "execute_result",
          "data": {
            "text/plain": [
              "0    early access reviewvery great shooter original...\n",
              "1    i love love love play lot class choose bound s...\n",
              "2    early access reviewas fan mtg hearthstone fun ...\n",
              "3    turn base strategy game similiar ff tactic day...\n",
              "4    game insanely huge download phone game blast v...\n",
              "Name: user_review, dtype: object"
            ]
          },
          "metadata": {},
          "execution_count": 12
        }
      ],
      "source": [
        "# view first 5 rows of train data -- user review\n",
        "train['user_review'].head()"
      ]
    },
    {
      "cell_type": "markdown",
      "metadata": {
        "id": "zyuKa73JlJ5p"
      },
      "source": [
        "## Vectorization\n",
        "* One hot encoding (OHE)\n",
        "    * We have set `min_df=0.001` which is any wor which does not appear in more than 0.1% of documents or reviews will not be considered in the internal vocabulary being created by `CountVectorizer`.\n",
        "        * We can change this value to finetune the hyperparameters.\n",
        "* CountVectorizer\n",
        "  * Recall that the `CountVectorizer` counts the unique words.\n",
        "  * One hot encoding however, uses binary labels 0 or 1 to say that a word is present or not.\n",
        "  * Count Vectorization does not account for semantic information."
      ]
    },
    {
      "cell_type": "code",
      "execution_count": 13,
      "metadata": {
        "id": "NC4VncX5lIJk"
      },
      "outputs": [],
      "source": [
        "## instaniate the CountVectorizer\n",
        "count_vectorizer_ohe = CountVectorizer(min_df=0.001, binary=True)"
      ]
    },
    {
      "cell_type": "code",
      "execution_count": 14,
      "metadata": {
        "id": "eMY7xotplh-V"
      },
      "outputs": [],
      "source": [
        "# fit_trainsform 'user_review' column\n",
        "count_vectorizer_ohe_train = count_vectorizer_ohe.fit_transform(train['user_review'])"
      ]
    },
    {
      "cell_type": "markdown",
      "metadata": {
        "id": "Waht07Numyna"
      },
      "source": [
        "## Build Naive Bayes Classifier"
      ]
    },
    {
      "cell_type": "code",
      "execution_count": 15,
      "metadata": {
        "id": "JJ0YWffJlqzI"
      },
      "outputs": [],
      "source": [
        "# Naive Bayes Classifier\n",
        "naive_bayes_classifier = BernoulliNB()"
      ]
    },
    {
      "cell_type": "code",
      "execution_count": 16,
      "metadata": {
        "id": "eGqtAlXYm7St",
        "colab": {
          "base_uri": "https://localhost:8080/"
        },
        "outputId": "3c9ff152-262b-446e-dfcc-c98752a57138"
      },
      "outputs": [
        {
          "output_type": "execute_result",
          "data": {
            "text/plain": [
              "0.8258096996140292"
            ]
          },
          "metadata": {},
          "execution_count": 16
        }
      ],
      "source": [
        "# create a naive bayes model for train data\n",
        "naive_bayes_classifier.fit(count_vectorizer_ohe_train, train['user_suggestion'])\n",
        "naive_bayes_classifier.score(count_vectorizer_ohe_train, train['user_suggestion'])"
      ]
    },
    {
      "cell_type": "code",
      "execution_count": 17,
      "metadata": {
        "id": "FwcmS6hLnG-e",
        "colab": {
          "base_uri": "https://localhost:8080/"
        },
        "outputId": "619a498d-5e2b-4918-bd63-94b5995ed881"
      },
      "outputs": [
        {
          "output_type": "execute_result",
          "data": {
            "text/plain": [
              "0.8120595144870791"
            ]
          },
          "metadata": {},
          "execution_count": 17
        }
      ],
      "source": [
        "# create naive bayes for validation data\n",
        "count_vectorizer_ohe_val = count_vectorizer_ohe.transform(validation['user_review'])\n",
        "naive_bayes_classifier.score(count_vectorizer_ohe_val, validation['user_suggestion'])"
      ]
    },
    {
      "cell_type": "markdown",
      "metadata": {
        "id": "H7wfnl_rnjoR"
      },
      "source": [
        "## Observations\n",
        "* The NB classifier shows train and validation accuracy scores are very similar. This implies the model is performing well."
      ]
    },
    {
      "cell_type": "markdown",
      "metadata": {
        "id": "7Fr1bcCynse9"
      },
      "source": [
        "## Count Vectorizer\n",
        "* Can we improve the accuracy of our model using a CountVectorizer instead of one-hot-encoding?"
      ]
    },
    {
      "cell_type": "code",
      "execution_count": 18,
      "metadata": {
        "id": "zu9oL5jUnTXF"
      },
      "outputs": [],
      "source": [
        "## instantiate the count_vectorizer\n",
        "count_vectorizer = CountVectorizer(min_df=0.001)"
      ]
    },
    {
      "cell_type": "code",
      "execution_count": 19,
      "metadata": {
        "id": "5Pc-91Htn5PM"
      },
      "outputs": [],
      "source": [
        "## fit_transform user_review target\n",
        "count_vectorizer_train = count_vectorizer.fit_transform(train['user_review'])"
      ]
    },
    {
      "cell_type": "markdown",
      "metadata": {
        "id": "GTrz0O3SoBKf"
      },
      "source": [
        "## Build Naive Bayes Classifier with count vectorization"
      ]
    },
    {
      "cell_type": "code",
      "execution_count": 20,
      "metadata": {
        "id": "IK3sysTVn_oF"
      },
      "outputs": [],
      "source": [
        "# Naive Bayes Classifier\n",
        "naive_bayes_classifier = MultinomialNB()"
      ]
    },
    {
      "cell_type": "code",
      "execution_count": 21,
      "metadata": {
        "id": "-DJgNYbcoIXV",
        "colab": {
          "base_uri": "https://localhost:8080/"
        },
        "outputId": "2ed03272-1260-4787-e719-cf137bef4679"
      },
      "outputs": [
        {
          "output_type": "execute_result",
          "data": {
            "text/plain": [
              "0.8388991441517033"
            ]
          },
          "metadata": {},
          "execution_count": 21
        }
      ],
      "source": [
        "# create the naive bayes model for train data\n",
        "naive_bayes_classifier.fit(count_vectorizer_train, train['user_suggestion'])\n",
        "naive_bayes_classifier.score(count_vectorizer_train, train['user_suggestion'])"
      ]
    },
    {
      "cell_type": "code",
      "execution_count": 22,
      "metadata": {
        "id": "cF89wIwnoU02",
        "colab": {
          "base_uri": "https://localhost:8080/"
        },
        "outputId": "1e1eb6bc-8a43-4d5e-e46e-4f0265531de6"
      },
      "outputs": [
        {
          "output_type": "execute_result",
          "data": {
            "text/plain": [
              "0.8258940224484469"
            ]
          },
          "metadata": {},
          "execution_count": 22
        }
      ],
      "source": [
        "# create naive bayes model for validation data\n",
        "count_vectorizer_val = count_vectorizer.transform(validation['user_review'])\n",
        "naive_bayes_classifier.score(count_vectorizer_val, validation['user_suggestion'])"
      ]
    },
    {
      "cell_type": "markdown",
      "metadata": {
        "id": "ZkVK5nSUoo_x"
      },
      "source": [
        "## Observations\n",
        "* We can see that using CountVectorization improved our model accuracy scores compared to using one hot encoding.\n",
        "* We can also see that the model performance on the validation set is actually not better than the train data thus implying there is no overfitting occurring on unseen data.\n",
        "* We can not say that OHE or CountVectorization is better than the other. Each has its own unique use case."
      ]
    },
    {
      "cell_type": "markdown",
      "metadata": {
        "id": "KLothzjWpMYe"
      },
      "source": [
        "# TF-IDF\n",
        "* Term frequency - inverse frequency document frequency.\n",
        "* What will this do?\n",
        "    * Evaluates how **relevant a word is to a document or corpus.**\n",
        "    * Balances the term frequency with the uniqueness of the term across all documents or the corpus.\n",
        "* Let's break these terms down.\n",
        "1. Term Frequency(TF)\n",
        "* Measures the frequency of a word in a document.\n",
        "* Equation:\n",
        "    * `TF = number of times term t appears in document d / total number of terms in document d`\n",
        "    * Captures the most important words based on how often they appear.\n",
        "\n",
        "2. Inverse Document Frequency (IDF) - 2 parts\n",
        "    * a) Document Frequency (DF) - number of documents in which a word appears.\n",
        "        * equation: `DF = number of documents with term t / total number of document D`\n",
        "        * Example: \"life\" appears in all 3 documents this would be 3/3 = 1\n",
        "        * Example: \"beautiful\" appears in 1 doc which is 1/3.\n",
        "    * b) Inverse Document Frequency (IDF)\n",
        "        * Assess the importance of the term across the corpus.\n",
        "        * Equation: `IDF = log(total number of document D / number of documents with term t`\n",
        "        * This may result in very large positive numbers thus we take the logarithm to the equation and +1 to the denominator to avoid zero division error.\n",
        "        * Example: \"life\" is 3/3 or log 3/3 = 0        \n",
        "        * Example: \"beautiful\" is log 3/1 = 0.47\n",
        "            * Thus rarer terms are given weight.\n",
        "    * c) Calculations for TF-IDF\n",
        "        * `TF = TF * IDF`\n",
        "        * Example: \"life\"\n",
        "            * TF = 4/10 * IDF = 0\n",
        "            * TF-IDF = 0\n",
        "        * Example: \"beautiful\"\n",
        "            * TF = 1/10 * IDF = 1.099\n",
        "            * TF-IDF = 0.047\n",
        "\n",
        "  * TF-IDF will increase with the number of occurrences of a specific word in a specific document but offsets by frequency of words in a corpus.\n",
        "      * This allows us to account for words that are rare but may be more relevant.\n",
        "      * This is very useful in `information retrieval` and `text mining`:\n",
        "          * topic modeling\n",
        "          * document summarization\n",
        "          * search engine optimization (SEO)"
      ]
    },
    {
      "cell_type": "markdown",
      "metadata": {
        "id": "F6BHfgKusH81"
      },
      "source": [
        "# Application of TF-IDF"
      ]
    },
    {
      "cell_type": "code",
      "execution_count": 23,
      "metadata": {
        "id": "wqr-Y5EbohcD"
      },
      "outputs": [],
      "source": [
        "# import TFIDF vectorizer from sklearn\n",
        "from sklearn.feature_extraction.text import TfidfVectorizer"
      ]
    },
    {
      "cell_type": "code",
      "execution_count": 24,
      "metadata": {
        "id": "x3F7rqPUsRgK"
      },
      "outputs": [],
      "source": [
        "# instantiate the tfidf vectorizer\n",
        "tfidf_vectorizer = TfidfVectorizer(min_df=0.001)"
      ]
    },
    {
      "cell_type": "code",
      "execution_count": 25,
      "metadata": {
        "id": "ils3nvWFsYip",
        "colab": {
          "base_uri": "https://localhost:8080/"
        },
        "outputId": "c1ce55db-9076-4c9f-dc2d-029b60620659"
      },
      "outputs": [
        {
          "output_type": "execute_result",
          "data": {
            "text/plain": [
              "0.8414722828215024"
            ]
          },
          "metadata": {},
          "execution_count": 25
        }
      ],
      "source": [
        "# create a naive bayes model for train data using tfidf\n",
        "tfidf_vectorizer_train = tfidf_vectorizer.fit_transform(train['user_review'])\n",
        "naive_bayes_classifier.fit(tfidf_vectorizer_train, train['user_suggestion'])\n",
        "naive_bayes_classifier.score(tfidf_vectorizer_train, train['user_suggestion'])"
      ]
    },
    {
      "cell_type": "code",
      "execution_count": 26,
      "metadata": {
        "id": "2iB825yQsulh",
        "colab": {
          "base_uri": "https://localhost:8080/"
        },
        "outputId": "9428c8b1-d253-4f18-b3a9-f33d002577f2"
      },
      "outputs": [
        {
          "output_type": "execute_result",
          "data": {
            "text/plain": [
              "0.8209344818585226"
            ]
          },
          "metadata": {},
          "execution_count": 26
        }
      ],
      "source": [
        "# create naive bayes model for validation data with tfidf\n",
        "tfidf_vectorizer_val = tfidf_vectorizer.transform(validation['user_review'])\n",
        "naive_bayes_classifier.score(tfidf_vectorizer_val, validation['user_suggestion'])"
      ]
    },
    {
      "cell_type": "markdown",
      "metadata": {
        "id": "ZnnMsC8PtWiZ"
      },
      "source": [
        "# N-grams\n",
        "* combinations of words that appear together in a sentence.\n",
        "  * N=1 --> unigram\n",
        "  * N=2 --> bigram\n",
        "  * N=3 --> trigram\n",
        "  * etc...."
      ]
    },
    {
      "cell_type": "markdown",
      "metadata": {
        "id": "Hc0pH9qft3NA"
      },
      "source": [
        "## N-grams with TFIDF"
      ]
    },
    {
      "cell_type": "code",
      "execution_count": 27,
      "metadata": {
        "id": "jcUuKnhCs6sn"
      },
      "outputs": [],
      "source": [
        "## instantiate the TfidfVectorizer with ngram_range param\n",
        "## setting min document frequency to 0.001 and the range of ngrams are 1 to 3\n",
        "tfidf_ngram_vectorizer = TfidfVectorizer(min_df=0.001, ngram_range=(1,3))"
      ]
    },
    {
      "cell_type": "markdown",
      "metadata": {
        "id": "AcnOit0KuUUg"
      },
      "source": [
        "## Building a Naive Bayes Model with n-grams and TFIDF"
      ]
    },
    {
      "cell_type": "code",
      "execution_count": 28,
      "metadata": {
        "id": "_AsibCBDtDzJ",
        "colab": {
          "base_uri": "https://localhost:8080/"
        },
        "outputId": "2314079a-ddf8-46c3-c107-16123c77f5de"
      },
      "outputs": [
        {
          "output_type": "execute_result",
          "data": {
            "text/plain": [
              "0.859204564524249"
            ]
          },
          "metadata": {},
          "execution_count": 28
        }
      ],
      "source": [
        "## fit and transform and score a naive bayes model\n",
        "tfidf_ngram_vectorizer_train = tfidf_ngram_vectorizer.fit_transform(train['user_review'])\n",
        "naive_bayes_classifier.fit(tfidf_ngram_vectorizer_train, train['user_suggestion'])\n",
        "naive_bayes_classifier.score(tfidf_ngram_vectorizer_train, train['user_suggestion'])"
      ]
    },
    {
      "cell_type": "markdown",
      "metadata": {
        "id": "35FKQ7T1u2uJ"
      },
      "source": [
        "Observations\n",
        "* The accuracy score is much improved on the training data as compared to the previous model we built."
      ]
    },
    {
      "cell_type": "code",
      "execution_count": 29,
      "metadata": {
        "id": "Z8Krbz3Yuqpr",
        "colab": {
          "base_uri": "https://localhost:8080/"
        },
        "outputId": "693ec6e7-a909-44fc-f26e-4f516c959d35"
      },
      "outputs": [
        {
          "output_type": "execute_result",
          "data": {
            "text/plain": [
              "array(['actually good', 'actually like', 'actually look', 'actually play',\n",
              "       'actually play game', 'actually pretty', 'actually use',\n",
              "       'actually want', 'actually work', 'actualy'], dtype=object)"
            ]
          },
          "metadata": {},
          "execution_count": 29
        }
      ],
      "source": [
        "## print some of the ngram features to visualize impact of ngrams\n",
        "tfidf_ngram_vectorizer.get_feature_names_out()[150:160]"
      ]
    },
    {
      "cell_type": "markdown",
      "metadata": {
        "id": "1R6FiJMfvEn-"
      },
      "source": [
        "Observations\n",
        "* We have unigrams, bigrams and trigams as tokens."
      ]
    },
    {
      "cell_type": "code",
      "execution_count": 30,
      "metadata": {
        "id": "VapTqL6JvArQ",
        "colab": {
          "base_uri": "https://localhost:8080/"
        },
        "outputId": "3087bbcc-bcb7-45a7-c83e-d6a82b479765"
      },
      "outputs": [
        {
          "output_type": "execute_result",
          "data": {
            "text/plain": [
              "0.828765335421561"
            ]
          },
          "metadata": {},
          "execution_count": 30
        }
      ],
      "source": [
        "## obtain validation scores on classifier\n",
        "tfidf_ngram_vectorizer_val = tfidf_ngram_vectorizer.transform(validation['user_review'])\n",
        "naive_bayes_classifier.score(tfidf_ngram_vectorizer_val, validation['user_suggestion'])"
      ]
    },
    {
      "cell_type": "code",
      "execution_count": 31,
      "metadata": {
        "id": "cUtpL136vyco"
      },
      "outputs": [],
      "source": [
        "## instantiate countvectorizer\n",
        "count_ngram_vectorizer = CountVectorizer(min_df=0.001, ngram_range=(1,3))"
      ]
    },
    {
      "cell_type": "code",
      "execution_count": 32,
      "metadata": {
        "id": "Btpfw_PpvUjl",
        "colab": {
          "base_uri": "https://localhost:8080/"
        },
        "outputId": "e95f0e52-9402-469a-bb73-83035c26e1e4"
      },
      "outputs": [
        {
          "output_type": "execute_result",
          "data": {
            "text/plain": [
              "0.8490238854393914"
            ]
          },
          "metadata": {},
          "execution_count": 32
        }
      ],
      "source": [
        "### now lets compare a count vectorizer using ngrams and naive bayes classifier\n",
        "count_ngram_vectorizer_train = count_ngram_vectorizer.fit_transform(train['user_review'])\n",
        "naive_bayes_classifier.fit(count_ngram_vectorizer_train, train['user_suggestion'])\n",
        "naive_bayes_classifier.score(count_ngram_vectorizer_train, train['user_suggestion'])"
      ]
    },
    {
      "cell_type": "code",
      "execution_count": 33,
      "metadata": {
        "id": "eLWhmZAav5wi",
        "colab": {
          "base_uri": "https://localhost:8080/"
        },
        "outputId": "ae1120cf-daf5-47fa-d2e4-24bce8cbb8c9"
      },
      "outputs": [
        {
          "output_type": "execute_result",
          "data": {
            "text/plain": [
              "0.8258940224484469"
            ]
          },
          "metadata": {},
          "execution_count": 33
        }
      ],
      "source": [
        "# create naive bayes model for validation data with count vetorizer and ngrams\n",
        "count_ngram_vectorizer_val = count_ngram_vectorizer.transform(validation['user_review'])\n",
        "naive_bayes_classifier.score(count_ngram_vectorizer_val, validation['user_suggestion'])"
      ]
    },
    {
      "cell_type": "markdown",
      "metadata": {
        "id": "4HMP7rUYwN-k"
      },
      "source": [
        "## Observations\n",
        "* We can see the score was lower for the ngram count vectorizer than for the tfidf.\n",
        "* A superior score does not mean the count vectorizer is inferior to TFIDF, the choice between TF-IDF and count vectorizer depends on:\n",
        "  * **Document uniqueness:** TF-IDF will emphasize words that are unique to specific documents which is ideal for situations where docuemnt differentiation is more important.\n",
        "  * **Corpus size and diversity:** TF-IDF performs much better with large and diverse datasets by downplaying common words across documents.\n",
        "  * **Relevance of common words:** if frequent common words are informative to the final analysis, the count vectorize would be better to use."
      ]
    },
    {
      "cell_type": "markdown",
      "metadata": {
        "id": "TqE2td87xL6L"
      },
      "source": [
        "## Advanced Text preprocessing techniques that are important to consider\n",
        "* Part of Speech Tagging\n",
        "* Named Entity Recognition"
      ]
    },
    {
      "cell_type": "code",
      "execution_count": 33,
      "metadata": {
        "id": "91GZqf0SwG76"
      },
      "outputs": [],
      "source": []
    }
  ],
  "metadata": {
    "colab": {
      "provenance": []
    },
    "kernelspec": {
      "display_name": "Python 3",
      "name": "python3"
    },
    "language_info": {
      "name": "python"
    }
  },
  "nbformat": 4,
  "nbformat_minor": 0
}