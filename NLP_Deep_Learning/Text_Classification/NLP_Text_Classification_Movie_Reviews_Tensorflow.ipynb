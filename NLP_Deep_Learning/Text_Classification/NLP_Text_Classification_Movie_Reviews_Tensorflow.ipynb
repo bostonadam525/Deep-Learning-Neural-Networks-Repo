{
  "nbformat": 4,
  "nbformat_minor": 0,
  "metadata": {
    "colab": {
      "provenance": []
    },
    "kernelspec": {
      "name": "python3",
      "display_name": "Python 3"
    },
    "language_info": {
      "name": "python"
    }
  },
  "cells": [
    {
      "cell_type": "markdown",
      "source": [
        "# NLP Text Classification of Movie Reviews using Tensorflow\n",
        "* Notebook by Adam Lang\n",
        "* Date: 4/22/2024\n",
        "* In this notebook we will perform a text classification task using the IMDB movie review dataset using Tensorflow."
      ],
      "metadata": {
        "id": "zvPGSaIpa2sj"
      }
    },
    {
      "cell_type": "markdown",
      "source": [
        "### Imports"
      ],
      "metadata": {
        "id": "QEqXeKW1bC_N"
      }
    },
    {
      "cell_type": "code",
      "execution_count": 1,
      "metadata": {
        "id": "qZMbzwGSatTP"
      },
      "outputs": [],
      "source": [
        "import tensorflow as tf\n",
        "from tensorflow import keras\n",
        "from sklearn.metrics import accuracy_score\n",
        "import numpy as np\n",
        "import matplotlib.pyplot as plt\n",
        "%matplotlib inline"
      ]
    },
    {
      "cell_type": "markdown",
      "source": [
        "### Get dataset from Keras"
      ],
      "metadata": {
        "id": "7HddZXaYbLOL"
      }
    },
    {
      "cell_type": "code",
      "source": [
        "imdbReviews = keras.datasets.imdb\n",
        "\n"
      ],
      "metadata": {
        "id": "v-SCL5rjbI2R"
      },
      "execution_count": 2,
      "outputs": []
    },
    {
      "cell_type": "markdown",
      "source": [
        "#### Setup train and test sets"
      ],
      "metadata": {
        "id": "RLD4EndTbaGm"
      }
    },
    {
      "cell_type": "code",
      "source": [
        "## setup train and test sets limit words to 10000\n",
        "(train_data, train_label), (test_data, test_labels) = imdbReviews.load_data(num_words=10000)"
      ],
      "metadata": {
        "id": "RJgL4LMUbVJV"
      },
      "execution_count": 3,
      "outputs": []
    },
    {
      "cell_type": "markdown",
      "source": [
        "### Let's look at the train_data and train labels length"
      ],
      "metadata": {
        "id": "dQ6vkK6NbyOT"
      }
    },
    {
      "cell_type": "code",
      "source": [
        "print(f\"Train data length: {len(train_data)}\")\n",
        "print(f\"Train labels length: {len(train_label)}\")"
      ],
      "metadata": {
        "colab": {
          "base_uri": "https://localhost:8080/"
        },
        "id": "c6MI9ifobss1",
        "outputId": "70e09bce-3784-4ac0-c936-959008e42bea"
      },
      "execution_count": 4,
      "outputs": [
        {
          "output_type": "stream",
          "name": "stdout",
          "text": [
            "Train data length: 25000\n",
            "Train labels length: 25000\n"
          ]
        }
      ]
    },
    {
      "cell_type": "markdown",
      "source": [
        "### Look at train_data sample"
      ],
      "metadata": {
        "id": "gnjYuuSBcO3X"
      }
    },
    {
      "cell_type": "code",
      "source": [
        "print(train_data[0])"
      ],
      "metadata": {
        "colab": {
          "base_uri": "https://localhost:8080/"
        },
        "id": "kMPxShagcNwa",
        "outputId": "f0db4d84-87ee-4c62-d3ac-52bc06278640"
      },
      "execution_count": 5,
      "outputs": [
        {
          "output_type": "stream",
          "name": "stdout",
          "text": [
            "[1, 14, 22, 16, 43, 530, 973, 1622, 1385, 65, 458, 4468, 66, 3941, 4, 173, 36, 256, 5, 25, 100, 43, 838, 112, 50, 670, 2, 9, 35, 480, 284, 5, 150, 4, 172, 112, 167, 2, 336, 385, 39, 4, 172, 4536, 1111, 17, 546, 38, 13, 447, 4, 192, 50, 16, 6, 147, 2025, 19, 14, 22, 4, 1920, 4613, 469, 4, 22, 71, 87, 12, 16, 43, 530, 38, 76, 15, 13, 1247, 4, 22, 17, 515, 17, 12, 16, 626, 18, 2, 5, 62, 386, 12, 8, 316, 8, 106, 5, 4, 2223, 5244, 16, 480, 66, 3785, 33, 4, 130, 12, 16, 38, 619, 5, 25, 124, 51, 36, 135, 48, 25, 1415, 33, 6, 22, 12, 215, 28, 77, 52, 5, 14, 407, 16, 82, 2, 8, 4, 107, 117, 5952, 15, 256, 4, 2, 7, 3766, 5, 723, 36, 71, 43, 530, 476, 26, 400, 317, 46, 7, 4, 2, 1029, 13, 104, 88, 4, 381, 15, 297, 98, 32, 2071, 56, 26, 141, 6, 194, 7486, 18, 4, 226, 22, 21, 134, 476, 26, 480, 5, 144, 30, 5535, 18, 51, 36, 28, 224, 92, 25, 104, 4, 226, 65, 16, 38, 1334, 88, 12, 16, 283, 5, 16, 4472, 113, 103, 32, 15, 16, 5345, 19, 178, 32]\n"
          ]
        }
      ]
    },
    {
      "cell_type": "code",
      "source": [
        "## index into dict - use this for padding\n",
        "Dict = imdbReviews.get_word_index()\n",
        "Dict = {k:(v+3) for k,v in Dict.items()}"
      ],
      "metadata": {
        "id": "aaqZCsZecSQI"
      },
      "execution_count": 6,
      "outputs": []
    },
    {
      "cell_type": "code",
      "source": [
        "Dict[\"<PAD>\"]=0\n",
        "Dict[\"<START>\"]=1\n",
        "Dict[\"<UNK>\"]=2\n",
        "Dict[\"<UNUSED>\"]=3\n",
        "\n",
        "# setup reverse dict to return keys and values\n",
        "Rev_Dict = dict([(value,key) for (key,value) in Dict.items()])"
      ],
      "metadata": {
        "id": "aDPSISdFcgY0"
      },
      "execution_count": 7,
      "outputs": []
    },
    {
      "cell_type": "code",
      "source": [
        "## create function to reverse and decode the values\n",
        "def decode_reviews(text):\n",
        "  return ' '.join([Rev_Dict.get(i,\"?\") for i in text])"
      ],
      "metadata": {
        "id": "OuMpoSo0dDdC"
      },
      "execution_count": 8,
      "outputs": []
    },
    {
      "cell_type": "code",
      "source": [
        "## lets look at train data again\n",
        "print(train_data[0])"
      ],
      "metadata": {
        "colab": {
          "base_uri": "https://localhost:8080/"
        },
        "id": "c38_6OVidcm8",
        "outputId": "a47e2003-b616-41f3-c0f7-8b8fad24b534"
      },
      "execution_count": 9,
      "outputs": [
        {
          "output_type": "stream",
          "name": "stdout",
          "text": [
            "[1, 14, 22, 16, 43, 530, 973, 1622, 1385, 65, 458, 4468, 66, 3941, 4, 173, 36, 256, 5, 25, 100, 43, 838, 112, 50, 670, 2, 9, 35, 480, 284, 5, 150, 4, 172, 112, 167, 2, 336, 385, 39, 4, 172, 4536, 1111, 17, 546, 38, 13, 447, 4, 192, 50, 16, 6, 147, 2025, 19, 14, 22, 4, 1920, 4613, 469, 4, 22, 71, 87, 12, 16, 43, 530, 38, 76, 15, 13, 1247, 4, 22, 17, 515, 17, 12, 16, 626, 18, 2, 5, 62, 386, 12, 8, 316, 8, 106, 5, 4, 2223, 5244, 16, 480, 66, 3785, 33, 4, 130, 12, 16, 38, 619, 5, 25, 124, 51, 36, 135, 48, 25, 1415, 33, 6, 22, 12, 215, 28, 77, 52, 5, 14, 407, 16, 82, 2, 8, 4, 107, 117, 5952, 15, 256, 4, 2, 7, 3766, 5, 723, 36, 71, 43, 530, 476, 26, 400, 317, 46, 7, 4, 2, 1029, 13, 104, 88, 4, 381, 15, 297, 98, 32, 2071, 56, 26, 141, 6, 194, 7486, 18, 4, 226, 22, 21, 134, 476, 26, 480, 5, 144, 30, 5535, 18, 51, 36, 28, 224, 92, 25, 104, 4, 226, 65, 16, 38, 1334, 88, 12, 16, 283, 5, 16, 4472, 113, 103, 32, 15, 16, 5345, 19, 178, 32]\n"
          ]
        }
      ]
    },
    {
      "cell_type": "code",
      "source": [
        "## now decode text for first sample\n",
        "decode_reviews(train_data[0])"
      ],
      "metadata": {
        "colab": {
          "base_uri": "https://localhost:8080/",
          "height": 139
        },
        "id": "qxx96ufndf5H",
        "outputId": "887d372b-68ac-46f6-f563-88ef55c21335"
      },
      "execution_count": 10,
      "outputs": [
        {
          "output_type": "execute_result",
          "data": {
            "text/plain": [
              "\"<START> this film was just brilliant casting location scenery story direction everyone's really suited the part they played and you could just imagine being there robert <UNK> is an amazing actor and now the same being director <UNK> father came from the same scottish island as myself so i loved the fact there was a real connection with this film the witty remarks throughout the film were great it was just brilliant so much that i bought the film as soon as it was released for <UNK> and would recommend it to everyone to watch and the fly fishing was amazing really cried at the end it was so sad and you know what they say if you cry at a film it must have been good and this definitely was also <UNK> to the two little boy's that played the <UNK> of norman and paul they were just brilliant children are often left out of the <UNK> list i think because the stars that play them all grown up are such a big profile for the whole film but these children are amazing and should be praised for what they have done don't you think the whole story was so lovely because it was true and was someone's life after all that was shared with us all\""
            ],
            "application/vnd.google.colaboratory.intrinsic+json": {
              "type": "string"
            }
          },
          "metadata": {},
          "execution_count": 10
        }
      ]
    },
    {
      "cell_type": "markdown",
      "source": [
        "Note: We can see the padding in the text sample above."
      ],
      "metadata": {
        "id": "e5AfKQepdtEE"
      }
    },
    {
      "cell_type": "markdown",
      "source": [
        "### Pre-processing data and text\n",
        "* Padding docs: https://www.tensorflow.org/api_docs/python/tf/keras/utils/pad_sequences"
      ],
      "metadata": {
        "id": "jmHXOmVEdxJW"
      }
    },
    {
      "cell_type": "code",
      "source": [
        "train_data = keras.preprocessing.sequence.pad_sequences(train_data, value = Dict[\"<PAD>\"],padding=\"post\",maxlen=256)\n",
        "test_data = keras.preprocessing.sequence.pad_sequences(test_data, value = Dict[\"<PAD>\"], padding=\"post\", maxlen=256)"
      ],
      "metadata": {
        "id": "8OnbSaladk_9"
      },
      "execution_count": 11,
      "outputs": []
    },
    {
      "cell_type": "code",
      "source": [
        "## print train data length of sample\n",
        "print(f\"The train data length is: {len(train_data[4])}\")"
      ],
      "metadata": {
        "colab": {
          "base_uri": "https://localhost:8080/"
        },
        "id": "F3hbi29veV-F",
        "outputId": "4d8ba668-6584-4800-91c8-a48cf10af8b7"
      },
      "execution_count": 12,
      "outputs": [
        {
          "output_type": "stream",
          "name": "stdout",
          "text": [
            "The train data length is: 256\n"
          ]
        }
      ]
    },
    {
      "cell_type": "code",
      "source": [
        "## print out decoded padding sample\n",
        "decode_reviews(train_data[0])"
      ],
      "metadata": {
        "colab": {
          "base_uri": "https://localhost:8080/",
          "height": 139
        },
        "id": "F2HL2_O7ef0K",
        "outputId": "d5769da8-c460-4ed3-c999-1c3d440ebdb5"
      },
      "execution_count": 13,
      "outputs": [
        {
          "output_type": "execute_result",
          "data": {
            "text/plain": [
              "\"<START> this film was just brilliant casting location scenery story direction everyone's really suited the part they played and you could just imagine being there robert <UNK> is an amazing actor and now the same being director <UNK> father came from the same scottish island as myself so i loved the fact there was a real connection with this film the witty remarks throughout the film were great it was just brilliant so much that i bought the film as soon as it was released for <UNK> and would recommend it to everyone to watch and the fly fishing was amazing really cried at the end it was so sad and you know what they say if you cry at a film it must have been good and this definitely was also <UNK> to the two little boy's that played the <UNK> of norman and paul they were just brilliant children are often left out of the <UNK> list i think because the stars that play them all grown up are such a big profile for the whole film but these children are amazing and should be praised for what they have done don't you think the whole story was so lovely because it was true and was someone's life after all that was shared with us all <PAD> <PAD> <PAD> <PAD> <PAD> <PAD> <PAD> <PAD> <PAD> <PAD> <PAD> <PAD> <PAD> <PAD> <PAD> <PAD> <PAD> <PAD> <PAD> <PAD> <PAD> <PAD> <PAD> <PAD> <PAD> <PAD> <PAD> <PAD> <PAD> <PAD> <PAD> <PAD> <PAD> <PAD> <PAD> <PAD> <PAD> <PAD>\""
            ],
            "application/vnd.google.colaboratory.intrinsic+json": {
              "type": "string"
            }
          },
          "metadata": {},
          "execution_count": 13
        }
      ]
    },
    {
      "cell_type": "markdown",
      "source": [
        "### Define Neural Network model\n",
        "* Model will separate good movie reviews from bad movie reviews."
      ],
      "metadata": {
        "id": "vMtoThx3eqac"
      }
    },
    {
      "cell_type": "code",
      "source": [
        "vocab_size = 10000\n",
        "\n",
        "model = keras.Sequential() #linear model 1 input tensor, 1 output tensor"
      ],
      "metadata": {
        "id": "ZYOwgc3Nekrm"
      },
      "execution_count": 14,
      "outputs": []
    },
    {
      "cell_type": "markdown",
      "source": [
        "#### Network Layer specifics from Tensorflow docs:\n",
        "1. First layer is an Embedding layer. This layer takes the integer-encoded reviews and looks up an embedding vector for each word-index. These vectors are learned as the model trains. The vectors add a dimension to the output array. The resulting dimensions are: (batch, sequence, embedding). To learn more about embeddings, check out the Word embeddings tutorial.\n",
        "\n",
        "2. Next layer is GlobalAveragePooling1D layer which returns a fixed-length output vector for each example by averaging over the sequence dimension. This allows the model to handle input of variable length, in the simplest way possible.\n",
        "source: https://www.tensorflow.org/tutorials/keras/text_classification"
      ],
      "metadata": {
        "id": "gZi5lyrwf52h"
      }
    },
    {
      "cell_type": "code",
      "source": [
        "## add embedding layers\n",
        "model.add(keras.layers.Embedding(vocab_size,16)) #input size\n",
        "model.add(keras.layers.GlobalAveragePooling1D())\n",
        "model.add(keras.layers.Dense(16,activation = tf.nn.relu)) ## activation function relu, first hidden layer\n",
        "model.add(keras.layers.Dense(1,activation = tf.nn.sigmoid)) ## output layer"
      ],
      "metadata": {
        "id": "yi_DxItVfKBX"
      },
      "execution_count": 15,
      "outputs": []
    },
    {
      "cell_type": "markdown",
      "source": [
        "### Model Summary"
      ],
      "metadata": {
        "id": "piWhVk8Kg4G5"
      }
    },
    {
      "cell_type": "code",
      "source": [
        "print(model.summary())"
      ],
      "metadata": {
        "colab": {
          "base_uri": "https://localhost:8080/"
        },
        "id": "a0kQAwUSg3F7",
        "outputId": "690f1b4d-6c28-4f99-fb79-ac9d578cc38b"
      },
      "execution_count": 16,
      "outputs": [
        {
          "output_type": "stream",
          "name": "stdout",
          "text": [
            "Model: \"sequential\"\n",
            "_________________________________________________________________\n",
            " Layer (type)                Output Shape              Param #   \n",
            "=================================================================\n",
            " embedding (Embedding)       (None, None, 16)          160000    \n",
            "                                                                 \n",
            " global_average_pooling1d (  (None, 16)                0         \n",
            " GlobalAveragePooling1D)                                         \n",
            "                                                                 \n",
            " dense (Dense)               (None, 16)                272       \n",
            "                                                                 \n",
            " dense_1 (Dense)             (None, 1)                 17        \n",
            "                                                                 \n",
            "=================================================================\n",
            "Total params: 160289 (626.13 KB)\n",
            "Trainable params: 160289 (626.13 KB)\n",
            "Non-trainable params: 0 (0.00 Byte)\n",
            "_________________________________________________________________\n",
            "None\n"
          ]
        }
      ]
    },
    {
      "cell_type": "markdown",
      "source": [
        "### Compile model"
      ],
      "metadata": {
        "id": "f3HDxQ5Og7rA"
      }
    },
    {
      "cell_type": "code",
      "source": [
        "model.compile(optimizer=\"adam\", loss=\"binary_crossentropy\", metrics=[\"acc\"])"
      ],
      "metadata": {
        "id": "HZhOrNm0g54J"
      },
      "execution_count": 17,
      "outputs": []
    },
    {
      "cell_type": "code",
      "source": [
        "## validation dataset\n",
        "x_val = train_data[:10000]"
      ],
      "metadata": {
        "id": "N_6Cxo3NhGgn"
      },
      "execution_count": 18,
      "outputs": []
    },
    {
      "cell_type": "code",
      "source": [
        "x_train = train_data[10000:]"
      ],
      "metadata": {
        "id": "3kTnxMA7hMA-"
      },
      "execution_count": 19,
      "outputs": []
    },
    {
      "cell_type": "code",
      "source": [
        "y_val = train_label[:10000]"
      ],
      "metadata": {
        "id": "wOirdmYEhOmO"
      },
      "execution_count": 20,
      "outputs": []
    },
    {
      "cell_type": "code",
      "source": [
        "y_train = train_label[10000:]"
      ],
      "metadata": {
        "id": "5-PnYbQehQuh"
      },
      "execution_count": 21,
      "outputs": []
    },
    {
      "cell_type": "markdown",
      "source": [
        "### Train model"
      ],
      "metadata": {
        "id": "TrUYtXn_h0u4"
      }
    },
    {
      "cell_type": "code",
      "source": [
        "model_history = model.fit(x_train, y_train, epochs=10, batch_size=128, validation_data=(x_val,y_val))"
      ],
      "metadata": {
        "colab": {
          "base_uri": "https://localhost:8080/"
        },
        "id": "-G6mAJWMh0X8",
        "outputId": "3278b13c-8f66-4c53-bfc5-b4ecda5fa926"
      },
      "execution_count": 22,
      "outputs": [
        {
          "output_type": "stream",
          "name": "stdout",
          "text": [
            "Epoch 1/10\n",
            "118/118 [==============================] - 7s 28ms/step - loss: 0.6861 - acc: 0.5835 - val_loss: 0.6712 - val_acc: 0.7359\n",
            "Epoch 2/10\n",
            "118/118 [==============================] - 1s 11ms/step - loss: 0.6256 - acc: 0.7747 - val_loss: 0.5754 - val_acc: 0.8031\n",
            "Epoch 3/10\n",
            "118/118 [==============================] - 1s 10ms/step - loss: 0.5011 - acc: 0.8370 - val_loss: 0.4550 - val_acc: 0.8429\n",
            "Epoch 4/10\n",
            "118/118 [==============================] - 1s 10ms/step - loss: 0.3881 - acc: 0.8734 - val_loss: 0.3763 - val_acc: 0.8614\n",
            "Epoch 5/10\n",
            "118/118 [==============================] - 1s 10ms/step - loss: 0.3175 - acc: 0.8900 - val_loss: 0.3361 - val_acc: 0.8696\n",
            "Epoch 6/10\n",
            "118/118 [==============================] - 1s 11ms/step - loss: 0.2729 - acc: 0.9039 - val_loss: 0.3101 - val_acc: 0.8782\n",
            "Epoch 7/10\n",
            "118/118 [==============================] - 2s 19ms/step - loss: 0.2408 - acc: 0.9147 - val_loss: 0.2966 - val_acc: 0.8825\n",
            "Epoch 8/10\n",
            "118/118 [==============================] - 1s 12ms/step - loss: 0.2168 - acc: 0.9225 - val_loss: 0.2876 - val_acc: 0.8863\n",
            "Epoch 9/10\n",
            "118/118 [==============================] - 1s 11ms/step - loss: 0.1962 - acc: 0.9317 - val_loss: 0.2833 - val_acc: 0.8862\n",
            "Epoch 10/10\n",
            "118/118 [==============================] - 1s 12ms/step - loss: 0.1779 - acc: 0.9406 - val_loss: 0.2816 - val_acc: 0.8868\n"
          ]
        }
      ]
    },
    {
      "cell_type": "markdown",
      "source": [
        "### Evaluate model performance"
      ],
      "metadata": {
        "id": "5HNwkf0PiRI2"
      }
    },
    {
      "cell_type": "code",
      "source": [
        "## accuracy on validation set\n",
        "print('Accuracy on validation set:', accuracy_score(y_val, np.where(model.predict(x_val)[:,0] < 0.5, 0, 1)))"
      ],
      "metadata": {
        "colab": {
          "base_uri": "https://localhost:8080/"
        },
        "id": "_PesdLvghS5K",
        "outputId": "f38e6c16-9d08-4c4a-ca9f-70cf497b0f5b"
      },
      "execution_count": 23,
      "outputs": [
        {
          "output_type": "stream",
          "name": "stdout",
          "text": [
            "313/313 [==============================] - 1s 2ms/step\n",
            "Accuracy on validation set: 0.8868\n"
          ]
        }
      ]
    },
    {
      "cell_type": "markdown",
      "source": [
        "### Plot the loss"
      ],
      "metadata": {
        "id": "fLW8_R01irp2"
      }
    },
    {
      "cell_type": "code",
      "source": [
        "# summarize history for loss\n",
        "plt.plot(model_history.history['loss'])\n",
        "plt.plot(model_history.history['val_loss'])\n",
        "plt.title('model loss')\n",
        "plt.ylabel('loss')\n",
        "plt.xlabel('epochs')\n",
        "plt.legend(['train','validation'],loc='upper right')\n",
        "plt.show();"
      ],
      "metadata": {
        "colab": {
          "base_uri": "https://localhost:8080/",
          "height": 472
        },
        "id": "Wb5b8ejWhoVj",
        "outputId": "acb2fecb-2ef4-45a7-a534-4c75f5adebe3"
      },
      "execution_count": 24,
      "outputs": [
        {
          "output_type": "display_data",
          "data": {
            "text/plain": [
              "<Figure size 640x480 with 1 Axes>"
            ],
            "image/png": "[encoded data removed]"
          },
          "metadata": {}
        }
      ]
    },
    {
      "cell_type": "markdown",
      "source": [
        "Summary:\n",
        "* The loss drops quickly for both train and test until around 4 epochs when the test or validation loss stays higher and levels off and the train loss continues to drop to zero.\n",
        "* It appears the model is overfitting the data."
      ],
      "metadata": {
        "id": "yBnoDKFnpmXZ"
      }
    },
    {
      "cell_type": "markdown",
      "source": [
        "### Plot model accuracy"
      ],
      "metadata": {
        "id": "97rSQP-_jeMZ"
      }
    },
    {
      "cell_type": "code",
      "source": [
        "#visualize model accuracy\n",
        "plt.plot(model_history.history['acc'])\n",
        "plt.plot(model_history.history['val_acc'])\n",
        "plt.title('model_accuracy')\n",
        "plt.ylabel('accuracy')\n",
        "plt.xlabel('epoch')\n",
        "plt.legend(['train','validation'],loc='upper left')\n",
        "plt.show();"
      ],
      "metadata": {
        "colab": {
          "base_uri": "https://localhost:8080/",
          "height": 472
        },
        "id": "DF1JkqAejICo",
        "outputId": "e65b3326-4260-4d46-97a1-270ef2350ff8"
      },
      "execution_count": 25,
      "outputs": [
        {
          "output_type": "display_data",
          "data": {
            "text/plain": [
              "<Figure size 640x480 with 1 Axes>"
            ],
            "image/png": "[encoded data removed]"
          },
          "metadata": {}
        }
      ]
    },
    {
      "cell_type": "markdown",
      "source": [
        "Summary:\n",
        "* It looks like the accuracy begins to level off for both train and test data at around 3 epochs.\n",
        "* The best accuracy for both was around 85 - 88%."
      ],
      "metadata": {
        "id": "EQsmggqYpEfS"
      }
    },
    {
      "cell_type": "code",
      "source": [],
      "metadata": {
        "id": "hAL_kH1djyXg"
      },
      "execution_count": 25,
      "outputs": []
    }
  ]
}