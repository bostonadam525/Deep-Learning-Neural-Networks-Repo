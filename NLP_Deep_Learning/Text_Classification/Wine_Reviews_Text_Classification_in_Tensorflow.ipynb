{
  "nbformat": 4,
  "nbformat_minor": 0,
  "metadata": {
    "colab": {
      "provenance": []
    },
    "kernelspec": {
      "name": "python3",
      "display_name": "Python 3"
    },
    "language_info": {
      "name": "python"
    }
  },
  "cells": [
    {
      "cell_type": "markdown",
      "source": [
        "# Wine Reviews Text Classification in Tensorflow\n",
        "* Notebook by Adam Lang\n",
        "* Date: 4/22/2024\n",
        "* This notebook was inspired by the freecodecamp tutorial on neural network classification using Tensorflow. I will follow most of the same steps as they did with some additional insights.\n",
        "* The purpose is to build a neural network text classifier in tensorflow on the wine reviews dataset.\n",
        "* This will use pre-trained machine learning models from the **TensorFlow hub** that will be fine-tuned.\n",
        "    * Model hub: https://www.tensorflow.org/hub\n",
        "    * Embedding to us: `nnlm-en-dim50`\n",
        "        * Token based text embedding trained on English Google News 7B corpus.\n",
        "\n",
        "* At the bottom we will then try to implement an LSTM model."
      ],
      "metadata": {
        "id": "yHEbxWsjsK7D"
      }
    },
    {
      "cell_type": "markdown",
      "source": [
        "### Imports"
      ],
      "metadata": {
        "id": "63N6SA6msgIC"
      }
    },
    {
      "cell_type": "code",
      "execution_count": 1,
      "metadata": {
        "id": "w0qimV5XsE2b"
      },
      "outputs": [],
      "source": [
        "import numpy as np\n",
        "import pandas as pd\n",
        "import matplotlib.pyplot as plt\n",
        "%matplotlib inline\n",
        "\n",
        "# tensorflow\n",
        "import tensorflow as tf\n",
        "import tensorflow_hub as hub"
      ]
    },
    {
      "cell_type": "markdown",
      "source": [
        "### Wine Dataset upload"
      ],
      "metadata": {
        "id": "hmZ969UnsrPo"
      }
    },
    {
      "cell_type": "code",
      "source": [
        "data_path = '/content/drive/MyDrive/Colab Notebooks/Deep Learning Notebooks/NLP_deep_learning/Text_Classification/wine-reviews.csv'"
      ],
      "metadata": {
        "id": "wwcYsVcisuo-"
      },
      "execution_count": 2,
      "outputs": []
    },
    {
      "cell_type": "code",
      "source": [
        "df = pd.read_csv(data_path, usecols=['country','description','points','price','variety','winery'])"
      ],
      "metadata": {
        "id": "lsaBLhSfsqT2"
      },
      "execution_count": 3,
      "outputs": []
    },
    {
      "cell_type": "code",
      "source": [
        "## look at df\n",
        "df.head()"
      ],
      "metadata": {
        "colab": {
          "base_uri": "https://localhost:8080/",
          "height": 206
        },
        "id": "cSCQG0citCFu",
        "outputId": "8835c2d6-ba10-49a8-cc29-6538da000b66"
      },
      "execution_count": 4,
      "outputs": [
        {
          "output_type": "execute_result",
          "data": {
            "text/plain": [
              "    country                                        description  points  price  \\\n",
              "0     Italy  Aromas include tropical fruit, broom, brimston...      87    NaN   \n",
              "1  Portugal  This is ripe and fruity, a wine that is smooth...      87   15.0   \n",
              "2        US  Tart and snappy, the flavors of lime flesh and...      87   14.0   \n",
              "3        US  Pineapple rind, lemon pith and orange blossom ...      87   13.0   \n",
              "4        US  Much like the regular bottling from 2012, this...      87   65.0   \n",
              "\n",
              "          variety               winery  \n",
              "0     White Blend              Nicosia  \n",
              "1  Portuguese Red  Quinta dos Avidagos  \n",
              "2      Pinot Gris            Rainstorm  \n",
              "3        Riesling           St. Julian  \n",
              "4      Pinot Noir         Sweet Cheeks  "
            ],
            "text/html": [
              "\n",
              "  <div id=\"df-7b585c28-f19a-4641-968f-4481982fd724\" class=\"colab-df-container\">\n",
              "    <div>\n",
              "<style scoped>\n",
              "    .dataframe tbody tr th:only-of-type {\n",
              "        vertical-align: middle;\n",
              "    }\n",
              "\n",
              "    .dataframe tbody tr th {\n",
              "        vertical-align: top;\n",
              "    }\n",
              "\n",
              "    .dataframe thead th {\n",
              "        text-align: right;\n",
              "    }\n",
              "</style>\n",
              "<table border=\"1\" class=\"dataframe\">\n",
              "  <thead>\n",
              "    <tr style=\"text-align: right;\">\n",
              "      <th></th>\n",
              "      <th>country</th>\n",
              "      <th>description</th>\n",
              "      <th>points</th>\n",
              "      <th>price</th>\n",
              "      <th>variety</th>\n",
              "      <th>winery</th>\n",
              "    </tr>\n",
              "  </thead>\n",
              "  <tbody>\n",
              "    <tr>\n",
              "      <th>0</th>\n",
              "      <td>Italy</td>\n",
              "      <td>Aromas include tropical fruit, broom, brimston...</td>\n",
              "      <td>87</td>\n",
              "      <td>NaN</td>\n",
              "      <td>White Blend</td>\n",
              "      <td>Nicosia</td>\n",
              "    </tr>\n",
              "    <tr>\n",
              "      <th>1</th>\n",
              "      <td>Portugal</td>\n",
              "      <td>This is ripe and fruity, a wine that is smooth...</td>\n",
              "      <td>87</td>\n",
              "      <td>15.0</td>\n",
              "      <td>Portuguese Red</td>\n",
              "      <td>Quinta dos Avidagos</td>\n",
              "    </tr>\n",
              "    <tr>\n",
              "      <th>2</th>\n",
              "      <td>US</td>\n",
              "      <td>Tart and snappy, the flavors of lime flesh and...</td>\n",
              "      <td>87</td>\n",
              "      <td>14.0</td>\n",
              "      <td>Pinot Gris</td>\n",
              "      <td>Rainstorm</td>\n",
              "    </tr>\n",
              "    <tr>\n",
              "      <th>3</th>\n",
              "      <td>US</td>\n",
              "      <td>Pineapple rind, lemon pith and orange blossom ...</td>\n",
              "      <td>87</td>\n",
              "      <td>13.0</td>\n",
              "      <td>Riesling</td>\n",
              "      <td>St. Julian</td>\n",
              "    </tr>\n",
              "    <tr>\n",
              "      <th>4</th>\n",
              "      <td>US</td>\n",
              "      <td>Much like the regular bottling from 2012, this...</td>\n",
              "      <td>87</td>\n",
              "      <td>65.0</td>\n",
              "      <td>Pinot Noir</td>\n",
              "      <td>Sweet Cheeks</td>\n",
              "    </tr>\n",
              "  </tbody>\n",
              "</table>\n",
              "</div>\n",
              "    <div class=\"colab-df-buttons\">\n",
              "\n",
              "  <div class=\"colab-df-container\">\n",
              "    <button class=\"colab-df-convert\" onclick=\"convertToInteractive('df-7b585c28-f19a-4641-968f-4481982fd724')\"\n",
              "            title=\"Convert this dataframe to an interactive table.\"\n",
              "            style=\"display:none;\">\n",
              "\n",
              "  <svg xmlns=\"http://www.w3.org/2000/svg\" height=\"24px\" viewBox=\"0 -960 960 960\">\n",
              "    <path d=\"M120-120v-720h720v720H120Zm60-500h600v-160H180v160Zm220 220h160v-160H400v160Zm0 220h160v-160H400v160ZM180-400h160v-160H180v160Zm440 0h160v-160H620v160ZM180-180h160v-160H180v160Zm440 0h160v-160H620v160Z\"/>\n",
              "  </svg>\n",
              "    </button>\n",
              "\n",
              "  <style>\n",
              "    .colab-df-container {\n",
              "      display:flex;\n",
              "      gap: 12px;\n",
              "    }\n",
              "\n",
              "    .colab-df-convert {\n",
              "      background-color: #E8F0FE;\n",
              "      border: none;\n",
              "      border-radius: 50%;\n",
              "      cursor: pointer;\n",
              "      display: none;\n",
              "      fill: #1967D2;\n",
              "      height: 32px;\n",
              "      padding: 0 0 0 0;\n",
              "      width: 32px;\n",
              "    }\n",
              "\n",
              "    .colab-df-convert:hover {\n",
              "      background-color: #E2EBFA;\n",
              "      box-shadow: 0px 1px 2px rgba(60, 64, 67, 0.3), 0px 1px 3px 1px rgba(60, 64, 67, 0.15);\n",
              "      fill: #174EA6;\n",
              "    }\n",
              "\n",
              "    .colab-df-buttons div {\n",
              "      margin-bottom: 4px;\n",
              "    }\n",
              "\n",
              "    [theme=dark] .colab-df-convert {\n",
              "      background-color: #3B4455;\n",
              "      fill: #D2E3FC;\n",
              "    }\n",
              "\n",
              "    [theme=dark] .colab-df-convert:hover {\n",
              "      background-color: #434B5C;\n",
              "      box-shadow: 0px 1px 3px 1px rgba(0, 0, 0, 0.15);\n",
              "      filter: drop-shadow(0px 1px 2px rgba(0, 0, 0, 0.3));\n",
              "      fill: #FFFFFF;\n",
              "    }\n",
              "  </style>\n",
              "\n",
              "    <script>\n",
              "      const buttonEl =\n",
              "        document.querySelector('#df-7b585c28-f19a-4641-968f-4481982fd724 button.colab-df-convert');\n",
              "      buttonEl.style.display =\n",
              "        google.colab.kernel.accessAllowed ? 'block' : 'none';\n",
              "\n",
              "      async function convertToInteractive(key) {\n",
              "        const element = document.querySelector('#df-7b585c28-f19a-4641-968f-4481982fd724');\n",
              "        const dataTable =\n",
              "          await google.colab.kernel.invokeFunction('convertToInteractive',\n",
              "                                                    [key], {});\n",
              "        if (!dataTable) return;\n",
              "\n",
              "        const docLinkHtml = 'Like what you see? Visit the ' +\n",
              "          '<a target=\"_blank\" href=https://colab.research.google.com/notebooks/data_table.ipynb>data table notebook</a>'\n",
              "          + ' to learn more about interactive tables.';\n",
              "        element.innerHTML = '';\n",
              "        dataTable['output_type'] = 'display_data';\n",
              "        await google.colab.output.renderOutput(dataTable, element);\n",
              "        const docLink = document.createElement('div');\n",
              "        docLink.innerHTML = docLinkHtml;\n",
              "        element.appendChild(docLink);\n",
              "      }\n",
              "    </script>\n",
              "  </div>\n",
              "\n",
              "\n",
              "<div id=\"df-26156f0c-7ff4-4ba0-903f-cc270a4636ef\">\n",
              "  <button class=\"colab-df-quickchart\" onclick=\"quickchart('df-26156f0c-7ff4-4ba0-903f-cc270a4636ef')\"\n",
              "            title=\"Suggest charts\"\n",
              "            style=\"display:none;\">\n",
              "\n",
              "<svg xmlns=\"http://www.w3.org/2000/svg\" height=\"24px\"viewBox=\"0 0 24 24\"\n",
              "     width=\"24px\">\n",
              "    <g>\n",
              "        <path d=\"M19 3H5c-1.1 0-2 .9-2 2v14c0 1.1.9 2 2 2h14c1.1 0 2-.9 2-2V5c0-1.1-.9-2-2-2zM9 17H7v-7h2v7zm4 0h-2V7h2v10zm4 0h-2v-4h2v4z\"/>\n",
              "    </g>\n",
              "</svg>\n",
              "  </button>\n",
              "\n",
              "<style>\n",
              "  .colab-df-quickchart {\n",
              "      --bg-color: #E8F0FE;\n",
              "      --fill-color: #1967D2;\n",
              "      --hover-bg-color: #E2EBFA;\n",
              "      --hover-fill-color: #174EA6;\n",
              "      --disabled-fill-color: #AAA;\n",
              "      --disabled-bg-color: #DDD;\n",
              "  }\n",
              "\n",
              "  [theme=dark] .colab-df-quickchart {\n",
              "      --bg-color: #3B4455;\n",
              "      --fill-color: #D2E3FC;\n",
              "      --hover-bg-color: #434B5C;\n",
              "      --hover-fill-color: #FFFFFF;\n",
              "      --disabled-bg-color: #3B4455;\n",
              "      --disabled-fill-color: #666;\n",
              "  }\n",
              "\n",
              "  .colab-df-quickchart {\n",
              "    background-color: var(--bg-color);\n",
              "    border: none;\n",
              "    border-radius: 50%;\n",
              "    cursor: pointer;\n",
              "    display: none;\n",
              "    fill: var(--fill-color);\n",
              "    height: 32px;\n",
              "    padding: 0;\n",
              "    width: 32px;\n",
              "  }\n",
              "\n",
              "  .colab-df-quickchart:hover {\n",
              "    background-color: var(--hover-bg-color);\n",
              "    box-shadow: 0 1px 2px rgba(60, 64, 67, 0.3), 0 1px 3px 1px rgba(60, 64, 67, 0.15);\n",
              "    fill: var(--button-hover-fill-color);\n",
              "  }\n",
              "\n",
              "  .colab-df-quickchart-complete:disabled,\n",
              "  .colab-df-quickchart-complete:disabled:hover {\n",
              "    background-color: var(--disabled-bg-color);\n",
              "    fill: var(--disabled-fill-color);\n",
              "    box-shadow: none;\n",
              "  }\n",
              "\n",
              "  .colab-df-spinner {\n",
              "    border: 2px solid var(--fill-color);\n",
              "    border-color: transparent;\n",
              "    border-bottom-color: var(--fill-color);\n",
              "    animation:\n",
              "      spin 1s steps(1) infinite;\n",
              "  }\n",
              "\n",
              "  @keyframes spin {\n",
              "    0% {\n",
              "      border-color: transparent;\n",
              "      border-bottom-color: var(--fill-color);\n",
              "      border-left-color: var(--fill-color);\n",
              "    }\n",
              "    20% {\n",
              "      border-color: transparent;\n",
              "      border-left-color: var(--fill-color);\n",
              "      border-top-color: var(--fill-color);\n",
              "    }\n",
              "    30% {\n",
              "      border-color: transparent;\n",
              "      border-left-color: var(--fill-color);\n",
              "      border-top-color: var(--fill-color);\n",
              "      border-right-color: var(--fill-color);\n",
              "    }\n",
              "    40% {\n",
              "      border-color: transparent;\n",
              "      border-right-color: var(--fill-color);\n",
              "      border-top-color: var(--fill-color);\n",
              "    }\n",
              "    60% {\n",
              "      border-color: transparent;\n",
              "      border-right-color: var(--fill-color);\n",
              "    }\n",
              "    80% {\n",
              "      border-color: transparent;\n",
              "      border-right-color: var(--fill-color);\n",
              "      border-bottom-color: var(--fill-color);\n",
              "    }\n",
              "    90% {\n",
              "      border-color: transparent;\n",
              "      border-bottom-color: var(--fill-color);\n",
              "    }\n",
              "  }\n",
              "</style>\n",
              "\n",
              "  <script>\n",
              "    async function quickchart(key) {\n",
              "      const quickchartButtonEl =\n",
              "        document.querySelector('#' + key + ' button');\n",
              "      quickchartButtonEl.disabled = true;  // To prevent multiple clicks.\n",
              "      quickchartButtonEl.classList.add('colab-df-spinner');\n",
              "      try {\n",
              "        const charts = await google.colab.kernel.invokeFunction(\n",
              "            'suggestCharts', [key], {});\n",
              "      } catch (error) {\n",
              "        console.error('Error during call to suggestCharts:', error);\n",
              "      }\n",
              "      quickchartButtonEl.classList.remove('colab-df-spinner');\n",
              "      quickchartButtonEl.classList.add('colab-df-quickchart-complete');\n",
              "    }\n",
              "    (() => {\n",
              "      let quickchartButtonEl =\n",
              "        document.querySelector('#df-26156f0c-7ff4-4ba0-903f-cc270a4636ef button');\n",
              "      quickchartButtonEl.style.display =\n",
              "        google.colab.kernel.accessAllowed ? 'block' : 'none';\n",
              "    })();\n",
              "  </script>\n",
              "</div>\n",
              "\n",
              "    </div>\n",
              "  </div>\n"
            ],
            "application/vnd.google.colaboratory.intrinsic+json": {
              "type": "dataframe",
              "variable_name": "df"
            }
          },
          "metadata": {},
          "execution_count": 4
        }
      ]
    },
    {
      "cell_type": "markdown",
      "source": [
        "## EDA - exploratory data analysis"
      ],
      "metadata": {
        "id": "4JsDgzffteA4"
      }
    },
    {
      "cell_type": "code",
      "source": [
        "## df info\n",
        "df.info()"
      ],
      "metadata": {
        "colab": {
          "base_uri": "https://localhost:8080/"
        },
        "id": "Vj993QFhtJee",
        "outputId": "a9fc7984-e657-46e9-fcfa-136d75de4d35"
      },
      "execution_count": 5,
      "outputs": [
        {
          "output_type": "stream",
          "name": "stdout",
          "text": [
            "<class 'pandas.core.frame.DataFrame'>\n",
            "RangeIndex: 129971 entries, 0 to 129970\n",
            "Data columns (total 6 columns):\n",
            " #   Column       Non-Null Count   Dtype  \n",
            "---  ------       --------------   -----  \n",
            " 0   country      129908 non-null  object \n",
            " 1   description  129971 non-null  object \n",
            " 2   points       129971 non-null  int64  \n",
            " 3   price        120975 non-null  float64\n",
            " 4   variety      129970 non-null  object \n",
            " 5   winery       129971 non-null  object \n",
            "dtypes: float64(1), int64(1), object(4)\n",
            "memory usage: 5.9+ MB\n"
          ]
        }
      ]
    },
    {
      "cell_type": "code",
      "source": [
        "##check null values\n",
        "df.isna().sum().sort_values()"
      ],
      "metadata": {
        "colab": {
          "base_uri": "https://localhost:8080/"
        },
        "id": "xIeIHxrutiCy",
        "outputId": "45400a7e-f8b5-4f0e-a941-3f6b0ce494e5"
      },
      "execution_count": 6,
      "outputs": [
        {
          "output_type": "execute_result",
          "data": {
            "text/plain": [
              "description       0\n",
              "points            0\n",
              "winery            0\n",
              "variety           1\n",
              "country          63\n",
              "price          8996\n",
              "dtype: int64"
            ]
          },
          "metadata": {},
          "execution_count": 6
        }
      ]
    },
    {
      "cell_type": "markdown",
      "source": [
        "It appears that price has the most NaN values at 8996 and country at 63."
      ],
      "metadata": {
        "id": "spywKxpRt1d5"
      }
    },
    {
      "cell_type": "code",
      "source": [
        "## lets look closer\n",
        "df[['price']].value_counts(dropna=False)"
      ],
      "metadata": {
        "colab": {
          "base_uri": "https://localhost:8080/"
        },
        "id": "rfAZ3ZqBtpxa",
        "outputId": "b3817b5b-8b2a-458c-bbba-78c873a2eac3"
      },
      "execution_count": 7,
      "outputs": [
        {
          "output_type": "execute_result",
          "data": {
            "text/plain": [
              "price\n",
              "NaN      8996\n",
              "20.0     6940\n",
              "15.0     6066\n",
              "25.0     5805\n",
              "30.0     4951\n",
              "         ... \n",
              "388.0       1\n",
              "385.0       1\n",
              "376.0       1\n",
              "226.0       1\n",
              "468.0       1\n",
              "Name: count, Length: 391, dtype: int64"
            ]
          },
          "metadata": {},
          "execution_count": 7
        }
      ]
    },
    {
      "cell_type": "code",
      "source": [
        "## lets look at some of the price metrics\n",
        "df['price'].describe()"
      ],
      "metadata": {
        "colab": {
          "base_uri": "https://localhost:8080/"
        },
        "id": "zBk3EVdPuEAt",
        "outputId": "8525ac6f-5924-43d7-aa32-7ceafa66f2c4"
      },
      "execution_count": 8,
      "outputs": [
        {
          "output_type": "execute_result",
          "data": {
            "text/plain": [
              "count    120975.000000\n",
              "mean         35.363389\n",
              "std          41.022218\n",
              "min           4.000000\n",
              "25%          17.000000\n",
              "50%          25.000000\n",
              "75%          42.000000\n",
              "max        3300.000000\n",
              "Name: price, dtype: float64"
            ]
          },
          "metadata": {},
          "execution_count": 8
        }
      ]
    },
    {
      "cell_type": "markdown",
      "source": [
        "There are 120,975 price rows but we know that 8,996 of them are NaN."
      ],
      "metadata": {
        "id": "-J7QrYS9uiJB"
      }
    },
    {
      "cell_type": "markdown",
      "source": [
        "### Drop NaN values"
      ],
      "metadata": {
        "id": "96sTY7ngu-bC"
      }
    },
    {
      "cell_type": "code",
      "source": [
        "df = df.dropna(subset=['description','points'])"
      ],
      "metadata": {
        "id": "1ThuD2Y4uy_w"
      },
      "execution_count": 9,
      "outputs": []
    },
    {
      "cell_type": "code",
      "source": [
        "## lets look at df again\n",
        "df.head()"
      ],
      "metadata": {
        "colab": {
          "base_uri": "https://localhost:8080/",
          "height": 206
        },
        "id": "Y6gBbtCSvFEw",
        "outputId": "710ef4a8-5ccc-44e3-f8f2-78d7ca3ab415"
      },
      "execution_count": 10,
      "outputs": [
        {
          "output_type": "execute_result",
          "data": {
            "text/plain": [
              "    country                                        description  points  price  \\\n",
              "0     Italy  Aromas include tropical fruit, broom, brimston...      87    NaN   \n",
              "1  Portugal  This is ripe and fruity, a wine that is smooth...      87   15.0   \n",
              "2        US  Tart and snappy, the flavors of lime flesh and...      87   14.0   \n",
              "3        US  Pineapple rind, lemon pith and orange blossom ...      87   13.0   \n",
              "4        US  Much like the regular bottling from 2012, this...      87   65.0   \n",
              "\n",
              "          variety               winery  \n",
              "0     White Blend              Nicosia  \n",
              "1  Portuguese Red  Quinta dos Avidagos  \n",
              "2      Pinot Gris            Rainstorm  \n",
              "3        Riesling           St. Julian  \n",
              "4      Pinot Noir         Sweet Cheeks  "
            ],
            "text/html": [
              "\n",
              "  <div id=\"df-c914d314-1899-42e6-989f-d7db9daabd59\" class=\"colab-df-container\">\n",
              "    <div>\n",
              "<style scoped>\n",
              "    .dataframe tbody tr th:only-of-type {\n",
              "        vertical-align: middle;\n",
              "    }\n",
              "\n",
              "    .dataframe tbody tr th {\n",
              "        vertical-align: top;\n",
              "    }\n",
              "\n",
              "    .dataframe thead th {\n",
              "        text-align: right;\n",
              "    }\n",
              "</style>\n",
              "<table border=\"1\" class=\"dataframe\">\n",
              "  <thead>\n",
              "    <tr style=\"text-align: right;\">\n",
              "      <th></th>\n",
              "      <th>country</th>\n",
              "      <th>description</th>\n",
              "      <th>points</th>\n",
              "      <th>price</th>\n",
              "      <th>variety</th>\n",
              "      <th>winery</th>\n",
              "    </tr>\n",
              "  </thead>\n",
              "  <tbody>\n",
              "    <tr>\n",
              "      <th>0</th>\n",
              "      <td>Italy</td>\n",
              "      <td>Aromas include tropical fruit, broom, brimston...</td>\n",
              "      <td>87</td>\n",
              "      <td>NaN</td>\n",
              "      <td>White Blend</td>\n",
              "      <td>Nicosia</td>\n",
              "    </tr>\n",
              "    <tr>\n",
              "      <th>1</th>\n",
              "      <td>Portugal</td>\n",
              "      <td>This is ripe and fruity, a wine that is smooth...</td>\n",
              "      <td>87</td>\n",
              "      <td>15.0</td>\n",
              "      <td>Portuguese Red</td>\n",
              "      <td>Quinta dos Avidagos</td>\n",
              "    </tr>\n",
              "    <tr>\n",
              "      <th>2</th>\n",
              "      <td>US</td>\n",
              "      <td>Tart and snappy, the flavors of lime flesh and...</td>\n",
              "      <td>87</td>\n",
              "      <td>14.0</td>\n",
              "      <td>Pinot Gris</td>\n",
              "      <td>Rainstorm</td>\n",
              "    </tr>\n",
              "    <tr>\n",
              "      <th>3</th>\n",
              "      <td>US</td>\n",
              "      <td>Pineapple rind, lemon pith and orange blossom ...</td>\n",
              "      <td>87</td>\n",
              "      <td>13.0</td>\n",
              "      <td>Riesling</td>\n",
              "      <td>St. Julian</td>\n",
              "    </tr>\n",
              "    <tr>\n",
              "      <th>4</th>\n",
              "      <td>US</td>\n",
              "      <td>Much like the regular bottling from 2012, this...</td>\n",
              "      <td>87</td>\n",
              "      <td>65.0</td>\n",
              "      <td>Pinot Noir</td>\n",
              "      <td>Sweet Cheeks</td>\n",
              "    </tr>\n",
              "  </tbody>\n",
              "</table>\n",
              "</div>\n",
              "    <div class=\"colab-df-buttons\">\n",
              "\n",
              "  <div class=\"colab-df-container\">\n",
              "    <button class=\"colab-df-convert\" onclick=\"convertToInteractive('df-c914d314-1899-42e6-989f-d7db9daabd59')\"\n",
              "            title=\"Convert this dataframe to an interactive table.\"\n",
              "            style=\"display:none;\">\n",
              "\n",
              "  <svg xmlns=\"http://www.w3.org/2000/svg\" height=\"24px\" viewBox=\"0 -960 960 960\">\n",
              "    <path d=\"M120-120v-720h720v720H120Zm60-500h600v-160H180v160Zm220 220h160v-160H400v160Zm0 220h160v-160H400v160ZM180-400h160v-160H180v160Zm440 0h160v-160H620v160ZM180-180h160v-160H180v160Zm440 0h160v-160H620v160Z\"/>\n",
              "  </svg>\n",
              "    </button>\n",
              "\n",
              "  <style>\n",
              "    .colab-df-container {\n",
              "      display:flex;\n",
              "      gap: 12px;\n",
              "    }\n",
              "\n",
              "    .colab-df-convert {\n",
              "      background-color: #E8F0FE;\n",
              "      border: none;\n",
              "      border-radius: 50%;\n",
              "      cursor: pointer;\n",
              "      display: none;\n",
              "      fill: #1967D2;\n",
              "      height: 32px;\n",
              "      padding: 0 0 0 0;\n",
              "      width: 32px;\n",
              "    }\n",
              "\n",
              "    .colab-df-convert:hover {\n",
              "      background-color: #E2EBFA;\n",
              "      box-shadow: 0px 1px 2px rgba(60, 64, 67, 0.3), 0px 1px 3px 1px rgba(60, 64, 67, 0.15);\n",
              "      fill: #174EA6;\n",
              "    }\n",
              "\n",
              "    .colab-df-buttons div {\n",
              "      margin-bottom: 4px;\n",
              "    }\n",
              "\n",
              "    [theme=dark] .colab-df-convert {\n",
              "      background-color: #3B4455;\n",
              "      fill: #D2E3FC;\n",
              "    }\n",
              "\n",
              "    [theme=dark] .colab-df-convert:hover {\n",
              "      background-color: #434B5C;\n",
              "      box-shadow: 0px 1px 3px 1px rgba(0, 0, 0, 0.15);\n",
              "      filter: drop-shadow(0px 1px 2px rgba(0, 0, 0, 0.3));\n",
              "      fill: #FFFFFF;\n",
              "    }\n",
              "  </style>\n",
              "\n",
              "    <script>\n",
              "      const buttonEl =\n",
              "        document.querySelector('#df-c914d314-1899-42e6-989f-d7db9daabd59 button.colab-df-convert');\n",
              "      buttonEl.style.display =\n",
              "        google.colab.kernel.accessAllowed ? 'block' : 'none';\n",
              "\n",
              "      async function convertToInteractive(key) {\n",
              "        const element = document.querySelector('#df-c914d314-1899-42e6-989f-d7db9daabd59');\n",
              "        const dataTable =\n",
              "          await google.colab.kernel.invokeFunction('convertToInteractive',\n",
              "                                                    [key], {});\n",
              "        if (!dataTable) return;\n",
              "\n",
              "        const docLinkHtml = 'Like what you see? Visit the ' +\n",
              "          '<a target=\"_blank\" href=https://colab.research.google.com/notebooks/data_table.ipynb>data table notebook</a>'\n",
              "          + ' to learn more about interactive tables.';\n",
              "        element.innerHTML = '';\n",
              "        dataTable['output_type'] = 'display_data';\n",
              "        await google.colab.output.renderOutput(dataTable, element);\n",
              "        const docLink = document.createElement('div');\n",
              "        docLink.innerHTML = docLinkHtml;\n",
              "        element.appendChild(docLink);\n",
              "      }\n",
              "    </script>\n",
              "  </div>\n",
              "\n",
              "\n",
              "<div id=\"df-e4c03fac-79a6-4e7c-b8e4-7cb078c74fb8\">\n",
              "  <button class=\"colab-df-quickchart\" onclick=\"quickchart('df-e4c03fac-79a6-4e7c-b8e4-7cb078c74fb8')\"\n",
              "            title=\"Suggest charts\"\n",
              "            style=\"display:none;\">\n",
              "\n",
              "<svg xmlns=\"http://www.w3.org/2000/svg\" height=\"24px\"viewBox=\"0 0 24 24\"\n",
              "     width=\"24px\">\n",
              "    <g>\n",
              "        <path d=\"M19 3H5c-1.1 0-2 .9-2 2v14c0 1.1.9 2 2 2h14c1.1 0 2-.9 2-2V5c0-1.1-.9-2-2-2zM9 17H7v-7h2v7zm4 0h-2V7h2v10zm4 0h-2v-4h2v4z\"/>\n",
              "    </g>\n",
              "</svg>\n",
              "  </button>\n",
              "\n",
              "<style>\n",
              "  .colab-df-quickchart {\n",
              "      --bg-color: #E8F0FE;\n",
              "      --fill-color: #1967D2;\n",
              "      --hover-bg-color: #E2EBFA;\n",
              "      --hover-fill-color: #174EA6;\n",
              "      --disabled-fill-color: #AAA;\n",
              "      --disabled-bg-color: #DDD;\n",
              "  }\n",
              "\n",
              "  [theme=dark] .colab-df-quickchart {\n",
              "      --bg-color: #3B4455;\n",
              "      --fill-color: #D2E3FC;\n",
              "      --hover-bg-color: #434B5C;\n",
              "      --hover-fill-color: #FFFFFF;\n",
              "      --disabled-bg-color: #3B4455;\n",
              "      --disabled-fill-color: #666;\n",
              "  }\n",
              "\n",
              "  .colab-df-quickchart {\n",
              "    background-color: var(--bg-color);\n",
              "    border: none;\n",
              "    border-radius: 50%;\n",
              "    cursor: pointer;\n",
              "    display: none;\n",
              "    fill: var(--fill-color);\n",
              "    height: 32px;\n",
              "    padding: 0;\n",
              "    width: 32px;\n",
              "  }\n",
              "\n",
              "  .colab-df-quickchart:hover {\n",
              "    background-color: var(--hover-bg-color);\n",
              "    box-shadow: 0 1px 2px rgba(60, 64, 67, 0.3), 0 1px 3px 1px rgba(60, 64, 67, 0.15);\n",
              "    fill: var(--button-hover-fill-color);\n",
              "  }\n",
              "\n",
              "  .colab-df-quickchart-complete:disabled,\n",
              "  .colab-df-quickchart-complete:disabled:hover {\n",
              "    background-color: var(--disabled-bg-color);\n",
              "    fill: var(--disabled-fill-color);\n",
              "    box-shadow: none;\n",
              "  }\n",
              "\n",
              "  .colab-df-spinner {\n",
              "    border: 2px solid var(--fill-color);\n",
              "    border-color: transparent;\n",
              "    border-bottom-color: var(--fill-color);\n",
              "    animation:\n",
              "      spin 1s steps(1) infinite;\n",
              "  }\n",
              "\n",
              "  @keyframes spin {\n",
              "    0% {\n",
              "      border-color: transparent;\n",
              "      border-bottom-color: var(--fill-color);\n",
              "      border-left-color: var(--fill-color);\n",
              "    }\n",
              "    20% {\n",
              "      border-color: transparent;\n",
              "      border-left-color: var(--fill-color);\n",
              "      border-top-color: var(--fill-color);\n",
              "    }\n",
              "    30% {\n",
              "      border-color: transparent;\n",
              "      border-left-color: var(--fill-color);\n",
              "      border-top-color: var(--fill-color);\n",
              "      border-right-color: var(--fill-color);\n",
              "    }\n",
              "    40% {\n",
              "      border-color: transparent;\n",
              "      border-right-color: var(--fill-color);\n",
              "      border-top-color: var(--fill-color);\n",
              "    }\n",
              "    60% {\n",
              "      border-color: transparent;\n",
              "      border-right-color: var(--fill-color);\n",
              "    }\n",
              "    80% {\n",
              "      border-color: transparent;\n",
              "      border-right-color: var(--fill-color);\n",
              "      border-bottom-color: var(--fill-color);\n",
              "    }\n",
              "    90% {\n",
              "      border-color: transparent;\n",
              "      border-bottom-color: var(--fill-color);\n",
              "    }\n",
              "  }\n",
              "</style>\n",
              "\n",
              "  <script>\n",
              "    async function quickchart(key) {\n",
              "      const quickchartButtonEl =\n",
              "        document.querySelector('#' + key + ' button');\n",
              "      quickchartButtonEl.disabled = true;  // To prevent multiple clicks.\n",
              "      quickchartButtonEl.classList.add('colab-df-spinner');\n",
              "      try {\n",
              "        const charts = await google.colab.kernel.invokeFunction(\n",
              "            'suggestCharts', [key], {});\n",
              "      } catch (error) {\n",
              "        console.error('Error during call to suggestCharts:', error);\n",
              "      }\n",
              "      quickchartButtonEl.classList.remove('colab-df-spinner');\n",
              "      quickchartButtonEl.classList.add('colab-df-quickchart-complete');\n",
              "    }\n",
              "    (() => {\n",
              "      let quickchartButtonEl =\n",
              "        document.querySelector('#df-e4c03fac-79a6-4e7c-b8e4-7cb078c74fb8 button');\n",
              "      quickchartButtonEl.style.display =\n",
              "        google.colab.kernel.accessAllowed ? 'block' : 'none';\n",
              "    })();\n",
              "  </script>\n",
              "</div>\n",
              "\n",
              "    </div>\n",
              "  </div>\n"
            ],
            "application/vnd.google.colaboratory.intrinsic+json": {
              "type": "dataframe",
              "variable_name": "df"
            }
          },
          "metadata": {},
          "execution_count": 10
        }
      ]
    },
    {
      "cell_type": "markdown",
      "source": [
        "### Histogram plot"
      ],
      "metadata": {
        "id": "j19Xo9qCwNkj"
      }
    },
    {
      "cell_type": "code",
      "source": [
        "plt.hist(df.points, bins=20,color='blue')\n",
        "plt.title(\"Points histogram\")\n",
        "plt.ylabel(\"N\")\n",
        "plt.xlabel(\"Points\")\n",
        "plt.show();"
      ],
      "metadata": {
        "colab": {
          "base_uri": "https://localhost:8080/",
          "height": 472
        },
        "id": "DHaN4e9nvNO7",
        "outputId": "a53c72eb-a500-4981-b379-040ded67e815"
      },
      "execution_count": 11,
      "outputs": [
        {
          "output_type": "display_data",
          "data": {
            "text/plain": [
              "<Figure size 640x480 with 1 Axes>"
            ],
            "image/png": "[encoded data removed]"
          },
          "metadata": {}
        }
      ]
    },
    {
      "cell_type": "markdown",
      "source": [
        "Summary:\n",
        "* The goal of this classification task is to classify the \"points\" into a low tier and high tier."
      ],
      "metadata": {
        "id": "FSOFE0Knwtxf"
      }
    },
    {
      "cell_type": "markdown",
      "source": [
        "### Feature Engineering\n",
        "* Create a boolean mask to filter df for wine points >= 90 and cast as integer."
      ],
      "metadata": {
        "id": "iDpq40Gg4Vzn"
      }
    },
    {
      "cell_type": "code",
      "source": [
        "df[\"label\"] = (df.points >= 90).astype(int) #map to 0 or 1\n",
        "df = df[[\"description\",\"label\"]]"
      ],
      "metadata": {
        "id": "5Pn_KkopwXIK"
      },
      "execution_count": 12,
      "outputs": []
    },
    {
      "cell_type": "code",
      "source": [
        "## tail\n",
        "df.tail()"
      ],
      "metadata": {
        "colab": {
          "base_uri": "https://localhost:8080/",
          "height": 206
        },
        "id": "d_8r6cQr4Syy",
        "outputId": "c4d721f9-4b97-403b-cce4-7ab8a0acd65c"
      },
      "execution_count": 13,
      "outputs": [
        {
          "output_type": "execute_result",
          "data": {
            "text/plain": [
              "                                              description  label\n",
              "129966  Notes of honeysuckle and cantaloupe sweeten th...      1\n",
              "129967  Citation is given as much as a decade of bottl...      1\n",
              "129968  Well-drained gravel soil gives this wine its c...      1\n",
              "129969  A dry style of Pinot Gris, this is crisp with ...      1\n",
              "129970  Big, rich and off-dry, this is powered by inte...      1"
            ],
            "text/html": [
              "\n",
              "  <div id=\"df-0a9f7795-3692-4759-8783-eaeb7b1f755b\" class=\"colab-df-container\">\n",
              "    <div>\n",
              "<style scoped>\n",
              "    .dataframe tbody tr th:only-of-type {\n",
              "        vertical-align: middle;\n",
              "    }\n",
              "\n",
              "    .dataframe tbody tr th {\n",
              "        vertical-align: top;\n",
              "    }\n",
              "\n",
              "    .dataframe thead th {\n",
              "        text-align: right;\n",
              "    }\n",
              "</style>\n",
              "<table border=\"1\" class=\"dataframe\">\n",
              "  <thead>\n",
              "    <tr style=\"text-align: right;\">\n",
              "      <th></th>\n",
              "      <th>description</th>\n",
              "      <th>label</th>\n",
              "    </tr>\n",
              "  </thead>\n",
              "  <tbody>\n",
              "    <tr>\n",
              "      <th>129966</th>\n",
              "      <td>Notes of honeysuckle and cantaloupe sweeten th...</td>\n",
              "      <td>1</td>\n",
              "    </tr>\n",
              "    <tr>\n",
              "      <th>129967</th>\n",
              "      <td>Citation is given as much as a decade of bottl...</td>\n",
              "      <td>1</td>\n",
              "    </tr>\n",
              "    <tr>\n",
              "      <th>129968</th>\n",
              "      <td>Well-drained gravel soil gives this wine its c...</td>\n",
              "      <td>1</td>\n",
              "    </tr>\n",
              "    <tr>\n",
              "      <th>129969</th>\n",
              "      <td>A dry style of Pinot Gris, this is crisp with ...</td>\n",
              "      <td>1</td>\n",
              "    </tr>\n",
              "    <tr>\n",
              "      <th>129970</th>\n",
              "      <td>Big, rich and off-dry, this is powered by inte...</td>\n",
              "      <td>1</td>\n",
              "    </tr>\n",
              "  </tbody>\n",
              "</table>\n",
              "</div>\n",
              "    <div class=\"colab-df-buttons\">\n",
              "\n",
              "  <div class=\"colab-df-container\">\n",
              "    <button class=\"colab-df-convert\" onclick=\"convertToInteractive('df-0a9f7795-3692-4759-8783-eaeb7b1f755b')\"\n",
              "            title=\"Convert this dataframe to an interactive table.\"\n",
              "            style=\"display:none;\">\n",
              "\n",
              "  <svg xmlns=\"http://www.w3.org/2000/svg\" height=\"24px\" viewBox=\"0 -960 960 960\">\n",
              "    <path d=\"M120-120v-720h720v720H120Zm60-500h600v-160H180v160Zm220 220h160v-160H400v160Zm0 220h160v-160H400v160ZM180-400h160v-160H180v160Zm440 0h160v-160H620v160ZM180-180h160v-160H180v160Zm440 0h160v-160H620v160Z\"/>\n",
              "  </svg>\n",
              "    </button>\n",
              "\n",
              "  <style>\n",
              "    .colab-df-container {\n",
              "      display:flex;\n",
              "      gap: 12px;\n",
              "    }\n",
              "\n",
              "    .colab-df-convert {\n",
              "      background-color: #E8F0FE;\n",
              "      border: none;\n",
              "      border-radius: 50%;\n",
              "      cursor: pointer;\n",
              "      display: none;\n",
              "      fill: #1967D2;\n",
              "      height: 32px;\n",
              "      padding: 0 0 0 0;\n",
              "      width: 32px;\n",
              "    }\n",
              "\n",
              "    .colab-df-convert:hover {\n",
              "      background-color: #E2EBFA;\n",
              "      box-shadow: 0px 1px 2px rgba(60, 64, 67, 0.3), 0px 1px 3px 1px rgba(60, 64, 67, 0.15);\n",
              "      fill: #174EA6;\n",
              "    }\n",
              "\n",
              "    .colab-df-buttons div {\n",
              "      margin-bottom: 4px;\n",
              "    }\n",
              "\n",
              "    [theme=dark] .colab-df-convert {\n",
              "      background-color: #3B4455;\n",
              "      fill: #D2E3FC;\n",
              "    }\n",
              "\n",
              "    [theme=dark] .colab-df-convert:hover {\n",
              "      background-color: #434B5C;\n",
              "      box-shadow: 0px 1px 3px 1px rgba(0, 0, 0, 0.15);\n",
              "      filter: drop-shadow(0px 1px 2px rgba(0, 0, 0, 0.3));\n",
              "      fill: #FFFFFF;\n",
              "    }\n",
              "  </style>\n",
              "\n",
              "    <script>\n",
              "      const buttonEl =\n",
              "        document.querySelector('#df-0a9f7795-3692-4759-8783-eaeb7b1f755b button.colab-df-convert');\n",
              "      buttonEl.style.display =\n",
              "        google.colab.kernel.accessAllowed ? 'block' : 'none';\n",
              "\n",
              "      async function convertToInteractive(key) {\n",
              "        const element = document.querySelector('#df-0a9f7795-3692-4759-8783-eaeb7b1f755b');\n",
              "        const dataTable =\n",
              "          await google.colab.kernel.invokeFunction('convertToInteractive',\n",
              "                                                    [key], {});\n",
              "        if (!dataTable) return;\n",
              "\n",
              "        const docLinkHtml = 'Like what you see? Visit the ' +\n",
              "          '<a target=\"_blank\" href=https://colab.research.google.com/notebooks/data_table.ipynb>data table notebook</a>'\n",
              "          + ' to learn more about interactive tables.';\n",
              "        element.innerHTML = '';\n",
              "        dataTable['output_type'] = 'display_data';\n",
              "        await google.colab.output.renderOutput(dataTable, element);\n",
              "        const docLink = document.createElement('div');\n",
              "        docLink.innerHTML = docLinkHtml;\n",
              "        element.appendChild(docLink);\n",
              "      }\n",
              "    </script>\n",
              "  </div>\n",
              "\n",
              "\n",
              "<div id=\"df-8a590fc2-9218-41b3-acae-6bf34fdcdaa5\">\n",
              "  <button class=\"colab-df-quickchart\" onclick=\"quickchart('df-8a590fc2-9218-41b3-acae-6bf34fdcdaa5')\"\n",
              "            title=\"Suggest charts\"\n",
              "            style=\"display:none;\">\n",
              "\n",
              "<svg xmlns=\"http://www.w3.org/2000/svg\" height=\"24px\"viewBox=\"0 0 24 24\"\n",
              "     width=\"24px\">\n",
              "    <g>\n",
              "        <path d=\"M19 3H5c-1.1 0-2 .9-2 2v14c0 1.1.9 2 2 2h14c1.1 0 2-.9 2-2V5c0-1.1-.9-2-2-2zM9 17H7v-7h2v7zm4 0h-2V7h2v10zm4 0h-2v-4h2v4z\"/>\n",
              "    </g>\n",
              "</svg>\n",
              "  </button>\n",
              "\n",
              "<style>\n",
              "  .colab-df-quickchart {\n",
              "      --bg-color: #E8F0FE;\n",
              "      --fill-color: #1967D2;\n",
              "      --hover-bg-color: #E2EBFA;\n",
              "      --hover-fill-color: #174EA6;\n",
              "      --disabled-fill-color: #AAA;\n",
              "      --disabled-bg-color: #DDD;\n",
              "  }\n",
              "\n",
              "  [theme=dark] .colab-df-quickchart {\n",
              "      --bg-color: #3B4455;\n",
              "      --fill-color: #D2E3FC;\n",
              "      --hover-bg-color: #434B5C;\n",
              "      --hover-fill-color: #FFFFFF;\n",
              "      --disabled-bg-color: #3B4455;\n",
              "      --disabled-fill-color: #666;\n",
              "  }\n",
              "\n",
              "  .colab-df-quickchart {\n",
              "    background-color: var(--bg-color);\n",
              "    border: none;\n",
              "    border-radius: 50%;\n",
              "    cursor: pointer;\n",
              "    display: none;\n",
              "    fill: var(--fill-color);\n",
              "    height: 32px;\n",
              "    padding: 0;\n",
              "    width: 32px;\n",
              "  }\n",
              "\n",
              "  .colab-df-quickchart:hover {\n",
              "    background-color: var(--hover-bg-color);\n",
              "    box-shadow: 0 1px 2px rgba(60, 64, 67, 0.3), 0 1px 3px 1px rgba(60, 64, 67, 0.15);\n",
              "    fill: var(--button-hover-fill-color);\n",
              "  }\n",
              "\n",
              "  .colab-df-quickchart-complete:disabled,\n",
              "  .colab-df-quickchart-complete:disabled:hover {\n",
              "    background-color: var(--disabled-bg-color);\n",
              "    fill: var(--disabled-fill-color);\n",
              "    box-shadow: none;\n",
              "  }\n",
              "\n",
              "  .colab-df-spinner {\n",
              "    border: 2px solid var(--fill-color);\n",
              "    border-color: transparent;\n",
              "    border-bottom-color: var(--fill-color);\n",
              "    animation:\n",
              "      spin 1s steps(1) infinite;\n",
              "  }\n",
              "\n",
              "  @keyframes spin {\n",
              "    0% {\n",
              "      border-color: transparent;\n",
              "      border-bottom-color: var(--fill-color);\n",
              "      border-left-color: var(--fill-color);\n",
              "    }\n",
              "    20% {\n",
              "      border-color: transparent;\n",
              "      border-left-color: var(--fill-color);\n",
              "      border-top-color: var(--fill-color);\n",
              "    }\n",
              "    30% {\n",
              "      border-color: transparent;\n",
              "      border-left-color: var(--fill-color);\n",
              "      border-top-color: var(--fill-color);\n",
              "      border-right-color: var(--fill-color);\n",
              "    }\n",
              "    40% {\n",
              "      border-color: transparent;\n",
              "      border-right-color: var(--fill-color);\n",
              "      border-top-color: var(--fill-color);\n",
              "    }\n",
              "    60% {\n",
              "      border-color: transparent;\n",
              "      border-right-color: var(--fill-color);\n",
              "    }\n",
              "    80% {\n",
              "      border-color: transparent;\n",
              "      border-right-color: var(--fill-color);\n",
              "      border-bottom-color: var(--fill-color);\n",
              "    }\n",
              "    90% {\n",
              "      border-color: transparent;\n",
              "      border-bottom-color: var(--fill-color);\n",
              "    }\n",
              "  }\n",
              "</style>\n",
              "\n",
              "  <script>\n",
              "    async function quickchart(key) {\n",
              "      const quickchartButtonEl =\n",
              "        document.querySelector('#' + key + ' button');\n",
              "      quickchartButtonEl.disabled = true;  // To prevent multiple clicks.\n",
              "      quickchartButtonEl.classList.add('colab-df-spinner');\n",
              "      try {\n",
              "        const charts = await google.colab.kernel.invokeFunction(\n",
              "            'suggestCharts', [key], {});\n",
              "      } catch (error) {\n",
              "        console.error('Error during call to suggestCharts:', error);\n",
              "      }\n",
              "      quickchartButtonEl.classList.remove('colab-df-spinner');\n",
              "      quickchartButtonEl.classList.add('colab-df-quickchart-complete');\n",
              "    }\n",
              "    (() => {\n",
              "      let quickchartButtonEl =\n",
              "        document.querySelector('#df-8a590fc2-9218-41b3-acae-6bf34fdcdaa5 button');\n",
              "      quickchartButtonEl.style.display =\n",
              "        google.colab.kernel.accessAllowed ? 'block' : 'none';\n",
              "    })();\n",
              "  </script>\n",
              "</div>\n",
              "\n",
              "    </div>\n",
              "  </div>\n"
            ],
            "application/vnd.google.colaboratory.intrinsic+json": {
              "type": "dataframe",
              "summary": "{\n  \"name\": \"df\",\n  \"rows\": 5,\n  \"fields\": [\n    {\n      \"column\": \"description\",\n      \"properties\": {\n        \"dtype\": \"string\",\n        \"num_unique_values\": 5,\n        \"samples\": [\n          \"Citation is given as much as a decade of bottle age prior to release, which means it is pre-cellared and drinking at its peak. Baked cherry, cocoa and coconut flavors combine gracefully, with soft, secondary fruit compote highlights.\",\n          \"Big, rich and off-dry, this is powered by intense spiciness and rounded texture. Lychees dominate the fruit profile, giving an opulent feel to the aftertaste. Drink now.\",\n          \"Well-drained gravel soil gives this wine its crisp and dry character. It is ripe and fruity, although the spice is subdued in favor of a more serious structure. This is a wine to age for a couple of years, so drink from 2017.\"\n        ],\n        \"semantic_type\": \"\",\n        \"description\": \"\"\n      }\n    },\n    {\n      \"column\": \"label\",\n      \"properties\": {\n        \"dtype\": \"number\",\n        \"std\": 0,\n        \"min\": 1,\n        \"max\": 1,\n        \"num_unique_values\": 1,\n        \"samples\": [\n          1\n        ],\n        \"semantic_type\": \"\",\n        \"description\": \"\"\n      }\n    }\n  ]\n}"
            }
          },
          "metadata": {},
          "execution_count": 13
        }
      ]
    },
    {
      "cell_type": "code",
      "source": [
        "## lets look at labels\n",
        "df.label.value_counts()"
      ],
      "metadata": {
        "colab": {
          "base_uri": "https://localhost:8080/"
        },
        "id": "ZkKZLU7_4UR5",
        "outputId": "da48b999-abb3-4c67-c38f-5353eabb526c"
      },
      "execution_count": 15,
      "outputs": [
        {
          "output_type": "execute_result",
          "data": {
            "text/plain": [
              "label\n",
              "0    80926\n",
              "1    49045\n",
              "Name: count, dtype: int64"
            ]
          },
          "metadata": {},
          "execution_count": 15
        }
      ]
    },
    {
      "cell_type": "markdown",
      "source": [
        "Quick note: It is obvious the data is imbalanced here with twice as many 0 as there are 1's."
      ],
      "metadata": {
        "id": "NKQp7t2j47og"
      }
    },
    {
      "cell_type": "markdown",
      "source": [
        "## Pre-processing and prepare for modeling\n",
        "* Create train-test-val split\n",
        "    * 80% train and rest for test-val"
      ],
      "metadata": {
        "id": "An3Al6bx5EJp"
      }
    },
    {
      "cell_type": "code",
      "source": [
        "# draw random samples\n",
        "train, val, test = np.split(df.sample(frac=1), [int(0.8*len(df)), int(0.9*len(df))])"
      ],
      "metadata": {
        "id": "WNBvq4FU433_"
      },
      "execution_count": 16,
      "outputs": []
    },
    {
      "cell_type": "code",
      "source": [
        "## print samples for train, val test\n",
        "print(f\"Samples for train split: {len(train)}\")\n",
        "print(f\"Samples for val split: {len(val)}\")\n",
        "print(f\"Samples for test split: {len(test)}\")"
      ],
      "metadata": {
        "colab": {
          "base_uri": "https://localhost:8080/"
        },
        "id": "JlFml2nQ5kEj",
        "outputId": "d4d48209-5de1-49ec-a133-fc9733e9a319"
      },
      "execution_count": 17,
      "outputs": [
        {
          "output_type": "stream",
          "name": "stdout",
          "text": [
            "Samples for train split: 103976\n",
            "Samples for val split: 12997\n",
            "Samples for test split: 12998\n"
          ]
        }
      ]
    },
    {
      "cell_type": "markdown",
      "source": [
        "## Tensorflow Function for input pipeline\n",
        "* Using pre-built function from Tensorflow hub to `shuffle and batch` input data.\n",
        "* Source: https://www.tensorflow.org/tutorials/structured_data/preprocessing_layers"
      ],
      "metadata": {
        "id": "6I_jnIzH6NQd"
      }
    },
    {
      "cell_type": "code",
      "source": [
        "## create a utility function that converts each training, validation, and test set DataFrame into a tf.data.Dataset,\n",
        "## then shuffles and batches the data.\n",
        "def df_to_dataset(dataframe, shuffle=True, batch_size=1024): ##change batch_size from 32 to larger -> dataset is larger\n",
        "  df = dataframe.copy()\n",
        "  labels = df.pop('label')\n",
        "  df = df[\"description\"] # change this to just 'description' column {key: value.values[:,tf.newaxis] for key, value in dataframe.items()}\n",
        "  ds = tf.data.Dataset.from_tensor_slices((df, labels))     #change from this ((dict(df), labels))\n",
        "  if shuffle:\n",
        "    ds = ds.shuffle(buffer_size=len(dataframe))\n",
        "  ds = ds.batch(batch_size)\n",
        "  ds = ds.prefetch(tf.data.AUTOTUNE) ##instead of batch_size use AUTOTUNE\n",
        "  return ds"
      ],
      "metadata": {
        "id": "pt2fgr5j5zGZ"
      },
      "execution_count": 40,
      "outputs": []
    },
    {
      "cell_type": "markdown",
      "source": [
        "### Now use the \"shuffle and batch\" function above (`df_to_dataset`) on our data"
      ],
      "metadata": {
        "id": "MBJtofHF7wSw"
      }
    },
    {
      "cell_type": "code",
      "source": [
        "train_data = df_to_dataset(train)\n",
        "val_data = df_to_dataset(val)\n",
        "test_data = df_to_dataset(test)"
      ],
      "metadata": {
        "id": "-UPSl2kt7j2R"
      },
      "execution_count": 65,
      "outputs": []
    },
    {
      "cell_type": "code",
      "source": [
        "## look at train_data\n",
        "list(train_data)[0]"
      ],
      "metadata": {
        "colab": {
          "base_uri": "https://localhost:8080/"
        },
        "id": "R_582eCj7vur",
        "outputId": "248820a4-9cf0-47bc-c588-bbd2e1a4ad1e"
      },
      "execution_count": 66,
      "outputs": [
        {
          "output_type": "execute_result",
          "data": {
            "text/plain": [
              "(<tf.Tensor: shape=(1024,), dtype=string, numpy=\n",
              " array([b'The extreme side of the grape variety comes out in this boisterous wine that smells like lemon and garlic, tastes like gooseberries and grapefruit, and has that vibrant, crisp texture that goes great with seafood.',\n",
              "        b'With new wood dominating this still young wine, it is concentrated and full bodied, packed with firm tannins and dark fruit. There is a brooding character, the wood and tannins still right up front. Give this structured wine at least five years.',\n",
              "        b'A longtime proponent of Rh\\xc3\\xb4ne blends, this producer combines 60% Grenache, 23% Mourv\\xc3\\xa8dre and 17% Syrah to full-bodied, ripely robust effect, all from estate-grown fruit. Smoky, charred oak and spicy acidity wrap around lush blackberry, cherry and tar, with plenty of grip to show on the finish.',\n",
              "        ...,\n",
              "        b'This is a structured wine, probably because of the Touriga Nacional in the blend. That also gives a perfumed edge to this ripe, full wine with its juicy red fruit acidity. It is fruity and will be ready to drink from late 2016.',\n",
              "        b\"Earthy berry aromas are typical of good Carmen\\xc3\\xa8re, meaning they are lightly herbal, spicy and a touch savory. This is a ripe specimen from a hot year, so it's plump and creamy in weight. Flavors of blackberry, fig and chocolate are lightly herbal, while the finish is smooth and generous.\",\n",
              "        b'Scents of Spanish broom, stone fruit and a whiff of wild herb lead the way on this vibrant, medium-bodied white. The bright palate offers green apple, lemon zest and white almond alongside tangy acidity.'],\n",
              "       dtype=object)>,\n",
              " <tf.Tensor: shape=(1024,), dtype=int64, numpy=array([0, 1, 1, ..., 0, 1, 0])>)"
            ]
          },
          "metadata": {},
          "execution_count": 66
        }
      ]
    },
    {
      "cell_type": "markdown",
      "source": [
        "We can see the tensor of strings and the corresponding labels."
      ],
      "metadata": {
        "id": "a0TQHmM68AOH"
      }
    },
    {
      "cell_type": "markdown",
      "source": [
        "## Embedding + Models from TF hub\n",
        "* Note: Kaggle is now part of Tensorflow models so we will use the starter code from there as directed by TF hub:\n",
        "* `import tensorflow_hub as hub`\n",
        "* `embed = hub.load(\"https://www.kaggle.com/models/google/nnlm/TensorFlow2/en-dim50/1\")`\n",
        "* `embeddings = embed([\"cat is on the mat\", \"dog is in the fog\"])`\n"
      ],
      "metadata": {
        "id": "trvDvzyS9DXc"
      }
    },
    {
      "cell_type": "code",
      "source": [
        "hub_layer = hub.KerasLayer(\"https://www.kaggle.com/models/google/nnlm/TensorFlow2/en-dim50/1\",\n",
        "                           input_shape=[], dtype=tf.string)\n",
        "\n"
      ],
      "metadata": {
        "id": "HQGQgSJA79vg"
      },
      "execution_count": 67,
      "outputs": []
    },
    {
      "cell_type": "markdown",
      "source": [
        "## Build a model"
      ],
      "metadata": {
        "id": "hx4KOxZ8_wrV"
      }
    },
    {
      "cell_type": "code",
      "source": [
        "model = tf.keras.Sequential()\n",
        "model.add(hub_layer) #first transformation is text to number\n",
        "model.add(tf.keras.layers.Dense(16, activation='relu'))\n",
        "model.add(tf.keras.layers.Dropout(0.4)) # add dropout nodes\n",
        "model.add(tf.keras.layers.Dense(16, activation='relu'))\n",
        "#model.add(tf.keras.layers.Dropout(0.4)) # add dropout nodes\n",
        "model.add(tf.keras.layers.Dense(1, activation='sigmoid'))"
      ],
      "metadata": {
        "id": "oKhIctBZ_qS5"
      },
      "execution_count": 154,
      "outputs": []
    },
    {
      "cell_type": "markdown",
      "source": [
        "## Compile model\n",
        "* The goal is binary classification thus we use `BinaryCrossEntropy()`"
      ],
      "metadata": {
        "id": "s-2-dR2UALfm"
      }
    },
    {
      "cell_type": "code",
      "source": [
        "model.compile(optimizer=tf.keras.optimizers.Adam(learning_rate=0.001),\n",
        "              loss=tf.keras.losses.BinaryCrossentropy(),\n",
        "              metrics=['accuracy'])"
      ],
      "metadata": {
        "id": "dwa_Tf6wAKSA"
      },
      "execution_count": 155,
      "outputs": []
    },
    {
      "cell_type": "markdown",
      "source": [
        "## Evaluate"
      ],
      "metadata": {
        "id": "c8kSFX3BAoaR"
      }
    },
    {
      "cell_type": "code",
      "source": [
        "## eval train_data\n",
        "model.evaluate(train_data)"
      ],
      "metadata": {
        "colab": {
          "base_uri": "https://localhost:8080/"
        },
        "id": "AMGI9XHkAlY6",
        "outputId": "99e54dc1-796f-4610-8cb2-649cffa62aa6"
      },
      "execution_count": 156,
      "outputs": [
        {
          "output_type": "stream",
          "name": "stdout",
          "text": [
            "102/102 [==============================] - 1s 9ms/step - loss: 0.6881 - accuracy: 0.5709\n"
          ]
        },
        {
          "output_type": "execute_result",
          "data": {
            "text/plain": [
              "[0.688056230545044, 0.5709298253059387]"
            ]
          },
          "metadata": {},
          "execution_count": 156
        }
      ]
    },
    {
      "cell_type": "code",
      "source": [
        "## eval validation data\n",
        "model.evaluate(val_data)"
      ],
      "metadata": {
        "colab": {
          "base_uri": "https://localhost:8080/"
        },
        "id": "UQ_t5CgVAskJ",
        "outputId": "4cb11666-d56c-4002-d1f7-0d930cbd0ca8"
      },
      "execution_count": 157,
      "outputs": [
        {
          "output_type": "stream",
          "name": "stdout",
          "text": [
            "13/13 [==============================] - 0s 9ms/step - loss: 0.6880 - accuracy: 0.5698\n"
          ]
        },
        {
          "output_type": "execute_result",
          "data": {
            "text/plain": [
              "[0.6879929900169373, 0.5698238015174866]"
            ]
          },
          "metadata": {},
          "execution_count": 157
        }
      ]
    },
    {
      "cell_type": "code",
      "source": [
        "history = model.fit(train_data, epochs=10, validation_data=val_data)"
      ],
      "metadata": {
        "colab": {
          "base_uri": "https://localhost:8080/"
        },
        "id": "ZbJpblvyAzI_",
        "outputId": "6427e2af-73aa-4f06-e0e9-583220fefd79"
      },
      "execution_count": 158,
      "outputs": [
        {
          "output_type": "stream",
          "name": "stdout",
          "text": [
            "Epoch 1/10\n",
            "102/102 [==============================] - 2s 11ms/step - loss: 0.6639 - accuracy: 0.6162 - val_loss: 0.6460 - val_accuracy: 0.6258\n",
            "Epoch 2/10\n",
            "102/102 [==============================] - 1s 11ms/step - loss: 0.6322 - accuracy: 0.6434 - val_loss: 0.6116 - val_accuracy: 0.6671\n",
            "Epoch 3/10\n",
            "102/102 [==============================] - 1s 11ms/step - loss: 0.6091 - accuracy: 0.6687 - val_loss: 0.5962 - val_accuracy: 0.6809\n",
            "Epoch 4/10\n",
            "102/102 [==============================] - 2s 16ms/step - loss: 0.5963 - accuracy: 0.6798 - val_loss: 0.5887 - val_accuracy: 0.6871\n",
            "Epoch 5/10\n",
            "102/102 [==============================] - 1s 11ms/step - loss: 0.5890 - accuracy: 0.6856 - val_loss: 0.5853 - val_accuracy: 0.6884\n",
            "Epoch 6/10\n",
            "102/102 [==============================] - 1s 11ms/step - loss: 0.5850 - accuracy: 0.6904 - val_loss: 0.5836 - val_accuracy: 0.6899\n",
            "Epoch 7/10\n",
            "102/102 [==============================] - 1s 11ms/step - loss: 0.5821 - accuracy: 0.6930 - val_loss: 0.5801 - val_accuracy: 0.6911\n",
            "Epoch 8/10\n",
            "102/102 [==============================] - 1s 10ms/step - loss: 0.5796 - accuracy: 0.6949 - val_loss: 0.5779 - val_accuracy: 0.6956\n",
            "Epoch 9/10\n",
            "102/102 [==============================] - 1s 11ms/step - loss: 0.5776 - accuracy: 0.6980 - val_loss: 0.5764 - val_accuracy: 0.6955\n",
            "Epoch 10/10\n",
            "102/102 [==============================] - 1s 11ms/step - loss: 0.5761 - accuracy: 0.6975 - val_loss: 0.5754 - val_accuracy: 0.6963\n"
          ]
        }
      ]
    },
    {
      "cell_type": "markdown",
      "source": [
        "## Plot model history"
      ],
      "metadata": {
        "id": "apeHv7DqB4SO"
      }
    },
    {
      "cell_type": "code",
      "source": [
        "## plot accuracy\n",
        "plt.plot(history.history['accuracy'], label=\"Training acc\")\n",
        "plt.plot(history.history['val_accuracy'], label=\"Validation acc\")\n",
        "plt.ylabel(\"Accuracy\")\n",
        "plt.xlabel(\"Epoch\")\n",
        "plt.title(\"Accuracy of model\")\n",
        "plt.legend([\"Accuracy\",\"Val_Accuracy\"],loc=\"upper right\")\n",
        "plt.show();"
      ],
      "metadata": {
        "colab": {
          "base_uri": "https://localhost:8080/",
          "height": 472
        },
        "id": "337z0AJ7BeVs",
        "outputId": "29188682-7b16-49b3-d214-98e8b15ae897"
      },
      "execution_count": 159,
      "outputs": [
        {
          "output_type": "display_data",
          "data": {
            "text/plain": [
              "<Figure size 640x480 with 1 Axes>"
            ],
            "image/png": "[encoded data removed]"
          },
          "metadata": {}
        }
      ]
    },
    {
      "cell_type": "code",
      "source": [
        "## plot loss\n",
        "plt.plot(history.history['loss'], label=\"Training loss\")\n",
        "plt.plot(history.history['val_loss'], label=\"Validation loss\")\n",
        "plt.ylabel(\"Loss\")\n",
        "plt.xlabel(\"Epoch\")\n",
        "plt.title(\"Model Loss\")\n",
        "plt.legend([\"Loss\",\"Val_Loss\"],loc=\"upper right\")\n",
        "plt.show();"
      ],
      "metadata": {
        "colab": {
          "base_uri": "https://localhost:8080/",
          "height": 472
        },
        "id": "lOv7KrFuCYkE",
        "outputId": "e36f3f0a-2cf8-43fd-81e4-2d7d26686bb7"
      },
      "execution_count": 160,
      "outputs": [
        {
          "output_type": "display_data",
          "data": {
            "text/plain": [
              "<Figure size 640x480 with 1 Axes>"
            ],
            "image/png": "[encoded data removed]"
          },
          "metadata": {}
        }
      ]
    },
    {
      "cell_type": "markdown",
      "source": [
        "Summary:\n",
        "* We first trained the neural network classifier without any hyperparameter tuning. We then added 2 dropout layers and I removed the 2nd dropout layer to get the above result.\n",
        "* We can see via the plots that the accuracy continues to decrease over the 10 epochs and may even converge and start leveling off at around 10 epochs. The loss was actually less for the validation set which means this model was better.\n",
        "* For the accuracy, it does appear to get more accurate as the epochs go up and the validation set is slightly less accurate than the training set which again shows us a better model without any overfitting."
      ],
      "metadata": {
        "id": "wjbGIPjxGvIL"
      }
    },
    {
      "cell_type": "markdown",
      "source": [
        "## Evaluate on test data"
      ],
      "metadata": {
        "id": "do8NNMIHJeUn"
      }
    },
    {
      "cell_type": "code",
      "source": [
        "model.evaluate(test_data)"
      ],
      "metadata": {
        "colab": {
          "base_uri": "https://localhost:8080/"
        },
        "id": "a_MTUHvXCwyR",
        "outputId": "3411f47d-beee-4089-80ad-d44517dee915"
      },
      "execution_count": 161,
      "outputs": [
        {
          "output_type": "stream",
          "name": "stdout",
          "text": [
            "13/13 [==============================] - 0s 28ms/step - loss: 0.5632 - accuracy: 0.7081\n"
          ]
        },
        {
          "output_type": "execute_result",
          "data": {
            "text/plain": [
              "[0.5631802678108215, 0.7081089615821838]"
            ]
          },
          "metadata": {},
          "execution_count": 161
        }
      ]
    },
    {
      "cell_type": "markdown",
      "source": [
        "The accuracy on the test set was actually better than both the training and val sets and the loss was also less."
      ],
      "metadata": {
        "id": "w-tVr05uJmYx"
      }
    },
    {
      "cell_type": "code",
      "source": [],
      "metadata": {
        "id": "OTJxshXkJg3u"
      },
      "execution_count": null,
      "outputs": []
    },
    {
      "cell_type": "markdown",
      "source": [
        "# LSTM custom model for text classification"
      ],
      "metadata": {
        "id": "N0dBBFXhJ3AG"
      }
    },
    {
      "cell_type": "code",
      "source": [
        "encoder = tf.keras.layers.TextVectorization(max_tokens=2000)\n",
        "encoder.adapt(train_data.map(lambda text, label: text))"
      ],
      "metadata": {
        "id": "PlpwkjCtJ41r"
      },
      "execution_count": 162,
      "outputs": []
    },
    {
      "cell_type": "code",
      "source": [
        "vocab = np.array(encoder.get_vocabulary())\n",
        "vocab[:20]"
      ],
      "metadata": {
        "colab": {
          "base_uri": "https://localhost:8080/"
        },
        "id": "tRroiR6tKOnf",
        "outputId": "23cbefd9-8222-4a25-a4c0-63fc367eafb3"
      },
      "execution_count": 163,
      "outputs": [
        {
          "output_type": "execute_result",
          "data": {
            "text/plain": [
              "array(['', '[UNK]', 'and', 'the', 'a', 'of', 'with', 'this', 'is', 'wine',\n",
              "       'flavors', 'in', 'it', 'to', 'its', 'on', 'fruit', 'aromas',\n",
              "       'palate', 'that'], dtype='<U17')"
            ]
          },
          "metadata": {},
          "execution_count": 163
        }
      ]
    },
    {
      "cell_type": "markdown",
      "source": [
        "We can see the first 20 from the vocabulary are seen above with the UNK tokens."
      ],
      "metadata": {
        "id": "JmtmCuTXKVsm"
      }
    },
    {
      "cell_type": "markdown",
      "source": [
        "## Create LSTM model"
      ],
      "metadata": {
        "id": "O7WZ9uofKaCz"
      }
    },
    {
      "cell_type": "code",
      "source": [
        "model = tf.keras.Sequential([\n",
        "    encoder,\n",
        "    tf.keras.layers.Embedding(\n",
        "        input_dim=len(encoder.get_vocabulary()),\n",
        "        output_dim=32,\n",
        "        mask_zero=True\n",
        "    ),\n",
        "    tf.keras.layers.LSTM(32),\n",
        "    tf.keras.layers.Dense(32, activation='relu'),\n",
        "    tf.keras.layers.Dense(0.4),\n",
        "    tf.keras.layers.Dense(1, activation='sigmoid')\n",
        "])"
      ],
      "metadata": {
        "id": "YO6eAt7IKUwT"
      },
      "execution_count": 164,
      "outputs": []
    },
    {
      "cell_type": "markdown",
      "source": [
        "### Compile LSTM model"
      ],
      "metadata": {
        "id": "_6w6YIy1LBVF"
      }
    },
    {
      "cell_type": "code",
      "source": [
        "model.compile(optimizer=tf.keras.optimizers.Adam(learning_rate=0.001),\n",
        "              loss=tf.keras.losses.BinaryCrossentropy(),\n",
        "              metrics=['accuracy'])"
      ],
      "metadata": {
        "id": "s3g6IBQsK-Ig"
      },
      "execution_count": 165,
      "outputs": []
    },
    {
      "cell_type": "markdown",
      "source": [
        "### Evaluate on train data"
      ],
      "metadata": {
        "id": "rLnIUGHHLO2w"
      }
    },
    {
      "cell_type": "code",
      "source": [
        "model.evaluate(train_data)\n",
        "model.evaluate(val_data)"
      ],
      "metadata": {
        "colab": {
          "base_uri": "https://localhost:8080/"
        },
        "id": "3VNU77pQLOIb",
        "outputId": "92fc2e5f-41e8-4bef-d285-8c9372e7e164"
      },
      "execution_count": 167,
      "outputs": [
        {
          "output_type": "stream",
          "name": "stdout",
          "text": [
            "102/102 [==============================] - 9s 86ms/step - loss: 0.6931 - accuracy: 0.6216\n",
            "13/13 [==============================] - 2s 133ms/step - loss: 0.6931 - accuracy: 0.6253\n"
          ]
        },
        {
          "output_type": "execute_result",
          "data": {
            "text/plain": [
              "[0.6931475400924683, 0.6252981424331665]"
            ]
          },
          "metadata": {},
          "execution_count": 167
        }
      ]
    },
    {
      "cell_type": "markdown",
      "source": [
        "### Train LSTM model"
      ],
      "metadata": {
        "id": "rWhspREjLcXa"
      }
    },
    {
      "cell_type": "code",
      "source": [
        "history = model.fit(train_data, epochs=5, validation_data=val_data)"
      ],
      "metadata": {
        "colab": {
          "base_uri": "https://localhost:8080/"
        },
        "id": "-Uv8MnXsLUEr",
        "outputId": "0c36c7b4-ef36-4231-df07-331240e2b525"
      },
      "execution_count": 168,
      "outputs": [
        {
          "output_type": "stream",
          "name": "stdout",
          "text": [
            "Epoch 1/5\n",
            "102/102 [==============================] - 29s 240ms/step - loss: 0.6931 - accuracy: 0.6216 - val_loss: 0.6931 - val_accuracy: 0.6253\n",
            "Epoch 2/5\n",
            "102/102 [==============================] - 28s 277ms/step - loss: 0.6931 - accuracy: 0.6216 - val_loss: 0.6931 - val_accuracy: 0.6253\n",
            "Epoch 3/5\n",
            "102/102 [==============================] - 25s 244ms/step - loss: 0.6931 - accuracy: 0.6216 - val_loss: 0.6931 - val_accuracy: 0.6253\n",
            "Epoch 4/5\n",
            "102/102 [==============================] - 24s 239ms/step - loss: 0.6931 - accuracy: 0.6216 - val_loss: 0.6931 - val_accuracy: 0.6253\n",
            "Epoch 5/5\n",
            "102/102 [==============================] - 24s 230ms/step - loss: 0.6931 - accuracy: 0.6216 - val_loss: 0.6931 - val_accuracy: 0.6253\n"
          ]
        }
      ]
    },
    {
      "cell_type": "markdown",
      "source": [
        "### Evaluate on test data"
      ],
      "metadata": {
        "id": "nSppJfcILw9C"
      }
    },
    {
      "cell_type": "code",
      "source": [
        "model.evaluate(test_data)"
      ],
      "metadata": {
        "colab": {
          "base_uri": "https://localhost:8080/"
        },
        "id": "JCXni4TaLi7-",
        "outputId": "b8004d68-f2a5-4364-8b74-c6aab3d813f7"
      },
      "execution_count": 169,
      "outputs": [
        {
          "output_type": "stream",
          "name": "stdout",
          "text": [
            "13/13 [==============================] - 1s 85ms/step - loss: 0.6931 - accuracy: 0.6283\n"
          ]
        },
        {
          "output_type": "execute_result",
          "data": {
            "text/plain": [
              "[0.693147599697113, 0.6282504796981812]"
            ]
          },
          "metadata": {},
          "execution_count": 169
        }
      ]
    },
    {
      "cell_type": "markdown",
      "source": [
        "Summary: The LSTM model was less accurate than the network we built above."
      ],
      "metadata": {
        "id": "v9_D1t7lMdi3"
      }
    },
    {
      "cell_type": "code",
      "source": [],
      "metadata": {
        "id": "U2fCLqbFLz9H"
      },
      "execution_count": null,
      "outputs": []
    }
  ]
}