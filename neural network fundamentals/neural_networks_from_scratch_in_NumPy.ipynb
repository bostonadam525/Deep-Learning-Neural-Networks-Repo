{
  "nbformat": 4,
  "nbformat_minor": 0,
  "metadata": {
    "colab": {
      "provenance": []
    },
    "kernelspec": {
      "name": "python3",
      "display_name": "Python 3"
    },
    "language_info": {
      "name": "python"
    }
  },
  "cells": [
    {
      "cell_type": "markdown",
      "source": [
        "# Neural Networks from scratch in NumPy\n",
        "Notebook written and coded by Adam Lang\n",
        "Date: February 8, 2024\n",
        "\n",
        "* We will code a neural network from scratch using Python's NumPy library.\n",
        "* You are probably wondering why would we use this and not a more robust tool such as PyTorch or Tensorflow? Here is why:\n",
        "1. Good starting point to focus on underlying mathematics and structure of a neural network rather than the tool itself.\n",
        "2. NumPy works well with matrices/arrays.\n",
        "3. We will code through forward and backward propagation form scratch.\n",
        "\n",
        "---\n",
        "\n"
      ],
      "metadata": {
        "id": "YkkQPjVIv9Ux"
      }
    },
    {
      "cell_type": "markdown",
      "source": [
        "# Steps to build a neural network from scratch in NumPy\n",
        "\n",
        "1. Load the dataset (input and output)\n",
        "2. Architecture of the model (#input, hidden layer, output neurons)\n",
        "3. Randomly initialize the weights for all layers.\n",
        "4. Implement forward propagation\n",
        "* Matrix multiplication\n",
        "* Calculate output\n",
        "5. Implement backward propagation\n",
        "- Calculate error\n",
        "- Calculate rate of change of error with respect to weights of model.\n",
        "- Update weights\n",
        "6. Repeat steps for `n` number of epochs."
      ],
      "metadata": {
        "id": "Oo-6GwHWxblT"
      }
    },
    {
      "cell_type": "markdown",
      "source": [
        "## 1. Loading Dataset (input and output)"
      ],
      "metadata": {
        "id": "DA7SSM0TybSx"
      }
    },
    {
      "cell_type": "code",
      "source": [
        "#import required libraries\n",
        "import numpy as np\n",
        "import matplotlib\n",
        "import matplotlib.pyplot as plt\n",
        "%matplotlib inline"
      ],
      "metadata": {
        "id": "kER4PpFtxQO1"
      },
      "execution_count": 1,
      "outputs": []
    },
    {
      "cell_type": "code",
      "source": [
        "#check version of numpy library\n",
        "print(np.__version__)"
      ],
      "metadata": {
        "colab": {
          "base_uri": "https://localhost:8080/"
        },
        "id": "kpPz1P0fxQDu",
        "outputId": "b215fcbb-f367-4494-fc4a-89f031097151"
      },
      "execution_count": 2,
      "outputs": [
        {
          "output_type": "stream",
          "name": "stdout",
          "text": [
            "1.23.5\n"
          ]
        }
      ]
    },
    {
      "cell_type": "code",
      "source": [
        "#check version of matplotlib library\n",
        "print(matplotlib.__version__)"
      ],
      "metadata": {
        "colab": {
          "base_uri": "https://localhost:8080/"
        },
        "id": "qR2IGH3VxPwX",
        "outputId": "b9b58b58-e642-43fc-c2b9-7f0b40543fd3"
      },
      "execution_count": 3,
      "outputs": [
        {
          "output_type": "stream",
          "name": "stdout",
          "text": [
            "3.7.1\n"
          ]
        }
      ]
    },
    {
      "cell_type": "code",
      "source": [
        "# create input array\n",
        "X = np.array([[1,0,1,0], [1,0,1,1], [0,1,0,1]])\n",
        "print('\\n Input:')\n",
        "print(X)\n",
        "# shape of input array\n",
        "print('\\n Shape of Input:', X.shape)"
      ],
      "metadata": {
        "colab": {
          "base_uri": "https://localhost:8080/"
        },
        "id": "R8vPZdPgy7lR",
        "outputId": "49e765ad-8b9b-4eb3-fdd1-303d3d071d38"
      },
      "execution_count": 4,
      "outputs": [
        {
          "output_type": "stream",
          "name": "stdout",
          "text": [
            "\n",
            " Input:\n",
            "[[1 0 1 0]\n",
            " [1 0 1 1]\n",
            " [0 1 0 1]]\n",
            "\n",
            " Shape of Input: (3, 4)\n"
          ]
        }
      ]
    },
    {
      "cell_type": "code",
      "source": [
        "# converting the input in matrix form\n",
        "X = X.T\n",
        "print('\\n Input in matrix form:')\n",
        "print(X)\n",
        "# shape of input matrix\n",
        "print('\\n Shape of Input Matrix:', X.shape)"
      ],
      "metadata": {
        "colab": {
          "base_uri": "https://localhost:8080/"
        },
        "id": "A_liY2qxy8Mf",
        "outputId": "0afc4bc1-9ce9-4b8a-96f2-5467fde834dd"
      },
      "execution_count": 5,
      "outputs": [
        {
          "output_type": "stream",
          "name": "stdout",
          "text": [
            "\n",
            " Input in matrix form:\n",
            "[[1 1 0]\n",
            " [0 0 1]\n",
            " [1 1 0]\n",
            " [0 1 1]]\n",
            "\n",
            " Shape of Input Matrix: (4, 3)\n"
          ]
        }
      ]
    },
    {
      "cell_type": "code",
      "source": [
        "# creating the output array\n",
        "y = np.array([[1], [1], [0]])\n",
        "print('\\n Actual Output:')\n",
        "print(y)\n",
        "\n",
        "#output in matrix form\n",
        "y = y.T"
      ],
      "metadata": {
        "colab": {
          "base_uri": "https://localhost:8080/"
        },
        "id": "VwCpOHyUzGLA",
        "outputId": "4439f841-fef4-4b27-9fc1-370697c991f8"
      },
      "execution_count": 6,
      "outputs": [
        {
          "output_type": "stream",
          "name": "stdout",
          "text": [
            "\n",
            " Actual Output:\n",
            "[[1]\n",
            " [1]\n",
            " [0]]\n"
          ]
        }
      ]
    },
    {
      "cell_type": "code",
      "source": [
        "#shape of actual output\n",
        "y.shape"
      ],
      "metadata": {
        "colab": {
          "base_uri": "https://localhost:8080/"
        },
        "id": "CkTFB5LAzGrH",
        "outputId": "80978b0d-35de-481e-c239-20acd008c243"
      },
      "execution_count": 7,
      "outputs": [
        {
          "output_type": "execute_result",
          "data": {
            "text/plain": [
              "(1, 3)"
            ]
          },
          "metadata": {},
          "execution_count": 7
        }
      ]
    },
    {
      "cell_type": "markdown",
      "source": [
        "# 2. Architecture of the model (# input, hidden and output neurons)"
      ],
      "metadata": {
        "id": "aF5RnwaO2S6J"
      }
    },
    {
      "cell_type": "code",
      "source": [
        "inputlayer_neurons = X.shape[0] #number of features in data set is 4\n",
        "hiddenlayer_neurons = 3 #number of hidden layer neurons\n",
        "output_neurons = 1 #number of neurons at output layer"
      ],
      "metadata": {
        "id": "5VH5RC6-17Ic"
      },
      "execution_count": 8,
      "outputs": []
    },
    {
      "cell_type": "markdown",
      "source": [
        "![image.png](data:image/png;base64,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)"
      ],
      "metadata": {
        "id": "Av6TLCIQ2yrS"
      }
    },
    {
      "cell_type": "markdown",
      "source": [
        "# 3. Initializing the weights for all the layers\n",
        "NOTE: For simplicity we are assuming that the bias for all layers is 0."
      ],
      "metadata": {
        "id": "NlUTi23J3NvS"
      }
    },
    {
      "cell_type": "code",
      "source": [
        "# initializing weights\n",
        "# shape of w_ih should number of neurons at input layer X number of neurons at hidden layer\n",
        "# 4 x 3\n",
        "# np.random generates rand nums between 0 and 1\n",
        "w_ih = np.random.uniform(size=(inputlayer_neurons, hiddenlayer_neurons))\n",
        "\n",
        "# shape of w_ho should number of neurons at hidden layer X number of neurons at output layer\n",
        "w_ho = np.random.uniform(size=(hiddenlayer_neurons, output_neurons))"
      ],
      "metadata": {
        "id": "QwjU-nJc2-gY"
      },
      "execution_count": 9,
      "outputs": []
    },
    {
      "cell_type": "code",
      "source": [
        "# check shape of weight matrix\n",
        "print(f\"Shape of input layer: {w_ih.shape}\")\n",
        "print(f\"Shape of hidden layer: {w_ho.shape}\")\n"
      ],
      "metadata": {
        "colab": {
          "base_uri": "https://localhost:8080/"
        },
        "id": "R2QKLpKf3ZNQ",
        "outputId": "043383ae-9ac7-4d4a-ba5b-b9cd38609c3b"
      },
      "execution_count": 10,
      "outputs": [
        {
          "output_type": "stream",
          "name": "stdout",
          "text": [
            "Shape of input layer: (4, 3)\n",
            "Shape of hidden layer: (3, 1)\n"
          ]
        }
      ]
    },
    {
      "cell_type": "markdown",
      "source": [
        "# 4. Implementing forward propagation\n",
        "\n",
        "![image.png](data:image/png;base64,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)"
      ],
      "metadata": {
        "id": "YH2o3kfo4Ytz"
      }
    },
    {
      "cell_type": "code",
      "source": [
        "# Define sigmoid activation function\n",
        "def sigmoid(x):\n",
        "  return 1/(1 + np.exp(-x)) #sigmoid formula"
      ],
      "metadata": {
        "id": "HlCu4dKX5kdP"
      },
      "execution_count": 11,
      "outputs": []
    },
    {
      "cell_type": "code",
      "source": [
        "# hidden layer activations\n",
        "\n",
        "hidden_layer_input = np.dot(w_ih.T, X)\n",
        "hiddenlayer_activations = sigmoid(hidden_layer_input)"
      ],
      "metadata": {
        "id": "YzElU-G75lQG"
      },
      "execution_count": 12,
      "outputs": []
    },
    {
      "cell_type": "markdown",
      "source": [
        "![image.png](data:image/png;base64,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)"
      ],
      "metadata": {
        "id": "WsrxVnMW6O5b"
      }
    },
    {
      "cell_type": "code",
      "source": [
        "# calculating the output\n",
        "output_layer_input = np.dot(w_ho.T, hiddenlayer_activations)\n",
        "output = sigmoid(output_layer_input) #sigmoid to get output"
      ],
      "metadata": {
        "id": "93PKR16P5lAc"
      },
      "execution_count": 13,
      "outputs": []
    },
    {
      "cell_type": "code",
      "source": [
        "# obtain output\n",
        "output"
      ],
      "metadata": {
        "colab": {
          "base_uri": "https://localhost:8080/"
        },
        "id": "ual7LKNo6glZ",
        "outputId": "099c7e44-c7c8-482b-d1ff-318b960da3aa"
      },
      "execution_count": 14,
      "outputs": [
        {
          "output_type": "execute_result",
          "data": {
            "text/plain": [
              "array([[0.86894863, 0.88180406, 0.83940944]])"
            ]
          },
          "metadata": {},
          "execution_count": 14
        }
      ]
    },
    {
      "cell_type": "markdown",
      "source": [
        "# 5. Implementing Backward Propagation\n",
        "\n"
      ],
      "metadata": {
        "id": "vsmHKBDD7IEQ"
      }
    },
    {
      "cell_type": "code",
      "source": [
        "# calculating error\n",
        "error = np.square(y - output)/2"
      ],
      "metadata": {
        "id": "PpdD7xgc7MqQ"
      },
      "execution_count": 17,
      "outputs": []
    },
    {
      "cell_type": "markdown",
      "source": [
        "Rate of change of error w.r.t weight between hidden and output layers"
      ],
      "metadata": {
        "id": "oYV2kzQOvXId"
      }
    },
    {
      "cell_type": "markdown",
      "source": [
        "![image.png](data:image/png;base64,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)"
      ],
      "metadata": {
        "id": "EGCgE0eevchC"
      }
    },
    {
      "cell_type": "markdown",
      "source": [
        "a. Rate of change of error w.r.t output\n",
        "\n",
        "b. Rate of change of output w.r.t Z2\n",
        "\n",
        "c. Rate of change of Z2 weights between hidden and output layer"
      ],
      "metadata": {
        "id": "Nj-Ij14Yvvft"
      }
    },
    {
      "cell_type": "code",
      "source": [
        "# rate of change of error wrt output\n",
        "error_wrt_output = -(y-output)"
      ],
      "metadata": {
        "id": "-j8q9xfU7NKq"
      },
      "execution_count": 18,
      "outputs": []
    },
    {
      "cell_type": "code",
      "source": [
        "# rate of change of output wrt Z2 -> derivative of sigmoid func\n",
        "output_wrt_Z2 = np.multiply(output,(1-output))"
      ],
      "metadata": {
        "id": "twFvCLgl7N3l"
      },
      "execution_count": 19,
      "outputs": []
    },
    {
      "cell_type": "code",
      "source": [
        "# rate of change of Z2 wrt weights between hidden and output layer\n",
        "Z2_wrt_who = hiddenlayer_activations"
      ],
      "metadata": {
        "id": "mAML50iiwPQ-"
      },
      "execution_count": 23,
      "outputs": []
    },
    {
      "cell_type": "code",
      "source": [
        "# checking the shapes of partial derivatives\n",
        "error_wrt_output.shape, output_wrt_Z2.shape, Z2_wrt_who.shape"
      ],
      "metadata": {
        "colab": {
          "base_uri": "https://localhost:8080/"
        },
        "id": "NeN2M6wFwO_C",
        "outputId": "86871080-7d61-41cf-9eba-5170aca6aab9"
      },
      "execution_count": 24,
      "outputs": [
        {
          "output_type": "execute_result",
          "data": {
            "text/plain": [
              "((1, 3), (1, 3), (3, 3))"
            ]
          },
          "metadata": {},
          "execution_count": 24
        }
      ]
    },
    {
      "cell_type": "code",
      "source": [
        "# shape of weights of output layer\n",
        "w_ho.shape"
      ],
      "metadata": {
        "colab": {
          "base_uri": "https://localhost:8080/"
        },
        "id": "mvUxl_DGwyyw",
        "outputId": "d3a05602-657f-4a38-b5a3-798cd3258ad6"
      },
      "execution_count": 25,
      "outputs": [
        {
          "output_type": "execute_result",
          "data": {
            "text/plain": [
              "(3, 1)"
            ]
          },
          "metadata": {},
          "execution_count": 25
        }
      ]
    },
    {
      "cell_type": "markdown",
      "source": [
        "![image.png](data:image/png;base64,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)"
      ],
      "metadata": {
        "id": "CdpneAAzw8sm"
      }
    },
    {
      "cell_type": "code",
      "source": [
        "# rate of change of error wrt weight between hidden output layers\n",
        "error_wrt_who = np.dot(Z2_wrt_who,(error_wrt_output*output_wrt_Z2).T)"
      ],
      "metadata": {
        "id": "OSxPpnR6xMgQ"
      },
      "execution_count": 26,
      "outputs": []
    },
    {
      "cell_type": "code",
      "source": [
        "error_wrt_who.shape"
      ],
      "metadata": {
        "colab": {
          "base_uri": "https://localhost:8080/"
        },
        "id": "e4IwfXruxMOA",
        "outputId": "271e3714-47c5-4842-9883-6ec098812a87"
      },
      "execution_count": 27,
      "outputs": [
        {
          "output_type": "execute_result",
          "data": {
            "text/plain": [
              "(3, 1)"
            ]
          },
          "metadata": {},
          "execution_count": 27
        }
      ]
    },
    {
      "cell_type": "markdown",
      "source": [
        "Rate of change of error wrt weight between input and hidden layer"
      ],
      "metadata": {
        "id": "6bBr6wB-xqPy"
      }
    },
    {
      "cell_type": "markdown",
      "source": [
        "![image.png](data:image/png;base64,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)"
      ],
      "metadata": {
        "id": "hq-S07fmxp5b"
      }
    },
    {
      "cell_type": "markdown",
      "source": [
        "a. Rate of change of error wrt output\n",
        "\n",
        "b. Rate of change of output wrt Z2\n",
        "\n",
        "c. Rate of change of Z2 wrt hidden layer activations\n",
        "\n",
        "d. Rate of change of hidden layer activations wrt Z1\n",
        "\n",
        "e. Rate of change of Z1 wrt weigths between input and hidden layer"
      ],
      "metadata": {
        "id": "t5tbgZcCx-dl"
      }
    },
    {
      "cell_type": "code",
      "source": [
        "# rate of change of error wrt output\n",
        "error_wrt_output = -(y-output)"
      ],
      "metadata": {
        "id": "8Xz0c3xbyWPQ"
      },
      "execution_count": 35,
      "outputs": []
    },
    {
      "cell_type": "code",
      "source": [
        "# rate of change of output wrt Z2\n",
        "output_wrt_Z2 = np.multiply(output,(1-output))"
      ],
      "metadata": {
        "id": "DnVki8WJyWCh"
      },
      "execution_count": 36,
      "outputs": []
    },
    {
      "cell_type": "code",
      "source": [
        "# rate of change of Z2 wrt hidden layer activations\n",
        "Z2_wrt_h1 = w_ho"
      ],
      "metadata": {
        "id": "mN3SK1B-y7t3"
      },
      "execution_count": 40,
      "outputs": []
    },
    {
      "cell_type": "code",
      "source": [
        "# rate of change of hidden layer activations wrt Z1\n",
        "h1_wrt_Z1 = np.multiply(hiddenlayer_activations,(1-hiddenlayer_activations))"
      ],
      "metadata": {
        "id": "dpPiaMv4yVzc"
      },
      "execution_count": 41,
      "outputs": []
    },
    {
      "cell_type": "code",
      "source": [
        "# rate of change of Z1 wrt weights between input and hidden layer\n",
        "Z1_wrt_wih = X"
      ],
      "metadata": {
        "id": "b6AbjhsGysHs"
      },
      "execution_count": 42,
      "outputs": []
    },
    {
      "cell_type": "code",
      "source": [
        "# checking the shapes of partial derivatives\n",
        "error_wrt_output.shape, output_wrt_Z2.shape, Z2_wrt_h1.shape, h1_wrt_Z1.shape, Z1_wrt_wih.shape"
      ],
      "metadata": {
        "colab": {
          "base_uri": "https://localhost:8080/"
        },
        "id": "UIeJQas0y3Ff",
        "outputId": "9ac0977a-44cb-47a7-ea3f-8dfca3b43a42"
      },
      "execution_count": 43,
      "outputs": [
        {
          "output_type": "execute_result",
          "data": {
            "text/plain": [
              "((1, 3), (1, 3), (3, 1), (3, 3), (4, 3))"
            ]
          },
          "metadata": {},
          "execution_count": 43
        }
      ]
    },
    {
      "cell_type": "code",
      "source": [
        "# shape of weights of hidden layer\n",
        "w_ih.shape"
      ],
      "metadata": {
        "colab": {
          "base_uri": "https://localhost:8080/"
        },
        "id": "xUkO7FQXy26d",
        "outputId": "a9563c79-b5d0-4d4f-e53d-55879c4598c6"
      },
      "execution_count": 44,
      "outputs": [
        {
          "output_type": "execute_result",
          "data": {
            "text/plain": [
              "(4, 3)"
            ]
          },
          "metadata": {},
          "execution_count": 44
        }
      ]
    },
    {
      "cell_type": "markdown",
      "source": [
        "![image.png](data:image/png;base64,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)"
      ],
      "metadata": {
        "id": "Yw2R-g6T1TEn"
      }
    },
    {
      "cell_type": "code",
      "source": [
        "# rate of change of error wrt weights between input and hidden layer\n",
        "error_wrt_wih = np.dot(Z1_wrt_wih,(h1_wrt_Z1*np.dot(Z2__wrt_h1,(output_wrt_Z2*error_wrt_output))).T)"
      ],
      "metadata": {
        "id": "6oRADImly2we"
      },
      "execution_count": 45,
      "outputs": []
    },
    {
      "cell_type": "code",
      "source": [
        "error_wrt_wih.shape"
      ],
      "metadata": {
        "colab": {
          "base_uri": "https://localhost:8080/"
        },
        "id": "-uXgQXRqy2kj",
        "outputId": "c93583ed-db31-4bcb-f2d1-3810bffe73b2"
      },
      "execution_count": 46,
      "outputs": [
        {
          "output_type": "execute_result",
          "data": {
            "text/plain": [
              "(4, 3)"
            ]
          },
          "metadata": {},
          "execution_count": 46
        }
      ]
    },
    {
      "cell_type": "markdown",
      "source": [
        "update the parameters using gradient descent equation"
      ],
      "metadata": {
        "id": "5gLsMN7w11Cg"
      }
    },
    {
      "cell_type": "markdown",
      "source": [
        "![image.png](data:image/png;base64,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)"
      ],
      "metadata": {
        "id": "7yDze5Yp13Jn"
      }
    },
    {
      "cell_type": "code",
      "source": [
        "# defining the learning rate (alpha)\n",
        "lr = 0.01"
      ],
      "metadata": {
        "id": "DT-EyvS_2Krx"
      },
      "execution_count": 47,
      "outputs": []
    },
    {
      "cell_type": "code",
      "source": [
        "# initial w_ho and w_ih\n",
        "# w_ho - output random weights\n",
        "w_ho"
      ],
      "metadata": {
        "colab": {
          "base_uri": "https://localhost:8080/"
        },
        "id": "zuqBRFCX2Kjk",
        "outputId": "37ec5252-0a57-4fb5-e632-2f98d6cc43e0"
      },
      "execution_count": 48,
      "outputs": [
        {
          "output_type": "execute_result",
          "data": {
            "text/plain": [
              "array([[0.61633514],\n",
              "       [0.99600112],\n",
              "       [0.86942477]])"
            ]
          },
          "metadata": {},
          "execution_count": 48
        }
      ]
    },
    {
      "cell_type": "code",
      "source": [
        "#w_ih - input random weights\n",
        "w_ih"
      ],
      "metadata": {
        "colab": {
          "base_uri": "https://localhost:8080/"
        },
        "id": "YGnk4M1j2KXi",
        "outputId": "c58c3dd8-2d8e-4379-eaad-a454d087528e"
      },
      "execution_count": 49,
      "outputs": [
        {
          "output_type": "execute_result",
          "data": {
            "text/plain": [
              "array([[0.18376489, 0.99286215, 0.57796261],\n",
              "       [0.54461094, 0.02666546, 0.64326658],\n",
              "       [0.01682982, 0.80727697, 0.82602261],\n",
              "       [0.07098911, 0.14993991, 0.86465244]])"
            ]
          },
          "metadata": {},
          "execution_count": 49
        }
      ]
    },
    {
      "cell_type": "code",
      "source": [
        "# updating the weights of output layer\n",
        "w_ho = w_ho - lr * error_wrt_who"
      ],
      "metadata": {
        "id": "Izy6si0z2aHR"
      },
      "execution_count": 50,
      "outputs": []
    },
    {
      "cell_type": "code",
      "source": [
        "# updating the weights of hidden layer\n",
        "w_ih = w_ih - lr * error_wrt_wih"
      ],
      "metadata": {
        "id": "9N_OoY3R2Z7v"
      },
      "execution_count": 51,
      "outputs": []
    },
    {
      "cell_type": "code",
      "source": [
        "# updated w_ho and w_ih\n",
        "w_ho"
      ],
      "metadata": {
        "colab": {
          "base_uri": "https://localhost:8080/"
        },
        "id": "1ASg_9Eu3NvW",
        "outputId": "4aa54ef8-7b28-40f4-c304-7522bb69a5fe"
      },
      "execution_count": 52,
      "outputs": [
        {
          "output_type": "execute_result",
          "data": {
            "text/plain": [
              "array([[0.61575252],\n",
              "       [0.99562144],\n",
              "       [0.86872977]])"
            ]
          },
          "metadata": {},
          "execution_count": 52
        }
      ]
    },
    {
      "cell_type": "code",
      "source": [
        "# updated w_ih weights\n",
        "w_ih"
      ],
      "metadata": {
        "colab": {
          "base_uri": "https://localhost:8080/"
        },
        "id": "QawaMenB3Nht",
        "outputId": "440dc938-d835-49db-c3c0-a5aafdae0e19"
      },
      "execution_count": 53,
      "outputs": [
        {
          "output_type": "execute_result",
          "data": {
            "text/plain": [
              "array([[0.1838063 , 0.99289362, 0.57799225],\n",
              "       [0.54445212, 0.0263859 , 0.64312059],\n",
              "       [0.01687122, 0.80730844, 0.82605225],\n",
              "       [0.07084892, 0.14967373, 0.86451555]])"
            ]
          },
          "metadata": {},
          "execution_count": 53
        }
      ]
    },
    {
      "cell_type": "markdown",
      "source": [
        "# 6. Training the model for n epochs"
      ],
      "metadata": {
        "id": "FJSBYqUY4Cm_"
      }
    },
    {
      "cell_type": "code",
      "source": [
        "# defining the model architecture\n",
        "# input and output layer neurons\n",
        "inputlayer_neurons = X.shape[0] #number of features in data set\n",
        "hiddenlayer_neurons = 3 #num of hidden layer neurons\n",
        "output_neurons = 1 #num of neurons\n",
        "\n",
        "# initializing weight\n",
        "w_ih = np.random.uniform(size=(inputlayer_neurons,hiddenlayer_neurons))\n",
        "w_oh = np.random.uniform(size=(hiddenlayer_neurons, output_neurons))\n",
        "\n",
        "# defining the parameters\n",
        "lr = 0.01\n",
        "epochs = 10000 #10,000 epochs = means we update weights 10,000 times"
      ],
      "metadata": {
        "id": "IiOuBidv4DqU"
      },
      "execution_count": 54,
      "outputs": []
    },
    {
      "cell_type": "code",
      "source": [
        "# initial weights for hidden input connection\n",
        "w_ih"
      ],
      "metadata": {
        "colab": {
          "base_uri": "https://localhost:8080/"
        },
        "id": "58WCfqH25gvy",
        "outputId": "1f4ee9fe-dcfd-4659-8394-441f290b0b53"
      },
      "execution_count": 55,
      "outputs": [
        {
          "output_type": "execute_result",
          "data": {
            "text/plain": [
              "array([[0.78447141, 0.61593505, 0.79021287],\n",
              "       [0.25921337, 0.84165828, 0.28359984],\n",
              "       [0.120205  , 0.69345271, 0.10015185],\n",
              "       [0.13795919, 0.41794224, 0.39608133]])"
            ]
          },
          "metadata": {},
          "execution_count": 55
        }
      ]
    },
    {
      "cell_type": "code",
      "source": [
        "# initial weights for hidden output connection\n",
        "w_ho"
      ],
      "metadata": {
        "colab": {
          "base_uri": "https://localhost:8080/"
        },
        "id": "hoouQtDE5ggR",
        "outputId": "b78566fc-e961-46f0-956c-a3c74bdeb4c0"
      },
      "execution_count": 56,
      "outputs": [
        {
          "output_type": "execute_result",
          "data": {
            "text/plain": [
              "array([[0.61575252],\n",
              "       [0.99562144],\n",
              "       [0.86872977]])"
            ]
          },
          "metadata": {},
          "execution_count": 56
        }
      ]
    },
    {
      "cell_type": "code",
      "source": [
        "# storing error after each epoch is run\n",
        "error_epoch = []\n",
        "for i in range(epochs):\n",
        "  # forward propagation\n",
        "\n",
        "  # hidden layer activation calculations then output\n",
        "  hidden_layer_input=np.dot(w_ih.T,X)\n",
        "  hiddenlayer_activations = sigmoid(hidden_layer_input)\n",
        "  # calculate the output\n",
        "  output_layer_input=np.dot(w_ho.T, hiddenlayer_activations)\n",
        "  output = sigmoid(output_layer_input)\n",
        "\n",
        "\n",
        "  #Backward propagation\n",
        "\n",
        "  # calculating error\n",
        "  error = np.square(y-output)/2\n",
        "  error_wrt_output = -(y-output)\n",
        "  output_wrt_Z2 = np.multiply(output, (1-output))\n",
        "  Z2_wrt_who = hiddenlayer_activations\n",
        "  #rate of change of error wrt weight between hidden and output layer\n",
        "  error_wrt_who = np.dot(Z2_wrt_who, (error_wrt_output*output_wrt_Z2).T)\n",
        "  Z2_wrt_h1 = w_ho\n",
        "  h1_wrt_Z1 = np.multiply(hiddenlayer_activations, (1-hiddenlayer_activations))\n",
        "  Z1_wrt_wih = X\n",
        "  # rate of change of error wrt weights\n",
        "  error_wrt_wih = np.dot(Z1_wrt_wih,(h1_wrt_Z1*np.dot(Z2_wrt_h1,(error_wrt_output*output_wrt_Z2))).T)\n",
        "\n",
        "  #updating the weights between hidden and output layer\n",
        "  w_ho = w_ho - lr * error_wrt_who\n",
        "  #updating the weights between input and hidden layer\n",
        "  w_ih = w_ih - lr * error_wrt_wih\n",
        "\n",
        "  # appending the error of each epoch\n",
        "  error_epoch.append(np.average(error))"
      ],
      "metadata": {
        "id": "cSbdl8zo5gTK"
      },
      "execution_count": 57,
      "outputs": []
    },
    {
      "cell_type": "code",
      "source": [
        "# updated w_ih (input weight matrices)\n",
        "w_ih"
      ],
      "metadata": {
        "colab": {
          "base_uri": "https://localhost:8080/"
        },
        "id": "cJrENY_t75DR",
        "outputId": "38788074-ad47-49e0-a7a9-e181cf9630fe"
      },
      "execution_count": 58,
      "outputs": [
        {
          "output_type": "execute_result",
          "data": {
            "text/plain": [
              "array([[ 1.47311773,  0.5808745 ,  1.71559449],\n",
              "       [-1.21439187,  1.06575002, -1.65209671],\n",
              "       [ 0.80885132,  0.65839216,  1.02553348],\n",
              "       [-0.90596193,  0.59727918, -0.96399085]])"
            ]
          },
          "metadata": {},
          "execution_count": 58
        }
      ]
    },
    {
      "cell_type": "code",
      "source": [
        "# updated w_ho (output weight matrices)\n",
        "w_ho"
      ],
      "metadata": {
        "colab": {
          "base_uri": "https://localhost:8080/"
        },
        "id": "9cwHLzGg-BI7",
        "outputId": "09bac28a-89da-4965-d830-5f91da3534b2"
      },
      "execution_count": 59,
      "outputs": [
        {
          "output_type": "execute_result",
          "data": {
            "text/plain": [
              "array([[ 1.56586745],\n",
              "       [-1.67178765],\n",
              "       [ 2.36297507]])"
            ]
          },
          "metadata": {},
          "execution_count": 59
        }
      ]
    },
    {
      "cell_type": "code",
      "source": [
        "# visualizing the error after each epoch\n",
        "plt.plot(np.arange(1,epochs+1), np.array(error_epoch))\n",
        "plt.xlabel('Number of epochs')\n",
        "plt.ylabel('Error weights are updated')\n",
        "plt.title('Plot of Epochs vs. Weights - loss minimized')"
      ],
      "metadata": {
        "colab": {
          "base_uri": "https://localhost:8080/",
          "height": 489
        },
        "id": "Lt7nPdh4-Phf",
        "outputId": "4c476103-877c-4a26-adf8-ac3d70614ea9"
      },
      "execution_count": 66,
      "outputs": [
        {
          "output_type": "execute_result",
          "data": {
            "text/plain": [
              "Text(0.5, 1.0, 'Plot of Epochs vs. Weights - loss minimized')"
            ]
          },
          "metadata": {},
          "execution_count": 66
        },
        {
          "output_type": "display_data",
          "data": {
            "text/plain": [
              "<Figure size 640x480 with 1 Axes>"
            ],
            "image/png": "[encoded data removed]"
          },
          "metadata": {}
        }
      ]
    },
    {
      "cell_type": "markdown",
      "source": [
        "summary: we can see as we continue to train the model and update the neural network weights with each epoch, that the error/loss is decreasing which is the purpose of training a neural network! Solving an optimization problem."
      ],
      "metadata": {
        "id": "4S_1MAjE_dXQ"
      }
    },
    {
      "cell_type": "code",
      "source": [
        "# final output from the model\n",
        "output"
      ],
      "metadata": {
        "colab": {
          "base_uri": "https://localhost:8080/"
        },
        "id": "faAknjFK-PX4",
        "outputId": "f8bff6cc-d81e-4e54-cabe-6fbf5ebe042d"
      },
      "execution_count": 61,
      "outputs": [
        {
          "output_type": "execute_result",
          "data": {
            "text/plain": [
              "array([[0.91246189, 0.86165992, 0.25417672]])"
            ]
          },
          "metadata": {},
          "execution_count": 61
        }
      ]
    },
    {
      "cell_type": "code",
      "source": [
        "# actual target\n",
        "y"
      ],
      "metadata": {
        "colab": {
          "base_uri": "https://localhost:8080/"
        },
        "id": "qJr4NDL_-PMa",
        "outputId": "4d03e0e7-75f0-49de-b6df-cda86d36ba82"
      },
      "execution_count": 62,
      "outputs": [
        {
          "output_type": "execute_result",
          "data": {
            "text/plain": [
              "array([[1, 1, 0]])"
            ]
          },
          "metadata": {},
          "execution_count": 62
        }
      ]
    },
    {
      "cell_type": "code",
      "source": [
        "# error at last epoch\n",
        "error"
      ],
      "metadata": {
        "colab": {
          "base_uri": "https://localhost:8080/"
        },
        "id": "nspR_etE-fUj",
        "outputId": "cc6a05b9-b7f0-405d-c5aa-8031e41b69c4"
      },
      "execution_count": 67,
      "outputs": [
        {
          "output_type": "execute_result",
          "data": {
            "text/plain": [
              "array([[0.00383146, 0.00956899, 0.0323029 ]])"
            ]
          },
          "metadata": {},
          "execution_count": 67
        }
      ]
    },
    {
      "cell_type": "markdown",
      "source": [
        "Summary: model learned the weights and achieved the lowest possible error to predict the target variable 'y' above"
      ],
      "metadata": {
        "id": "eCeFSQoE_zm5"
      }
    },
    {
      "cell_type": "markdown",
      "source": [
        "# Appendix\n"
      ],
      "metadata": {
        "id": "7HBsfuINxJ57"
      }
    },
    {
      "cell_type": "markdown",
      "source": [
        "# Perceptron\n",
        "- Reviewing basic math of a Perceptron."
      ],
      "metadata": {
        "id": "Zr3WnlmEjfuP"
      }
    },
    {
      "cell_type": "markdown",
      "source": [
        "Suppose we have the values of input, weights and bias like these given below, what would be the output of the perceptron?\n",
        "\n",
        "\n",
        "\n",
        "Inputs -> X1 = 10000, X2 = 1500, X3 = 500\n",
        "\n",
        "Weights -> w1 = 5, w2 = 3, w3 = 2\n",
        "\n",
        "Bias -> -50000\n",
        "\n",
        "Activation function -> Step function"
      ],
      "metadata": {
        "id": "BpYaam26jT01"
      }
    },
    {
      "cell_type": "code",
      "execution_count": 15,
      "metadata": {
        "id": "7qsu7Dkr_ilN"
      },
      "outputs": [],
      "source": [
        "x1=10000\n",
        "x2=1500\n",
        "x3=500\n",
        "\n",
        "w1=5\n",
        "w2=3\n",
        "w3=2\n",
        "\n",
        "bias=-50000"
      ]
    },
    {
      "cell_type": "code",
      "source": [
        "#calculate step function perceptron\n",
        "(x1*w1) + (x2*w2) + (x3*w3) + (bias)"
      ],
      "metadata": {
        "colab": {
          "base_uri": "https://localhost:8080/"
        },
        "id": "Ey5M-SP_jxdp",
        "outputId": "66fdfce7-0722-4568-e137-f9d0b5fa4157"
      },
      "execution_count": 16,
      "outputs": [
        {
          "output_type": "execute_result",
          "data": {
            "text/plain": [
              "5500"
            ]
          },
          "metadata": {},
          "execution_count": 16
        }
      ]
    },
    {
      "cell_type": "markdown",
      "source": [
        "Conclusion: Based on \"step function\" answer is 0 or 1, so a positive result of 5500 would yield a step function result of 1."
      ],
      "metadata": {
        "id": "v7QM8sKBkBMZ"
      }
    },
    {
      "cell_type": "code",
      "source": [],
      "metadata": {
        "id": "CHW0cb2Oj93M"
      },
      "execution_count": 16,
      "outputs": []
    }
  ]
}