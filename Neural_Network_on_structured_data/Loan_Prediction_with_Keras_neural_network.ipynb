{
  "nbformat": 4,
  "nbformat_minor": 0,
  "metadata": {
    "colab": {
      "provenance": []
    },
    "kernelspec": {
      "name": "python3",
      "display_name": "Python 3"
    },
    "language_info": {
      "name": "python"
    }
  },
  "cells": [
    {
      "cell_type": "markdown",
      "source": [
        "# Loan Prediction with Keras\n",
        "By Adam Lang\n",
        "Date: February 15, 2024\n",
        "* In this notebook I will demonstrate training a neural network using Keras and Tensorflow.\n",
        "* This will be done on `structured data`.\n",
        "\n",
        "Problem Statement: Loan Prediction\n",
        "* Based on the details given about each customer in the tabular data, predict whether or not to approve a loan for each customer.\n",
        "* Target/dependent variable: 'Loan_Status`\n",
        "- binary classificaiton problem: Y approved or N not approved.\n"
      ],
      "metadata": {
        "id": "9pcG1kw6e73N"
      }
    },
    {
      "cell_type": "markdown",
      "source": [
        "## Data pre-processing steps\n",
        "1. Filling missing values.\n",
        "2. Converting categories to numbers.\n",
        "3. Bring all variables in range 0 to 1."
      ],
      "metadata": {
        "id": "pCCcWsJTe-TQ"
      }
    },
    {
      "cell_type": "code",
      "execution_count": 1,
      "metadata": {
        "id": "2MgxcN-3e4EC"
      },
      "outputs": [],
      "source": [
        "# import required libraries to pre-process\n",
        "import pandas as pd"
      ]
    },
    {
      "cell_type": "code",
      "source": [
        "# check version of pandas\n",
        "print('Version of pandas:', pd.__version__)"
      ],
      "metadata": {
        "colab": {
          "base_uri": "https://localhost:8080/"
        },
        "id": "hDPa9FvofJB_",
        "outputId": "1de09399-227f-4df7-9add-ff99042e8ae2"
      },
      "execution_count": 2,
      "outputs": [
        {
          "output_type": "stream",
          "name": "stdout",
          "text": [
            "Version of pandas: 1.5.3\n"
          ]
        }
      ]
    },
    {
      "cell_type": "code",
      "source": [
        "# reading in the data\n",
        "data = pd.read_csv('/content/drive/MyDrive/Analytics_Vidhya_LLM_GenAI/loan_data.csv')"
      ],
      "metadata": {
        "id": "ZN-y7CnQfPSI"
      },
      "execution_count": 3,
      "outputs": []
    },
    {
      "cell_type": "code",
      "source": [
        "# look at head of data\n",
        "data.head()"
      ],
      "metadata": {
        "colab": {
          "base_uri": "https://localhost:8080/",
          "height": 243
        },
        "id": "Nvx3S9SZfdD7",
        "outputId": "8bf763f4-0a87-4c84-cb27-28794356bd42"
      },
      "execution_count": 4,
      "outputs": [
        {
          "output_type": "execute_result",
          "data": {
            "text/plain": [
              "    Loan_ID Gender Married Dependents     Education Self_Employed  \\\n",
              "0  LP001002   Male      No          0      Graduate            No   \n",
              "1  LP001003   Male     Yes          1      Graduate            No   \n",
              "2  LP001005   Male     Yes          0      Graduate           Yes   \n",
              "3  LP001006   Male     Yes          0  Not Graduate            No   \n",
              "4  LP001008   Male      No          0      Graduate            No   \n",
              "\n",
              "   ApplicantIncome  CoapplicantIncome  LoanAmount  Loan_Amount_Term  \\\n",
              "0             5849                0.0         NaN             360.0   \n",
              "1             4583             1508.0       128.0             360.0   \n",
              "2             3000                0.0        66.0             360.0   \n",
              "3             2583             2358.0       120.0             360.0   \n",
              "4             6000                0.0       141.0             360.0   \n",
              "\n",
              "   Credit_History Property_Area Loan_Status  \n",
              "0             1.0         Urban           Y  \n",
              "1             1.0         Rural           N  \n",
              "2             1.0         Urban           Y  \n",
              "3             1.0         Urban           Y  \n",
              "4             1.0         Urban           Y  "
            ],
            "text/html": [
              "\n",
              "  <div id=\"df-5a6d6c78-7b33-4bd9-9335-cb0b67788d79\" class=\"colab-df-container\">\n",
              "    <div>\n",
              "<style scoped>\n",
              "    .dataframe tbody tr th:only-of-type {\n",
              "        vertical-align: middle;\n",
              "    }\n",
              "\n",
              "    .dataframe tbody tr th {\n",
              "        vertical-align: top;\n",
              "    }\n",
              "\n",
              "    .dataframe thead th {\n",
              "        text-align: right;\n",
              "    }\n",
              "</style>\n",
              "<table border=\"1\" class=\"dataframe\">\n",
              "  <thead>\n",
              "    <tr style=\"text-align: right;\">\n",
              "      <th></th>\n",
              "      <th>Loan_ID</th>\n",
              "      <th>Gender</th>\n",
              "      <th>Married</th>\n",
              "      <th>Dependents</th>\n",
              "      <th>Education</th>\n",
              "      <th>Self_Employed</th>\n",
              "      <th>ApplicantIncome</th>\n",
              "      <th>CoapplicantIncome</th>\n",
              "      <th>LoanAmount</th>\n",
              "      <th>Loan_Amount_Term</th>\n",
              "      <th>Credit_History</th>\n",
              "      <th>Property_Area</th>\n",
              "      <th>Loan_Status</th>\n",
              "    </tr>\n",
              "  </thead>\n",
              "  <tbody>\n",
              "    <tr>\n",
              "      <th>0</th>\n",
              "      <td>LP001002</td>\n",
              "      <td>Male</td>\n",
              "      <td>No</td>\n",
              "      <td>0</td>\n",
              "      <td>Graduate</td>\n",
              "      <td>No</td>\n",
              "      <td>5849</td>\n",
              "      <td>0.0</td>\n",
              "      <td>NaN</td>\n",
              "      <td>360.0</td>\n",
              "      <td>1.0</td>\n",
              "      <td>Urban</td>\n",
              "      <td>Y</td>\n",
              "    </tr>\n",
              "    <tr>\n",
              "      <th>1</th>\n",
              "      <td>LP001003</td>\n",
              "      <td>Male</td>\n",
              "      <td>Yes</td>\n",
              "      <td>1</td>\n",
              "      <td>Graduate</td>\n",
              "      <td>No</td>\n",
              "      <td>4583</td>\n",
              "      <td>1508.0</td>\n",
              "      <td>128.0</td>\n",
              "      <td>360.0</td>\n",
              "      <td>1.0</td>\n",
              "      <td>Rural</td>\n",
              "      <td>N</td>\n",
              "    </tr>\n",
              "    <tr>\n",
              "      <th>2</th>\n",
              "      <td>LP001005</td>\n",
              "      <td>Male</td>\n",
              "      <td>Yes</td>\n",
              "      <td>0</td>\n",
              "      <td>Graduate</td>\n",
              "      <td>Yes</td>\n",
              "      <td>3000</td>\n",
              "      <td>0.0</td>\n",
              "      <td>66.0</td>\n",
              "      <td>360.0</td>\n",
              "      <td>1.0</td>\n",
              "      <td>Urban</td>\n",
              "      <td>Y</td>\n",
              "    </tr>\n",
              "    <tr>\n",
              "      <th>3</th>\n",
              "      <td>LP001006</td>\n",
              "      <td>Male</td>\n",
              "      <td>Yes</td>\n",
              "      <td>0</td>\n",
              "      <td>Not Graduate</td>\n",
              "      <td>No</td>\n",
              "      <td>2583</td>\n",
              "      <td>2358.0</td>\n",
              "      <td>120.0</td>\n",
              "      <td>360.0</td>\n",
              "      <td>1.0</td>\n",
              "      <td>Urban</td>\n",
              "      <td>Y</td>\n",
              "    </tr>\n",
              "    <tr>\n",
              "      <th>4</th>\n",
              "      <td>LP001008</td>\n",
              "      <td>Male</td>\n",
              "      <td>No</td>\n",
              "      <td>0</td>\n",
              "      <td>Graduate</td>\n",
              "      <td>No</td>\n",
              "      <td>6000</td>\n",
              "      <td>0.0</td>\n",
              "      <td>141.0</td>\n",
              "      <td>360.0</td>\n",
              "      <td>1.0</td>\n",
              "      <td>Urban</td>\n",
              "      <td>Y</td>\n",
              "    </tr>\n",
              "  </tbody>\n",
              "</table>\n",
              "</div>\n",
              "    <div class=\"colab-df-buttons\">\n",
              "\n",
              "  <div class=\"colab-df-container\">\n",
              "    <button class=\"colab-df-convert\" onclick=\"convertToInteractive('df-5a6d6c78-7b33-4bd9-9335-cb0b67788d79')\"\n",
              "            title=\"Convert this dataframe to an interactive table.\"\n",
              "            style=\"display:none;\">\n",
              "\n",
              "  <svg xmlns=\"http://www.w3.org/2000/svg\" height=\"24px\" viewBox=\"0 -960 960 960\">\n",
              "    <path d=\"M120-120v-720h720v720H120Zm60-500h600v-160H180v160Zm220 220h160v-160H400v160Zm0 220h160v-160H400v160ZM180-400h160v-160H180v160Zm440 0h160v-160H620v160ZM180-180h160v-160H180v160Zm440 0h160v-160H620v160Z\"/>\n",
              "  </svg>\n",
              "    </button>\n",
              "\n",
              "  <style>\n",
              "    .colab-df-container {\n",
              "      display:flex;\n",
              "      gap: 12px;\n",
              "    }\n",
              "\n",
              "    .colab-df-convert {\n",
              "      background-color: #E8F0FE;\n",
              "      border: none;\n",
              "      border-radius: 50%;\n",
              "      cursor: pointer;\n",
              "      display: none;\n",
              "      fill: #1967D2;\n",
              "      height: 32px;\n",
              "      padding: 0 0 0 0;\n",
              "      width: 32px;\n",
              "    }\n",
              "\n",
              "    .colab-df-convert:hover {\n",
              "      background-color: #E2EBFA;\n",
              "      box-shadow: 0px 1px 2px rgba(60, 64, 67, 0.3), 0px 1px 3px 1px rgba(60, 64, 67, 0.15);\n",
              "      fill: #174EA6;\n",
              "    }\n",
              "\n",
              "    .colab-df-buttons div {\n",
              "      margin-bottom: 4px;\n",
              "    }\n",
              "\n",
              "    [theme=dark] .colab-df-convert {\n",
              "      background-color: #3B4455;\n",
              "      fill: #D2E3FC;\n",
              "    }\n",
              "\n",
              "    [theme=dark] .colab-df-convert:hover {\n",
              "      background-color: #434B5C;\n",
              "      box-shadow: 0px 1px 3px 1px rgba(0, 0, 0, 0.15);\n",
              "      filter: drop-shadow(0px 1px 2px rgba(0, 0, 0, 0.3));\n",
              "      fill: #FFFFFF;\n",
              "    }\n",
              "  </style>\n",
              "\n",
              "    <script>\n",
              "      const buttonEl =\n",
              "        document.querySelector('#df-5a6d6c78-7b33-4bd9-9335-cb0b67788d79 button.colab-df-convert');\n",
              "      buttonEl.style.display =\n",
              "        google.colab.kernel.accessAllowed ? 'block' : 'none';\n",
              "\n",
              "      async function convertToInteractive(key) {\n",
              "        const element = document.querySelector('#df-5a6d6c78-7b33-4bd9-9335-cb0b67788d79');\n",
              "        const dataTable =\n",
              "          await google.colab.kernel.invokeFunction('convertToInteractive',\n",
              "                                                    [key], {});\n",
              "        if (!dataTable) return;\n",
              "\n",
              "        const docLinkHtml = 'Like what you see? Visit the ' +\n",
              "          '<a target=\"_blank\" href=https://colab.research.google.com/notebooks/data_table.ipynb>data table notebook</a>'\n",
              "          + ' to learn more about interactive tables.';\n",
              "        element.innerHTML = '';\n",
              "        dataTable['output_type'] = 'display_data';\n",
              "        await google.colab.output.renderOutput(dataTable, element);\n",
              "        const docLink = document.createElement('div');\n",
              "        docLink.innerHTML = docLinkHtml;\n",
              "        element.appendChild(docLink);\n",
              "      }\n",
              "    </script>\n",
              "  </div>\n",
              "\n",
              "\n",
              "<div id=\"df-23026544-38d6-4365-9736-8b2d9005b87f\">\n",
              "  <button class=\"colab-df-quickchart\" onclick=\"quickchart('df-23026544-38d6-4365-9736-8b2d9005b87f')\"\n",
              "            title=\"Suggest charts\"\n",
              "            style=\"display:none;\">\n",
              "\n",
              "<svg xmlns=\"http://www.w3.org/2000/svg\" height=\"24px\"viewBox=\"0 0 24 24\"\n",
              "     width=\"24px\">\n",
              "    <g>\n",
              "        <path d=\"M19 3H5c-1.1 0-2 .9-2 2v14c0 1.1.9 2 2 2h14c1.1 0 2-.9 2-2V5c0-1.1-.9-2-2-2zM9 17H7v-7h2v7zm4 0h-2V7h2v10zm4 0h-2v-4h2v4z\"/>\n",
              "    </g>\n",
              "</svg>\n",
              "  </button>\n",
              "\n",
              "<style>\n",
              "  .colab-df-quickchart {\n",
              "      --bg-color: #E8F0FE;\n",
              "      --fill-color: #1967D2;\n",
              "      --hover-bg-color: #E2EBFA;\n",
              "      --hover-fill-color: #174EA6;\n",
              "      --disabled-fill-color: #AAA;\n",
              "      --disabled-bg-color: #DDD;\n",
              "  }\n",
              "\n",
              "  [theme=dark] .colab-df-quickchart {\n",
              "      --bg-color: #3B4455;\n",
              "      --fill-color: #D2E3FC;\n",
              "      --hover-bg-color: #434B5C;\n",
              "      --hover-fill-color: #FFFFFF;\n",
              "      --disabled-bg-color: #3B4455;\n",
              "      --disabled-fill-color: #666;\n",
              "  }\n",
              "\n",
              "  .colab-df-quickchart {\n",
              "    background-color: var(--bg-color);\n",
              "    border: none;\n",
              "    border-radius: 50%;\n",
              "    cursor: pointer;\n",
              "    display: none;\n",
              "    fill: var(--fill-color);\n",
              "    height: 32px;\n",
              "    padding: 0;\n",
              "    width: 32px;\n",
              "  }\n",
              "\n",
              "  .colab-df-quickchart:hover {\n",
              "    background-color: var(--hover-bg-color);\n",
              "    box-shadow: 0 1px 2px rgba(60, 64, 67, 0.3), 0 1px 3px 1px rgba(60, 64, 67, 0.15);\n",
              "    fill: var(--button-hover-fill-color);\n",
              "  }\n",
              "\n",
              "  .colab-df-quickchart-complete:disabled,\n",
              "  .colab-df-quickchart-complete:disabled:hover {\n",
              "    background-color: var(--disabled-bg-color);\n",
              "    fill: var(--disabled-fill-color);\n",
              "    box-shadow: none;\n",
              "  }\n",
              "\n",
              "  .colab-df-spinner {\n",
              "    border: 2px solid var(--fill-color);\n",
              "    border-color: transparent;\n",
              "    border-bottom-color: var(--fill-color);\n",
              "    animation:\n",
              "      spin 1s steps(1) infinite;\n",
              "  }\n",
              "\n",
              "  @keyframes spin {\n",
              "    0% {\n",
              "      border-color: transparent;\n",
              "      border-bottom-color: var(--fill-color);\n",
              "      border-left-color: var(--fill-color);\n",
              "    }\n",
              "    20% {\n",
              "      border-color: transparent;\n",
              "      border-left-color: var(--fill-color);\n",
              "      border-top-color: var(--fill-color);\n",
              "    }\n",
              "    30% {\n",
              "      border-color: transparent;\n",
              "      border-left-color: var(--fill-color);\n",
              "      border-top-color: var(--fill-color);\n",
              "      border-right-color: var(--fill-color);\n",
              "    }\n",
              "    40% {\n",
              "      border-color: transparent;\n",
              "      border-right-color: var(--fill-color);\n",
              "      border-top-color: var(--fill-color);\n",
              "    }\n",
              "    60% {\n",
              "      border-color: transparent;\n",
              "      border-right-color: var(--fill-color);\n",
              "    }\n",
              "    80% {\n",
              "      border-color: transparent;\n",
              "      border-right-color: var(--fill-color);\n",
              "      border-bottom-color: var(--fill-color);\n",
              "    }\n",
              "    90% {\n",
              "      border-color: transparent;\n",
              "      border-bottom-color: var(--fill-color);\n",
              "    }\n",
              "  }\n",
              "</style>\n",
              "\n",
              "  <script>\n",
              "    async function quickchart(key) {\n",
              "      const quickchartButtonEl =\n",
              "        document.querySelector('#' + key + ' button');\n",
              "      quickchartButtonEl.disabled = true;  // To prevent multiple clicks.\n",
              "      quickchartButtonEl.classList.add('colab-df-spinner');\n",
              "      try {\n",
              "        const charts = await google.colab.kernel.invokeFunction(\n",
              "            'suggestCharts', [key], {});\n",
              "      } catch (error) {\n",
              "        console.error('Error during call to suggestCharts:', error);\n",
              "      }\n",
              "      quickchartButtonEl.classList.remove('colab-df-spinner');\n",
              "      quickchartButtonEl.classList.add('colab-df-quickchart-complete');\n",
              "    }\n",
              "    (() => {\n",
              "      let quickchartButtonEl =\n",
              "        document.querySelector('#df-23026544-38d6-4365-9736-8b2d9005b87f button');\n",
              "      quickchartButtonEl.style.display =\n",
              "        google.colab.kernel.accessAllowed ? 'block' : 'none';\n",
              "    })();\n",
              "  </script>\n",
              "</div>\n",
              "\n",
              "    </div>\n",
              "  </div>\n"
            ],
            "application/vnd.google.colaboratory.intrinsic+json": {
              "type": "dataframe",
              "variable_name": "data",
              "summary": "{\n  \"name\": \"data\",\n  \"rows\": 614,\n  \"fields\": [\n    {\n      \"column\": \"Loan_ID\",\n      \"properties\": {\n        \"dtype\": \"string\",\n        \"samples\": [\n          \"LP002139\",\n          \"LP002223\",\n          \"LP001570\"\n        ],\n        \"num_unique_values\": 614,\n        \"semantic_type\": \"\",\n        \"description\": \"\"\n      }\n    },\n    {\n      \"column\": \"Gender\",\n      \"properties\": {\n        \"dtype\": \"category\",\n        \"samples\": [\n          \"Female\",\n          \"Male\"\n        ],\n        \"num_unique_values\": 2,\n        \"semantic_type\": \"\",\n        \"description\": \"\"\n      }\n    },\n    {\n      \"column\": \"Married\",\n      \"properties\": {\n        \"dtype\": \"category\",\n        \"samples\": [\n          \"Yes\",\n          \"No\"\n        ],\n        \"num_unique_values\": 2,\n        \"semantic_type\": \"\",\n        \"description\": \"\"\n      }\n    },\n    {\n      \"column\": \"Dependents\",\n      \"properties\": {\n        \"dtype\": \"category\",\n        \"samples\": [\n          \"1\",\n          \"3+\"\n        ],\n        \"num_unique_values\": 4,\n        \"semantic_type\": \"\",\n        \"description\": \"\"\n      }\n    },\n    {\n      \"column\": \"Education\",\n      \"properties\": {\n        \"dtype\": \"category\",\n        \"samples\": [\n          \"Not Graduate\",\n          \"Graduate\"\n        ],\n        \"num_unique_values\": 2,\n        \"semantic_type\": \"\",\n        \"description\": \"\"\n      }\n    },\n    {\n      \"column\": \"Self_Employed\",\n      \"properties\": {\n        \"dtype\": \"category\",\n        \"samples\": [\n          \"Yes\",\n          \"No\"\n        ],\n        \"num_unique_values\": 2,\n        \"semantic_type\": \"\",\n        \"description\": \"\"\n      }\n    },\n    {\n      \"column\": \"ApplicantIncome\",\n      \"properties\": {\n        \"dtype\": \"number\",\n        \"std\": 6109,\n        \"min\": 150,\n        \"max\": 81000,\n        \"samples\": [\n          8333,\n          4342\n        ],\n        \"num_unique_values\": 505,\n        \"semantic_type\": \"\",\n        \"description\": \"\"\n      }\n    },\n    {\n      \"column\": \"CoapplicantIncome\",\n      \"properties\": {\n        \"dtype\": \"number\",\n        \"std\": 2926.2483692241885,\n        \"min\": 0.0,\n        \"max\": 41667.0,\n        \"samples\": [\n          1840.0,\n          2042.0\n        ],\n        \"num_unique_values\": 287,\n        \"semantic_type\": \"\",\n        \"description\": \"\"\n      }\n    },\n    {\n      \"column\": \"LoanAmount\",\n      \"properties\": {\n        \"dtype\": \"number\",\n        \"std\": 85.58732523570545,\n        \"min\": 9.0,\n        \"max\": 700.0,\n        \"samples\": [\n          100.0,\n          70.0\n        ],\n        \"num_unique_values\": 203,\n        \"semantic_type\": \"\",\n        \"description\": \"\"\n      }\n    },\n    {\n      \"column\": \"Loan_Amount_Term\",\n      \"properties\": {\n        \"dtype\": \"number\",\n        \"std\": 65.12040985461256,\n        \"min\": 12.0,\n        \"max\": 480.0,\n        \"samples\": [\n          84.0,\n          120.0\n        ],\n        \"num_unique_values\": 10,\n        \"semantic_type\": \"\",\n        \"description\": \"\"\n      }\n    },\n    {\n      \"column\": \"Credit_History\",\n      \"properties\": {\n        \"dtype\": \"number\",\n        \"std\": 0.3648783192364048,\n        \"min\": 0.0,\n        \"max\": 1.0,\n        \"samples\": [\n          0.0,\n          1.0\n        ],\n        \"num_unique_values\": 2,\n        \"semantic_type\": \"\",\n        \"description\": \"\"\n      }\n    },\n    {\n      \"column\": \"Property_Area\",\n      \"properties\": {\n        \"dtype\": \"category\",\n        \"samples\": [\n          \"Urban\",\n          \"Rural\"\n        ],\n        \"num_unique_values\": 3,\n        \"semantic_type\": \"\",\n        \"description\": \"\"\n      }\n    },\n    {\n      \"column\": \"Loan_Status\",\n      \"properties\": {\n        \"dtype\": \"category\",\n        \"samples\": [\n          \"N\",\n          \"Y\"\n        ],\n        \"num_unique_values\": 2,\n        \"semantic_type\": \"\",\n        \"description\": \"\"\n      }\n    }\n  ]\n}"
            }
          },
          "metadata": {},
          "execution_count": 4
        }
      ]
    },
    {
      "cell_type": "code",
      "source": [
        "# shape of data\n",
        "data.shape"
      ],
      "metadata": {
        "colab": {
          "base_uri": "https://localhost:8080/"
        },
        "id": "GzUkLnDdff_h",
        "outputId": "d0c5bfa2-69a0-4db1-ce8d-47a617ebaaf0"
      },
      "execution_count": 5,
      "outputs": [
        {
          "output_type": "execute_result",
          "data": {
            "text/plain": [
              "(614, 13)"
            ]
          },
          "metadata": {},
          "execution_count": 5
        }
      ]
    },
    {
      "cell_type": "code",
      "source": [
        "# check missing data values\n",
        "data.isnull().sum()"
      ],
      "metadata": {
        "colab": {
          "base_uri": "https://localhost:8080/"
        },
        "id": "FQPNbnbXqupp",
        "outputId": "cdec0ad9-2dc3-4bb3-bfb6-8984d1bc07d8"
      },
      "execution_count": 6,
      "outputs": [
        {
          "output_type": "execute_result",
          "data": {
            "text/plain": [
              "Loan_ID               0\n",
              "Gender               13\n",
              "Married               3\n",
              "Dependents           15\n",
              "Education             0\n",
              "Self_Employed        32\n",
              "ApplicantIncome       0\n",
              "CoapplicantIncome     0\n",
              "LoanAmount           22\n",
              "Loan_Amount_Term     14\n",
              "Credit_History       50\n",
              "Property_Area         0\n",
              "Loan_Status           0\n",
              "dtype: int64"
            ]
          },
          "metadata": {},
          "execution_count": 6
        }
      ]
    },
    {
      "cell_type": "code",
      "source": [
        "# data types of variables - so we know what to fill in!\n",
        "data.dtypes"
      ],
      "metadata": {
        "colab": {
          "base_uri": "https://localhost:8080/"
        },
        "id": "1oSKABNkqyA6",
        "outputId": "6ccf459a-53b7-42e8-b792-7f8812e1807d"
      },
      "execution_count": 7,
      "outputs": [
        {
          "output_type": "execute_result",
          "data": {
            "text/plain": [
              "Loan_ID               object\n",
              "Gender                object\n",
              "Married               object\n",
              "Dependents            object\n",
              "Education             object\n",
              "Self_Employed         object\n",
              "ApplicantIncome        int64\n",
              "CoapplicantIncome    float64\n",
              "LoanAmount           float64\n",
              "Loan_Amount_Term     float64\n",
              "Credit_History       float64\n",
              "Property_Area         object\n",
              "Loan_Status           object\n",
              "dtype: object"
            ]
          },
          "metadata": {},
          "execution_count": 7
        }
      ]
    },
    {
      "cell_type": "markdown",
      "source": [
        "#1. Filling the missing values"
      ],
      "metadata": {
        "id": "44SJ8y2Wq5wV"
      }
    },
    {
      "cell_type": "markdown",
      "source": [
        "### Categorical Data: Mode"
      ],
      "metadata": {
        "id": "FIEKFWpjq-en"
      }
    },
    {
      "cell_type": "code",
      "source": [
        "# filling missing values of categorical variables with mode\n",
        "data['Gender'].fillna(data['Gender'].mode()[0], inplace=True)\n",
        "\n",
        "data['Married'].fillna(data['Married'].mode()[0], inplace=True)\n",
        "\n",
        "data['Dependents'].fillna(data['Dependents'].mode()[0], inplace=True)\n",
        "\n",
        "data['Self_Employed'].fillna(data['Self_Employed'].mode()[0], inplace=True)\n",
        "\n",
        "data['Loan_Amount_Term'].fillna(data['Loan_Amount_Term'].mode()[0], inplace=True)\n",
        "\n",
        "data['Credit_History'].fillna(data['Credit_History'].mode()[0], inplace=True)"
      ],
      "metadata": {
        "id": "lFDYknMXq0p5"
      },
      "execution_count": 8,
      "outputs": []
    },
    {
      "cell_type": "markdown",
      "source": [
        "### Continuous Data: Mean"
      ],
      "metadata": {
        "id": "Satxkde3sDBE"
      }
    },
    {
      "cell_type": "code",
      "source": [
        "# filling missing values of continuous variables with mean\n",
        "data['LoanAmount'].fillna(data['LoanAmount'].mean(), inplace=True)"
      ],
      "metadata": {
        "id": "pJH0rg5IsB0n"
      },
      "execution_count": 9,
      "outputs": []
    },
    {
      "cell_type": "code",
      "source": [
        "# checking missing values after imputing\n",
        "data.isnull().sum()"
      ],
      "metadata": {
        "colab": {
          "base_uri": "https://localhost:8080/"
        },
        "id": "nofabpLrsQGK",
        "outputId": "d3e72547-2907-4df1-ac1b-b78e10c98986"
      },
      "execution_count": 10,
      "outputs": [
        {
          "output_type": "execute_result",
          "data": {
            "text/plain": [
              "Loan_ID              0\n",
              "Gender               0\n",
              "Married              0\n",
              "Dependents           0\n",
              "Education            0\n",
              "Self_Employed        0\n",
              "ApplicantIncome      0\n",
              "CoapplicantIncome    0\n",
              "LoanAmount           0\n",
              "Loan_Amount_Term     0\n",
              "Credit_History       0\n",
              "Property_Area        0\n",
              "Loan_Status          0\n",
              "dtype: int64"
            ]
          },
          "metadata": {},
          "execution_count": 10
        }
      ]
    },
    {
      "cell_type": "markdown",
      "source": [
        "summary: no missing values in any of the columns"
      ],
      "metadata": {
        "id": "aFMzirn8saVl"
      }
    },
    {
      "cell_type": "markdown",
      "source": [
        "### 2. Converting categories to numbers"
      ],
      "metadata": {
        "id": "n1Xd4miuscyV"
      }
    },
    {
      "cell_type": "code",
      "source": [
        "# converting the categories into numbers using map function\n",
        "data['Gender'] = data['Gender'].map({'Male':0, 'Female': 1})\n",
        "data['Married'] = data['Married'].map({'No':0, 'Yes': 1})\n",
        "data['Dependents'] = data['Dependents'].map({'0':0, '1':1, '2':2, '3+':3})\n",
        "data['Education'] = data['Education'].map({'Graduate': 1, 'Not Graduate': 0})\n",
        "data['Self_Employed'] = data['Self_Employed'].map({'No': 0, 'Yes': 1})\n",
        "data['Property_Area'] = data['Property_Area'].map({'Rural': 0, 'Semiurban': 1, 'Urban': 2})\n",
        "data['Loan_Status'] = data['Loan_Status'].map({'N': 0, 'Y': 1})"
      ],
      "metadata": {
        "id": "ISXkT58FsTix"
      },
      "execution_count": 11,
      "outputs": []
    },
    {
      "cell_type": "code",
      "source": [
        "#check data transformation.\n",
        "data.head()"
      ],
      "metadata": {
        "colab": {
          "base_uri": "https://localhost:8080/",
          "height": 226
        },
        "id": "tLLOqpLRtmRR",
        "outputId": "4499b60a-aeda-44a0-d546-08a96531850f"
      },
      "execution_count": 12,
      "outputs": [
        {
          "output_type": "execute_result",
          "data": {
            "text/plain": [
              "    Loan_ID  Gender  Married  Dependents  Education  Self_Employed  \\\n",
              "0  LP001002       0        0           0          1              0   \n",
              "1  LP001003       0        1           1          1              0   \n",
              "2  LP001005       0        1           0          1              1   \n",
              "3  LP001006       0        1           0          0              0   \n",
              "4  LP001008       0        0           0          1              0   \n",
              "\n",
              "   ApplicantIncome  CoapplicantIncome  LoanAmount  Loan_Amount_Term  \\\n",
              "0             5849                0.0  146.412162             360.0   \n",
              "1             4583             1508.0  128.000000             360.0   \n",
              "2             3000                0.0   66.000000             360.0   \n",
              "3             2583             2358.0  120.000000             360.0   \n",
              "4             6000                0.0  141.000000             360.0   \n",
              "\n",
              "   Credit_History  Property_Area  Loan_Status  \n",
              "0             1.0              2            1  \n",
              "1             1.0              0            0  \n",
              "2             1.0              2            1  \n",
              "3             1.0              2            1  \n",
              "4             1.0              2            1  "
            ],
            "text/html": [
              "\n",
              "  <div id=\"df-b968f6d7-d894-42a3-8b0f-d3e1907d6be2\" class=\"colab-df-container\">\n",
              "    <div>\n",
              "<style scoped>\n",
              "    .dataframe tbody tr th:only-of-type {\n",
              "        vertical-align: middle;\n",
              "    }\n",
              "\n",
              "    .dataframe tbody tr th {\n",
              "        vertical-align: top;\n",
              "    }\n",
              "\n",
              "    .dataframe thead th {\n",
              "        text-align: right;\n",
              "    }\n",
              "</style>\n",
              "<table border=\"1\" class=\"dataframe\">\n",
              "  <thead>\n",
              "    <tr style=\"text-align: right;\">\n",
              "      <th></th>\n",
              "      <th>Loan_ID</th>\n",
              "      <th>Gender</th>\n",
              "      <th>Married</th>\n",
              "      <th>Dependents</th>\n",
              "      <th>Education</th>\n",
              "      <th>Self_Employed</th>\n",
              "      <th>ApplicantIncome</th>\n",
              "      <th>CoapplicantIncome</th>\n",
              "      <th>LoanAmount</th>\n",
              "      <th>Loan_Amount_Term</th>\n",
              "      <th>Credit_History</th>\n",
              "      <th>Property_Area</th>\n",
              "      <th>Loan_Status</th>\n",
              "    </tr>\n",
              "  </thead>\n",
              "  <tbody>\n",
              "    <tr>\n",
              "      <th>0</th>\n",
              "      <td>LP001002</td>\n",
              "      <td>0</td>\n",
              "      <td>0</td>\n",
              "      <td>0</td>\n",
              "      <td>1</td>\n",
              "      <td>0</td>\n",
              "      <td>5849</td>\n",
              "      <td>0.0</td>\n",
              "      <td>146.412162</td>\n",
              "      <td>360.0</td>\n",
              "      <td>1.0</td>\n",
              "      <td>2</td>\n",
              "      <td>1</td>\n",
              "    </tr>\n",
              "    <tr>\n",
              "      <th>1</th>\n",
              "      <td>LP001003</td>\n",
              "      <td>0</td>\n",
              "      <td>1</td>\n",
              "      <td>1</td>\n",
              "      <td>1</td>\n",
              "      <td>0</td>\n",
              "      <td>4583</td>\n",
              "      <td>1508.0</td>\n",
              "      <td>128.000000</td>\n",
              "      <td>360.0</td>\n",
              "      <td>1.0</td>\n",
              "      <td>0</td>\n",
              "      <td>0</td>\n",
              "    </tr>\n",
              "    <tr>\n",
              "      <th>2</th>\n",
              "      <td>LP001005</td>\n",
              "      <td>0</td>\n",
              "      <td>1</td>\n",
              "      <td>0</td>\n",
              "      <td>1</td>\n",
              "      <td>1</td>\n",
              "      <td>3000</td>\n",
              "      <td>0.0</td>\n",
              "      <td>66.000000</td>\n",
              "      <td>360.0</td>\n",
              "      <td>1.0</td>\n",
              "      <td>2</td>\n",
              "      <td>1</td>\n",
              "    </tr>\n",
              "    <tr>\n",
              "      <th>3</th>\n",
              "      <td>LP001006</td>\n",
              "      <td>0</td>\n",
              "      <td>1</td>\n",
              "      <td>0</td>\n",
              "      <td>0</td>\n",
              "      <td>0</td>\n",
              "      <td>2583</td>\n",
              "      <td>2358.0</td>\n",
              "      <td>120.000000</td>\n",
              "      <td>360.0</td>\n",
              "      <td>1.0</td>\n",
              "      <td>2</td>\n",
              "      <td>1</td>\n",
              "    </tr>\n",
              "    <tr>\n",
              "      <th>4</th>\n",
              "      <td>LP001008</td>\n",
              "      <td>0</td>\n",
              "      <td>0</td>\n",
              "      <td>0</td>\n",
              "      <td>1</td>\n",
              "      <td>0</td>\n",
              "      <td>6000</td>\n",
              "      <td>0.0</td>\n",
              "      <td>141.000000</td>\n",
              "      <td>360.0</td>\n",
              "      <td>1.0</td>\n",
              "      <td>2</td>\n",
              "      <td>1</td>\n",
              "    </tr>\n",
              "  </tbody>\n",
              "</table>\n",
              "</div>\n",
              "    <div class=\"colab-df-buttons\">\n",
              "\n",
              "  <div class=\"colab-df-container\">\n",
              "    <button class=\"colab-df-convert\" onclick=\"convertToInteractive('df-b968f6d7-d894-42a3-8b0f-d3e1907d6be2')\"\n",
              "            title=\"Convert this dataframe to an interactive table.\"\n",
              "            style=\"display:none;\">\n",
              "\n",
              "  <svg xmlns=\"http://www.w3.org/2000/svg\" height=\"24px\" viewBox=\"0 -960 960 960\">\n",
              "    <path d=\"M120-120v-720h720v720H120Zm60-500h600v-160H180v160Zm220 220h160v-160H400v160Zm0 220h160v-160H400v160ZM180-400h160v-160H180v160Zm440 0h160v-160H620v160ZM180-180h160v-160H180v160Zm440 0h160v-160H620v160Z\"/>\n",
              "  </svg>\n",
              "    </button>\n",
              "\n",
              "  <style>\n",
              "    .colab-df-container {\n",
              "      display:flex;\n",
              "      gap: 12px;\n",
              "    }\n",
              "\n",
              "    .colab-df-convert {\n",
              "      background-color: #E8F0FE;\n",
              "      border: none;\n",
              "      border-radius: 50%;\n",
              "      cursor: pointer;\n",
              "      display: none;\n",
              "      fill: #1967D2;\n",
              "      height: 32px;\n",
              "      padding: 0 0 0 0;\n",
              "      width: 32px;\n",
              "    }\n",
              "\n",
              "    .colab-df-convert:hover {\n",
              "      background-color: #E2EBFA;\n",
              "      box-shadow: 0px 1px 2px rgba(60, 64, 67, 0.3), 0px 1px 3px 1px rgba(60, 64, 67, 0.15);\n",
              "      fill: #174EA6;\n",
              "    }\n",
              "\n",
              "    .colab-df-buttons div {\n",
              "      margin-bottom: 4px;\n",
              "    }\n",
              "\n",
              "    [theme=dark] .colab-df-convert {\n",
              "      background-color: #3B4455;\n",
              "      fill: #D2E3FC;\n",
              "    }\n",
              "\n",
              "    [theme=dark] .colab-df-convert:hover {\n",
              "      background-color: #434B5C;\n",
              "      box-shadow: 0px 1px 3px 1px rgba(0, 0, 0, 0.15);\n",
              "      filter: drop-shadow(0px 1px 2px rgba(0, 0, 0, 0.3));\n",
              "      fill: #FFFFFF;\n",
              "    }\n",
              "  </style>\n",
              "\n",
              "    <script>\n",
              "      const buttonEl =\n",
              "        document.querySelector('#df-b968f6d7-d894-42a3-8b0f-d3e1907d6be2 button.colab-df-convert');\n",
              "      buttonEl.style.display =\n",
              "        google.colab.kernel.accessAllowed ? 'block' : 'none';\n",
              "\n",
              "      async function convertToInteractive(key) {\n",
              "        const element = document.querySelector('#df-b968f6d7-d894-42a3-8b0f-d3e1907d6be2');\n",
              "        const dataTable =\n",
              "          await google.colab.kernel.invokeFunction('convertToInteractive',\n",
              "                                                    [key], {});\n",
              "        if (!dataTable) return;\n",
              "\n",
              "        const docLinkHtml = 'Like what you see? Visit the ' +\n",
              "          '<a target=\"_blank\" href=https://colab.research.google.com/notebooks/data_table.ipynb>data table notebook</a>'\n",
              "          + ' to learn more about interactive tables.';\n",
              "        element.innerHTML = '';\n",
              "        dataTable['output_type'] = 'display_data';\n",
              "        await google.colab.output.renderOutput(dataTable, element);\n",
              "        const docLink = document.createElement('div');\n",
              "        docLink.innerHTML = docLinkHtml;\n",
              "        element.appendChild(docLink);\n",
              "      }\n",
              "    </script>\n",
              "  </div>\n",
              "\n",
              "\n",
              "<div id=\"df-3d458906-a2da-4651-8fdc-ec41464eeb34\">\n",
              "  <button class=\"colab-df-quickchart\" onclick=\"quickchart('df-3d458906-a2da-4651-8fdc-ec41464eeb34')\"\n",
              "            title=\"Suggest charts\"\n",
              "            style=\"display:none;\">\n",
              "\n",
              "<svg xmlns=\"http://www.w3.org/2000/svg\" height=\"24px\"viewBox=\"0 0 24 24\"\n",
              "     width=\"24px\">\n",
              "    <g>\n",
              "        <path d=\"M19 3H5c-1.1 0-2 .9-2 2v14c0 1.1.9 2 2 2h14c1.1 0 2-.9 2-2V5c0-1.1-.9-2-2-2zM9 17H7v-7h2v7zm4 0h-2V7h2v10zm4 0h-2v-4h2v4z\"/>\n",
              "    </g>\n",
              "</svg>\n",
              "  </button>\n",
              "\n",
              "<style>\n",
              "  .colab-df-quickchart {\n",
              "      --bg-color: #E8F0FE;\n",
              "      --fill-color: #1967D2;\n",
              "      --hover-bg-color: #E2EBFA;\n",
              "      --hover-fill-color: #174EA6;\n",
              "      --disabled-fill-color: #AAA;\n",
              "      --disabled-bg-color: #DDD;\n",
              "  }\n",
              "\n",
              "  [theme=dark] .colab-df-quickchart {\n",
              "      --bg-color: #3B4455;\n",
              "      --fill-color: #D2E3FC;\n",
              "      --hover-bg-color: #434B5C;\n",
              "      --hover-fill-color: #FFFFFF;\n",
              "      --disabled-bg-color: #3B4455;\n",
              "      --disabled-fill-color: #666;\n",
              "  }\n",
              "\n",
              "  .colab-df-quickchart {\n",
              "    background-color: var(--bg-color);\n",
              "    border: none;\n",
              "    border-radius: 50%;\n",
              "    cursor: pointer;\n",
              "    display: none;\n",
              "    fill: var(--fill-color);\n",
              "    height: 32px;\n",
              "    padding: 0;\n",
              "    width: 32px;\n",
              "  }\n",
              "\n",
              "  .colab-df-quickchart:hover {\n",
              "    background-color: var(--hover-bg-color);\n",
              "    box-shadow: 0 1px 2px rgba(60, 64, 67, 0.3), 0 1px 3px 1px rgba(60, 64, 67, 0.15);\n",
              "    fill: var(--button-hover-fill-color);\n",
              "  }\n",
              "\n",
              "  .colab-df-quickchart-complete:disabled,\n",
              "  .colab-df-quickchart-complete:disabled:hover {\n",
              "    background-color: var(--disabled-bg-color);\n",
              "    fill: var(--disabled-fill-color);\n",
              "    box-shadow: none;\n",
              "  }\n",
              "\n",
              "  .colab-df-spinner {\n",
              "    border: 2px solid var(--fill-color);\n",
              "    border-color: transparent;\n",
              "    border-bottom-color: var(--fill-color);\n",
              "    animation:\n",
              "      spin 1s steps(1) infinite;\n",
              "  }\n",
              "\n",
              "  @keyframes spin {\n",
              "    0% {\n",
              "      border-color: transparent;\n",
              "      border-bottom-color: var(--fill-color);\n",
              "      border-left-color: var(--fill-color);\n",
              "    }\n",
              "    20% {\n",
              "      border-color: transparent;\n",
              "      border-left-color: var(--fill-color);\n",
              "      border-top-color: var(--fill-color);\n",
              "    }\n",
              "    30% {\n",
              "      border-color: transparent;\n",
              "      border-left-color: var(--fill-color);\n",
              "      border-top-color: var(--fill-color);\n",
              "      border-right-color: var(--fill-color);\n",
              "    }\n",
              "    40% {\n",
              "      border-color: transparent;\n",
              "      border-right-color: var(--fill-color);\n",
              "      border-top-color: var(--fill-color);\n",
              "    }\n",
              "    60% {\n",
              "      border-color: transparent;\n",
              "      border-right-color: var(--fill-color);\n",
              "    }\n",
              "    80% {\n",
              "      border-color: transparent;\n",
              "      border-right-color: var(--fill-color);\n",
              "      border-bottom-color: var(--fill-color);\n",
              "    }\n",
              "    90% {\n",
              "      border-color: transparent;\n",
              "      border-bottom-color: var(--fill-color);\n",
              "    }\n",
              "  }\n",
              "</style>\n",
              "\n",
              "  <script>\n",
              "    async function quickchart(key) {\n",
              "      const quickchartButtonEl =\n",
              "        document.querySelector('#' + key + ' button');\n",
              "      quickchartButtonEl.disabled = true;  // To prevent multiple clicks.\n",
              "      quickchartButtonEl.classList.add('colab-df-spinner');\n",
              "      try {\n",
              "        const charts = await google.colab.kernel.invokeFunction(\n",
              "            'suggestCharts', [key], {});\n",
              "      } catch (error) {\n",
              "        console.error('Error during call to suggestCharts:', error);\n",
              "      }\n",
              "      quickchartButtonEl.classList.remove('colab-df-spinner');\n",
              "      quickchartButtonEl.classList.add('colab-df-quickchart-complete');\n",
              "    }\n",
              "    (() => {\n",
              "      let quickchartButtonEl =\n",
              "        document.querySelector('#df-3d458906-a2da-4651-8fdc-ec41464eeb34 button');\n",
              "      quickchartButtonEl.style.display =\n",
              "        google.colab.kernel.accessAllowed ? 'block' : 'none';\n",
              "    })();\n",
              "  </script>\n",
              "</div>\n",
              "\n",
              "    </div>\n",
              "  </div>\n"
            ],
            "application/vnd.google.colaboratory.intrinsic+json": {
              "type": "dataframe",
              "variable_name": "data",
              "summary": "{\n  \"name\": \"data\",\n  \"rows\": 614,\n  \"fields\": [\n    {\n      \"column\": \"Loan_ID\",\n      \"properties\": {\n        \"dtype\": \"string\",\n        \"samples\": [\n          \"LP002139\",\n          \"LP002223\",\n          \"LP001570\"\n        ],\n        \"num_unique_values\": 614,\n        \"semantic_type\": \"\",\n        \"description\": \"\"\n      }\n    },\n    {\n      \"column\": \"Gender\",\n      \"properties\": {\n        \"dtype\": \"number\",\n        \"std\": 0,\n        \"min\": 0,\n        \"max\": 1,\n        \"samples\": [\n          1,\n          0\n        ],\n        \"num_unique_values\": 2,\n        \"semantic_type\": \"\",\n        \"description\": \"\"\n      }\n    },\n    {\n      \"column\": \"Married\",\n      \"properties\": {\n        \"dtype\": \"number\",\n        \"std\": 0,\n        \"min\": 0,\n        \"max\": 1,\n        \"samples\": [\n          1,\n          0\n        ],\n        \"num_unique_values\": 2,\n        \"semantic_type\": \"\",\n        \"description\": \"\"\n      }\n    },\n    {\n      \"column\": \"Dependents\",\n      \"properties\": {\n        \"dtype\": \"number\",\n        \"std\": 1,\n        \"min\": 0,\n        \"max\": 3,\n        \"samples\": [\n          1,\n          3\n        ],\n        \"num_unique_values\": 4,\n        \"semantic_type\": \"\",\n        \"description\": \"\"\n      }\n    },\n    {\n      \"column\": \"Education\",\n      \"properties\": {\n        \"dtype\": \"number\",\n        \"std\": 0,\n        \"min\": 0,\n        \"max\": 1,\n        \"samples\": [\n          0,\n          1\n        ],\n        \"num_unique_values\": 2,\n        \"semantic_type\": \"\",\n        \"description\": \"\"\n      }\n    },\n    {\n      \"column\": \"Self_Employed\",\n      \"properties\": {\n        \"dtype\": \"number\",\n        \"std\": 0,\n        \"min\": 0,\n        \"max\": 1,\n        \"samples\": [\n          1,\n          0\n        ],\n        \"num_unique_values\": 2,\n        \"semantic_type\": \"\",\n        \"description\": \"\"\n      }\n    },\n    {\n      \"column\": \"ApplicantIncome\",\n      \"properties\": {\n        \"dtype\": \"number\",\n        \"std\": 6109,\n        \"min\": 150,\n        \"max\": 81000,\n        \"samples\": [\n          8333,\n          4342\n        ],\n        \"num_unique_values\": 505,\n        \"semantic_type\": \"\",\n        \"description\": \"\"\n      }\n    },\n    {\n      \"column\": \"CoapplicantIncome\",\n      \"properties\": {\n        \"dtype\": \"number\",\n        \"std\": 2926.2483692241885,\n        \"min\": 0.0,\n        \"max\": 41667.0,\n        \"samples\": [\n          1840.0,\n          2042.0\n        ],\n        \"num_unique_values\": 287,\n        \"semantic_type\": \"\",\n        \"description\": \"\"\n      }\n    },\n    {\n      \"column\": \"LoanAmount\",\n      \"properties\": {\n        \"dtype\": \"number\",\n        \"std\": 84.03746768319648,\n        \"min\": 9.0,\n        \"max\": 700.0,\n        \"samples\": [\n          125.0,\n          349.0\n        ],\n        \"num_unique_values\": 204,\n        \"semantic_type\": \"\",\n        \"description\": \"\"\n      }\n    },\n    {\n      \"column\": \"Loan_Amount_Term\",\n      \"properties\": {\n        \"dtype\": \"number\",\n        \"std\": 64.42862906767307,\n        \"min\": 12.0,\n        \"max\": 480.0,\n        \"samples\": [\n          84.0,\n          120.0\n        ],\n        \"num_unique_values\": 10,\n        \"semantic_type\": \"\",\n        \"description\": \"\"\n      }\n    },\n    {\n      \"column\": \"Credit_History\",\n      \"properties\": {\n        \"dtype\": \"number\",\n        \"std\": 0.3523386063582998,\n        \"min\": 0.0,\n        \"max\": 1.0,\n        \"samples\": [\n          0.0,\n          1.0\n        ],\n        \"num_unique_values\": 2,\n        \"semantic_type\": \"\",\n        \"description\": \"\"\n      }\n    },\n    {\n      \"column\": \"Property_Area\",\n      \"properties\": {\n        \"dtype\": \"number\",\n        \"std\": 0,\n        \"min\": 0,\n        \"max\": 2,\n        \"samples\": [\n          2,\n          0\n        ],\n        \"num_unique_values\": 3,\n        \"semantic_type\": \"\",\n        \"description\": \"\"\n      }\n    },\n    {\n      \"column\": \"Loan_Status\",\n      \"properties\": {\n        \"dtype\": \"number\",\n        \"std\": 0,\n        \"min\": 0,\n        \"max\": 1,\n        \"samples\": [\n          0,\n          1\n        ],\n        \"num_unique_values\": 2,\n        \"semantic_type\": \"\",\n        \"description\": \"\"\n      }\n    }\n  ]\n}"
            }
          },
          "metadata": {},
          "execution_count": 12
        }
      ]
    },
    {
      "cell_type": "markdown",
      "source": [
        "summary: All categorical columns are one-hot encoded now!"
      ],
      "metadata": {
        "id": "zgtl6Uimt1DL"
      }
    },
    {
      "cell_type": "markdown",
      "source": [
        "# 3. Bringing all the variables in range 0 to 1\n",
        "\n",
        "![image.png](data:image/png;base64,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)"
      ],
      "metadata": {
        "id": "P7bunfpet4zZ"
      }
    },
    {
      "cell_type": "code",
      "source": [
        "# bring variables in to range 0 to 1 using equation above\n",
        "data['Dependents']=(data['Dependents']-data['Dependents'].min())/(data['Dependents'].max()-data['Dependents'].min())"
      ],
      "metadata": {
        "id": "j5gsoQm8twbH"
      },
      "execution_count": 13,
      "outputs": []
    },
    {
      "cell_type": "code",
      "source": [
        "# applying for loop to bring all variables in range 0 to 1\n",
        "\n",
        "for i in data.columns[1:]:\n",
        "  data[i] = (data[i] - data[i].min()) / (data[i].max() - data[i].min())"
      ],
      "metadata": {
        "id": "gPNhFaU4uQsB"
      },
      "execution_count": 14,
      "outputs": []
    },
    {
      "cell_type": "code",
      "source": [
        "# check again looking at first 5 rows of pre-processed data\n",
        "data.head()"
      ],
      "metadata": {
        "colab": {
          "base_uri": "https://localhost:8080/",
          "height": 226
        },
        "id": "MA5wFLnVuuCY",
        "outputId": "a83debd4-9839-49a5-df30-347379616979"
      },
      "execution_count": 15,
      "outputs": [
        {
          "output_type": "execute_result",
          "data": {
            "text/plain": [
              "    Loan_ID  Gender  Married  Dependents  Education  Self_Employed  \\\n",
              "0  LP001002     0.0      0.0    0.000000        1.0            0.0   \n",
              "1  LP001003     0.0      1.0    0.333333        1.0            0.0   \n",
              "2  LP001005     0.0      1.0    0.000000        1.0            1.0   \n",
              "3  LP001006     0.0      1.0    0.000000        0.0            0.0   \n",
              "4  LP001008     0.0      0.0    0.000000        1.0            0.0   \n",
              "\n",
              "   ApplicantIncome  CoapplicantIncome  LoanAmount  Loan_Amount_Term  \\\n",
              "0         0.070489           0.000000    0.198860           0.74359   \n",
              "1         0.054830           0.036192    0.172214           0.74359   \n",
              "2         0.035250           0.000000    0.082489           0.74359   \n",
              "3         0.030093           0.056592    0.160637           0.74359   \n",
              "4         0.072356           0.000000    0.191027           0.74359   \n",
              "\n",
              "   Credit_History  Property_Area  Loan_Status  \n",
              "0             1.0            1.0          1.0  \n",
              "1             1.0            0.0          0.0  \n",
              "2             1.0            1.0          1.0  \n",
              "3             1.0            1.0          1.0  \n",
              "4             1.0            1.0          1.0  "
            ],
            "text/html": [
              "\n",
              "  <div id=\"df-4f84ea52-a8ef-4d0c-a1d7-050f9b89ff18\" class=\"colab-df-container\">\n",
              "    <div>\n",
              "<style scoped>\n",
              "    .dataframe tbody tr th:only-of-type {\n",
              "        vertical-align: middle;\n",
              "    }\n",
              "\n",
              "    .dataframe tbody tr th {\n",
              "        vertical-align: top;\n",
              "    }\n",
              "\n",
              "    .dataframe thead th {\n",
              "        text-align: right;\n",
              "    }\n",
              "</style>\n",
              "<table border=\"1\" class=\"dataframe\">\n",
              "  <thead>\n",
              "    <tr style=\"text-align: right;\">\n",
              "      <th></th>\n",
              "      <th>Loan_ID</th>\n",
              "      <th>Gender</th>\n",
              "      <th>Married</th>\n",
              "      <th>Dependents</th>\n",
              "      <th>Education</th>\n",
              "      <th>Self_Employed</th>\n",
              "      <th>ApplicantIncome</th>\n",
              "      <th>CoapplicantIncome</th>\n",
              "      <th>LoanAmount</th>\n",
              "      <th>Loan_Amount_Term</th>\n",
              "      <th>Credit_History</th>\n",
              "      <th>Property_Area</th>\n",
              "      <th>Loan_Status</th>\n",
              "    </tr>\n",
              "  </thead>\n",
              "  <tbody>\n",
              "    <tr>\n",
              "      <th>0</th>\n",
              "      <td>LP001002</td>\n",
              "      <td>0.0</td>\n",
              "      <td>0.0</td>\n",
              "      <td>0.000000</td>\n",
              "      <td>1.0</td>\n",
              "      <td>0.0</td>\n",
              "      <td>0.070489</td>\n",
              "      <td>0.000000</td>\n",
              "      <td>0.198860</td>\n",
              "      <td>0.74359</td>\n",
              "      <td>1.0</td>\n",
              "      <td>1.0</td>\n",
              "      <td>1.0</td>\n",
              "    </tr>\n",
              "    <tr>\n",
              "      <th>1</th>\n",
              "      <td>LP001003</td>\n",
              "      <td>0.0</td>\n",
              "      <td>1.0</td>\n",
              "      <td>0.333333</td>\n",
              "      <td>1.0</td>\n",
              "      <td>0.0</td>\n",
              "      <td>0.054830</td>\n",
              "      <td>0.036192</td>\n",
              "      <td>0.172214</td>\n",
              "      <td>0.74359</td>\n",
              "      <td>1.0</td>\n",
              "      <td>0.0</td>\n",
              "      <td>0.0</td>\n",
              "    </tr>\n",
              "    <tr>\n",
              "      <th>2</th>\n",
              "      <td>LP001005</td>\n",
              "      <td>0.0</td>\n",
              "      <td>1.0</td>\n",
              "      <td>0.000000</td>\n",
              "      <td>1.0</td>\n",
              "      <td>1.0</td>\n",
              "      <td>0.035250</td>\n",
              "      <td>0.000000</td>\n",
              "      <td>0.082489</td>\n",
              "      <td>0.74359</td>\n",
              "      <td>1.0</td>\n",
              "      <td>1.0</td>\n",
              "      <td>1.0</td>\n",
              "    </tr>\n",
              "    <tr>\n",
              "      <th>3</th>\n",
              "      <td>LP001006</td>\n",
              "      <td>0.0</td>\n",
              "      <td>1.0</td>\n",
              "      <td>0.000000</td>\n",
              "      <td>0.0</td>\n",
              "      <td>0.0</td>\n",
              "      <td>0.030093</td>\n",
              "      <td>0.056592</td>\n",
              "      <td>0.160637</td>\n",
              "      <td>0.74359</td>\n",
              "      <td>1.0</td>\n",
              "      <td>1.0</td>\n",
              "      <td>1.0</td>\n",
              "    </tr>\n",
              "    <tr>\n",
              "      <th>4</th>\n",
              "      <td>LP001008</td>\n",
              "      <td>0.0</td>\n",
              "      <td>0.0</td>\n",
              "      <td>0.000000</td>\n",
              "      <td>1.0</td>\n",
              "      <td>0.0</td>\n",
              "      <td>0.072356</td>\n",
              "      <td>0.000000</td>\n",
              "      <td>0.191027</td>\n",
              "      <td>0.74359</td>\n",
              "      <td>1.0</td>\n",
              "      <td>1.0</td>\n",
              "      <td>1.0</td>\n",
              "    </tr>\n",
              "  </tbody>\n",
              "</table>\n",
              "</div>\n",
              "    <div class=\"colab-df-buttons\">\n",
              "\n",
              "  <div class=\"colab-df-container\">\n",
              "    <button class=\"colab-df-convert\" onclick=\"convertToInteractive('df-4f84ea52-a8ef-4d0c-a1d7-050f9b89ff18')\"\n",
              "            title=\"Convert this dataframe to an interactive table.\"\n",
              "            style=\"display:none;\">\n",
              "\n",
              "  <svg xmlns=\"http://www.w3.org/2000/svg\" height=\"24px\" viewBox=\"0 -960 960 960\">\n",
              "    <path d=\"M120-120v-720h720v720H120Zm60-500h600v-160H180v160Zm220 220h160v-160H400v160Zm0 220h160v-160H400v160ZM180-400h160v-160H180v160Zm440 0h160v-160H620v160ZM180-180h160v-160H180v160Zm440 0h160v-160H620v160Z\"/>\n",
              "  </svg>\n",
              "    </button>\n",
              "\n",
              "  <style>\n",
              "    .colab-df-container {\n",
              "      display:flex;\n",
              "      gap: 12px;\n",
              "    }\n",
              "\n",
              "    .colab-df-convert {\n",
              "      background-color: #E8F0FE;\n",
              "      border: none;\n",
              "      border-radius: 50%;\n",
              "      cursor: pointer;\n",
              "      display: none;\n",
              "      fill: #1967D2;\n",
              "      height: 32px;\n",
              "      padding: 0 0 0 0;\n",
              "      width: 32px;\n",
              "    }\n",
              "\n",
              "    .colab-df-convert:hover {\n",
              "      background-color: #E2EBFA;\n",
              "      box-shadow: 0px 1px 2px rgba(60, 64, 67, 0.3), 0px 1px 3px 1px rgba(60, 64, 67, 0.15);\n",
              "      fill: #174EA6;\n",
              "    }\n",
              "\n",
              "    .colab-df-buttons div {\n",
              "      margin-bottom: 4px;\n",
              "    }\n",
              "\n",
              "    [theme=dark] .colab-df-convert {\n",
              "      background-color: #3B4455;\n",
              "      fill: #D2E3FC;\n",
              "    }\n",
              "\n",
              "    [theme=dark] .colab-df-convert:hover {\n",
              "      background-color: #434B5C;\n",
              "      box-shadow: 0px 1px 3px 1px rgba(0, 0, 0, 0.15);\n",
              "      filter: drop-shadow(0px 1px 2px rgba(0, 0, 0, 0.3));\n",
              "      fill: #FFFFFF;\n",
              "    }\n",
              "  </style>\n",
              "\n",
              "    <script>\n",
              "      const buttonEl =\n",
              "        document.querySelector('#df-4f84ea52-a8ef-4d0c-a1d7-050f9b89ff18 button.colab-df-convert');\n",
              "      buttonEl.style.display =\n",
              "        google.colab.kernel.accessAllowed ? 'block' : 'none';\n",
              "\n",
              "      async function convertToInteractive(key) {\n",
              "        const element = document.querySelector('#df-4f84ea52-a8ef-4d0c-a1d7-050f9b89ff18');\n",
              "        const dataTable =\n",
              "          await google.colab.kernel.invokeFunction('convertToInteractive',\n",
              "                                                    [key], {});\n",
              "        if (!dataTable) return;\n",
              "\n",
              "        const docLinkHtml = 'Like what you see? Visit the ' +\n",
              "          '<a target=\"_blank\" href=https://colab.research.google.com/notebooks/data_table.ipynb>data table notebook</a>'\n",
              "          + ' to learn more about interactive tables.';\n",
              "        element.innerHTML = '';\n",
              "        dataTable['output_type'] = 'display_data';\n",
              "        await google.colab.output.renderOutput(dataTable, element);\n",
              "        const docLink = document.createElement('div');\n",
              "        docLink.innerHTML = docLinkHtml;\n",
              "        element.appendChild(docLink);\n",
              "      }\n",
              "    </script>\n",
              "  </div>\n",
              "\n",
              "\n",
              "<div id=\"df-528b48af-fa35-4ac5-a240-b11d05f9bb6a\">\n",
              "  <button class=\"colab-df-quickchart\" onclick=\"quickchart('df-528b48af-fa35-4ac5-a240-b11d05f9bb6a')\"\n",
              "            title=\"Suggest charts\"\n",
              "            style=\"display:none;\">\n",
              "\n",
              "<svg xmlns=\"http://www.w3.org/2000/svg\" height=\"24px\"viewBox=\"0 0 24 24\"\n",
              "     width=\"24px\">\n",
              "    <g>\n",
              "        <path d=\"M19 3H5c-1.1 0-2 .9-2 2v14c0 1.1.9 2 2 2h14c1.1 0 2-.9 2-2V5c0-1.1-.9-2-2-2zM9 17H7v-7h2v7zm4 0h-2V7h2v10zm4 0h-2v-4h2v4z\"/>\n",
              "    </g>\n",
              "</svg>\n",
              "  </button>\n",
              "\n",
              "<style>\n",
              "  .colab-df-quickchart {\n",
              "      --bg-color: #E8F0FE;\n",
              "      --fill-color: #1967D2;\n",
              "      --hover-bg-color: #E2EBFA;\n",
              "      --hover-fill-color: #174EA6;\n",
              "      --disabled-fill-color: #AAA;\n",
              "      --disabled-bg-color: #DDD;\n",
              "  }\n",
              "\n",
              "  [theme=dark] .colab-df-quickchart {\n",
              "      --bg-color: #3B4455;\n",
              "      --fill-color: #D2E3FC;\n",
              "      --hover-bg-color: #434B5C;\n",
              "      --hover-fill-color: #FFFFFF;\n",
              "      --disabled-bg-color: #3B4455;\n",
              "      --disabled-fill-color: #666;\n",
              "  }\n",
              "\n",
              "  .colab-df-quickchart {\n",
              "    background-color: var(--bg-color);\n",
              "    border: none;\n",
              "    border-radius: 50%;\n",
              "    cursor: pointer;\n",
              "    display: none;\n",
              "    fill: var(--fill-color);\n",
              "    height: 32px;\n",
              "    padding: 0;\n",
              "    width: 32px;\n",
              "  }\n",
              "\n",
              "  .colab-df-quickchart:hover {\n",
              "    background-color: var(--hover-bg-color);\n",
              "    box-shadow: 0 1px 2px rgba(60, 64, 67, 0.3), 0 1px 3px 1px rgba(60, 64, 67, 0.15);\n",
              "    fill: var(--button-hover-fill-color);\n",
              "  }\n",
              "\n",
              "  .colab-df-quickchart-complete:disabled,\n",
              "  .colab-df-quickchart-complete:disabled:hover {\n",
              "    background-color: var(--disabled-bg-color);\n",
              "    fill: var(--disabled-fill-color);\n",
              "    box-shadow: none;\n",
              "  }\n",
              "\n",
              "  .colab-df-spinner {\n",
              "    border: 2px solid var(--fill-color);\n",
              "    border-color: transparent;\n",
              "    border-bottom-color: var(--fill-color);\n",
              "    animation:\n",
              "      spin 1s steps(1) infinite;\n",
              "  }\n",
              "\n",
              "  @keyframes spin {\n",
              "    0% {\n",
              "      border-color: transparent;\n",
              "      border-bottom-color: var(--fill-color);\n",
              "      border-left-color: var(--fill-color);\n",
              "    }\n",
              "    20% {\n",
              "      border-color: transparent;\n",
              "      border-left-color: var(--fill-color);\n",
              "      border-top-color: var(--fill-color);\n",
              "    }\n",
              "    30% {\n",
              "      border-color: transparent;\n",
              "      border-left-color: var(--fill-color);\n",
              "      border-top-color: var(--fill-color);\n",
              "      border-right-color: var(--fill-color);\n",
              "    }\n",
              "    40% {\n",
              "      border-color: transparent;\n",
              "      border-right-color: var(--fill-color);\n",
              "      border-top-color: var(--fill-color);\n",
              "    }\n",
              "    60% {\n",
              "      border-color: transparent;\n",
              "      border-right-color: var(--fill-color);\n",
              "    }\n",
              "    80% {\n",
              "      border-color: transparent;\n",
              "      border-right-color: var(--fill-color);\n",
              "      border-bottom-color: var(--fill-color);\n",
              "    }\n",
              "    90% {\n",
              "      border-color: transparent;\n",
              "      border-bottom-color: var(--fill-color);\n",
              "    }\n",
              "  }\n",
              "</style>\n",
              "\n",
              "  <script>\n",
              "    async function quickchart(key) {\n",
              "      const quickchartButtonEl =\n",
              "        document.querySelector('#' + key + ' button');\n",
              "      quickchartButtonEl.disabled = true;  // To prevent multiple clicks.\n",
              "      quickchartButtonEl.classList.add('colab-df-spinner');\n",
              "      try {\n",
              "        const charts = await google.colab.kernel.invokeFunction(\n",
              "            'suggestCharts', [key], {});\n",
              "      } catch (error) {\n",
              "        console.error('Error during call to suggestCharts:', error);\n",
              "      }\n",
              "      quickchartButtonEl.classList.remove('colab-df-spinner');\n",
              "      quickchartButtonEl.classList.add('colab-df-quickchart-complete');\n",
              "    }\n",
              "    (() => {\n",
              "      let quickchartButtonEl =\n",
              "        document.querySelector('#df-528b48af-fa35-4ac5-a240-b11d05f9bb6a button');\n",
              "      quickchartButtonEl.style.display =\n",
              "        google.colab.kernel.accessAllowed ? 'block' : 'none';\n",
              "    })();\n",
              "  </script>\n",
              "</div>\n",
              "\n",
              "    </div>\n",
              "  </div>\n"
            ],
            "application/vnd.google.colaboratory.intrinsic+json": {
              "type": "dataframe",
              "variable_name": "data",
              "summary": "{\n  \"name\": \"data\",\n  \"rows\": 614,\n  \"fields\": [\n    {\n      \"column\": \"Loan_ID\",\n      \"properties\": {\n        \"dtype\": \"string\",\n        \"samples\": [\n          \"LP002139\",\n          \"LP002223\",\n          \"LP001570\"\n        ],\n        \"num_unique_values\": 614,\n        \"semantic_type\": \"\",\n        \"description\": \"\"\n      }\n    },\n    {\n      \"column\": \"Gender\",\n      \"properties\": {\n        \"dtype\": \"number\",\n        \"std\": 0.38649728461761046,\n        \"min\": 0.0,\n        \"max\": 1.0,\n        \"samples\": [\n          1.0,\n          0.0\n        ],\n        \"num_unique_values\": 2,\n        \"semantic_type\": \"\",\n        \"description\": \"\"\n      }\n    },\n    {\n      \"column\": \"Married\",\n      \"properties\": {\n        \"dtype\": \"number\",\n        \"std\": 0.47637346810166864,\n        \"min\": 0.0,\n        \"max\": 1.0,\n        \"samples\": [\n          1.0,\n          0.0\n        ],\n        \"num_unique_values\": 2,\n        \"semantic_type\": \"\",\n        \"description\": \"\"\n      }\n    },\n    {\n      \"column\": \"Dependents\",\n      \"properties\": {\n        \"dtype\": \"number\",\n        \"std\": 0.33654113081155484,\n        \"min\": 0.0,\n        \"max\": 1.0,\n        \"samples\": [\n          0.3333333333333333,\n          1.0\n        ],\n        \"num_unique_values\": 4,\n        \"semantic_type\": \"\",\n        \"description\": \"\"\n      }\n    },\n    {\n      \"column\": \"Education\",\n      \"properties\": {\n        \"dtype\": \"number\",\n        \"std\": 0.4133886943339805,\n        \"min\": 0.0,\n        \"max\": 1.0,\n        \"samples\": [\n          0.0,\n          1.0\n        ],\n        \"num_unique_values\": 2,\n        \"semantic_type\": \"\",\n        \"description\": \"\"\n      }\n    },\n    {\n      \"column\": \"Self_Employed\",\n      \"properties\": {\n        \"dtype\": \"number\",\n        \"std\": 0.3404460655491334,\n        \"min\": 0.0,\n        \"max\": 1.0,\n        \"samples\": [\n          1.0,\n          0.0\n        ],\n        \"num_unique_values\": 2,\n        \"semantic_type\": \"\",\n        \"description\": \"\"\n      }\n    },\n    {\n      \"column\": \"ApplicantIncome\",\n      \"properties\": {\n        \"dtype\": \"number\",\n        \"std\": 0.0755601938576027,\n        \"min\": 0.0,\n        \"max\": 1.0,\n        \"samples\": [\n          0.10121212121212121,\n          0.0518491032776747\n        ],\n        \"num_unique_values\": 505,\n        \"semantic_type\": \"\",\n        \"description\": \"\"\n      }\n    },\n    {\n      \"column\": \"CoapplicantIncome\",\n      \"properties\": {\n        \"dtype\": \"number\",\n        \"std\": 0.07022939902618831,\n        \"min\": 0.0,\n        \"max\": 1.0,\n        \"samples\": [\n          0.04415964672282622,\n          0.049007607939136485\n        ],\n        \"num_unique_values\": 287,\n        \"semantic_type\": \"\",\n        \"description\": \"\"\n      }\n    },\n    {\n      \"column\": \"LoanAmount\",\n      \"properties\": {\n        \"dtype\": \"number\",\n        \"std\": 0.12161717465006729,\n        \"min\": 0.0,\n        \"max\": 1.0,\n        \"samples\": [\n          0.1678726483357453,\n          0.492040520984081\n        ],\n        \"num_unique_values\": 204,\n        \"semantic_type\": \"\",\n        \"description\": \"\"\n      }\n    },\n    {\n      \"column\": \"Loan_Amount_Term\",\n      \"properties\": {\n        \"dtype\": \"number\",\n        \"std\": 0.13766801082836128,\n        \"min\": 0.0,\n        \"max\": 1.0,\n        \"samples\": [\n          0.15384615384615385,\n          0.23076923076923078\n        ],\n        \"num_unique_values\": 10,\n        \"semantic_type\": \"\",\n        \"description\": \"\"\n      }\n    },\n    {\n      \"column\": \"Credit_History\",\n      \"properties\": {\n        \"dtype\": \"number\",\n        \"std\": 0.3523386063582998,\n        \"min\": 0.0,\n        \"max\": 1.0,\n        \"samples\": [\n          0.0,\n          1.0\n        ],\n        \"num_unique_values\": 2,\n        \"semantic_type\": \"\",\n        \"description\": \"\"\n      }\n    },\n    {\n      \"column\": \"Property_Area\",\n      \"properties\": {\n        \"dtype\": \"number\",\n        \"std\": 0.39374101739259926,\n        \"min\": 0.0,\n        \"max\": 1.0,\n        \"samples\": [\n          1.0,\n          0.0\n        ],\n        \"num_unique_values\": 3,\n        \"semantic_type\": \"\",\n        \"description\": \"\"\n      }\n    },\n    {\n      \"column\": \"Loan_Status\",\n      \"properties\": {\n        \"dtype\": \"number\",\n        \"std\": 0.46397268871800085,\n        \"min\": 0.0,\n        \"max\": 1.0,\n        \"samples\": [\n          0.0,\n          1.0\n        ],\n        \"num_unique_values\": 2,\n        \"semantic_type\": \"\",\n        \"description\": \"\"\n      }\n    }\n  ]\n}"
            }
          },
          "metadata": {},
          "execution_count": 15
        }
      ]
    },
    {
      "cell_type": "code",
      "source": [
        "# saving pre-processed data\n",
        "#data.to_csv('loan_prediction_pre-processed.csv', index=False)"
      ],
      "metadata": {
        "id": "MNUDC5jzuyYV"
      },
      "execution_count": 16,
      "outputs": []
    },
    {
      "cell_type": "markdown",
      "source": [
        "# Steps to build a neural network using Keras\n",
        "1. Loading the dataset\n",
        "2. Creating training and validation set\n",
        "3. Defining the architecture of the model\n",
        "4. Compiling the model (defining loss/cost function, optimizer)\n",
        "\n",
        "Loss/Cost Function: mean_squared_error, binary_crossentropy"
      ],
      "metadata": {
        "id": "f4M95d3wvPAg"
      }
    },
    {
      "cell_type": "code",
      "source": [
        "# import required libraries\n",
        "import pandas as pd\n",
        "import numpy as np\n",
        "import sklearn\n",
        "from sklearn.model_selection import train_test_split\n",
        "from sklearn.metrics import accuracy_score\n",
        "import matplotlib.pyplot as plt\n",
        "%matplotlib inline"
      ],
      "metadata": {
        "id": "gxYBcF0MvoyU"
      },
      "execution_count": 17,
      "outputs": []
    },
    {
      "cell_type": "code",
      "source": [
        "#check version of sklearn\n",
        "print('Version of sklearn:', sklearn.__version__)"
      ],
      "metadata": {
        "colab": {
          "base_uri": "https://localhost:8080/"
        },
        "id": "gabB7is7yL4i",
        "outputId": "b4063c75-d65e-4475-ee4c-58d1f35e7e6a"
      },
      "execution_count": 18,
      "outputs": [
        {
          "output_type": "stream",
          "name": "stdout",
          "text": [
            "Version of sklearn: 1.2.2\n"
          ]
        }
      ]
    },
    {
      "cell_type": "code",
      "source": [
        "# if we were to load the data again in this stage ->\n",
        "# data = pd.read_csv('loan_prediction_data.csv')"
      ],
      "metadata": {
        "id": "zpMzFdNUydNh"
      },
      "execution_count": 19,
      "outputs": []
    },
    {
      "cell_type": "code",
      "source": [
        "#data is already in this notebook\n",
        "data.head()"
      ],
      "metadata": {
        "colab": {
          "base_uri": "https://localhost:8080/",
          "height": 226
        },
        "id": "xAY4weaqyT4q",
        "outputId": "6d2e0481-8342-4cfa-85ec-6d7016f34e74"
      },
      "execution_count": 20,
      "outputs": [
        {
          "output_type": "execute_result",
          "data": {
            "text/plain": [
              "    Loan_ID  Gender  Married  Dependents  Education  Self_Employed  \\\n",
              "0  LP001002     0.0      0.0    0.000000        1.0            0.0   \n",
              "1  LP001003     0.0      1.0    0.333333        1.0            0.0   \n",
              "2  LP001005     0.0      1.0    0.000000        1.0            1.0   \n",
              "3  LP001006     0.0      1.0    0.000000        0.0            0.0   \n",
              "4  LP001008     0.0      0.0    0.000000        1.0            0.0   \n",
              "\n",
              "   ApplicantIncome  CoapplicantIncome  LoanAmount  Loan_Amount_Term  \\\n",
              "0         0.070489           0.000000    0.198860           0.74359   \n",
              "1         0.054830           0.036192    0.172214           0.74359   \n",
              "2         0.035250           0.000000    0.082489           0.74359   \n",
              "3         0.030093           0.056592    0.160637           0.74359   \n",
              "4         0.072356           0.000000    0.191027           0.74359   \n",
              "\n",
              "   Credit_History  Property_Area  Loan_Status  \n",
              "0             1.0            1.0          1.0  \n",
              "1             1.0            0.0          0.0  \n",
              "2             1.0            1.0          1.0  \n",
              "3             1.0            1.0          1.0  \n",
              "4             1.0            1.0          1.0  "
            ],
            "text/html": [
              "\n",
              "  <div id=\"df-f1a71ab7-a95f-462b-9c03-6928f1bcbd70\" class=\"colab-df-container\">\n",
              "    <div>\n",
              "<style scoped>\n",
              "    .dataframe tbody tr th:only-of-type {\n",
              "        vertical-align: middle;\n",
              "    }\n",
              "\n",
              "    .dataframe tbody tr th {\n",
              "        vertical-align: top;\n",
              "    }\n",
              "\n",
              "    .dataframe thead th {\n",
              "        text-align: right;\n",
              "    }\n",
              "</style>\n",
              "<table border=\"1\" class=\"dataframe\">\n",
              "  <thead>\n",
              "    <tr style=\"text-align: right;\">\n",
              "      <th></th>\n",
              "      <th>Loan_ID</th>\n",
              "      <th>Gender</th>\n",
              "      <th>Married</th>\n",
              "      <th>Dependents</th>\n",
              "      <th>Education</th>\n",
              "      <th>Self_Employed</th>\n",
              "      <th>ApplicantIncome</th>\n",
              "      <th>CoapplicantIncome</th>\n",
              "      <th>LoanAmount</th>\n",
              "      <th>Loan_Amount_Term</th>\n",
              "      <th>Credit_History</th>\n",
              "      <th>Property_Area</th>\n",
              "      <th>Loan_Status</th>\n",
              "    </tr>\n",
              "  </thead>\n",
              "  <tbody>\n",
              "    <tr>\n",
              "      <th>0</th>\n",
              "      <td>LP001002</td>\n",
              "      <td>0.0</td>\n",
              "      <td>0.0</td>\n",
              "      <td>0.000000</td>\n",
              "      <td>1.0</td>\n",
              "      <td>0.0</td>\n",
              "      <td>0.070489</td>\n",
              "      <td>0.000000</td>\n",
              "      <td>0.198860</td>\n",
              "      <td>0.74359</td>\n",
              "      <td>1.0</td>\n",
              "      <td>1.0</td>\n",
              "      <td>1.0</td>\n",
              "    </tr>\n",
              "    <tr>\n",
              "      <th>1</th>\n",
              "      <td>LP001003</td>\n",
              "      <td>0.0</td>\n",
              "      <td>1.0</td>\n",
              "      <td>0.333333</td>\n",
              "      <td>1.0</td>\n",
              "      <td>0.0</td>\n",
              "      <td>0.054830</td>\n",
              "      <td>0.036192</td>\n",
              "      <td>0.172214</td>\n",
              "      <td>0.74359</td>\n",
              "      <td>1.0</td>\n",
              "      <td>0.0</td>\n",
              "      <td>0.0</td>\n",
              "    </tr>\n",
              "    <tr>\n",
              "      <th>2</th>\n",
              "      <td>LP001005</td>\n",
              "      <td>0.0</td>\n",
              "      <td>1.0</td>\n",
              "      <td>0.000000</td>\n",
              "      <td>1.0</td>\n",
              "      <td>1.0</td>\n",
              "      <td>0.035250</td>\n",
              "      <td>0.000000</td>\n",
              "      <td>0.082489</td>\n",
              "      <td>0.74359</td>\n",
              "      <td>1.0</td>\n",
              "      <td>1.0</td>\n",
              "      <td>1.0</td>\n",
              "    </tr>\n",
              "    <tr>\n",
              "      <th>3</th>\n",
              "      <td>LP001006</td>\n",
              "      <td>0.0</td>\n",
              "      <td>1.0</td>\n",
              "      <td>0.000000</td>\n",
              "      <td>0.0</td>\n",
              "      <td>0.0</td>\n",
              "      <td>0.030093</td>\n",
              "      <td>0.056592</td>\n",
              "      <td>0.160637</td>\n",
              "      <td>0.74359</td>\n",
              "      <td>1.0</td>\n",
              "      <td>1.0</td>\n",
              "      <td>1.0</td>\n",
              "    </tr>\n",
              "    <tr>\n",
              "      <th>4</th>\n",
              "      <td>LP001008</td>\n",
              "      <td>0.0</td>\n",
              "      <td>0.0</td>\n",
              "      <td>0.000000</td>\n",
              "      <td>1.0</td>\n",
              "      <td>0.0</td>\n",
              "      <td>0.072356</td>\n",
              "      <td>0.000000</td>\n",
              "      <td>0.191027</td>\n",
              "      <td>0.74359</td>\n",
              "      <td>1.0</td>\n",
              "      <td>1.0</td>\n",
              "      <td>1.0</td>\n",
              "    </tr>\n",
              "  </tbody>\n",
              "</table>\n",
              "</div>\n",
              "    <div class=\"colab-df-buttons\">\n",
              "\n",
              "  <div class=\"colab-df-container\">\n",
              "    <button class=\"colab-df-convert\" onclick=\"convertToInteractive('df-f1a71ab7-a95f-462b-9c03-6928f1bcbd70')\"\n",
              "            title=\"Convert this dataframe to an interactive table.\"\n",
              "            style=\"display:none;\">\n",
              "\n",
              "  <svg xmlns=\"http://www.w3.org/2000/svg\" height=\"24px\" viewBox=\"0 -960 960 960\">\n",
              "    <path d=\"M120-120v-720h720v720H120Zm60-500h600v-160H180v160Zm220 220h160v-160H400v160Zm0 220h160v-160H400v160ZM180-400h160v-160H180v160Zm440 0h160v-160H620v160ZM180-180h160v-160H180v160Zm440 0h160v-160H620v160Z\"/>\n",
              "  </svg>\n",
              "    </button>\n",
              "\n",
              "  <style>\n",
              "    .colab-df-container {\n",
              "      display:flex;\n",
              "      gap: 12px;\n",
              "    }\n",
              "\n",
              "    .colab-df-convert {\n",
              "      background-color: #E8F0FE;\n",
              "      border: none;\n",
              "      border-radius: 50%;\n",
              "      cursor: pointer;\n",
              "      display: none;\n",
              "      fill: #1967D2;\n",
              "      height: 32px;\n",
              "      padding: 0 0 0 0;\n",
              "      width: 32px;\n",
              "    }\n",
              "\n",
              "    .colab-df-convert:hover {\n",
              "      background-color: #E2EBFA;\n",
              "      box-shadow: 0px 1px 2px rgba(60, 64, 67, 0.3), 0px 1px 3px 1px rgba(60, 64, 67, 0.15);\n",
              "      fill: #174EA6;\n",
              "    }\n",
              "\n",
              "    .colab-df-buttons div {\n",
              "      margin-bottom: 4px;\n",
              "    }\n",
              "\n",
              "    [theme=dark] .colab-df-convert {\n",
              "      background-color: #3B4455;\n",
              "      fill: #D2E3FC;\n",
              "    }\n",
              "\n",
              "    [theme=dark] .colab-df-convert:hover {\n",
              "      background-color: #434B5C;\n",
              "      box-shadow: 0px 1px 3px 1px rgba(0, 0, 0, 0.15);\n",
              "      filter: drop-shadow(0px 1px 2px rgba(0, 0, 0, 0.3));\n",
              "      fill: #FFFFFF;\n",
              "    }\n",
              "  </style>\n",
              "\n",
              "    <script>\n",
              "      const buttonEl =\n",
              "        document.querySelector('#df-f1a71ab7-a95f-462b-9c03-6928f1bcbd70 button.colab-df-convert');\n",
              "      buttonEl.style.display =\n",
              "        google.colab.kernel.accessAllowed ? 'block' : 'none';\n",
              "\n",
              "      async function convertToInteractive(key) {\n",
              "        const element = document.querySelector('#df-f1a71ab7-a95f-462b-9c03-6928f1bcbd70');\n",
              "        const dataTable =\n",
              "          await google.colab.kernel.invokeFunction('convertToInteractive',\n",
              "                                                    [key], {});\n",
              "        if (!dataTable) return;\n",
              "\n",
              "        const docLinkHtml = 'Like what you see? Visit the ' +\n",
              "          '<a target=\"_blank\" href=https://colab.research.google.com/notebooks/data_table.ipynb>data table notebook</a>'\n",
              "          + ' to learn more about interactive tables.';\n",
              "        element.innerHTML = '';\n",
              "        dataTable['output_type'] = 'display_data';\n",
              "        await google.colab.output.renderOutput(dataTable, element);\n",
              "        const docLink = document.createElement('div');\n",
              "        docLink.innerHTML = docLinkHtml;\n",
              "        element.appendChild(docLink);\n",
              "      }\n",
              "    </script>\n",
              "  </div>\n",
              "\n",
              "\n",
              "<div id=\"df-166ac635-a491-452e-b794-2785e3eb2860\">\n",
              "  <button class=\"colab-df-quickchart\" onclick=\"quickchart('df-166ac635-a491-452e-b794-2785e3eb2860')\"\n",
              "            title=\"Suggest charts\"\n",
              "            style=\"display:none;\">\n",
              "\n",
              "<svg xmlns=\"http://www.w3.org/2000/svg\" height=\"24px\"viewBox=\"0 0 24 24\"\n",
              "     width=\"24px\">\n",
              "    <g>\n",
              "        <path d=\"M19 3H5c-1.1 0-2 .9-2 2v14c0 1.1.9 2 2 2h14c1.1 0 2-.9 2-2V5c0-1.1-.9-2-2-2zM9 17H7v-7h2v7zm4 0h-2V7h2v10zm4 0h-2v-4h2v4z\"/>\n",
              "    </g>\n",
              "</svg>\n",
              "  </button>\n",
              "\n",
              "<style>\n",
              "  .colab-df-quickchart {\n",
              "      --bg-color: #E8F0FE;\n",
              "      --fill-color: #1967D2;\n",
              "      --hover-bg-color: #E2EBFA;\n",
              "      --hover-fill-color: #174EA6;\n",
              "      --disabled-fill-color: #AAA;\n",
              "      --disabled-bg-color: #DDD;\n",
              "  }\n",
              "\n",
              "  [theme=dark] .colab-df-quickchart {\n",
              "      --bg-color: #3B4455;\n",
              "      --fill-color: #D2E3FC;\n",
              "      --hover-bg-color: #434B5C;\n",
              "      --hover-fill-color: #FFFFFF;\n",
              "      --disabled-bg-color: #3B4455;\n",
              "      --disabled-fill-color: #666;\n",
              "  }\n",
              "\n",
              "  .colab-df-quickchart {\n",
              "    background-color: var(--bg-color);\n",
              "    border: none;\n",
              "    border-radius: 50%;\n",
              "    cursor: pointer;\n",
              "    display: none;\n",
              "    fill: var(--fill-color);\n",
              "    height: 32px;\n",
              "    padding: 0;\n",
              "    width: 32px;\n",
              "  }\n",
              "\n",
              "  .colab-df-quickchart:hover {\n",
              "    background-color: var(--hover-bg-color);\n",
              "    box-shadow: 0 1px 2px rgba(60, 64, 67, 0.3), 0 1px 3px 1px rgba(60, 64, 67, 0.15);\n",
              "    fill: var(--button-hover-fill-color);\n",
              "  }\n",
              "\n",
              "  .colab-df-quickchart-complete:disabled,\n",
              "  .colab-df-quickchart-complete:disabled:hover {\n",
              "    background-color: var(--disabled-bg-color);\n",
              "    fill: var(--disabled-fill-color);\n",
              "    box-shadow: none;\n",
              "  }\n",
              "\n",
              "  .colab-df-spinner {\n",
              "    border: 2px solid var(--fill-color);\n",
              "    border-color: transparent;\n",
              "    border-bottom-color: var(--fill-color);\n",
              "    animation:\n",
              "      spin 1s steps(1) infinite;\n",
              "  }\n",
              "\n",
              "  @keyframes spin {\n",
              "    0% {\n",
              "      border-color: transparent;\n",
              "      border-bottom-color: var(--fill-color);\n",
              "      border-left-color: var(--fill-color);\n",
              "    }\n",
              "    20% {\n",
              "      border-color: transparent;\n",
              "      border-left-color: var(--fill-color);\n",
              "      border-top-color: var(--fill-color);\n",
              "    }\n",
              "    30% {\n",
              "      border-color: transparent;\n",
              "      border-left-color: var(--fill-color);\n",
              "      border-top-color: var(--fill-color);\n",
              "      border-right-color: var(--fill-color);\n",
              "    }\n",
              "    40% {\n",
              "      border-color: transparent;\n",
              "      border-right-color: var(--fill-color);\n",
              "      border-top-color: var(--fill-color);\n",
              "    }\n",
              "    60% {\n",
              "      border-color: transparent;\n",
              "      border-right-color: var(--fill-color);\n",
              "    }\n",
              "    80% {\n",
              "      border-color: transparent;\n",
              "      border-right-color: var(--fill-color);\n",
              "      border-bottom-color: var(--fill-color);\n",
              "    }\n",
              "    90% {\n",
              "      border-color: transparent;\n",
              "      border-bottom-color: var(--fill-color);\n",
              "    }\n",
              "  }\n",
              "</style>\n",
              "\n",
              "  <script>\n",
              "    async function quickchart(key) {\n",
              "      const quickchartButtonEl =\n",
              "        document.querySelector('#' + key + ' button');\n",
              "      quickchartButtonEl.disabled = true;  // To prevent multiple clicks.\n",
              "      quickchartButtonEl.classList.add('colab-df-spinner');\n",
              "      try {\n",
              "        const charts = await google.colab.kernel.invokeFunction(\n",
              "            'suggestCharts', [key], {});\n",
              "      } catch (error) {\n",
              "        console.error('Error during call to suggestCharts:', error);\n",
              "      }\n",
              "      quickchartButtonEl.classList.remove('colab-df-spinner');\n",
              "      quickchartButtonEl.classList.add('colab-df-quickchart-complete');\n",
              "    }\n",
              "    (() => {\n",
              "      let quickchartButtonEl =\n",
              "        document.querySelector('#df-166ac635-a491-452e-b794-2785e3eb2860 button');\n",
              "      quickchartButtonEl.style.display =\n",
              "        google.colab.kernel.accessAllowed ? 'block' : 'none';\n",
              "    })();\n",
              "  </script>\n",
              "</div>\n",
              "\n",
              "    </div>\n",
              "  </div>\n"
            ],
            "application/vnd.google.colaboratory.intrinsic+json": {
              "type": "dataframe",
              "variable_name": "data",
              "summary": "{\n  \"name\": \"data\",\n  \"rows\": 614,\n  \"fields\": [\n    {\n      \"column\": \"Loan_ID\",\n      \"properties\": {\n        \"dtype\": \"string\",\n        \"samples\": [\n          \"LP002139\",\n          \"LP002223\",\n          \"LP001570\"\n        ],\n        \"num_unique_values\": 614,\n        \"semantic_type\": \"\",\n        \"description\": \"\"\n      }\n    },\n    {\n      \"column\": \"Gender\",\n      \"properties\": {\n        \"dtype\": \"number\",\n        \"std\": 0.38649728461761046,\n        \"min\": 0.0,\n        \"max\": 1.0,\n        \"samples\": [\n          1.0,\n          0.0\n        ],\n        \"num_unique_values\": 2,\n        \"semantic_type\": \"\",\n        \"description\": \"\"\n      }\n    },\n    {\n      \"column\": \"Married\",\n      \"properties\": {\n        \"dtype\": \"number\",\n        \"std\": 0.47637346810166864,\n        \"min\": 0.0,\n        \"max\": 1.0,\n        \"samples\": [\n          1.0,\n          0.0\n        ],\n        \"num_unique_values\": 2,\n        \"semantic_type\": \"\",\n        \"description\": \"\"\n      }\n    },\n    {\n      \"column\": \"Dependents\",\n      \"properties\": {\n        \"dtype\": \"number\",\n        \"std\": 0.33654113081155484,\n        \"min\": 0.0,\n        \"max\": 1.0,\n        \"samples\": [\n          0.3333333333333333,\n          1.0\n        ],\n        \"num_unique_values\": 4,\n        \"semantic_type\": \"\",\n        \"description\": \"\"\n      }\n    },\n    {\n      \"column\": \"Education\",\n      \"properties\": {\n        \"dtype\": \"number\",\n        \"std\": 0.4133886943339805,\n        \"min\": 0.0,\n        \"max\": 1.0,\n        \"samples\": [\n          0.0,\n          1.0\n        ],\n        \"num_unique_values\": 2,\n        \"semantic_type\": \"\",\n        \"description\": \"\"\n      }\n    },\n    {\n      \"column\": \"Self_Employed\",\n      \"properties\": {\n        \"dtype\": \"number\",\n        \"std\": 0.3404460655491334,\n        \"min\": 0.0,\n        \"max\": 1.0,\n        \"samples\": [\n          1.0,\n          0.0\n        ],\n        \"num_unique_values\": 2,\n        \"semantic_type\": \"\",\n        \"description\": \"\"\n      }\n    },\n    {\n      \"column\": \"ApplicantIncome\",\n      \"properties\": {\n        \"dtype\": \"number\",\n        \"std\": 0.0755601938576027,\n        \"min\": 0.0,\n        \"max\": 1.0,\n        \"samples\": [\n          0.10121212121212121,\n          0.0518491032776747\n        ],\n        \"num_unique_values\": 505,\n        \"semantic_type\": \"\",\n        \"description\": \"\"\n      }\n    },\n    {\n      \"column\": \"CoapplicantIncome\",\n      \"properties\": {\n        \"dtype\": \"number\",\n        \"std\": 0.07022939902618831,\n        \"min\": 0.0,\n        \"max\": 1.0,\n        \"samples\": [\n          0.04415964672282622,\n          0.049007607939136485\n        ],\n        \"num_unique_values\": 287,\n        \"semantic_type\": \"\",\n        \"description\": \"\"\n      }\n    },\n    {\n      \"column\": \"LoanAmount\",\n      \"properties\": {\n        \"dtype\": \"number\",\n        \"std\": 0.12161717465006729,\n        \"min\": 0.0,\n        \"max\": 1.0,\n        \"samples\": [\n          0.1678726483357453,\n          0.492040520984081\n        ],\n        \"num_unique_values\": 204,\n        \"semantic_type\": \"\",\n        \"description\": \"\"\n      }\n    },\n    {\n      \"column\": \"Loan_Amount_Term\",\n      \"properties\": {\n        \"dtype\": \"number\",\n        \"std\": 0.13766801082836128,\n        \"min\": 0.0,\n        \"max\": 1.0,\n        \"samples\": [\n          0.15384615384615385,\n          0.23076923076923078\n        ],\n        \"num_unique_values\": 10,\n        \"semantic_type\": \"\",\n        \"description\": \"\"\n      }\n    },\n    {\n      \"column\": \"Credit_History\",\n      \"properties\": {\n        \"dtype\": \"number\",\n        \"std\": 0.3523386063582998,\n        \"min\": 0.0,\n        \"max\": 1.0,\n        \"samples\": [\n          0.0,\n          1.0\n        ],\n        \"num_unique_values\": 2,\n        \"semantic_type\": \"\",\n        \"description\": \"\"\n      }\n    },\n    {\n      \"column\": \"Property_Area\",\n      \"properties\": {\n        \"dtype\": \"number\",\n        \"std\": 0.39374101739259926,\n        \"min\": 0.0,\n        \"max\": 1.0,\n        \"samples\": [\n          1.0,\n          0.0\n        ],\n        \"num_unique_values\": 3,\n        \"semantic_type\": \"\",\n        \"description\": \"\"\n      }\n    },\n    {\n      \"column\": \"Loan_Status\",\n      \"properties\": {\n        \"dtype\": \"number\",\n        \"std\": 0.46397268871800085,\n        \"min\": 0.0,\n        \"max\": 1.0,\n        \"samples\": [\n          0.0,\n          1.0\n        ],\n        \"num_unique_values\": 2,\n        \"semantic_type\": \"\",\n        \"description\": \"\"\n      }\n    }\n  ]\n}"
            }
          },
          "metadata": {},
          "execution_count": 20
        }
      ]
    },
    {
      "cell_type": "code",
      "source": [
        "# check missing values\n",
        "data.isnull().sum()"
      ],
      "metadata": {
        "colab": {
          "base_uri": "https://localhost:8080/"
        },
        "id": "EeGzClXZybz6",
        "outputId": "55115f70-e5ad-4659-f9df-697751fe954d"
      },
      "execution_count": 21,
      "outputs": [
        {
          "output_type": "execute_result",
          "data": {
            "text/plain": [
              "Loan_ID              0\n",
              "Gender               0\n",
              "Married              0\n",
              "Dependents           0\n",
              "Education            0\n",
              "Self_Employed        0\n",
              "ApplicantIncome      0\n",
              "CoapplicantIncome    0\n",
              "LoanAmount           0\n",
              "Loan_Amount_Term     0\n",
              "Credit_History       0\n",
              "Property_Area        0\n",
              "Loan_Status          0\n",
              "dtype: int64"
            ]
          },
          "metadata": {},
          "execution_count": 21
        }
      ]
    },
    {
      "cell_type": "code",
      "source": [
        "# check data type\n",
        "data.dtypes"
      ],
      "metadata": {
        "colab": {
          "base_uri": "https://localhost:8080/"
        },
        "id": "vq7fplcy1jKn",
        "outputId": "06540f55-b250-4322-9f5d-40393a0b09bd"
      },
      "execution_count": 22,
      "outputs": [
        {
          "output_type": "execute_result",
          "data": {
            "text/plain": [
              "Loan_ID               object\n",
              "Gender               float64\n",
              "Married              float64\n",
              "Dependents           float64\n",
              "Education            float64\n",
              "Self_Employed        float64\n",
              "ApplicantIncome      float64\n",
              "CoapplicantIncome    float64\n",
              "LoanAmount           float64\n",
              "Loan_Amount_Term     float64\n",
              "Credit_History       float64\n",
              "Property_Area        float64\n",
              "Loan_Status          float64\n",
              "dtype: object"
            ]
          },
          "metadata": {},
          "execution_count": 22
        }
      ]
    },
    {
      "cell_type": "markdown",
      "source": [
        "summary: all data types are float except for LOAN_ID"
      ],
      "metadata": {
        "id": "E5VXNpdN1sYX"
      }
    },
    {
      "cell_type": "code",
      "source": [
        "# remove loan_ID since these are just unique values\n",
        "data = data.drop('Loan_ID', axis=1)"
      ],
      "metadata": {
        "id": "U1MF-HoH1mLO"
      },
      "execution_count": 23,
      "outputs": []
    },
    {
      "cell_type": "code",
      "source": [
        "# check shape of data\n",
        "data.shape"
      ],
      "metadata": {
        "colab": {
          "base_uri": "https://localhost:8080/"
        },
        "id": "B380cux413v9",
        "outputId": "cb17988a-7d0b-4a0f-85e5-2140bf8f4962"
      },
      "execution_count": 24,
      "outputs": [
        {
          "output_type": "execute_result",
          "data": {
            "text/plain": [
              "(614, 12)"
            ]
          },
          "metadata": {},
          "execution_count": 24
        }
      ]
    },
    {
      "cell_type": "code",
      "source": [
        "# separate independent and dependent variables\n",
        "\n",
        "# storing all independent variables as X\n",
        "X = data.drop('Loan_Status', axis=1)\n",
        "\n",
        "# storing the dependent variable as y\n",
        "y = data['Loan_Status']"
      ],
      "metadata": {
        "id": "Efaukh8d16eU"
      },
      "execution_count": 25,
      "outputs": []
    },
    {
      "cell_type": "code",
      "source": [
        "# shape of independent and dependent variables\n",
        "X.shape, y.shape"
      ],
      "metadata": {
        "colab": {
          "base_uri": "https://localhost:8080/"
        },
        "id": "d57n9CDm2MqN",
        "outputId": "35d4c1ef-b842-409d-e41a-4e13e5064e06"
      },
      "execution_count": 26,
      "outputs": [
        {
          "output_type": "execute_result",
          "data": {
            "text/plain": [
              "((614, 11), (614,))"
            ]
          },
          "metadata": {},
          "execution_count": 26
        }
      ]
    },
    {
      "cell_type": "markdown",
      "source": [
        "# 2. Creating training and validation set"
      ],
      "metadata": {
        "id": "_yEiaz-C2W0X"
      }
    },
    {
      "cell_type": "code",
      "source": [
        "# creating training and validation set\n",
        "# stratify distribution of classes in train and validation set it similar\n",
        "# random state to regenerate the same train and validation set =>random state ensures split occurs in appropriate manner\n",
        "# test size 0.2 will keep 20% data in validation and remaining 80% in train set\n",
        "\n",
        "X_train, X_test, y_train, y_test = train_test_split(X,y,stratify=data['Loan_Status'], random_state=10, test_size=0.2)"
      ],
      "metadata": {
        "id": "kqIBoU4x2QI5"
      },
      "execution_count": 27,
      "outputs": []
    },
    {
      "cell_type": "code",
      "source": [
        "# shape of training and validation set\n",
        "(X_train.shape, y_train.shape), (X_test.shape, y_test.shape)"
      ],
      "metadata": {
        "colab": {
          "base_uri": "https://localhost:8080/"
        },
        "id": "etEmib-52s2J",
        "outputId": "f20dcbe5-fc1e-4537-ddc1-d568ab5161ab"
      },
      "execution_count": 28,
      "outputs": [
        {
          "output_type": "execute_result",
          "data": {
            "text/plain": [
              "(((491, 11), (491,)), ((123, 11), (123,)))"
            ]
          },
          "metadata": {},
          "execution_count": 28
        }
      ]
    },
    {
      "cell_type": "markdown",
      "source": [
        "# 3. Defining architecture of the model"
      ],
      "metadata": {
        "id": "F5fdmyZf2zZM"
      }
    },
    {
      "cell_type": "code",
      "source": [
        "# checking version of keras\n",
        "import keras\n",
        "print(keras.__version__)"
      ],
      "metadata": {
        "colab": {
          "base_uri": "https://localhost:8080/"
        },
        "id": "NHhfeB0k2xv0",
        "outputId": "759d2062-edd6-4aa1-85ab-b03034415172"
      },
      "execution_count": 29,
      "outputs": [
        {
          "output_type": "stream",
          "name": "stdout",
          "text": [
            "2.15.0\n"
          ]
        }
      ]
    },
    {
      "cell_type": "code",
      "source": [
        "# checking version of tensorflow - keras uses tf at backend\n",
        "import tensorflow as tf\n",
        "print(tf.__version__)"
      ],
      "metadata": {
        "colab": {
          "base_uri": "https://localhost:8080/"
        },
        "id": "MsdpAbwY250V",
        "outputId": "d4ea3ed2-1732-425a-f017-a92a76918368"
      },
      "execution_count": 30,
      "outputs": [
        {
          "output_type": "stream",
          "name": "stdout",
          "text": [
            "2.15.0\n"
          ]
        }
      ]
    },
    {
      "cell_type": "markdown",
      "source": [
        "### a. Create a model\n",
        "* Define neural network layers\n",
        "* Define number of neurons in each layer\n",
        "* Below is the `Forward Propogation` equation\n",
        "\n",
        "![image.png](data:image/png;base64,iVBORw0KGgoAAAANSUhEUgAAA38AAADnCAYAAACuau88AAAAAXNSR0IArs4c6QAAAARnQU1BAACxjwv8YQUAAAAJcEhZcwAADsMAAA7DAcdvqGQAAIXfSURBVHhe7Z0HvF5Fmf933V1dd227uCJY8K+r6KoLdgVkRQUVQRDpIL2F3nvvndBCb0lIQEB674QAISGEAIFAeu89FN31+Z/vhF8cjufe+95731ty39/3fp7Pue85c+bMzJl55nlm5pzzd2G6nL8U8n8Vwv76oiv97/u2fyn+Ova6xhhjjDHGmK7Gzl8XgpPVlOOHdJzz936x82eMMcYYY0zPx85fF9Kc44fY+TPGGGOMMcbUCzt/XYidP2OMMcYYY0xnYeevC8HJaknqCzHmbt4ywfnr2OsaY4wxxhhjuho7fw1H2c2zq2eMMcYYY0wjYOfPGGOMMcYYYxoAO3/GGGOMMcYY0wDY+TPGGNNq/vKXvyRpipaOG2OMMabzsfNnjDGmVeDU/d///V8SOXj5lv3/+7//m4TfOgbl//PfxhhjjOlY7PwZY4xpFe+8807Mnz8/lixZkhw9yJ24P/3pT+nYvHnz4t13333fMYX/85//HAsXLowFCxZUxmGMMcaY+mPnzxhjTE1opm/cuHExcODAuP/++2PRokXpGPt1HKfv4Ycfjv79+8drr72W9smx05Y4OH733Xcvj4OZQmOMMcZ0HHb+jDHG1ASzdTh4Q4cOjc022yy23377GDNmTNqHcBxeeeWV2GGHHWLdddeNa6+9Nt5+++3k2Mk5hD/84Q/p+DHHHBOzZs1Kx5kxNMYYY0zHYefPGGNMTcj5w+H71a9+FV/5ylfSDB9LO9kv5+2ee+6Jr33ta7HqqqtGr169YvLkycm5Uzi2xx57bKyyyipxzjnnxOLFi9M+z/wZY4wxHYudP2OMMTWB84eDxjLNQw89NFZeeeXo06dPer6PGT0cOOSCCy6I//qv/4pvf/vb8dOf/jSeeeaZdD7PChIOZ3DrrbeOb3zjG8lRlGOoWUFjjDHGdAx2/owxxtQETppm+Pr16xef+tSn4qCDDooZM2akY8js2bPTks8NNtgg9txzz1hzzTXj+uuvT8dY/gkPPPBAfOtb30pLR19++eW0z0s+jTHGmI7Hzp8xxpiaYGZODuCzzz6bln1uuOGG8eKLL6ZZPRg9enRy+Hbffff0Qhf+P+SQQ9KbPeX8sdRzpZVWihNPPDG9NVTxGmOMMaZjsfNnjDGmJnDStDRzwoQJscUWW8Qaa6wRd9xxx/IlnQ899FB88YtfjJNOOik5hSz73GijjVJ4wvBpB2YEcf546QuOJMtJFa8xxhhjOg47f8YYY2pGThozeeeee256sQszeUuXLk2zeCeffHKa7cOxmz59euy6667xne98JwYNGpScvxEjRiSH8Jvf/GYMGzYsxaVZQ2OMMcZ0LHb+jDHG1IycP17Qwjf6vve978WOO+6Ynvt744030rN+v/jFL9LnHuQg8vKXyy+/PM3y3XbbbbHaaqulF75MnTo17fOST2OMMaZzsPNnjDGm1bBUc9SoUfGb3/wmfvjDH8bIkSNj8ODB8bnPfS722GOPmDt3bpoNvO++++K73/1u7LvvvumZP2YJP/7xj8eZZ56Zfvstn8YYY0znYefPGGNMq+HtnMzs8TKX1VdfPW6//fa47rrr0rN8vXv3jrfeeit9AuL111+PjTfeODmJOIu77bZbmvnjOUFm/eT8SYwxxhjTcdj5M8YY02pw2hCWc/K9vuOPPz69yIWXvTzxxBPJOeTj7cwAHnjggbHuuuvGFVdcET/+8Y/TstBXX301LffUtwO99NMYY4zpeOz8GWOMaTU4fjhsjz32WKyzzjrxs5/9LH3Ufe21145p06alWTycP5y7q666Kr30Zcstt4wvfOELccQRR6QloYqDF74QzhhjjDEdi50/Y4wxrUafZxg7dmxsu+226YPvK6+8cnreD6ePYzh4wEwgzwUyK8iSz759+6b9LA0lHG8AJcy8efPSfpaDsr85McYYY0zrsfNnjDGm1eCgAcs6zzrrrPjyl7+c3vzZr1+/5PThoOl5vjfffDM968dH4fnmHx+I53w5h8wMHnTQQTFmzJj0W3GDHD3ts+NnjDHGtB07f8YYY9oMs3dDhgyJ8847Lz3/h6OH0wcs6cRZ48PuDzzwQJx99tnp+38zZ85Mzhxv+wTO3XnnnZNTyLOAfDKCY5zLktBZs2all8VwbPbs2V4iaowxxrQRO3/GGGPaBM4ZDh5v9cRBwzHDWcOx45iEMCwF5VuAfAge51DOH8fPP//82GyzzaJPnz5x6aWXxqmnnpocSo7zvUDeInrxxRcnJ/GGG26IiRMnLr++McYYY2rHzp8xxpg2IwcPZ05OX05+DCeQWTuJnL8LLrgg1lprrbjooovinnvuSc8NnnzyyTFlypTkEPIWUWYMWVLK/2yJyxhjjDGtw86fMcaYdiMnsAodQ+QEIswSAjN/66+/fjz66KNphpAPwfOM4LBhw9KzgDiCzCxOnjw5vSmUT0foXGOMMcbUjp0/Y4wxHU7uAEpy5483hrLEE6eQZZ677757PP7447HPPvvEgAED0rOFOIYXXnhh7LTTTsufFzTGGGNM7dj5M8YY0+ng/OnFMDh/O+ywQ3qhCzOD119/fZr5GzRoUHL+Lrvssli0aFEsXLgwPQ/Yq1cvz/wZY4wxbcDOnzHGmC7hT3/6U9ri/G2//fZp5g9w/pgJZNnniSeemBxBXgDz1FNPpRlBZv+YIcSBNMYYY0zt2PkzxhjTJcj54wUuRx11VPpMBNx9991x2GGHxejRo9PSz0MPPTR9S/D000+PM844I30U3hhjjDGtx86fMcaYLkFv7OS7fszs8T1AZvP4lMNzzz2XfvMZCWYAeQvofffdF6+//rqXfBpjjDFtpCGdP4wLjA6eLWkKhfHSImOM6Vj47AOzgNK16Gb2sWUfzwbywhecPjmMxhhjjGk9dv4qyA0QO3/GGNOxSNcKdK70rvS1dLb1sTHGGNN2Gsr5k0HB68L5ePDcuXPfZ0ywlRHCSPOMGTPSd6X0SnEbHcYY0zG0pF85bh1sjDHGtI+Gcv5YRoSMHDkyTjvttLjqqqvSh4N1DMNCS4148cB5552XPjbM8yfAfmOMMd0HO4TGGGNM7TSM84eBwDMlyEsvvZReI/6DH/wgbr311vRCAT1LwvH58+fHRRddFGuvvXYcfvjhMWnSpOVxGGOM6R4wIKeBO2CbizHGGGPeT0M5f3puZN68edG/f//4/ve/n5xA3jLHywRY6rl06dJ46KGHYr311ovf/OY38eSTTybnsF7YMDHGmPqAPtfAnXSqdawxxhjTNA3l/El4hm/OnDlpSed3v/vd9D2p8ePHpxHkUaNGxU477RTf/va3k4PI84H6FlU9yNOBGGOMqY1cZ6Kv+ezDE088EbNnz14+uFfWsRJjjDHGNKjzxwwfhgPP9e2www6xxhprxDXXXBPTp0+PCy64IL72ta+ljwrzUhi9AKYtNGV05GlpKowxxpj3g66UPmYA75RTTokNN9wwBg4cmFZ0oNvR2WX9ihhjjDGmQZ0/jANm83AA77333vjJT34SG2ywQXrBC1uWe7IUlBnC1hoO+XWIHym/KCYPY4wxpna0EoO3MR9yyCGxyiqrxPrrrx8333xz2qfBvVzPWtcaY4wxy2gY56+MRocZPe7Tp0984xvfiK9+9avpJTAs9+Q5P4yI1hoOipftggUL0stjMFa0vylacw1jjGlUtLSTwbnHH388Pbf9mc98JjmAAwYMSG9wls4F61ZjjDHmrzSs8wcYBzh4zz//fKyzzjrxgQ98IM0CDh06NL1EAMFwkLQEYYgT44QRaF4c89hjj6XlSFqqZEPEGGPajvQxOpVBukcffTS23HLL+OxnP5uWgDIDyDOACmeda4wxxvyVhnT+cqOAmb9LLrkkvfhlzTXXjO9973vpMw98AL78/EhLEEbO34svvhgnn3xyHHvssemNobw4BuQEGmOMaT3Sx+hSlncuXLgwHnnkkdhqq63iS1/6UnpT87XXXpt0uMLUor+NMcaYRqAhnT85YGzvv//++NGPfpSe8+Oj77/61a9i3XXXTQ4bS4fk0NViPMggYTthwoS49NJLY/fdd09OILOLtSz/NMYY0zLSt+hVZgAffvjh2GabbWKllVaKtdZaK70EhmX30snGGGOMaUDnDyNAz/K98cYbscsuu6S3fd5www0xc+bM5c//7b333jF27NjkrMkJbAkZI2w555VXXolzzz039txzzzjzzDNj+PDh6XuCjEQbY4xpO+hZ6Vz0LasrWAK6xRZbxKqrrho/+9nPol+/fmkJPjqXcMYYY0yj01DOH4YCzhzP8vFSgDPOOCN9z4+lmRMnTkwvEBgzZkxy/L7+9a8nR1Df+ePclpAxov9x9EaOHJkcwF133TVOO+20GDFiRPqQvDHGmPYhnYtjh4OHvuYlMCwB/Y//+I+0quOKK65IA3vocfS/McYY08g0lPNHx69nRP7whz+kpUHbbbddmpHDIcNZQ5566qn0yYdf//rX6X+cQpBjVwsySJhlHDZsWJx44omx4447Ru/evePll19ODqiXgBpjTPvJ9S26HAdw0003jZVXXjnpeWYAp06d+r7nuI0xxphGpKGcPxw/nC4MA57tY1T4jjvuSA4fo8IYBhzn+RFGi7/5zW/G9ttvn2bvoLXLhjAwEOJ79tln45hjjknPAPJCGT4wjxFCnB6NNsaY9iEHED2PA8hLYHgGEAeQtzlffvnl6c3L6FvrXGOMMY1Kwzh/GAZ6LoQXu/zyl7+M008/PY0GyxhAcP4wIHje74ADDojf/va36aUw0BaDgetynkajjz766OQAXnPNNTFlypQ0q1jrslJjjDHVoEPlAKJTGXTTW0BxANdee+3ln4HQM4DoZp3DPv02xhhjeioNNfNHB48Txnf87rvvvvTCF2b91OHLCOA3+1meieM3evTodhkEipdXj/Ptv8MPPzz22WefuP7669NbQfUsio0OY4xpG9Lh0rcM5C1YsCC9uXnzzTePVVZZJS3n5zMQPANIGA28oZt57pvf5biMMcaYnkRDOX9Ah8/yTkQjvVWwn+PMzBG2vRAfxgijzvfee28cdNBBaQbwpptuimnTpi13Oo0xxrQPnDb0N84ceveBBx5IbwH9/Oc/n5aA8nZnloCid/nWa//+/dNyfDmFufOXizHGGLOi03DOH9C5lzv4KnDGJPVATicGBi+c2XfffeOQQw5JDiD7uE6enqbSZYwxpmXQqeh6vvfHEtAtt9wyPvOZz8RPf/rTuPHGG9PKi759+8ZPfvKTJI899lh6NEDnSh/netkYY4xZkWlI508GQd6ZV3Xs9e70uaaeNZk+fXpyAHmucL/99ovbbrstLT0CwuTXrmcajDGmUUBvou/RqSz55zuAPAPIdwB/+MMfxoEHHpieBfzIRz6SPg1x1FFHxaRJk9K55QFC62BjjDE9gYZ0/qDckXd0507c+Ugyy5F44QvP/e21117JCOH5wkWLFqXZQY86G2NMfUB/olOZ1WMGkM/4/Ou//mty+P7lX/4l/vEf/zH+6Z/+KX0W4uGHH07hcRjLetgYY4xZ0Wlo568zO/PcgNBINMJH5a+88srYbbfd4uCDD06GCUuUFC4/zxhjTOtBf2rlBc9do2tx/j7wgQ8kp4/t3//938cnP/nJOPbYY5d//qc8+2eMMcas6DSs89fZ5AZELrxQhreJXnrppbHLLrukbwE+/fTTaYkShgrGh5xAY4wxrUf6lpdrDRw4MD3zx2wfDh+O39/93d+l/z/0oQ/FeuutF6+88sryl4LpXGOMMaYnYOevE5ERkYveRvfaa69F79690xtA+f4gn6PgO1U4fogxxpi2odUWt956a/rcA8/4yeFjq///+Z//Ob0R9Nxzz01LRPOBN22NMcaYFRk7f12MnDtGmfmu4FlnnRV77713nHnmmTFixIjls382QIwxpm2gN9Gxt9xyS3rhyxe+8IX48Ic/nBw+hFnAf/iHf0gzfywHZfYPfYz+zR1AY4wxZkXHzl83AMMCYQZw2LBhcc4556QloBdccEGaEWR/Hs6GiDHGtA6cON7k+fjjj8epp54aG220UXz5y1+Oj33sY8nxY/nnBz/4wfQM4Kc//eno06dP0r0aoDPGGGN6Anb+ugly6ljqyZLPE044Ib0E5pJLLknPBDL7J7HzZ4wxrQf9yQwgTiDf9GOpPd/+Yybwox/96PLZP94A+tvf/ja9kItzmAE0xhhjegJ2/roJcv4wMhYuXBhPPvlkeuvcnnvuGZdddln6GDHPB3JcYSXGGGNaRjoTPcrLtngBzKBBg+L888+PbbfdNlZfffVYaaWVkhPIs39XXXVVchYRY4wxpidg56+bIKOE5UVyABmZ5qPDOIDXXHNNcgBZhsRItJ5DQYwxxtQGOlOrKNC1OHazZs2K4cOHJz276667xpprrhkrr7xybL755jFx4sTletcYY4xZ0bHz142QMyfjhO9R3XPPPXHooYcmB/CGG26IcePGpRlAP4NijDFtR7o2/3/BggUxcuTI6N+/f/Tq1Ss222yzePDBB5Pzh5Oo8MYYY8yKip2/boaMEJw/jI2pU6fG7bffHvvvv3/ss88+0a9fv7RUieM2RIwxpm1I1+ZI9+IE8q0/3g46ePDgNENonWuMMaYnYOevmyIjhBFnnL0BAwakT0Dst99+8cc//jFmzJix/Pk/Y4wx7QNdiqBXtRx0/vz5yRG0njXGGNNTsPPXjcHgYHknTuCUKVPixhtvTM7fIYcckmYD5QB6CagxxrQf6VzpXbZ2/IwxxvQk7PytAGB8YIjw4gGWfe61117JAbz//vtj7ty5ngE0xpg6gB6VGGOMMT0RO38rCBgjvOhl8uTJceWVV6YXwBx55JHpg8WLFi1aPgMoo4WtR62NMcYYY4wxws7fCoQcujfffDN9+49Xkh933HHxzDPPpI/Da6kS4bxkyRhjjDHGGJNj528FAkcOYQbwtddeSx8m3mmnneKUU06JESNGpJfDaAaQlxXMmTMnzQoaY4wxxhhjjJ2/FRBm9d566630PaozzzwzzQCy5SPFixcvTo4fziEviBkyZMjy2UDPAhpjjDHGGNO42PlbAWFmD3n77bfjhRdeSDN/22+/fXIAcQhx/C666KLYZZdd4uqrr04vhZEDaIwxxhhjjGlM7PytwLD8k2WdTzzxRHr5y+677x69e/eOCy64IPbYY4/Ycsst4/DDD48XX3wxOYo4gMYYY4wxxpjGxM7fCkS+dJMtz/fhADKzd++998YBBxwQO++8c3oOkJlAhP9vuumm9LFiwnr2zxhjjDHGmMbEzt8KhhxALf1EFixYEPfdd1/sv//+se2228Y222yTBOdvu+22i6OOOireeOON9CwgDqMxxhhjjDGm8bDzt4Ih509v9WRG76GHHoqjjz46OXs4f1tvvXVstdVWyfFD2EcYXhLjZ/+MMcYYY4xpTOz8rWDI+ZMTN27cuDj33HOTk8czfjh9zPqxxenDIfzd736XXgAzY8aMdJ6f/TPGGGNMc8jeMMb0LOz8rWBIGSPM/OHQ3XPPPXHGGWfEXnvtlZxAOX9s+Y3zx/OAQ4cOTUs/PftnjDHGmObI7Y3ugm0XY9qPnb8VjFwRs+UlLiz9fOWVV+KPf/xj+tyDnEDN/rEMlBe/XHvttSlsHocxxhhjTJnuZCsoLbZdjGk/dv5WcKQMcQJnz54dL7300vucwB122GH5bOAhhxwSo0ePXr7ss6xI9dti6UxhBjv/X/C7O6C05f9bVizJKf/uCsrps1i6o2ArSD93NUpT3l9Yer5wv/N7buqDnb8egBoEDYRlnfPmzYtXX301brvttjj11FPTN//0/N9dd90V77zzzvLwalAWS1eJDAy2vMiIfd0BpS/vfPR/raI42ipVcdYqVfHVKlXx1Sq5wdgaKcdTL1H8Iv+/qyBdKif9b7F0V1E76kqkI0gP/UQ5jZaeKbrX0uPdQX/3BOz89TBoGDQWnMCZM2fGCy+8EH379o2TTjopdt111/RymGnTpi0Pq4ZE42L2EMfQYuksoZ6Wf9PBQ1cqebUN0qI0avv222+3KOU8NSd52LKU4ypfpznJz2utVMUnaSq8/uetwmyr8tqc6Pxcmrtea6S7feMUHU26lBfKDMnTXE9R/F0pVemqkqpzLV0j3A/qKPZBVyJ9jKArlLZyei09U1QP2aI7VSdM27Hz1wPJR8doOFOnTo1hw4YlJ/DSSy9NL36Rgc0W4cUxI0eOjOeffz4dZ2tZVha1StX5luYlLzfq6IgRI1Jd7GoFr/ZBZ8NSadLHQAppHDJkSE2S55Hz8rqSi8JVSR6Pftcq+XktSdX5rZHnnnvufb+JsyqvzUlVWsrxtkWI4+WXX07fQ+0OULfHjBlTmV/tq7fk16i3VN3LKqEN1CKErbqOpfOFe8EqovxdAV2hk2WnMIgzfvz45XWlKs2WnifUQ+kx3nBPPaA+2AFsO3b+eihS0prRW7p0aXICMYL44Hs+jY6B++STT8bll18e/fr1i4EDB6atpV/ceOONNUv//v1rlqprNbKoXBicePTRR1N9VT3uCjTSzXO0pI903XTTTTFgwIC/SXtLQr5aWz+akqr4m5Kq85uSqvObk6rz899tzW/5vKauVYsw2IUuu+6665Ju43no7mAwLF68OKWvT58+qT6RJ+mQch7qJeUyrIe0Nm7lsSWpOrc5qYrD0n6hbGlDV199dbIbGLSQzdDZyF5ZtGhR3H777XHFFVckfez73xiCHmeLzuRxpjlz5qT6oEFa03rs/PVwaCByABEtlcgbDsYIL4nhW4BPP/10GmF55pln4tlnn214YdagI6TqWo0q1DXKZPDgwdG7d++k6OnkoauMddoKTJkyJS2VvuGGG9Koo9LbGuGcet3zqvibkqrzm5Kq85uSqvPLorLK63xzkofN46mSqjRVyaBBg9LswMMPPxxnn312PP7440kXdpXBoHo8d+7cOOecc5LjRH6p963NW2slL796SdV16iVV17N0rlA3H3nkkVRXn3jiiS53/oDBuKuuuiq9uRw7hTRqdsjSM4W6yL1Gl9MPM5CnR5fs/LUdO38NAMoa5SmR8pYiX7JkSXL+UKg0KoyTWbNmJUXb6MIIU0dI1bUaVVTXpk+fnmZpGM2V86f6qjrbWcj5mzRpUpx33nnx0EMPLU8rz9KybY3k+W2PVMXdlFSd35RUnd9WyeOtqvtVkp9TFWdbBF3GcjVWOlx88cVpRhljoasMBl2XtFGncErJL8ucqVNtqVcWSz1F9RDBDmDJO4PCjz32WJc6f2o7pOvKK6+Mu++++2/0hqVnCvece71w4cK4//777fzVCTt/DUCusKsUNzN/TKXj/NHQeDaGN4ZiOFksHS3UNYS6d/3116cZETl/XWVw5M4fM384fxhDpJOOiP9bI8pj/n/V75Ykj7MlqTq/Kak6v71SdZ3mpHx+W8o5F4xZ6tHYsWPjkksu6TbOHwYNsynUKXRtU/msKiOLpSOFekd9lLHNs6kaOOkuzh9LPu+9997l6XVb6bmCfUBdZIudet9996WlnzzCBHb+2o6dP5Ma1S233BLXXHNNMpgwSFCouYFusXSUqPOmY2fmrzs5f5MnT06zNA8++ODyDgnjXUZHraJz8/+rfrckeZwtSdX5TUnV+e2Vqus0J+Xz2+P8ER+6DAOWFwR0N+ePZajUqc5y/qrit1jKIscP6c7OHzN/eZrzPFh6jmAfoC/ZUh9x/nj+3s5f+7Hz18BIiefOHw2NRobBkBvoFktHieoaxnp3m/mT88csjdKLsZEb1tpv6V7CfUK3dUfnj5k/nD90bbk+dUS9qoq/HlJ1rXpI1bVaI1Vx5lJ1jmXZqgYJdZNZ8+7q/OVpzvNgWbGkqn3mwv1lS31k2aedv/pg56+BsfPXdcKIP1J1rNFEda07O3+apdFMTa0dl6XrhPtk568xRW21Kak6x7JsFYZES6a7o/N3zz33pPTSTuz8rbhSrn9VYuevY7Dz18BIifPCl1tvvTU982fnr36C0qKzwqkpSx5OZd1apdhTRPmlXFYU56+cB0v3E+7TiuD8YWjnbb8j2n85/npJ1bXqIVXXakrK51Ke3PsqqQpv+avk5dodnT/6CF74IucP4X7nebD0LKHdsrXzV196pPMnBdWckmrv8Z6A8tde5y/vMCSdYdC0RmpJRy3prCWMhHLle3V8WoP/2ep/nAjFRVmVy0tx5OHyuDtSuuJ6bHui89fZZdmVQtmwVZ5bkvL5VVJruCrhPq0Izl+5XJrKc1U4ifRHlS7pSGkqnVX7Jc2di3BMedDv5iQ/lzqIftUnjXJhn/Rpfk53lar8dbTomsiK4vx1ZBnl5ZFLVdjuLuW05/lpTvI4mpLWhG2t2PnrGHqU8yelpE8aQJWiYh/HpcyqUBxdoeg6C+Wtvc4fjROlzJZOmy3xsM0l79A7S6SUlCbSUD6urcJon4xZCedWxZGLzuX17S+88EJ6nTvfF+M7SWzpRPluDcqLcMwM6pq55HGq/Mr7O0K4hu4lvymDcjnUW5SvFcX5a+7+S1RmnXnvukJUHioTtsoz9ToX7i9bHS/HlQvxKmytZaf7o7Ln/BXF+SO9bJvKK/s5r0pU1tpyDwivbVNx1lN0Da6pNOT72eZ1Jb+v2nKc/zlGXVEctYji59p8zJ9PE0jQu2yfeuqp9N1OwkvHqa4oDd1JdE+rjnW0UB5Vzh90hU3UVc6f6ipS1caqzumuQprzdqV8NSfklXzmUhUvYTmm9lRPIW62dv7qS490/tTB87tcOdiHU8d+KbMqFIbwXaHsOgPlqynnr6qhl4XGrgZPZ4GxhfA/kneuiq8jFESV5NeUstbvskiBKVz5OPvKCq4qPu3jEwFXX311HHbYYXHAAQfEZpttFrvvvnsceeSR6dMBr732WopHHUp+bYRj+p94+d1Z5UY6kKpjHSHKIx3TiuD8Kb3NCeFUjrWEXxGFfCl/edmgP5CmzpHonKow+f5a66Pi07nUpxXB+VP6VS76ne/X/3kec+GYykn7dG+q4qyn6Bp5OqQr8zA6xv9Kq45pP3FIF+rcWkTn8v2vG2+8MY466qg48MADY9NNN01694gjjogTTzwxXn755VTmDM7pmrlUxd2ZojTo/un/PExnCOloVOeP+PL+WPvz+k0bRlpbT7tKSCd50m/lRbq6LHmd43/KIRcdy4+Xr1EvUZyky85f/egxzp8UEss7Bg0alF4Ji4KXE4doNg9j4Pbbb0/hWJbHMZ3Pln3PPPNM3HXXXcmI55zuCultqzLWec05f1WNPf/Nq6D5QDyv6OeFMVWCsr755pvTB2MVdx5fLYKCyRVSawTlwf284YYb4umnn05KirikrPhf+SCMHDPOJQxCuQwZMiQGDhyYRpDZp+P5tRDyxwfLn3zyyfRWMpTV//zP/8QxxxyTvk+EAps4cWKMGDEiOTv8RplxDdKTl8/48eNTXeWFPHysmnTVWn6EU9iWyo5w3BuuxzcfMUxJT1XYeovS2JHOn+KoNZ72OH8cJ/0TJkxI95v7x/+Ub1V96U7SUt4QhaGuItTzP/zhD/H666+nOtq3b9+kSxj8KMtVV12VtnfccUdqc+Uy4X/KmHgfeeSRVBeJl2tyrLn06f4g/O4M5681dUrXpV015/wpj8oz/7/66qtJh5Z1q8qV8kbQN/RZ5fgUZ0cJ94tZNeoCuorZN90HXZu8vPLKK0nPkk7aFmHYL6FsmKmjDg0fPjztI0yt6ef8wYMHp/jpd37605/G4YcfntrhnXfemfQu/RA6hr4gT1s5rnpJa8pf6aA8WTVCv9xavV8P4Vod6fyp3eTSHGo7He386V5Rj6ifrNJBB9EvYRvcdNNNqd1Sj7EvCVfL9RVvS1J1blmqwqqtlYVw1ClWGFHfsV9IO20VGxmdQd7YYsMh+h/9wjEGTIiDOqlr85st+aeMaPMjR45M+9FpSFNpaq1wXbbEaeevfvQo5w+hQh533HHxi1/8Iin8d999NxlyCI4hxgAV+zvf+U7suuuuSbnJKeR8FBwG8G677Ra//OUvk4MoQ7AlBdUVkCYZNCqDWtOpcG1x/hAaNx3t73//+1h77bXjRz/6Ufzwhz+MH/zgB0n4/9vf/nZ85StfSZ0wxhzXaklhSmlUheFYU6IwSh8ipcUbwtZcc80084ZxRMdGR4IC5386WurM17/+9VQWuhZpJQ6UzZlnnhnrrrtunH/++Wm/juu6uXAO8RM3jufvfve7ZHBQ/xid5jjl8atf/So22WSTdH3i4hyOKW6M6h//+Mexyy67JGexuXIri8pEyrNKVE6EYdCD+7nBBhvEXnvttTydpIPjSGuuX6soTvLeEc4f56p9VLUTbXPa6vxxnHKinnO/tt122/jNb36TlgDTrhgUUHlStkh7ypRzm5Oqc5oS0kK6VA/zbf4/8RIWg4IBEfQosyvkl+XN6623XtIH6IDvf//7aYu+/e53vxtrrLFGfPWrX42tttoqGSOq53ka2Me1LrvsslQXL7roouXlputX5U33B+E3cZSdP9WBpsjrRnOisKLqeBldlzxUOX+5KI+EJT+ERU9873vfS3pW5YqORdBt//Vf/xU777xzug/EofbaVHnlojJrq5BOBjhOP/30NNCFga76rbrO/aCPQYduueWWqe6QLvYrrfTHvXr1SnUFQ5Xz1B/VmkbiI+zQoUNj6623TkYsug0dTn3AgCQNp5xySoqba6PryAPXa6msahXlvzVpJw2kifTsu+++8fOf/zweeOCBdIz2pscEVF7l8+slxF12/jQI3lT9bg3EIWeSdkHcuW4uo7bDve0o5494KFfKl4EH9M6OO+6Y6jNtba211op11lknNt544zj00EPT5AC6paV7wbG2SHNxqQ6wpUzYSvitusdvtrSFPfbYIzbffPPUxzMAwook8lW23diiZ9DT6BTsoTxers+W67OPQanf/va3aWad+kL9pb63V6dIuA5b4rXzVz961LJPDDaUPMvqvvCFL6TKSIVh/zvvvJOOYcxh2H7kIx9JBglGN8oGJ5GKRFgcvm9961ux4YYbplESzoWmFFNno3TgzNL4MDRJd5USbS69OtYW54/Gz//MkjGaf9ZZZyXnSELHetJJJyWH6t/+7d/S8hsUEB0K1yjHmYuUhq4tRcN5bJsSpUnnIZxD/hi9wwnlng4bNiztw/GjM+V6l19+eXzxi1+MD33oQyn9KBfKgXhJM8oSQ+K///u/Y8CAAcvTRfx52iUc51zqFSNjLPvs379/eukA9wx588034+STT45vfOMbyeChrnGO0oSS3mKLLZLBTPpkoFRdryykjTxQ3+XEkaZyuLycqE+Mun/zm99M6eU83YtynSjH0x5RfJRJ2fmjXrdUj6vIw2tghzLgGtwTwPjI20sO14W2OH9cAyOT+v6Tn/wkdaTUAfQPYTiGEA/3uxxHraL615SQDra6982lm2OEZUvZI9xz8sOW9KoOkGb2jxo1Kvbee+/k7GGQUW8Z/UX/og9OO+20OPXUU5Mcf/zxyWDCuEAf7LPPPul80obkaSF+hPLbfvvtU5tltoj2ijRVZro/CL91HzDQZMByr5EqVM9qFaA8SBNth7okycMIXZd0NfXClzw//FbZYIySB5yrvGz5zYoCnKVPfOITcdBBB6XBy/xcxaX/q4QyI7zKvjkp3y+dx/bCCy9MfS+DAcyycZx6wfUZdMOh+eQnP5mMSgZhKQvKD+eeMM8991wyRumbMfSIV/ezFlG+aWsMuDDIgPOH3kWfUa/p6770pS/FIYccsrz8qfsc41oqq9Zct0pIB/Gih8k7edH+PJyuhxCeNJFW+puvfe1raeUA+xSG/6vuQz2FNFEeHeH8cT5tgbxy/2k7/Fbb4f9y+9G1Cd8Rzp/ioK4yKKUBiPXXXz/pKvQX9iSPcWyzzTapfjJwi+3TnAPIPtUD0t6cEIawnNNUntivsNLTCHVCgs7DviEM6WKFxQknnJCcOvQFfRptEzvmjDPOSPYOOoX/sUfQLTiJ//7v/57yySA1cZXTpzrIqgQcScKyCkFhkao8tFbUbsibnb/60aOcP4w6DDoqCKMWKE8qOvtQMGxffPHFZEygVAmDImG/nD8cPTql//zP/0zPDVC52SdllCukrkIVnkbNqAsfoMY5obHR6bU2na11/hDKRYqAjltCp6XOjnRR1hi/LONhP+dWxZeLOl2FYyulliu8XMppVtpQlJQJxtOvf/3rZHTQmVIfMDoIwxIIlBej55/73OfS6DmGqQx0yocXBtAZMGKMUUq6mlL4CPspS+oOM3+MjLFshLjoYGTEsqRip512Sg4gnSxlSP7pUHhOZfXVV0/LljDopGybuibCcc6nrKnHKHjaAPt0LA9PXAjlhIHEsi3KAaeTtHAfSSNGPcuPCEccnFOOq62i/BA3zh9OMveTOky7VH1uq6htY8AQP/ePfHFNOZdl6uX8/exnP0ujqugdzsPBpyxx/LlH1JHm4iuLyl1lTznpdy7sR2gb/C7Hg2g/9YItcWtZHGkkzbnQhki3jHnaNDp0v/32S3WD63EMHSA9IEOD+oxTj/PHSLoM+yoDQfu5Bm0V5xInkDTpmNKcS55/fus+yPnDiKEe1MNgkDHKAA16kzZOGyVdTdUp7SP9tTp/EvKCzkAoW8qVOsyWZ9yYCaScWO1CGqQrVC55vE2J6gtl1pzk9Ya06XocYykZqz1w4JiBRPeiR4iXus8sOI4X/StOK3WEc8kXeWS2Dx3NjAv1kH3KR61CfFyXQT5mGDHQ+U1ZoX+pUwwEolfJM/cNRxGdL4e11jJrSlQubLnPrBZRG8nrvO4vwm/ySxjKbLvttksDcSxhZT/pow1QLhznnPamsykhbu4Zzp9mzbGTgPYj3doW4Xx0Mn0N/ROPUVDu5KWpwb6Odv64V5Q7bYp+FzuAukp/ge4jfdQTlqBTFtQddB+6jPvbUj2VjdKcSFc3lZ+83aFnuTcsr0Zoa6STLb8ZlKdtEZb6Th+EDs2XcJJm6hH6RFvOef7552OHHXZI+cMpzG0Prk/6EH4jpIsyYFaUQX76CfJCnPWon1ybLWVk569+9DjnDyVBxWeZIdP0jCSyH8OWY6zZxgBhCpwOE6OfjkdGJpWZkZ7VVlstNXycBDl/rUEKjMrJdZH2Kk0JSpi4WDbDaPrBBx8cZ599dkovBg5OIY2TcArL9avigrY4f/kxykz/o1AoTzopjEIMAUbM5JyW42lOaPQoD5YToVAQlFtZpPxQzDIMOZf08Js4UBaU1X/8x3+kmQkMFZQTecVIYIaSUeKNNtooGS7MgBGGdFAHWIJGh4BSROnqGpxfTjfCtTlO3WHWh2WfGMsYIShujhEHwvNPOAmMMrKUhPO5l4ykMQNH50h4ylblXL4eQlyEIU3UAQyf3XbbLRm/KOPmyp/zSCvXwhFliRmKlpFCRkGZ4WEwhBlUnGWuVRVPW0T5IQ3kG+ePe0adpd1Sh9WG2iLEQRvACGSJMvWxd+/eqdxpQ3oej/ZAeLboA8AYwPljIIM0IU2Vv4T7S92hE8UgZ8SVDpg6hG5hCS8vo8CI0SCD6kJLcXOcNFAfuMfltpALxgBtgzwQd1Vd1TUxTDGomK3ff//9U9ul7lDfGQyhDjBrwzJkjARGeylLVkgwK8e9I668XrOPsOyjDVAfqdMsp8KYUliVK6J0UVc5TlujrBiso/0o7qq6XI6H61O2xMGMFPeQ+9ve+oSov2DwDUeFmQHqFM4LeZWOkP7NdTD1oxbnDykfU96JAz1Le2WgBsOLUXfaOscRwnJOXq5lUbyEIc2qM+W6xD7tV33K08b10DHUC3QdDh7P2FH+pBW9h26jz+U4RjP1gX5CcdEOmY1DzzKryf1TvSqnuzmh3qCzNfNHufCbusiW+qpBC5Ypcy3sgT333DMZ9Tiw6DjKhLiqrtGcqDzIN/cXA5qBQwYIKCP2E0b3RWXI/+SXc7i3DF7zGAJ6AiG9rFpCh2AAazBE5Zenob1CfKQVw18DJ3LMmmo/quctCefT1zAYRL/CoxjoBBxB7DXqMGkgHNfjHF2bsqu388f53C/KHR2BTmOFD/WEAQPuBeWse0o9wolCj6+88srpMSPSTDyqq/yvdGFnMPChtkQbKwt1FR3cVF1nP/WF+kGbp7yY5ac+UIakhUFk9DT7mMWjPdNHoMcZRGAGnDyQH6VN6SRe8sY5rNrCbkPfky72N5cu6Wl0IPUVPcgxrlMO3xZRG+T+2PmrHz1u2ScKgkqHIv9//+//JYMP4w9lgzCtTQXFCcR4wUmk8XEuCowGiPHP7AfKmv2c1xZIS1k5sq+9QppQjBgZdAh0cOQFBUDnecEFFyQjHeOTRknHyzlKk0QNpy3On4RjUgDqrOkw6PAw2FA8OFcoEDXiWoR4lRZGs1FojFyh4DC2JPzGOCXvdFIYJpyH5Gkjj+TvM5/5TOroSSP1BIWKYU6dQIlj/KIoqTecp7LAcfzsZz+bypb9xC+F3FT6CUfd0TN/GK8YH5QFxwnH+Rg9KHOuS14wmnBCmTHFmCSdUsCcp3PLwnEpXBxhnhdh+QYdgJy//Pw8HuLHoGU0FueP+s/ACOVK2fNcF04Ms6ekj2uV42irKA7qDs4fMxmUC21GgzbtEe4B9Z2lszyvQVtBaDvMPtCZUMcwpuioaVtcF3Lnr5zepoR7gNGLIcOyTwxNyg9RWfIcJ6Ox5JW6SV1BOL+5+FUHMEoYkae+sMSObVloG9R1OWeqy3lciOLi3vKcM/ec0W+2zJAwWEb9x0jDgMf4Qb/gyDE7QV0jHtLPlnrG/5QDwmAcRjX6gDgwnBSG+5yL0sYx0kw4ZrBZSojRqxkCjlWVUx4PYeT8YZBo2Sf1HH3YHlH94P7Rxihv6hT399hjj03tmXLH2KN8pYOpj7Q1BqBa4/yVy5X/qa8Ye9Qv+jX0iI4RXnHk5VoWwhE/5zA4oTrDvc+FOosup66hLwlP2kkP51PWXIf2wyARg2wYoDpOHSfP1CcccQxLDEzqE8eJi3rBM55f/vKXU9npPleluzkhT+jZ8swfaWM/fR3poK6zjI/8kR6cLWYkGXBDD6Iz23J98sM95nrEQX2g32FAkd/cI9V9wiK6D5xHWXAu/Tp9DgMw9HWUP3YNg4Q4+wz44nSQRuLj2s3d69YIaaHtyPlj5QvthvqrelyW3LZoTogHHUt/SN54LpoteaMPpu3g3DHYi5Ev241zyWtHzPwRL8JAwKqrrprquQZSuBdsOc694x5RzgxSotPoZ7HFuLc6xv3kniA8RsQAFveQulbW0wh6lOWWDJKTnnKe1KZ5/pM2ymAxdRsHkLjpm2k3HKP9Yaegd7hvDMSg2ylP5ZP4lSfli/C0FQYqmPVkYIT9Cp+nR6J4yDdtmXQw+8cgEMc51t77o7pNu7DzVz96lPMn54qOhgqyyiqrJAOWyofCoSLT+DCqqZzMaqDs6WhQXigYjDye/ULxYvihpDi3tRAXnTEj+xKMoPYK8ZB2OkoMMIwNRn5RHnRerEfHCMFQotPhRScybGmgKG6VUz2cPwmKCSWBomR2AKeaTopRVK6rzq3q3KZEaSH95EfOnhw//ZaBQqch508Kg2vyG2MNZYYhS8dJR0wY0syadxQnnQoKDKOW63H/6AApbxQaip60YEhIqZG+crp1XeLnujxDgEHBSCe/KQ/C6FziYmSQzg+DiHJj6RMdIZ2vyral8iMcdZzOh06EeDBMMX65xxzPjYP8npAm6jllxKgnbQfDCEcPJwYHloEFOpLcCCcOxddWydOA84exwZJJ6jjGM2WDcB/aIsxYsMUY5T7QVmjftBe2dL7MdjHiyT2iDGgv3GfqAEarnD/S2tJ94B7I+WPmD0MY44ZZIpYJMtt49NFHx6c+9anUceNMUY7UA8XR1DUUjnpOOVH/5fzxv4TftAlGhTHWqT/cL8Wr+0Ydpe3jjNIu0JsYK+SfNsIgBEud0TUMknHf6XhJP+2BGSziJj7iUvnoN+nE8WLGh/SQd+kDrk8bIF2SPJ/ESxy0H1ZxkEbOl1FeVUbEoXZFGO4DRhzL7phZoE5RH9i2R4gDfYzOQf9S5uhe6hbGrHQwxiQzT8yccA5povww3Fs780dZUC7oWO4D5cqycK5LeyHvlC3hdH65XMui+0C65PyVBxNUp7h/HKO/pA6Sdt1ztgjXZ3k7zg7pQvcQDsOS8mCAi7LgWoShHLg+YahvzLqgt2iv7CO+PL21COnBycPYJQ2Uf+78kX76fQb8WAWATmeGA8OSxxRIF+lDZ3J94qu6TpVQnqq76AHywAATThyDD6Qjvz8KL+F6nENaqUsf/vCHUxskDzikOBn007Qn2itlyb1ASGdz97o1QlwaOMFZZ7Bc+hTdIJ2ci47L3tHvstAOCE/boZ3QR6nt8BtdiV5EHzNbhQNDP6ByYRCvI5w/6ig2BZMG6FZ+c69Uttwf/aac0YesGCI8q0g0sEt8hNV94b7RdxJ3WU8j7GNgG+ePgTTOV57y63I94sA+YRAN24qypJ5Tx2hb2LQqe+of9ZhngVkdRtrYp/qnvLCfcqWPY3CUyQ/6QfoljnP95sqYeBDuKXkhHbQpDXS0dH5LovRy/+381Y8e5fwBlQEHBwMO5c6IB41BM2UYYygbKiPGAA0X45+Gi2HOiAmGLzNAKD/i4tzWgjIhfjp/GjWCMquXEC8KAKWBESujAyWKQStlyigunS7nMKpDB0TDoZw0Wkc+2+v80UDJM4oOhYiTRYeF8SeF2FpBabDFAWIUF2O6LBiDGD4ICo80kBadS9r5jSJiVpfy4v6SVzp34qb8MDowxgiD44oCpN5w/9mPQ8SoNOmgvCgn4m/JsCIsxiIdKEYs18zPRUgz6aQD4bp0+GwxwpUXKdDy/WA/cTC7RwdNmVPvUPq8KIb7wP845IxUMnKIQ8N5xE1cSgPOH/ePvKLASQ/KGyEfGBp0PDLCdX2lpa2iPNEB4fzR8TOTIaGuU3/zfa0R2jJbnGsMddoJ97wsGB20FxxBrkmbwPnl2himeXrz9JdF5cXMOzN/n/70p9N9oTPlGHURh4zlbcwIU+c4j3ugOJq7BmVOWJwP6j3XqRKOYTBQx7nXeRzUQfQdTgQOIoMf5FOzR8TP/eBFAcwEMzMowxRnCiOBAQqcQtJDfKpPuVCHmOHUWwsJV67/ebryfYTjmlwPo4fr8fwTaVCbQcrncpzfhKGsyRP6FwOM+0pdYNsekQ5mxogReHQtOlc6OK9Tu+222/I6TRtkgImBHYwt0puXl/IiyY+p7CgTBhIYZWcGgDKhbhFe+kJlISnHm4uOY3jSR5Z1LPu0n3ZPfVK8XGve3CJ9hVDepI2BItKGDmOwg7bAUjX6BQQjESOO2VzapOpVnz590sArs5nEKye/nN6WhLLSwA1x8lI3GaL087Q9BrGok9KxCPWde8pSPu4V7YNzqu5LWRSGvpX+gv4FJxgjmoFDXp6BHuKV+OxDH+NEkU+1G7YqC9JCX/Wxj30sDcKhI0gL9598Ua8YVKJd6nziKqerrUJ83DfaHgM8zPzjqNOOcJjJS1loE2oXaiOUY1k4H2HlBW0Ee4x2g+TtSPqYtkN89GvoEwbjcHxU5tq2R1SuPO7AoBbX4V6Uy1X3i7rPveYeMYjHvdagsMLqXHQsehidXG5bEtoXdgLX1PmKgzhpB/SN6GnKCGeYsByjvqAD6O9pO9wzrovzyswg/QztgHCcQ/rLceNAMpHAih/uM2nmGPEQLpc8fQjxKR76C66Hg04ZKY3lc1ojSi/pt/NXP3qk84cRizHMSzZwAGkY7Gdmh4bNkkSMehocnRTKhspOB8HIEx0DRg2zd8SFk9QacKhQ3oxaoTQRFDijL80JxkktQljixPCQ0swND+2ToCw0Cs2oJw5Z7vy1d+ZPjR/ni5lWRjkxbuiwONaWDlzCtbkvKFY6I9KaC/vp0BGOc44Uls5HpMgoA0bCuB+kDaXHTDBKH2ePsIzGYYTQwRAvTjN1grKn7GT05OlsSghLp62H9PmttPE/W8qHtLAMhiUXK620UtpSB6WslQ+J4idflA8GF/eeWRqcVLYYHMTF8zW8mQxjB0OfUW7OQ5QO0kBdx0HF2CcO7ifXIs+ULb8xNlkypc43T0tbRfFgwNLBUVep35Q3nZfaUN4G2iLMXOD8UU4YHWzpvMvthX2kgQ6Te4DBIuevljxzvykvnC+cP5wWjF/uE88SsWUQhnJkpoFy5by8nbR0DY5zDXQU7UBtoCwYsFyvnG7dbwxQBjuYRWCEnbpAPZUzgcFF3ccwQEdyTZwEBgEwNjDuqUfEpzam62DsUJ4MJDCSTrwcIwzXkShNEu0nnIwHvfyINkIc5Wvl5ylO0oQuw1nBOMUwYsBM+rhKVNdqFcpFdYlBt7wOqZ7xm36FtscMJHUK/YiTQFrJg0R5kWi/yoItbRSDmfJHZ7MfKZ9fLo/mhDDUk1yvVgn3n3CUa0r7e44fonrAbBGGO7NrV1xxZRF+cRr8oL6z/Je0MohG22CWj9kLdByziqut9vk0I6Q6y/6q9LYkOh87AP3FPtJGe8CwR7/jWMi50xajlbeRcn9oH6qz5fjLwn1hSxuhrmrAg8FmjOEPfvCDqZ9hH+0Nh5B6QNyUm+KgbChb0kOd+fznP5/KjjDsIz38j5GNY8gSP35zL7TN09VWIV2UIfcSe4m6y2w/9w9dWtUWmpNyG8NOYCkx7YPBE7UbbBXpZO2nHNDHDMwzwIkzihOg+1LL/WlJKDvuHfcFfU3/xn7FnZer7jU6kkEploni/NE2qGPl8AhlSfthKyE8Iv3Ntnwe16IN4MhR7jia5J86Ql2hTnAOfTqDLehx+hbSzb2jv2NZOPYd8ZFP4uS48oHTSx+H40c50ydwvFyf2CfRPoR4CEuaWI3A4An1k7KQ5OFbK9IBxG/nr370OOcPZ4aGRKWlw9cLPnB0UDw0BCoQzh+GGIoFYxcjhkZA42Fmg1EYwtABEGdroSFj1NFREzfC/80Jo5AYiQj/VwkzMxiixIchhEGL0YHCZIugUPmNYUJHxKwTo80YY+SZDpA80XDa6/xxjMZPB8uIETNoXFvry+W4VJ3bkujaKDhGs+jIy8J+CcpYii0X4kJRkk9GXDFKcIaYOdESIDokOlaUMp0do9LMCKN0GXmkQ8AxIS4pzVqFNDR1DvWU44z+MViB04bDg8FMR4iRRDiVo/Kn8/lNmjHIcVJJO50kyhdjmVk8/sfoJD88P4VTzn3ODSvKh/pOPWSAhDX/dIYcowzouHBgcVZw7qkvpEOieNoiOp/7TBmTVkbraQc4JMzil9uE2kstQpthywPpzLRhUKit5O0F54Cywtii86dMacPUa9KjjrCl/JIP7gntDQMXR56BJjp6Oi3qIXminHnuCF3DebV2klyf+859wbFB8naQCzqNe6s0s0W4FnqSdDE7zNIyBj9IN8c4h3uOriSdlBvlQdrZMqiGA0j5UJfIM1uE61DH0D3UP7a0Na6b1znKMzcuclG7IB38xjhBd9PxEwfXKbcpxac4yQf5QU9Q93HmqTfUB+nZsnCsFiEsOpi+BSNV+pe6pHpF+2Vmi3rHQCBL1TDSKAvSky/7zPNRJeSXcJQrg37cE5b1c+85Tl5z3ZCXhcqjOeE8dDgGY3PC9dCzhF+Wdq65TEjjzJnMGs9MbRijeO+9e6X7xbI0llMy68U9IS7aGzrqzjvvSvWUgaVvfOPrqc0Tv+pSe0R6k/8pIzl/DGig1ykbXYv2yQAxnyIhvejDWp0/hSE8DgqDjOhiyoHZTuLE4eH5YfYzY8csqq6veKjvlCvtiTrFTA+6lnAcYz95Ih7FyX6O16O8JKSJ8uA+0Z/gFKvONyWyY3LRMQYnJezHhmEZPnmkzdBWcr3M4AG2Dc4t+hg9pKXWlJ2cM6U1T3tbhLpB/cceZGAAW4iyLve3/M8+ypv+kD6blwNyj9CXxJPHixAPb0mmLHPbRW0KQVdjm5Xzwj3lfnOccsL5ow+nDSl9SguPNKCXmV2mDqErsHMYJEL3EI/ag/LFuaxGQJfj+KLbiFf6JE8LUk6f9pFOwvOYESuraFvoCa5XVSatEeJgS57s/NWPHuf8AQoeZ48ZPwxVRq1ofIyWMvLGshMaKoKSplPixRqsU8YRxGmiMqP8kbY4f1RKOY+1CqP4pB3h/yrhGEYb4THcSKue+UNpojBxHjAuUEgoWxQNDYdz8ry01/ljPw2exs0yJEY26cBZ3sU+OiUpBSmbqniaEs5FObHcEOeMUSk94CzhNzOhOPaMvqHApeByUb5wSjG4UfCMkLFGHkOAcxWGeoBxRceE08DoLU4ZZam4SFdVmpsSziv/pky4HveHTg5DGSMXI5z7SrpYOkOnwDXJV1PlyH6UNg4B5c7oHbN3dAj8zzGcOSlkXV/ncw71A+VP3pkJxdAjDHFiCJAuyg7HmFHr/Pz2iPJDncH54yUapJG6ThutahNqL7UI7YUtgyB0cNxXLTViSR6zQRg4dCzUDzoW8kv7IO964Qv3Kk9vU0JZ0zlj3OH84Vzh3Mv5Iz04fwwoYBi2xvmjXKh7xEOdpf4zIlzVLtjSbki76qzqD/ebMiVdpI/l8ehF8khY8oBeoC1THxgMwNFjH4YGRgbtHb1KfDIYOBcDmJk+jA4cI67Bfo6TfvJRS90hDOnkf9oFM0fcJ+IgvnJ48ifhN9ejzGlfGOEYQKpL9RDqIIYTjjEzAJqpYEaJcmfQgCWGOHy0O+oE9ZA8ld/2Wc5LLpQDgh6gXOmj0PXMLLOffKrs1bY5Ly+LpkRxcy6OGXUGfcoWxwLR/9QpHHn0I9dbsIDzud4ymTOHe8+3QecXOvvh4n59OTbc8FcxbNjQVDakGx2q65GX1Vb7Qlxy8aVF+Efjv7/537Hxxr9J94vjiNpcW4VrMSupcuK+aeaPPKn8KbelRd3G+fv3svNXnF8Vd5VwHdoC/RD6lniZMWP2D/3CcY5RB/if+0O9YKt2SZq4LnqKgUn6VsJShziOMOiA88c9WXYv6uv8cT21He4TaZfd0V6hDXAf0PU4ecyQ026wYbBfqH+0V/oYdAf1Hr3D/SCvPMbQEc4fZc59x3lhgIX+j7gpV8oD4X/Cco9IAwN7zPLSb5adP8JzPs4u8Uofkz+EeyehLuJg4whyrvJE/UHYTzmRNgaSOEY9U9oYkOM4fQqDD9w79mEDMCDP/SNtio//uQYDLfRBPEMqG4h6puPKg/JUJRznPOIlDwz6sKRXdkteJm0R4mVLmdv5qx890vlDwQBGFUY7Bh+jJSzxpFJSkVAmOIgoVhoMo7MYgRg6dAAoJ5QUz/vpmT8cpdYsASV8vYTrKi38zz6cP0ZPUaAoEBwFFCqjauSdRodCIh86BxH1cP4QRgTVuTPtT8Okg8qVDUqkKo7mhLTQMTJrSfwYqDgz3E8JI2/swxjCoGKEjOvlaUe4PoLCpKxY+slMGWWH4sNQJ73kHSOX2V/qDoqW0VceZFanrfzkcbOtykNTQhzkj/gY2aQDIS2MktKRo+RwpFmyqRcs5NetipP9Utoofkb9KDdGAClHHcvD63/SQbuRU0KngbNHWlDinI8TSZlwn5kJU5qIByFtiq81onSQPjl//AY6fOpue0RxMGKME8NsDA4TAyRcC4OU8uLe01YIrzbfVuePsBgu3D+cK+oXHTIda+78Uc6tcf4oY+4JMyUYSGoDbHHYJWofOLnMdnN/SRP3i3j4TT6p6ziopJOBDo5xX8kD6UUvUP8xzqhHpJ0tdYDRYuoI5xCetHEuRhHxUVcYVCNfCMcoOxm6ylNTQnjOI80sw2OWiI6fczlWDk+8En5zLroNwwnHn3RJfyLSh1WiMM0JkD+cPwYYGYBiNoN96EScadIg/YsQN/tqdf7IC3lFGNFnmSQDMNwX6RBJrh9qKV+E8JxHfcCxpn1Qb9jyXGcu7GegkTZDHnDyZs9Gp3AvCj0/l5ecTCvqzcIYPXpUob/WK+r+94o+4YJkJKOnMagxsrnuPffcG9/+1ncLfXxInHTSKfGfX/pycZ9PLOIunMiiPnGNeUUadT/bLPOW5ZP45Pxp5o/yn1uUFWWwZOky5+/fir4Bh432kZy/4nhr0kB4rkWbQG9iW7B8E0Ob9rOs7P5aTwkj3aJ2ip7A+WNgGoOa+yvnjy2DhR//+MfTs3PkTflrd1m9J5SHnD+W4aL/VH/zNlSr5G2L8ylbbDLyyAAcThED8QxA0HbQK6SB+0VY+ia1nXo7f5xP+bKljaFncJjIM8e5Zl7GhKNeYC/ijPGMOANiikfxEp4t9x37gTYk+wUdTRuT8JuVavRDShNbygDB9sBuwbGinXKM+qX6yTOAOHGkm+fUqUOkiRUdrCJiIkR6AiEfPIfIUmtsXp7lRK9zLelypUNpaUqUb7bUFZZ9ogupp8THtarOq1WIgy15svNXP3qk8ydlQ4XE2WOEmilzKjmKgwqDU0QYDC8aCA2SNdOExakiDIqHreLjf4T/kZZQuHqI0pErUxovBiCdAwoGhUmDw+BBWeoclK3SnaN9bXX+EEb+KWMMQZQ3Cof4OKYODiFOBKVCfFJqzcVNWM5BKTFLxwygtrmwj/wzwk7nmMeZp5/rER/lxVINFDKGOYYtRglKj3AoWmYZUZo8/0fHjaPAuVKMxEm+KC8pp1qFc9WJ4ATgAOBsorRR5hxji3NKfcSAZwkh15eSrYqXdCl9GJ562yf3BAODsuFY1blcEyOV9NCB0FboCAlP/mgvdCDM+NBecATz81UOSltT16kSnUMacP6YTaFsgY5fdZ762lrhPNoCW0ZEWSqH8YqTTb2ivGRgEJ72oHMAx1fOH2kirU2Vv4R7x73C4WPWGMee+4cxxfUoS8oZB6q87FPl3dI1CMs9UP1vShgI4v4TL2lSvNwvDFHyx0wVs2oM3CjthMHxZcSamV5m3jQCj0G41lprpfaBoab6StzkE2eUessyS9oV+eb6HKcMqYuUQZ6fPN8qZ+KlvIgbHaNRbdLHMeVFwnkSfhOG9DIgpNkLGa661xKh33kdakoAIxQDnHQxiECd4rrkT/WufA5lX4vzp/2UDXHTR+FE0UYoE8qRvBIHIidC5ceWMi23zbKwn2vQn1DPGdihXrGV5LqWpXeEnz8fg1jOX/F/sZ01q9ChC3gj6dQ44MDinn39q4Vh+5ukb48++piURuoRuui110bHlltuU+ipXxaO4gaFbvlm3H77XUV9WbLc+SPdXCvlibS2Q4iPto6eZUADY1rxch2cPwbieE4aPZGcv2nLHFVJVfmVhbhUb4mfuJhppI+iPkpHcywXziWN3EPKiCWIvPyLWSjanNKAg4BeZzaRusD95Ty25bS0VciDnD/aTtn5y+t0LaJ2pfNpGwzqMjuOw8fsGPWKeoFeyvUxW37zP3mk/66380e5Uu7oSvQhjjWOKXWfgTaOEZb0EYY08Iwcdg/1SeWvdqf7yXnYE8wM0t4pR23L7YpVJ4pDaSNd3Auuy0A0S9+xW0iD0s1xns1GP+JEEg/nonsJy0CH6gl1knM4hk7H0UW3UvacQ7ppowj3n/RzHQnXkiidbImbeFlJhfOHflO6Oab8tEWIhy1psfNXP3qk8yeFgZJhDTIVnLd6MvNHwwMMXcJQ2Rm5wail0jKySWNVGIQwxIVS4n+UYFciJUpDZh08DZnGioKUcaMwKgu2ZbS/tc4fvykHGjZKEIWEIqTh8xwiI98oo1w0Gk78knK8VcJ1yv/n+/LfKJ+qtGqflAhKl7qAwUunTLpJD50yxylXlCVLbqg3coQoF/LMdQijfOBws9U1mxPSwvnEg/HOLBTLPRl54z4Sj65BJ8/yENKAEa7jzZWb0oHBy0yw3txF/SDOcngJ18QwohPiXtJhYByxFITlcizBYWaSsqC8NLvL9Sh/yoPfxKU8lq/RlCg/dKCUO84ZcQL1WfW4LXCe2gPlyTOUpJ06T/1Hyu0FoS1BPvNHmkhrc+XPMeoRdSWf+cudP7Y4ZeWZPxmFLcWf13+lpykhTB4+P480cv9Y/cDgAzPFzI7SwXLPeTaJl1NgUGCgcH84j/qkusD9It20LdoB9ZQXDTGQhgFA/SF+7ikifYCzxLJFziMN5XzzP9dDMEwYMcfQou2qHeb5QcinhN+cS1nL+eMe6p7XC+Jm0In6z7VUnyTlegWkq1bnj7xwDWYFeGssdQknHX1KeUrXsqVMKWuMP87Ny5QtZd3UtRCOSVo6vkwKx6xw+JB5hfOHEzhnDkbwzFi4YF5cd93VRR1ZvXBSPhtf+fJXiv7lutSHTivaH21w/vwFcdyxJxR6+KuxyiqfKZzAX8SIES8XjvOyV+Yjy3XrvCIN7RDSO7sod3TcHbffEV8udPvBhX5b9F75zy3KBof92sLA5oUvmvmbVtxX7hfHKQPuB+HLZZNLulaRZs5D73JfMLBxrqkj0pll4Vydg/PHoCQrVJgZQgexhJgBOAZZ6TMYZEGvUE60yVz/5ulpi1BXSGvZ+YP2th/aAXExI8/KA/JK2ZfbTY6uTdlh09XT+cuF8mepOwMtDG6xcob+jllKdB2TB8xqsaoB3c59oX02pbfze8vxliQPpziIm3uLvmQwmpVKzCazooNywG6jLjAwxKwg+phyou1QV7BrsS+4p5Q1xziX8Axs08+jS3DCcx2NTkHQ/ZzH+aRF+VGe2XKMvpIZXGwHDdKpb1Be2iI6n/js/NWPHun8gSoFI+yMvlPJGdFhZFbKhy0KngZNQ9BLPqhkHCcORn0w/DEWMR5xbqj8crTKSqozIQ1aUkRaJaSpLFUobGudPykAlB7LnXBOUJQYijxTmQuzTwhLGBkhx0giDpQsykIdYR5/UyJFo62kqXTqHO1ny/W4pyhRngflvvMMC3lGwRIfYVC0vPwHg4vOl46b80k3HS3OEKPxlAGdAv+Tj5aUndKM8mKJBN/1Y9kLTjzXJX6uQxxsGTFkuSvGOdfkOPEoT2VhP0Jc1HXNRLRUxoTBMEPRY2CylI1Oj3JiQITZPtKAM4rBQfw4CAiDJRglGAjkTZ1P1XWqRHkhDZQlHQ/3A9rr/IHOZ7RZ7UXtH6lqM211/hDqEemnDuFQoX/4H6OOY2xZYkndw7Filpa4KTvKgLrB/W/pnpEO1aempKW0cp9oDyx345kR2iqOFumi/fIMDrqBe0raSD+Ck4jzSmfP+VwHQ5H88lICnvdjOSntnjhzfcCWYxhxxEleEYyVPN9ch984fMSndki+OK+cN86T8JswHeX8UUeguTqleiX0P2Ve67JPjjNggbONLkLPUp8oQ8pWW8qVZV+UEYYq53Id2ib3B72r61RdjzJjP+VdrkNl+ev5xf/z5QCirwoncO7smDljenL+nhk8KH6xwc9jlZU/Fb/ddJN49pnBsXjRwsIJK5y6qVPircLgH9B/QKy5xrfi859bLY447MiYOH5yLJhXtIXZc2LMm29Gv6K/HTH8xVhYOHBzZhXxF+lbWDiNC3DqeJavCMf+dKz4zf4qwQGcU5THO2+9HXffeVd89zvfiWMLB4+4iHtuceytJUvj5oE3FY7hl1Nfxb1lBnJekefpU6clp3U++S+u09w9QzhO+VNe6BD0+zKHt+nyZ8s51FnuF2/DZNUAM4f0s8z2oYvplzD2MeAJhxPFPUcvU1+Ig/tIfFyLNPBb+1tKO0K4jnL+gLZA+SLEq7ZS1W5A1yYPHeX86Z6hhxgEZQCAfg9dhdDu6ANpc9wb+inKRzpMceSifWzzNiThPAm/FbYsXAMdjC6kLjBoyDJS6gFtn3bPc6AMKBMH4elneGQEfYyNweAx9QWdQP1m5pgBcAbq0CHkDxsO4bcEZxfbl3ipw9g/cgZJm7bUP5xm6if2EPukw5vKVy2i+Knbdv7qR491/qQ8qOyMQmDA0XBQaFIybDEuMb5YYscSSkZx5dgBFR0li2GMwuGhZBqWOnsgnrKy6mjyPFRRS3qU7rbO/KEAGGlmdglhpiDf5oJTrWePuCcoJUalWGJL2UpBlK/VXinHKaXL9RkNY+YSBc4x8q7jdNiUB0sjWIaIstFxjCnygkHPKDsGMh0BHZnyQThdO08D+9miyClz6mU+q6LjCGVMONJKmTJbRDiOKb4qyeORUdGSEJ7OgrbA81Hkj7wxEkga6VhoIyh40kA+WbaD84eDiYHCfaZ9Kb/NpTEXhSPejnT+yqL2gwj9bo/zR9kQlnLBqUJwQNin9kWdo5ypYxo5Zgk1g0vsZzYwb4dV16mHcF0EwwBnBEOP59Zw/Fm2yeAZ7Zy0E472S3pYpsXoN8tWmeHkGO0Cp5B2TXsnnlyIU//T9rge8VEW3HPKmTpHvomP+oAhRnmwbBCDRSPXSLlcSKOE35xfT+cvryv6X0JfoGNCx4T+J+21OH/kg+Ms8UIHqVwllKO20rmUIXoCfUX8zBJS1tRB1SnpqKprtq6uEXaZA5ikcPzmFzKncO7YThw/NvrdcF2cevKJccvNA2Pq5EmxqHAKFxZhZxUO4uKFC+KVwli95MKL48zTzohHH36sOLe47zM4f14MK3TNDtv/Ph647/74U6FbFxdpX0D6CllYXJ//FxVltKS4xxzDSeM89lcJjtvSIuxLL46IS4r6cN+99yw/xszeogULY/iwF+Kcs8+J++6/LxYtXpT6qlGvvhJXXHZ59Cnq9sSinRCW+tlSWXGccJR51fGyqI2x5R5ht3Df0LnoWe4l91fPr9LeCMfsGUtE6U/QW+hxro1wHGEfbUHXaCntnFN2/tRu2tp+yqh9lKUKXZO205HOH2VD3rkOfSF9LzqN/o92RrtFR6P/cKLyMub/5qTqek0dK4vCoC95ZIHlydQF2jyzfSw9pb8hHYQj/dQ7Bstwxlimj/1LPNi0hM/1ifRyLugUtswIcg7PFVIfKQOuid2iATvKjVUeDE6xTJmyQf/KVsjz0lrR+eTHzl/96LHOn6BTpuKgxKk86qQRKg6/cT5oLIRhWQjHZHSyn5FXDHuUKyNBdMZ0pBhrCl/V+XcEXCOXKpo7lqNwrXX+JDR4yoxOCOORLY1eguEs4RiODILiZhkMI1Y4F5QdSqK5a7VVquIk3RiRGIWkW8pL4egg+R8FQxh1spQNx1B4KGCO4QCyPAelyAgs+wmfX1uSp4HflAvlRJno+trmkpdfns6mhOOEI721Kl7FyX0gX1yT8ykDrq3RPt0nwvJMG20DA4GlIyxFwRDRs09cW2GbS3N+7c50/nIR+t0e509CflRu3A/26VzKlvqiusWWzpNnNBjN5fkgjK9a7nd7RXmiflEfaRMI/5PO/Pr6TbkwIsyzU6ycIJ3Kh3QBea8SjlHHCE9Y7jcDKMw2ohsoZ66DwYrBwdIrZqNZjkUaKNe8bkk4T6Jw9XT+yqjesEWHEa/qT1kUDshba2b+CC9dpLIti8oVoWxYYs8LTfh0CU4Dbw9mcJNj7a1TeoYO52/BvMJZeU/mzyt0zdxCmAWcU9yjWTNi6qQiXWPHxIypk2NB4RAunIeDWOiQ2TPT73mFozhlQhFmzNiYOX1GmombVdTDhUXczzw9KDb77aZx2623xKhRrxb65tkif+jr4vzC6eSzEi+PfCmGPP9cvPTSi2lGceGCIl2kpTj+N5L2z4tZxXnjxo2NqVMmp/04c3yqgv+ZtZxYpHnS5ImxYOH8eO21V+Pqq66MnQvnapuiHr7y0ktplhBHc1kZtCyUtdp/rUIdlt6nHtM21X6oC/S7OALUDZwU2g6zf9gk9ElqX1ybsMwIoZd5LwDx6RpqK2Xh3I52/nLKbaWMrkl+O9L5Q7iG9BllLXuGtkf5U56UofQQYdWm6iFVaZNwHe476VJ9oH9hX54O0iW9gQ5gdRaDbxwj3ZyT6w7lsUpUBjjAPCKFM4zuZzaRusaSXZbms0qIFRpMCKC7KSeVT1VeahXiYIsutPNXP3q884cyoWPWbF7eQet/jnOMMDom44/lGoyM0LiY6WD6HwMVQ5cPntLJ6lzF1xk0dR2lvxYUFiXfFucP4ViudPJjecdCA0YhoEQwemjAGLk4TaQBhdTStdoiTcWpfXm6SS95V6eo9CsO0sg+OkQMKTogjFOW42BokRcUIsqRjptzpbiqhDi5vjobhPC6noT9hFd6ahWdX3WsKSG8FDZb/Y+QTsqALWGZGeI+ovhx/nBcGBHkf55RYhadNCuO8rUkSiNxd7bz1xRcF9rj/OVCGZR/U47aj9HGMz16gyejtAzKcLwt12uNqF5xLYTfSF7vFEb1gN84YywZ4k27zODLUSEOwqmsctF+wmE0MJDGKDQjzCw1ZqSduKkLCI4Ljh/1Cd2h6yttuSidSivnd6Tzl0NdUtyqV+U6pv9Jf2ucv7zsahH0LMvW6LcYRMBo5X+WqmHsEW9z16xJ0nLKeYUzNycWFg7fIoT/C1mQnMDCQSocPPYvmFP0KYUsKvYtmlc4HsX+eYUDhuO3oCiLhXOKezmr0Cmzi7BF+ucV+xYXjtfgp56ITTb+dZx04vFFGzwnevXaMy7rc0lMLRyzadOmFPXm9jjuuGPi6KOPjKOOOiLuvOOPhWM3vXDmcG6YQaPcaF/UlWW/5xZp4JlEhH0Li+sQnlnLZeEZ3JhTGK5TkwP6auFcPnTfvXH2aafGZhtvHK+8+FKR3sLpfW+JaWXZ1FFoS3mbYp/aD0Idx/lDZ+ibvvRFGOq0LYx8+nbsFY7jCPCYA+eWr5UL1+tM568ldE3S3dHOn8qaLeXLNfU7F+3nHLb6v71SlTYJx3Wt/JpKk36zVdp5xIBloSwLRx9wnP2IzmlKCIswUMljKsxG01ehs1kSypbJE15Gw3szWJKKvkVvcX3iVxxV+alFiIMtcdr5qx893vmDcsdcJTiAiH7L+cO5402hGB5UPN7Qx/I3DB+ef2K5G5UzP78zaO46taZB5dGS81dujLnk4XKR4si3hGc0iA6JcmXGDEVOGlAUOrd8jc4SGY7kXwZkLqSR/cz68qIWll4wOMDSNwwrlCyv4ObZKZbLYYRRnk3lSwq2LAqfn1d1fkcI16lKE0Je8s5Q35fD+GCpBx0M9Yhy4bkxfY9I5zSVB+0nXEc4f21B7b89zl9eh8i//q8qYzozZpRZ3sVMF9ejXarz1LkdKcqbRPvJh4Tf6oxxJDAIeAYGwxJDkfN0vyXlvHK+6gOOCWXM86w8z0T9IW4G23AEebaFWUG9wU7x5emTlNNJOurt/DVXD1VPmwqj/eShVudPeVG55eXYlKhc0U3oW43+s9oC3dvuOpUcP2SZ84fTt6go67lTp8Ti2bNiabH/rcJxWljcw4WFk7e0SNPSeYUUDtbCWdNjUeF4LSnSsBiZXThgMzm/cBxnFY5r8Xvu9BnxTnHfhj0zODb8+c9iv157xYP33hMXnHVm7FT0GcOeeSZeHPJc7LPH7nHaSSfGI/ffF6efeELsvduuMfy5Z+PtRQtjbnHtRVxz4YJYWvxeUFwLJ3Rx4fAtKtLH/+zDcV1cpHXJgsK4LNLJb2RBkZ8lxe8pY8ckJ/D2wujdYuNN4uVhw4v04bTi6C4rh8oyaqNwX8qS31vuXS7UcfQvz4XzTgOcIuoWK5QYrMbYp69iUI4BJQasmQWmbhC32mE5HcTdaM6fhHJmWy57lX/+mzB5OP3uaNH1KI88TeUw1A/aPCusWKZPXWAWmGOaOVZdKkseJ2E5D12NTkJPM9uMDmNGmYG7DTfc8H39ZH4+Ui7nWoW0sLXzV18awvmDvGNuSUAj/6ztxvnDMGPEjLXTPOPCMlCWWWD0Y1zI+etq8jy0BA2HsG1d9tkWQRnhFLFkUM4f6WB/va/VGsmNRv1fFtJI2eD80dHi5LCmno6Wtfe8+IFvSJEvlC3lSnlKAZavWSUqg1yqwnWFkBbygjLmf32olvLAsMSooJPg4XBmAXlGi3ZDGSBN5UX7Kd+e5PwhqjvqwBDFIaFMyTszYeiY3Plrrtw6Wkh3/n/+GyHNLO9ltpJvXul5PdJbNh5yyesQ9QN9gKGKAYEe4josc2OQjVkMDAzFpfjydOSSp5P0dYbzV2vdVDjuaa3OH5KXm/7PJQ8jkd6h/vLMDg40b+5jH21U57VF9BKV9Lxc4SgtwaEq7tfkUa/FlFdfi6VTp8efC+do+muvxxicpbFF/zhnbiyYMD7GvTAsJr88Mt6dUTiAk6fFlJdHxZvPD49FE6fGn2cVeRwzPl577vmYU9yzV559Njbf4BdxJm86fmlkDCmcl9232DJuuuLK6HvxJbHzZpulfQsmTir2XRGbr79+3Nm3bxQVKl4tzh03YkS8W5TD/xX1Ycqro+K1os+ZM75IS5HuOePGx+ihQ2NysZ8w7xR1ZczwF2Piy6/EwkmT40/FPtI/ctCgeLvIy/1/uCU2+fn68fTDj8S0seNjYbFv0Vyc32VlUVVObZH8HjZ3XG2B+4zzh+HNbB9tiZeE8TIQVqJgKPPJAh5HQL8wc8MxBlaoe9SFquvQPhvV+WuP6P50lqge6Hc5PRxDD0oH8jF5Bt5Vd/JzqySPR8s4WeXBwC+rMej7WbFCvOgXJkkIXxVHW0V9BfXVzl/9aBjnr7Xkzh8veWH0hDca8jY7FCKwthkjFwMIY7GzDdT2QsMhzU05f1UNsT2CUab4GS3CyKUhU9btNUg6QmRIypgkjXSujICxvFPOH8tX+R8w6Fj7zvNbdLYoTSmvcvxNCWG7W1lISBd54n8cP4TywEhn1pM8M+vQq1ev9Np/lDTncN+bypP2584fZQ4ruvMnUZmVRXGpbuEEsYyYlQVcr7ly62ohbUj+CQ0dU5qr0s4+GR04f+gDDAjaEW9WJgzHWU6styTyu6kyLIvuE2Vab+evPbTV+WuNKC7yzrI/9BJtlBdb0U9xbdpZfa5ZxDFv2UzaIj7M/saYGPv8CzFp6PCYNuzFGPf0c4U8G2OeGhwzXhgRk58bEm8++USMffKpmPr80JhU/B4/+Nl4/dEnYtygZ2Pm8JEx8ZnnY9Sjj8fopwbFk7feEtuuv0H0731BjCn6i/sKnbp7UUeuPefsuPC4Y6NX4fy9+sgjMf655+L+4tj2v/hFXM0r7UeNimFFX/3qI4/G9OHDY0bhBL7O9y4Lp2jikOdj5oiX4rXHn4iXH3o43ijSMuPFETGxSMuoIvzYwkmaVISZMuyFIszjMbxoh9MK/Tag6Kd+sdZa8ejdd8XMSRPTzGBHOH+tEe4h95PnrPWWV+o2g9PMovMsLi/7oa/CQaQt0AZoZ/T19PvUk6q4y84fs4Ya3Jbd0JmozZLf7uz8dbTkeeV/SR6mLOhN7id6kGf06J9rPRchDH0Tjh3lTr9OvWJAAbuYZaA84sFxdIt0ey1xtyTEQdr5385ffbHz1wRy/qjgvEmLSk7FZ6qbxgO8EZERVSp/VyjE9qI0o+Q72vnDIJNSwLDmWTlGJFkaSDrohDhGuKrzu0pIj9KEYqNsNPNH2nF8MNb5H3gDFgMCvBGMtfBSvPUuz64S8qH7xMwfQnlgYPJcCXlmOSBr/4877rg0WkgZUK+aKgPtl/PHrCnxQ1c5f2r/9XL+mhPVEdoF9YeZYwadWF1AuVWd0x1EZUH6q443JXkZ0u7JN84u+aZzZwZdOohyoQzUhnReS0K4RnT+pL/pr9BJDMiwGkEzrFxLerjq/FpFL31BcH4WzZkbi6cWOnz0uJgw+PkY8+hTsfjl1+Ot8VNi5nMvxJsPPRoznh0SS954Mxa/8mpMfOLJmFw4XkteHx2Lx4yLKYOeiUlPPh3zCydx0eg3Y86LL8aD110Tv1//5/HkzQNj0YTxcfdVV8auG28Ud197ddx2eZ/Y4ec/i6f69YsFRf87/P57Y+cNfxWXn3hizOZzIC8MjwXMRA5+Jt54+JGYPXRYLMHoLY6NfeyxmPL04Fjw+uuxsNBdk4q29kbR7hYWTuOSIq5phfM0pnD8ZrLUeEyR3qlTou+FveN3G6wfo4YPjXcWLli2PLQow+T4daHzR7vgJS44dAw4UseYmWG1EjPnzAbSruinaGc8o8USUQauaRvo3Kq4ibfs/EkndoWtozZL/W5k56+tQhm1pZx0DnWBtwjz+QucLwb8pLvUL6JXJG25VpUQD3WR/7mOnb/6YeevCaToWELBciRGNTTzhzEBTHPjGNIQOvN5v3ohJc4IICPuOH90BmrM5YbYHkEh0Ih5sxSzZXRUPCvEM5MsF2OUmutWndtdBGMSAwpnBweP0XScWJZ98j9g0NHxMgor5w+pim9FFCl57hVLPXj7F7MzPPPH0j/qEu2D5dB0FCzfo04h6hTKov107JRbd3P+MKA6yvlT/ikzXunOCxv4zhIv06Fd0F46oj3WW1qbPrUJXiRAPnGwyTdbZi4026d6ozoioUzKUr4G58r54yVM3cX5I11y/pTuqvS3VigX5ZkZZAYqeRYTQ5lBBVZb5LOzedm1VuZnkpy/ufPjrVnz4t0Zc2LJ2Emx6I2x8ZepM+J/Z86NP0+aGgtefT3eKZy8mDkrYtr0WPrGmHjrzTER02fEX2bMinfHT4q3iuP/N3lq/O/06fF/hTx3z13xu5/+JB6/9Q8RSxbHkMLB23GTjeLOftfFsMceih1+9cu44LDDY+TjT8Q1554Tu2+xeTx+223xTtFm/1T010VhxNIxY2N+4QT+aeKk+EuhX/48eVLh9BW/J02Iv8ycEYWCSg7fojdGx/8WDjL73i7qy8LCSX23cKAnjXwpXnpmcJx29JHxPz/4ftw28MYYPmRIzCiOseyVT0vou3+dKbrf6Exm/lj2ibOP3qL9cO/pk5hRZ3ASh4nZeZbq0T/x2AVxcL7qQy701fR1+bJPO38rvrSmrBSW9o79yzddeZ8B/TPPkuIMYvuim7kv1Jmynq6HyPlD7PzVDzt/TaAlDhgmOCgY/nSevOJWFY8GwLdSmOlYESuhlDgGO7OYdB7kM2/49RDiUieD40TjZZkgHRRLUjCumemQ4pAS6W6CYYUiZDkanSgOM8tpWP/O/3SOvPSFZRGMttN5km8pxp4iMsh5iQDGOiPPPPPIyz+4x8yMn3LKKcngpj4hOIF5B5EL+9kSLwMQ3XHmD0NddZm0sq2HKO8sx+G7SjyQzxIuZk5xBDHsuG5Vua3IQr7JFwYp9YZ88ywSz43yZkraFeGoE3n70fmcWxYdo1zZarAmn71A53WVri47fxpQULrbI5QN5UTcjMijyxm03GeffVL/xYs+KAP0L+Eoo6oybIukuIo0LJozL94qhGfk3i6u8XaRlrcKZ+/dIm3vFNu3+X/WnCTvvCf8//ZMnrl77/fsubG0cPzenjM7Rr0wNA7bb98Y9NAD8ecli+LVoc/HSUcdEfff8ceYNGZ0XHvhRXHKwYfGhaecFqccfUz0vfLKmD5ufCwtrr1kxsyUjreKuCWk5+3ZRZpmFcckxXX0e/m2qDeEXzhtRjz54ENx7umnxz577hGb/HqjOPTAg+KKSy+LMaPfSI5fqpNzqu9JR4v0BwOnDMTx0iQGHJnlw05hdo+lvuhpZoB5oy6rMXgGFL2mOqO2lQv7ubesauqOM3+8GIv8WzpWqAPoKHQouoTJDvQJA73UJfpF7gl6R3Wnqq62R4hf/+P0Yz+ysoE62B3es7GiYuevCaTcaAAYIizB4n86T77tB1RKDF+cpxURKXFGinFe5PzRyPLOvV6CUcIIEg4SjVjCCBIdGNdF0UjpdDchXaQP5x9jnTSznIqRVv6nHJmpYVSVTpPw1JFcea3IonxoS1tg5pOlnaz553/yrN/MCOrc5joF4qNc6UCY+WNGnd/QXZw/GeoIdUH/t1UUB+WFMDvF6/kxahDaBW+M5fp5uJ4gaktsGSjgBQTkl5fdsKUcGFDL60j5/LwsJezPhXqlmeju5PyRLpw/0oNzSv7KaW+tUC4qK37T9jDMGClX2TLARrnSFqvKq62Sln8W118wd9kM4KIiDenTD3OL8i/+X5x+8ybNee8df78szCT9LhxIniOcXhh4Q555NiaOHRdLFyyMGUVbeGnYsBhbOF5zC0dy4htjYuiTT8dTDz0aQwYNjglvjo2Fs4t0FOenON6LS//zjF5KR+GsIcvSWf2b8AvmFM7Pa2/Eo0X8D933YDx4z/3x4L33x5DBz8X0qdPSck/Vx64Q3UMG1hiYpg+iPvGb/olZGe41W1YwocN4jIU+qqpd5cIx4mdmnkE8Zo67i/PHi2zQkeXysHSc0Ddjp6FLWKKPPkG3YBtTX7gvbKvOba8oXrZcm1Uxcv5UJ03rsfPXAiidfHQhNxyofKyj72xF2B5Iq0T5wmlh5o9GxUghCh+jrCME4wNjDKET0pb93VnyPJDmfD9b9um4Pt6t/fmxFVmUD23zMmBkkHwrvwqje8v/OrcchnMZFGDLUqXuMPNHuwbSxYwcM7l5fvV/WyWPQ+Wirdpf+f+eIuQnz1Oe1/y4JC+35qR8DvExUIOBwvcCteyzK+oT6JoY5NQpnrNWvvO0t0VUlrkQr8qBtpWXEf9XndMmKeIbO764XiHLfhf3cfyYGD+uuOY4/h9bHCva+fgiLeMnNitvjivyMmFSkrHjijSORYr0FttJxfHJxf7xY4rfhUxk37hi37hJMWnsxOJ3Eceb5Js80rcg5BMp/25Olp0/YcKUmDB+cowfO6nIx6QU/6SUjuL/4jhCOaLjOlu4rkT3VPvRWXmd0P1mKz2tc5oSziMeZhH1mQg92tKVzh9OCDN/tB3ypDxaOk6oL1X/6zf3Qfur6lJ7RfFyHZYx6zvK1EE7f23Hzl8zULkkoqz0cmdwRYD0S3lLmTOTiXHLUj2WhPTv37/uQrwIhr326X+23V2U5ubSu6LlqV6Sl41E9ah8XPVAon2E4yU5LKPmNeSMYIPqaLnddTTqVHAeWJaMMCPJm0g7QlRWZcnLrqeJ8qet6kOed/1fixBeojJlUIvZZJwtVhx01WAC6JqMYDObTJp49ln5rrcQL+WgsqkqL8K0V/r27xc3FMI27WNbSP/if4T/+xbX6tu/aOMtSb8i3I0Dlknxu1+/Ip2F3FjIgP5FW+F33yIv7Ou7bP/AYv9AjhfSrzjWr4ij33vntlmK8/sX8UpuRPoV1y/2Izem48vKuVyunSXNXV/H8jBqE9yj8vEq4RxewHX66aenmUW1m65qOwgzkrzBlscMSKPykufdUj9RG88lL2/97kjJr8mKCQaIWV2EHZtPzJjWYeevAciVNg2GJawswWRJFMYQDYhnixhVwfBmy/MDbDtCuEZZ2I8DuqKI8qL/y8fy3z1V8jIo78vva0uiukZ44uCZSupoXm+RzkSDOrQTlruwLJqXaOR5raco/yqz1pTfiirKN6L85nkul1FbhHtGnCyBZKlQdxis43MoLOll9kJ5bY0ob/n/ZSmfk0stYVojfyzktve25f3L9nFPa5c/FnLbe9tUHwq5Q3Lbe/Le79uL/xH26VykHGdbhevf9p4sq5+3LROOpTD1qaftFZV5/n/Vb+2rVQjP8j6956Cz9XAO12agmhdjqe0suyeWjhL65lwod/bnZa961ZGiukg/zGM2rFbrCrugJ2HnrwHQTB+Cw8dziizjYIknx3AA9WZKllV0hbBm3LLiS9W9bY1QBzGOqavUzbzudjZck4GR/MU9HSFV5dDIUlVG7RHiZBmxlvJ2NdTpjq5TtUi53LuzzK5Bqs7rDKkq254ktB2thOgKPZxD26F/IF1V98LSOdLZ5a/rscWGpR5AV9fHFRk7fw0ADYSZFEa+eXCbJRMsO+KlJBzDKEK5axYQ0W+LpSskd/q6WsGrTXRUu8jjt3ScyGDoDlCn87T17HpA3v7UCllWFuV28rdCv9VaqYqn/fK3eV7xJc+XdHBX6mL1BUqbpeNF9z+XqnBlqTqvHqK4u7Ie9hTs/PUwpCBzJcnbv3jb12WXXZa++8Q32HhomhE9hcMw0rb8v8XSmaL6210gLVXptKxY0t3qlIS09Wx9S94Y0JH8qfS7vP+v/VHzgiFY5Tw2JR1jlP5tfnuedIe2ozSozVi6Rrq6zneHutgTsPPXQ6GB8npcvlPIA7N8m4Vv6m2//fbpm0A8wF31XJXEGGOMqQ/0Kcy8IrykQf/nov219j+Ks6n4JK2N1xhjejZ2/noQOHzM9OH08Z0n3k7IGzx79eoVO+64Y2y33XbJ+ePNhayfZhTFGGOM6RxwwFqS1lB1flNijDEG7Pz1IHgTFh965a1MvJ559913jx122CE5fcgWW2yRZv/uvvvueOedd+z8GWOMMcYY00DY+esBsEyTDwfzMhc+yLr33nunGb6tt946tt122yQ4f5tuumkceuih6UUvWj9tjDHGGGOMaQzs/K3g4PjhxL3++utx5plnxs477xxbbrllbLPNNsudPpxAtuznpS98u0znGmOMMcYYYxoDO389AM388SHMww47LDl9zPwh/I/Th/PHWz6ffvrp973oxRhjjDHGGNMY2PnrAWj2b/r06fHAAw/Evvvum2b+cPi22mqr9KwfTuBxxx0XkydPTt/1s/NnjDHGGGNMY2HnrweAE8dbPhcvXpw+4XDQQQclxy+f+dtpp51iwIABsWTJkvRWUGOMMcYYY0xjYedvBUYzdzhzvL3z5ZdfjvPOOy922WWX9F2/M844I/bcc8/YfPPN4/DDD0/f/NOsnzHGGGOMMaaxsPO3AqOlmzh0EyZMSC9zYYbviCOOiMceeyx99uHaa69NzuAVV1wRM2fOTOH9lk9jjDHGGGMaDzt/Kyg4cSz1ZNZv6tSp0b9///SJhwMPPDAeeuihmDt3bjo+duzYuOaaa+K5555L3wHUucYYY4wxxpjGws5fN0eze7kAs3c4d/Pnz49bb7019thjj+T83XnnnelTDjiFhOHNntOmTYtFixZ5xs8YY4wxxpgGxs5fNyZ3+HDcJDh2CE4eH3Y/5JBDYrfddot+/frFjBkz0rkcL58nx9EYY4wxxhjTeNj568aUnT+2mtFbunRpPPnkk3H00UenWb8rr7wyxo0bl178QjhmBfPzEWOMMcYYY0zjYuevG5M7bjh8OH44dSzlHDZsWBx//PGx8847R+/evePNN99M+/U2TzmLiOIyxhhjjDHGNC52/roxct7k+OHYISNHjoxzzjknLfXkcw58woGXuRAGEXb4jDHGGGOMMcLO3woAThyzeizp5O2dF154Yey+++5xwgknxJAhQ9LH3bUc1A6fMcYYY4wxpgo7f90cnDkcOxy/yZMnp+/28eF2fctvwYIF/nC7McYYY4wxpkXs/HUjcOByJ06OH84djl/fvn3TUs+DDz44HnzwweT4MSPIjJ8xxhhjjDHGNIedv25E7vzJ8UPmzZsXt9xyS/Tq1SvN+t1+++0xZ86c5BTa8TPGmGVIh7ZVjDHGmJ6Onb9uQtkI4a2e+og7s3wHHnhgcv769+8fU6dOTTN+OIbGGGOWge7M33TcWjHGGGN6Onb+ugm5AYLxgnO3aNGi9FzfMccck77ld9lll6UXvrz11lt2/IwxpoT0Z65Pq0Rhq/YbY4wxPRk7f90AGR4yWljOuXDhwhg8eHAcd9xxyfHr06dPvPrqq7FkyZLk+NlQMcaYv6UW3YgOZWUFWy2dt041xhjTCNj56wbI8UMwRnDwXn755Tj99NNjl112ibPOOis5fkuXLk0zgsYYY9qOHD8PpBljjGk07Px1MRgeEgwRlnSytPOiiy6KnXfeOU455ZR4/vnn00fcZbAYY4xpGTl20q8IepTVFWxnzpyZdKsxxhjTKNj56wZgmMggmTJlSvTr1y/N+PEtv6eeeiotAeU4ImPGGGNM80i3akk9zh+rJ1hZcdVVV8VNN92UPpmjsMYYY0xPx85fFyJjQ6PRfNLh1ltvjf322y/22WefuPPOO9M+vdlTBowxxpja0IwfunPkyJExYMCApF/XWGON5ACy2kKOoTHGGNPT6fHOn5wlde75766E6+sZPzl+9957b/qkwwEHHBADBw5MH3bPDRdjjDFNI30pvaqXZ7F0/uqrr05L6b/73e/G5z73uVh77bXTS7Wkh61jjTHGNAINNfNHJ5/TlZ0910beeeed9CKXRx99NA4++OC03PPaa6+NSZMmpRFpL/U0xpjaQFei5xGcvqFDh6YXZm2yySbxta99LVZaaaX40Ic+FP/2b/8W559/fhp0w0Es9w3GGGNMT6VHO39ymlg2ySzamDFj0rfz5HjpeP5/Z6HR5tmzZ8egQYPihBNOiN133z0uueSSlE4MEtJt588YY5pG+hthwAxdz/dRTzvttNh0003jP//zP+Nf/uVf4oMf/GD80z/9U5If/OAHMXz48KSH0bPWscYYYxqFhnD+eKNb796903JKOnz241zJYMils8DowLF79tln48QTT4wdd9wxzj333HjzzTeXv9mTNNr5M8aYv0U6W8s8Z8yYEQ8++GB6Udb6668fq622WnL6cPb+/u//Pj7wgQ+k/9l3+OGHp1k/8JJPY4wxjURDOH8TJ05MztW3vvWteOihh9I+llriWElwxjrDAJDBwnLP119/PTl8v//97+Okk05Kjimj0HrBC0LahA0UY4x5P1q2+dxzz8Uee+wRn/nMZ+Kf//mfk7OH0yf5u7/7u7Tkk2f+6Afk9EmMMcaYRqBhnL8ddtghvv71r8fDDz+c9jHqyyu+cQJzI6AjIX6MFJgwYUJceOGFaannkUceGUOGDElpIYzSQ1iFV/oQY4wxy5CeRKfyXdTPfvaz8Y//+I/LHT5E/+MUHnTQQWmW0PrUGGNMI9JQzt83vvGN9EZN3vyG43X22WfHNddcE8OGDYslS5Z0qCFA3JphZBkqL3VhNpLlRzikOH4cyw2SjkyPMcb0FNCdrKYYNWpUGlD7yEc+kpZ4/sM//ENy/Nji/H3lK1+JP/7xj8tXVeT61hhjjGkEGsL5Y0R4u+22Sx3/0UcfHfvvv39su+22sdlmm8V6660X22yzTXpBgGbeOsIYIE6WJ82ZMyd9y69Xr16x9957p2/5zZo1KxkjZefPGGNMy6A/WS7PC714u+cnPvGJ5c/4MQsoRxDHkP4AHdtZKz6MMcaY7kRDOH/jx49Pz9Xxeu+NN944Lr300vRpBV4OwBKgz3/+88koYIYQMArqCenAsWOZ6d133x377rtvcvxuvvnmmD59+vueObQxYowxtSP9yszfk08+GRtssEF8+MMfjk996lPx8Y9/PDl9OH9f+tKX4rbbblv+FmUPthljjGlEGsb522mnndJSIJZZ8g09ZvkQXhLA7B+zgnxyAZihqycyMnjBy8knn5w+NHzdddelV5JjiJQdP6XbGGNM02j5Jjobx4/l/Qzyff/7348zzjgjfTeVWUBe9MIKjzfeeCOF15JPY4wxptFomGf+eL7u05/+dPTt2zcZDIwS43TxIWBm/f793/89brzxxuXLh+qJ0jFt2rTk9F122WXpkw4YIPnSo1yMMcZUg46U48fz2k888UT89re/jVVXXTV++tOfRv/+/WPq1Knx4osvxq677hprrLFGXH311ek7gHo7qPWsMcaYRqQhnD9m+rbffvu07Oeee+5J+/iWHmA4sPRz5ZVXjj59+iTDAOkIwwBDZcqUKckZxQjhGmUBbY0xxvwtGsBDj7Nig2X9fOLhxz/+cdx0000xe/bsNIjH8cGDByfdjiOIbuVcY4wxplHp0c4fo7vA8kqMg9VXXz0eeOCBtA/DATAODjnkkFhllVXi4osvTvvrvexTyPBoasbPGGNM80h3oquZ8dt6662T4/ezn/0srazgOWqOEQ5ZvHhxWnXBM9ee8TPGGNPoNIzzx7MgX/jCF+L2229P+/RpB5y//fbbL70c4Prrr0/GQkfN/AHxlkX7jTHGNA16EseO57WfffbZ9BwfqzZ+8pOfRL9+/ZavqmDWT/qVwTZ0upxGY4wxppFpCOePZZ+88OWjH/1oXHLJJWkfBgGwPIiRY5y/++67L+3TM382FIwxpuuQAycB9PPjjz+ePtfDM34/+tGP0sAdM34M6uEcSr8DTp9n/Iwxxphl9Fjnj46eTh8YDeYNm//6r/+aZgD5zMPYsWNj3LhxccMNN8TXv/719HrwV155JYWX0yhyo8EGhDHGdA7oW+lyZu9w6nD8GLDjBV4844cO1ydzEDl7wjrbGGOM+Ss92vnT6O+YMWOSscD3/Hjz2z777JOWeu65557xP//zP/G9730vvQmODwTzXMjw4cPTx9jnzp0bL730UsybN2+5ASJjxBhjTMcivctsH0s9n3766dhiiy3SjN/aa6+dHL9Zs2al2T7N7lk/G2OMMU3TEMs+GRU+//zz0zf+HnnkkbjmmmviwAMPjL322itt+cQDrwXHaOD5wKuuuip9DwpD48gjj4xRo0aleBh5Ls8KGmOM6Rjk+CF6uQuO3zrrrJOe8WOQDp3sgTljjDGmNnq08ydw2nDuWP7J6DHP+fGdvdGjR6cPwPOtP73khf9HjBgR8+fPT5+F4BMRzARyHjODzCbawDDGmI4FPYte1ucatttuu1hppZXSUk8cP63IkD7O/zfGGGNMNQ3h/GEQ6FkQ0LMh2sdxtowgM/OHYcHM3/333x9bbbVVWhLKCwX4ODuOYX6eMcaY+pHrYwbdmPHbfPPNY7XVVkuOHys1WOqpsNpKjDHGGNM0DeH8AYZEbijwW8JvOXPDhg1LDh8vhXnooYdi/fXXj2OOOSYuv/zy6NWrVxx//PHpuUDNFBpjjKkf6GQG2NCx+oA7b2Neb731on///mnlBs/4CethY4wxpnYaxvlrCYwNGDp0aGyyySbx8MMPp5k/PhysZwL79u2bXjbAC2QwTHKH0hhjTPtBp6JbcfB4PvsHP/hB+o7fgAED0owfz/8xWGeMMcaY1mPn7z1y52/TTTdNL4bB+fvd734XzzzzTDr2wAMPpOVHI0eOTOHt+BljTP3BuUPHoo/PPvvsGDhwYHL8GHTzkntjjDGm7dj5ew85fyz71Mwfzh4fEsYAgQcffDDN/Om5P0anjTHG1BecO+Stt95Kb2vmBVzoWzt+xhhjTPuw8/ceufPHzJ+cP57/Yx/wDGDZ+bMhYowxHQP6FV2LyCG0zjXGGGPajp2/95Dz98ILLyQHj2WfzPTtuOOOaR/gEG6zzTZp2ade+GJDxBhjOobc4cvFGGOMMW3Dzt97aAknS4zuuOOOmDBhQpJ77703pk2blo6NGzcu7rrrrpg5c6aXfBpjTCdi588YY4xpP3b+SjADuHjx4jSzh/C/lhzlv40xxjRNvZ00O37GGGNM+7HzVwLjQi8VQOT46Vj+2xhjzPvJdacHyowxxpjuhZ2/CnJnr+zolX8bY4z5K+hIBtBYKeHl8cYYY0z3ws6fMcaYuoHzN2rUqPRtPl6OBTiDxhhjjOl67PwZY4xpN1oVwfbmm2+OddddNy6//PK07913333fcnpjjDHGdA12/owxxrSb3Km77LLLYtVVV42zzjpr+RLQ3PGzE2iMMcZ0DXb+jDHGtJvcmevTp09y/nr37h1vv/12+kzOmDFjYsqUKbFgwYL3OYHGGGOM6Tzs/BljjGk3uSN3ySWXxCc/+ck4/fTT44EHHohddtklttpqq9hmm23ipJNOitdeey29CdQvhDHGGGM6Fzt/xhhj2k3u/F100UXx0Y9+NDbbbLM49NBDk/N3wAEHxCabbBJrrrlmHHbYYTF27Ni0JNQvgzHGGGM6Dzt/xhhj2k3u/F188cXxwQ9+MNZZZ53o379/vP766/Hmm2/GoEGDYvPNN4/Pfvaz0a9fv/QsoJ0/Y4wxpvOw82eMMabd5M4fz/x9+MMfjl133TUmTpyY3va5ZMmS9Pzf+eefHx/5yEfiqKOOioULF6bz8nONMcYY03HY+TPGGNNucgeOt31+/OMfj5NPPjk924fjt3jx4hTmlltuiZVXXjm22267GD9+/PJPQBhjjDGm47HzZ4wxpt3kDtyll14an/jEJ9KnHnD+cPxwAOHee++NL37xi7HpppumN4Bynl/8YowxxnQOdv6MMca0m9z5422fOH9nnnlm2q+ZP7jnnnvi85//fHoZDJ+A4Hh+rjHGGGM6Djt/xhhj2k3uwDHz97GPfSwt+2RZJ44f3/eDAQMGxEorrRQ777xzzJgxI8362fkzxhhjOgc7f8YYY9qNHDi2OH+81IXv+o0ePTot/eSlL++88076zh+fgWBWkH1I7vyVHUF+l/cZY4wxpm3Y+TPGGNNu5KAx03fhhRcm52+ttdaKU089Nf7whz+kj73zCQj2rbvuuvH444/HW2+9FU8//XQMHTo0li5dmpzE8ucf+J99HPPLYYwxxpj2YefPGGNMu5FThqPGpx5WX3312H///eOEE06I3/3ud+n7fuutt1788pe/jKuuuipmzpwZs2fPTjOAOIt89oEloMwEEgfg7OH0sT//3xhjjDFtw86fMcaYuoETOGzYsLj88svTdtSoUemD7vy++uqr49FHH41p06alJaCzZs2KE088Mc4+++x49dVX48UXX4wpU6YkBxAnDyHMiBEj0vFFixal+Muzf54NNMYYY2rDzp8xxpi6wnLOefPmJQcP4WUvc+fOjfnz56cPvSPM4s2ZMyc5f/vuu2/6NiD/n3feecvfAsr22muvTS+OOeOMM+LGG29Ms4XMAuIYyhG082eMMcbUhp0/Y4wxdQNHLF+iyRLOXNivmT0cxCOOOCItCR04cGD0798/Ntpoo/RGUBxGPhlx8MEHx6233hrXXHNN+jD8XXfdtfwlMVzHGGOMMbVj588YY0xdwTHTzBzbsuAAaubv8MMPj7333jsmTJiQlnhuv/32ccEFF6QPwO+5557p+UFmDCdOnBi9evWKU045ZfkH44nDGGOMMbVj588YY0zdwfFrSuT8sYTz2GOPTZ9/4Hk+ZvT22muvOOecc2L48OHJEWSmj7A4hoQ76KCD0hJSYCaR+IwxxhhTG3b+jDHGdBhyznInTc4fSzt5G+hpp52WPgSP87fHHnvEWWedlZy/rbfeOm666aZ0Lh+EP+yww+LII49MbwZVPHb+jDHGmNqx82eMMaZT0dJPln0ec8wxy5dyMpO32267xfHHH5+WgeLsHXXUUenFL0888URsueWWcd1116WXyABxGGOMMaZ27PwZY4zpVJitwwHkWb7zzz8/LrroojTzh/N39NFHp33MCj722GPJ+eMtoMcdd1z6JuDo0aPTi14UhzHGGGNqx86fMcaYTgfnjU8+6Bt+LPnEqXv++efj5ZdfTr+ZDeRbgXfccUfcf//96SUwOIg63xhjjDGtw86fMcaYLoGZO5Zw5i9u4TeOH8dwBvmfl8EwM8gxf97BGGOMaTt2/owxxnQZOHNaxqnfWs7JPn7jHPJ8Xx7OGGOMMa3Hzp8xxpguA2cud+jKzh2/cQbt9BljjDHtx86fMcYYY4wxxjQAdv6MMcYYY4wxpgGw82eMMcYYY4wxDYCdP2OMMcYYY4xpAOz8GWOMMcYYY0wDYOfPGGOMMcYYYxoAO3/GGGOMMcYY0wDY+TPGGGOMMcaYBsDOnzHGGGOMMcY0AHb+jDHGGGOMMaYBsPNnjDHGGGOMMQ2AnT9jjDHGGGOMaQDs/BljjDHGGGNMA2DnzxhjjDHGGGMaADt/xhhjjDHGGNMA2PkzxhhjjDHGmAbAzp8xxhhjjDHGNAB2/owxxhhjjDGmxxPx/wHreVkeWIewWgAAAABJRU5ErkJggg==)"
      ],
      "metadata": {
        "id": "78EEB7DFJVbZ"
      }
    },
    {
      "cell_type": "markdown",
      "source": [
        "### Create Sequential model"
      ],
      "metadata": {
        "id": "Yte8orLSJ_iw"
      }
    },
    {
      "cell_type": "code",
      "source": [
        "# importing the sequential model\n",
        "from keras.models import Sequential"
      ],
      "metadata": {
        "id": "6Xzazjdg3LHK"
      },
      "execution_count": 31,
      "outputs": []
    },
    {
      "cell_type": "markdown",
      "source": [
        "### b. Defining different layers\n",
        "* Input\n",
        "* Hidden\n",
        "* Output\n",
        "\n",
        "![image.png](data:image/png;base64,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)"
      ],
      "metadata": {
        "id": "n0Csn8rrKDlq"
      }
    },
    {
      "cell_type": "code",
      "source": [
        "# import different layers from keras\n",
        "from keras.layers import InputLayer, Dense"
      ],
      "metadata": {
        "id": "b6pyS2zXJ9CO"
      },
      "execution_count": 32,
      "outputs": []
    },
    {
      "cell_type": "markdown",
      "source": [
        "### To define number of input neurons we need to know the number of features in data set"
      ],
      "metadata": {
        "id": "sAixSPbIKrBo"
      }
    },
    {
      "cell_type": "code",
      "source": [
        "# number of input neurons\n",
        "X_train.shape"
      ],
      "metadata": {
        "colab": {
          "base_uri": "https://localhost:8080/"
        },
        "id": "2WC0Qa8IKgow",
        "outputId": "87f708c5-1c11-4421-802c-d36de2e055e5"
      },
      "execution_count": 33,
      "outputs": [
        {
          "output_type": "execute_result",
          "data": {
            "text/plain": [
              "(491, 11)"
            ]
          },
          "metadata": {},
          "execution_count": 33
        }
      ]
    },
    {
      "cell_type": "code",
      "source": [
        "# number of features in the data - index 1\n",
        "X_train.shape[1]"
      ],
      "metadata": {
        "colab": {
          "base_uri": "https://localhost:8080/"
        },
        "id": "PvVeiwCpKyIE",
        "outputId": "0896941f-f21b-47a5-e29d-e5a5c56ecba8"
      },
      "execution_count": 34,
      "outputs": [
        {
          "output_type": "execute_result",
          "data": {
            "text/plain": [
              "11"
            ]
          },
          "metadata": {},
          "execution_count": 34
        }
      ]
    },
    {
      "cell_type": "markdown",
      "source": [
        "summary: There will be 11 input neurons for the network."
      ],
      "metadata": {
        "id": "XmY3woJeK8lg"
      }
    },
    {
      "cell_type": "code",
      "source": [
        "# defining input neurons\n",
        "input_neurons = X_train.shape[1]"
      ],
      "metadata": {
        "id": "thcApyy2K3Ao"
      },
      "execution_count": 35,
      "outputs": []
    },
    {
      "cell_type": "code",
      "source": [
        "# number of output neurons\n",
        "\n",
        "# since loan prediction is a binary classification problem, we will have a single neuron in the output layer"
      ],
      "metadata": {
        "id": "ztWyCxS-LKyA"
      },
      "execution_count": 36,
      "outputs": []
    },
    {
      "cell_type": "code",
      "source": [
        "# define number of output neurons\n",
        "output_neurons = 1"
      ],
      "metadata": {
        "id": "6MF1OMTVLSGa"
      },
      "execution_count": 37,
      "outputs": []
    },
    {
      "cell_type": "code",
      "source": [
        "# number of hidden layers and hidden neurons\n",
        "# It is a hyperparameter and we can pick the hidden layers and hidden neurons on our own"
      ],
      "metadata": {
        "id": "ABjKpaTILUly"
      },
      "execution_count": 38,
      "outputs": []
    },
    {
      "cell_type": "code",
      "source": [
        "# define hidden layers and neuron in each layer\n",
        "number_of_hidden_layers = 2\n",
        "neuron_hidden_layer_1 = 10\n",
        "neuron_hidden_layer_2 = 5"
      ],
      "metadata": {
        "id": "dKlkh6zOLbGy"
      },
      "execution_count": 39,
      "outputs": []
    },
    {
      "cell_type": "markdown",
      "source": [
        "summary: number of hidden layers and number of neurons in hidden layers are the neural network hyperparameters"
      ],
      "metadata": {
        "id": "lbgUs8gtLrxu"
      }
    },
    {
      "cell_type": "code",
      "source": [
        "# activation function of different layers\n",
        "\n",
        "# for now we picked relu as an activation function for hidden layers, this can be changed as well\n",
        "# since this is a binary classification problem, we will use sigmoid activation in the final layer"
      ],
      "metadata": {
        "id": "m71wcYoALkKv"
      },
      "execution_count": 40,
      "outputs": []
    },
    {
      "cell_type": "code",
      "source": [
        "# defining the model architecture\n",
        "model = Sequential()\n",
        "model.add(InputLayer(input_shape=(input_neurons,)))\n",
        "model.add(Dense(units=neuron_hidden_layer_1, activation='relu'))\n",
        "model.add(Dense(units=neuron_hidden_layer_2, activation='relu'))\n",
        "model.add(Dense(units=output_neurons, activation='sigmoid'))"
      ],
      "metadata": {
        "id": "p5PSEeSjMDhd"
      },
      "execution_count": 41,
      "outputs": []
    },
    {
      "cell_type": "code",
      "source": [
        "# summary of model\n",
        "model.summary()"
      ],
      "metadata": {
        "colab": {
          "base_uri": "https://localhost:8080/"
        },
        "id": "faECxeP8MbEt",
        "outputId": "593f46a1-6d37-4d99-f001-ec5cf5449bf1"
      },
      "execution_count": 42,
      "outputs": [
        {
          "output_type": "stream",
          "name": "stdout",
          "text": [
            "Model: \"sequential\"\n",
            "_________________________________________________________________\n",
            " Layer (type)                Output Shape              Param #   \n",
            "=================================================================\n",
            " dense (Dense)               (None, 10)                120       \n",
            "                                                                 \n",
            " dense_1 (Dense)             (None, 5)                 55        \n",
            "                                                                 \n",
            " dense_2 (Dense)             (None, 1)                 6         \n",
            "                                                                 \n",
            "=================================================================\n",
            "Total params: 181 (724.00 Byte)\n",
            "Trainable params: 181 (724.00 Byte)\n",
            "Non-trainable params: 0 (0.00 Byte)\n",
            "_________________________________________________________________\n"
          ]
        }
      ]
    },
    {
      "cell_type": "code",
      "source": [
        "# number of parameters between input and first hidden layer\n",
        "\n",
        "input_neurons*neuron_hidden_layer_1"
      ],
      "metadata": {
        "colab": {
          "base_uri": "https://localhost:8080/"
        },
        "id": "fCIu9l93Mcz6",
        "outputId": "01478d7b-b689-48b0-eee4-8a1b0f42d75a"
      },
      "execution_count": 43,
      "outputs": [
        {
          "output_type": "execute_result",
          "data": {
            "text/plain": [
              "110"
            ]
          },
          "metadata": {},
          "execution_count": 43
        }
      ]
    },
    {
      "cell_type": "code",
      "source": [
        "# number of parameters between input and first hidden layer\n",
        "# adding the bias for each neuron of first hidden layer\n",
        "\n",
        "input_neurons*neuron_hidden_layer_1 + 10"
      ],
      "metadata": {
        "colab": {
          "base_uri": "https://localhost:8080/"
        },
        "id": "jZOOEcWeNFCM",
        "outputId": "ef0462a2-0961-41f5-fcac-37a41a1cd108"
      },
      "execution_count": 44,
      "outputs": [
        {
          "output_type": "execute_result",
          "data": {
            "text/plain": [
              "120"
            ]
          },
          "metadata": {},
          "execution_count": 44
        }
      ]
    },
    {
      "cell_type": "markdown",
      "source": [
        "summary: explains why there are 120 parameters in first hidden layer"
      ],
      "metadata": {
        "id": "ZSflYubzNXKq"
      }
    },
    {
      "cell_type": "code",
      "source": [
        "# number of parameters between first and second hidden layer\n",
        "\n",
        "neuron_hidden_layer_1*neuron_hidden_layer_2 + 5"
      ],
      "metadata": {
        "colab": {
          "base_uri": "https://localhost:8080/"
        },
        "id": "g0Y31wP_NVek",
        "outputId": "bd505d22-0ab4-4161-b8b1-bcb8e628f638"
      },
      "execution_count": 45,
      "outputs": [
        {
          "output_type": "execute_result",
          "data": {
            "text/plain": [
              "55"
            ]
          },
          "metadata": {},
          "execution_count": 45
        }
      ]
    },
    {
      "cell_type": "markdown",
      "source": [
        "summary: 55 parameters in second layer"
      ],
      "metadata": {
        "id": "X_F4GFYANqMC"
      }
    },
    {
      "cell_type": "code",
      "source": [
        "# number of parameters between second hidden and output layer\n",
        "\n",
        "neuron_hidden_layer_2*output_neurons + 1"
      ],
      "metadata": {
        "colab": {
          "base_uri": "https://localhost:8080/"
        },
        "id": "efifOVVXNiEj",
        "outputId": "bd85ff12-6bd9-47d5-e53e-de999088f81d"
      },
      "execution_count": 46,
      "outputs": [
        {
          "output_type": "execute_result",
          "data": {
            "text/plain": [
              "6"
            ]
          },
          "metadata": {},
          "execution_count": 46
        }
      ]
    },
    {
      "cell_type": "markdown",
      "source": [
        "summary: output layer has 6 parameters"
      ],
      "metadata": {
        "id": "0YrIs4QMNuqH"
      }
    },
    {
      "cell_type": "markdown",
      "source": [
        "# 4. Compiling the model (defining loss function, optimizer)"
      ],
      "metadata": {
        "id": "ulh4gVmkNygE"
      }
    },
    {
      "cell_type": "code",
      "source": [
        "# compiling the model\n",
        "\n",
        "# loss as binary_crossentropy, since we have binary classification problem\n",
        "# defining the optimizer as adam\n",
        "# evaluation metric as accuracy\n",
        "\n",
        "model.compile(loss='binary_crossentropy', optimizer='Adam', metrics=['accuracy'])"
      ],
      "metadata": {
        "id": "09nn3-JZNoDd"
      },
      "execution_count": 47,
      "outputs": []
    },
    {
      "cell_type": "markdown",
      "source": [
        "# 5. Training the model"
      ],
      "metadata": {
        "id": "fmk2xlgyOIIx"
      }
    },
    {
      "cell_type": "code",
      "source": [
        "# training model\n",
        "\n",
        "# passing independent and dependent features for training set for training the model\n",
        "\n",
        "# validation data will be evaluated at end of each epoch\n",
        "\n",
        "# setting the epochs at 50\n",
        "\n",
        "# storing the trained model in model_history variable which will be used to visualize the training process\n",
        "\n",
        "model_history = model.fit(X_train, y_train, validation_data=(X_test, y_test), epochs=50) #epoch nums is number of times a complete propogation occurs"
      ],
      "metadata": {
        "colab": {
          "base_uri": "https://localhost:8080/"
        },
        "id": "r4Oni8LLOGrG",
        "outputId": "828e6cf9-cad2-41f3-c923-8417ff289993"
      },
      "execution_count": 48,
      "outputs": [
        {
          "output_type": "stream",
          "name": "stdout",
          "text": [
            "Epoch 1/50\n",
            "16/16 [==============================] - 4s 27ms/step - loss: 0.6896 - accuracy: 0.5886 - val_loss: 0.6756 - val_accuracy: 0.6667\n",
            "Epoch 2/50\n",
            "16/16 [==============================] - 0s 8ms/step - loss: 0.6656 - accuracy: 0.6701 - val_loss: 0.6539 - val_accuracy: 0.6829\n",
            "Epoch 3/50\n",
            "16/16 [==============================] - 0s 7ms/step - loss: 0.6469 - accuracy: 0.6884 - val_loss: 0.6362 - val_accuracy: 0.6911\n",
            "Epoch 4/50\n",
            "16/16 [==============================] - 0s 8ms/step - loss: 0.6330 - accuracy: 0.6864 - val_loss: 0.6232 - val_accuracy: 0.6911\n",
            "Epoch 5/50\n",
            "16/16 [==============================] - 0s 7ms/step - loss: 0.6219 - accuracy: 0.6864 - val_loss: 0.6152 - val_accuracy: 0.6911\n",
            "Epoch 6/50\n",
            "16/16 [==============================] - 0s 7ms/step - loss: 0.6147 - accuracy: 0.6864 - val_loss: 0.6095 - val_accuracy: 0.6911\n",
            "Epoch 7/50\n",
            "16/16 [==============================] - 0s 6ms/step - loss: 0.6102 - accuracy: 0.6864 - val_loss: 0.6056 - val_accuracy: 0.6911\n",
            "Epoch 8/50\n",
            "16/16 [==============================] - 0s 5ms/step - loss: 0.6068 - accuracy: 0.6864 - val_loss: 0.6033 - val_accuracy: 0.6911\n",
            "Epoch 9/50\n",
            "16/16 [==============================] - 0s 4ms/step - loss: 0.6046 - accuracy: 0.6864 - val_loss: 0.6015 - val_accuracy: 0.6911\n",
            "Epoch 10/50\n",
            "16/16 [==============================] - 0s 4ms/step - loss: 0.6026 - accuracy: 0.6864 - val_loss: 0.5998 - val_accuracy: 0.6911\n",
            "Epoch 11/50\n",
            "16/16 [==============================] - 0s 4ms/step - loss: 0.6002 - accuracy: 0.6864 - val_loss: 0.5985 - val_accuracy: 0.6911\n",
            "Epoch 12/50\n",
            "16/16 [==============================] - 0s 4ms/step - loss: 0.5980 - accuracy: 0.6864 - val_loss: 0.5968 - val_accuracy: 0.6911\n",
            "Epoch 13/50\n",
            "16/16 [==============================] - 0s 4ms/step - loss: 0.5952 - accuracy: 0.6884 - val_loss: 0.5951 - val_accuracy: 0.6911\n",
            "Epoch 14/50\n",
            "16/16 [==============================] - 0s 4ms/step - loss: 0.5922 - accuracy: 0.6884 - val_loss: 0.5934 - val_accuracy: 0.6911\n",
            "Epoch 15/50\n",
            "16/16 [==============================] - 0s 5ms/step - loss: 0.5893 - accuracy: 0.6945 - val_loss: 0.5910 - val_accuracy: 0.6992\n",
            "Epoch 16/50\n",
            "16/16 [==============================] - 0s 5ms/step - loss: 0.5860 - accuracy: 0.6965 - val_loss: 0.5885 - val_accuracy: 0.6992\n",
            "Epoch 17/50\n",
            "16/16 [==============================] - 0s 5ms/step - loss: 0.5825 - accuracy: 0.7047 - val_loss: 0.5853 - val_accuracy: 0.7073\n",
            "Epoch 18/50\n",
            "16/16 [==============================] - 0s 5ms/step - loss: 0.5792 - accuracy: 0.7067 - val_loss: 0.5820 - val_accuracy: 0.7154\n",
            "Epoch 19/50\n",
            "16/16 [==============================] - 0s 5ms/step - loss: 0.5745 - accuracy: 0.7067 - val_loss: 0.5794 - val_accuracy: 0.7073\n",
            "Epoch 20/50\n",
            "16/16 [==============================] - 0s 5ms/step - loss: 0.5704 - accuracy: 0.7149 - val_loss: 0.5773 - val_accuracy: 0.7236\n",
            "Epoch 21/50\n",
            "16/16 [==============================] - 0s 5ms/step - loss: 0.5655 - accuracy: 0.7169 - val_loss: 0.5733 - val_accuracy: 0.7236\n",
            "Epoch 22/50\n",
            "16/16 [==============================] - 0s 4ms/step - loss: 0.5599 - accuracy: 0.7291 - val_loss: 0.5697 - val_accuracy: 0.7317\n",
            "Epoch 23/50\n",
            "16/16 [==============================] - 0s 4ms/step - loss: 0.5548 - accuracy: 0.7413 - val_loss: 0.5652 - val_accuracy: 0.7317\n",
            "Epoch 24/50\n",
            "16/16 [==============================] - 0s 4ms/step - loss: 0.5493 - accuracy: 0.7454 - val_loss: 0.5608 - val_accuracy: 0.7398\n",
            "Epoch 25/50\n",
            "16/16 [==============================] - 0s 5ms/step - loss: 0.5436 - accuracy: 0.7495 - val_loss: 0.5542 - val_accuracy: 0.7398\n",
            "Epoch 26/50\n",
            "16/16 [==============================] - 0s 4ms/step - loss: 0.5378 - accuracy: 0.7536 - val_loss: 0.5481 - val_accuracy: 0.7642\n",
            "Epoch 27/50\n",
            "16/16 [==============================] - 0s 4ms/step - loss: 0.5317 - accuracy: 0.7617 - val_loss: 0.5427 - val_accuracy: 0.7805\n",
            "Epoch 28/50\n",
            "16/16 [==============================] - 0s 5ms/step - loss: 0.5263 - accuracy: 0.7719 - val_loss: 0.5363 - val_accuracy: 0.7805\n",
            "Epoch 29/50\n",
            "16/16 [==============================] - 0s 4ms/step - loss: 0.5202 - accuracy: 0.7841 - val_loss: 0.5304 - val_accuracy: 0.7886\n",
            "Epoch 30/50\n",
            "16/16 [==============================] - 0s 5ms/step - loss: 0.5144 - accuracy: 0.8045 - val_loss: 0.5247 - val_accuracy: 0.7886\n",
            "Epoch 31/50\n",
            "16/16 [==============================] - 0s 5ms/step - loss: 0.5087 - accuracy: 0.8045 - val_loss: 0.5188 - val_accuracy: 0.8049\n",
            "Epoch 32/50\n",
            "16/16 [==============================] - 0s 5ms/step - loss: 0.5035 - accuracy: 0.8065 - val_loss: 0.5135 - val_accuracy: 0.8049\n",
            "Epoch 33/50\n",
            "16/16 [==============================] - 0s 4ms/step - loss: 0.4989 - accuracy: 0.8065 - val_loss: 0.5087 - val_accuracy: 0.8049\n",
            "Epoch 34/50\n",
            "16/16 [==============================] - 0s 5ms/step - loss: 0.4948 - accuracy: 0.8065 - val_loss: 0.5042 - val_accuracy: 0.8049\n",
            "Epoch 35/50\n",
            "16/16 [==============================] - 0s 5ms/step - loss: 0.4909 - accuracy: 0.8065 - val_loss: 0.5009 - val_accuracy: 0.8130\n",
            "Epoch 36/50\n",
            "16/16 [==============================] - 0s 4ms/step - loss: 0.4878 - accuracy: 0.8065 - val_loss: 0.4976 - val_accuracy: 0.8130\n",
            "Epoch 37/50\n",
            "16/16 [==============================] - 0s 5ms/step - loss: 0.4851 - accuracy: 0.8065 - val_loss: 0.4952 - val_accuracy: 0.8130\n",
            "Epoch 38/50\n",
            "16/16 [==============================] - 0s 4ms/step - loss: 0.4825 - accuracy: 0.8065 - val_loss: 0.4923 - val_accuracy: 0.8130\n",
            "Epoch 39/50\n",
            "16/16 [==============================] - 0s 4ms/step - loss: 0.4806 - accuracy: 0.8106 - val_loss: 0.4894 - val_accuracy: 0.8130\n",
            "Epoch 40/50\n",
            "16/16 [==============================] - 0s 4ms/step - loss: 0.4782 - accuracy: 0.8106 - val_loss: 0.4876 - val_accuracy: 0.8130\n",
            "Epoch 41/50\n",
            "16/16 [==============================] - 0s 5ms/step - loss: 0.4771 - accuracy: 0.8106 - val_loss: 0.4853 - val_accuracy: 0.8130\n",
            "Epoch 42/50\n",
            "16/16 [==============================] - 0s 5ms/step - loss: 0.4754 - accuracy: 0.8106 - val_loss: 0.4837 - val_accuracy: 0.8130\n",
            "Epoch 43/50\n",
            "16/16 [==============================] - 0s 5ms/step - loss: 0.4737 - accuracy: 0.8106 - val_loss: 0.4819 - val_accuracy: 0.8130\n",
            "Epoch 44/50\n",
            "16/16 [==============================] - 0s 4ms/step - loss: 0.4723 - accuracy: 0.8106 - val_loss: 0.4803 - val_accuracy: 0.8130\n",
            "Epoch 45/50\n",
            "16/16 [==============================] - 0s 5ms/step - loss: 0.4712 - accuracy: 0.8106 - val_loss: 0.4786 - val_accuracy: 0.8130\n",
            "Epoch 46/50\n",
            "16/16 [==============================] - 0s 4ms/step - loss: 0.4704 - accuracy: 0.8106 - val_loss: 0.4778 - val_accuracy: 0.8130\n",
            "Epoch 47/50\n",
            "16/16 [==============================] - 0s 4ms/step - loss: 0.4691 - accuracy: 0.8106 - val_loss: 0.4760 - val_accuracy: 0.8130\n",
            "Epoch 48/50\n",
            "16/16 [==============================] - 0s 4ms/step - loss: 0.4692 - accuracy: 0.8106 - val_loss: 0.4755 - val_accuracy: 0.8130\n",
            "Epoch 49/50\n",
            "16/16 [==============================] - 0s 5ms/step - loss: 0.4675 - accuracy: 0.8106 - val_loss: 0.4749 - val_accuracy: 0.8130\n",
            "Epoch 50/50\n",
            "16/16 [==============================] - 0s 5ms/step - loss: 0.4668 - accuracy: 0.8106 - val_loss: 0.4740 - val_accuracy: 0.8130\n"
          ]
        }
      ]
    },
    {
      "cell_type": "markdown",
      "source": [
        "# 6. Evaluating model performance on validation set"
      ],
      "metadata": {
        "id": "DLCqiny-O2V0"
      }
    },
    {
      "cell_type": "code",
      "source": [
        "# getting prediction for the validation set\n",
        "prediction = np.where(model.predict(X_test) < 0.5, 0, 1)"
      ],
      "metadata": {
        "colab": {
          "base_uri": "https://localhost:8080/"
        },
        "id": "lXCEdWMpOxSt",
        "outputId": "2501a450-cc81-4157-db10-8520e2381f88"
      },
      "execution_count": 49,
      "outputs": [
        {
          "output_type": "stream",
          "name": "stdout",
          "text": [
            "4/4 [==============================] - 0s 6ms/step\n"
          ]
        }
      ]
    },
    {
      "cell_type": "code",
      "source": [
        "# calculating the accuracy on validation set\n",
        "accuracy_score(y_test, prediction)"
      ],
      "metadata": {
        "colab": {
          "base_uri": "https://localhost:8080/"
        },
        "id": "s2VTRp5sO_QS",
        "outputId": "06b16508-6f39-4a16-9609-59b2b3ffff1e"
      },
      "execution_count": 51,
      "outputs": [
        {
          "output_type": "execute_result",
          "data": {
            "text/plain": [
              "0.8130081300813008"
            ]
          },
          "metadata": {},
          "execution_count": 51
        }
      ]
    },
    {
      "cell_type": "markdown",
      "source": [
        "# 6. Visualizing model performance"
      ],
      "metadata": {
        "id": "iZ37AWM_PonQ"
      }
    },
    {
      "cell_type": "code",
      "source": [
        "# summarize history for loss\n",
        "plt.plot(model_history.history['loss'])\n",
        "plt.plot(model_history.history['val_loss'])\n",
        "plt.title('model loss')\n",
        "plt.ylabel('loss')\n",
        "plt.xlabel('epoch')\n",
        "plt.legend(['train', 'validation'], loc='upper left')\n",
        "plt.show()"
      ],
      "metadata": {
        "colab": {
          "base_uri": "https://localhost:8080/",
          "height": 472
        },
        "id": "SLPLOGYcPEr4",
        "outputId": "150ec3ce-e635-4461-f3a6-9b471a57b433"
      },
      "execution_count": 52,
      "outputs": [
        {
          "output_type": "display_data",
          "data": {
            "text/plain": [
              "<Figure size 640x480 with 1 Axes>"
            ],
            "image/png": "[encoded data removed]"
          },
          "metadata": {}
        }
      ]
    },
    {
      "cell_type": "markdown",
      "source": [
        "summary: Loss decreased for every epoch and we achieved our goal of minimizing loss with our output, thus we can say the neural network performed very well on the data and our predictions should be accurate."
      ],
      "metadata": {
        "id": "L47fWEuKRG6a"
      }
    },
    {
      "cell_type": "code",
      "source": [
        "# summarize history for accuracy\n",
        "plt.plot(model_history.history['accuracy'])\n",
        "plt.plot(model_history.history['val_accuracy'])\n",
        "plt.title('model accuracy')\n",
        "plt.ylabel('accuracy')\n",
        "plt.xlabel('epoch')\n",
        "plt.legend(['train', 'validation'], loc='upper left')\n",
        "plt.show()"
      ],
      "metadata": {
        "colab": {
          "base_uri": "https://localhost:8080/",
          "height": 472
        },
        "id": "8f45FszRQCtv",
        "outputId": "14d47741-94ee-41aa-e09b-d9ce63e22f7a"
      },
      "execution_count": 53,
      "outputs": [
        {
          "output_type": "display_data",
          "data": {
            "text/plain": [
              "<Figure size 640x480 with 1 Axes>"
            ],
            "image/png": "[encoded data removed]"
          },
          "metadata": {}
        }
      ]
    },
    {
      "cell_type": "markdown",
      "source": [
        "summary: accuracy improved after epoch 20 to 0.80, but did not improve much after epoch 35 and leveled off so training for 50 epochs may not have been necessary. However, an accuracy score of 0.80 is excellent so we can validate that the predictions are accurate."
      ],
      "metadata": {
        "id": "k-Up_8TyQo8f"
      }
    },
    {
      "cell_type": "code",
      "source": [],
      "metadata": {
        "id": "zIOLKw0DQdB2"
      },
      "execution_count": null,
      "outputs": []
    }
  ]
}