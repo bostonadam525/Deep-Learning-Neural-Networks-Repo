{
  "nbformat": 4,
  "nbformat_minor": 0,
  "metadata": {
    "colab": {
      "provenance": []
    },
    "kernelspec": {
      "name": "python3",
      "display_name": "Python 3"
    },
    "language_info": {
      "name": "python"
    }
  },
  "cells": [
    {
      "cell_type": "markdown",
      "source": [
        "# Building a Custon Neural Network Using the Keras Functional API\n",
        "By Adam Lang\n",
        "Date: February 16, 2024\n",
        "* Same prediction problem as previous 2 notebooks.\n",
        "* I will again use Keras and Tensorflow.\n",
        "* This time however, I will build a custom model using the Keras functional API.\n",
        "\n",
        "Problem Statement\n",
        "* Binary Classification.\n",
        "* Prediction whether a customer should be approved for a loan or not.\n",
        "* Target dependent variable: 'Loan_Status'"
      ],
      "metadata": {
        "id": "9Hi98i_I0AfM"
      }
    },
    {
      "cell_type": "code",
      "execution_count": 2,
      "metadata": {
        "id": "frh8bMKPz4Oq"
      },
      "outputs": [],
      "source": [
        "# import required libraries\n",
        "import pandas as pd\n",
        "import numpy as np\n",
        "import sklearn\n",
        "from sklearn.model_selection import train_test_split\n",
        "from sklearn.metrics import accuracy_score\n",
        "import matplotlib.pyplot as plt\n",
        "%matplotlib inline"
      ]
    },
    {
      "cell_type": "code",
      "source": [
        "# load data pre-processed from previous notebook\n",
        "data = pd.read_csv('/content/drive/MyDrive/Analytics_Vidhya_LLM_GenAI/loan_prediction_pre-processed.csv')"
      ],
      "metadata": {
        "id": "53wjtvxl0xos"
      },
      "execution_count": 3,
      "outputs": []
    },
    {
      "cell_type": "code",
      "source": [
        "# view first few rows\n",
        "data.head()"
      ],
      "metadata": {
        "colab": {
          "base_uri": "https://localhost:8080/",
          "height": 226
        },
        "id": "lvNKI1Uv1Sc9",
        "outputId": "7a043de2-1058-45e7-ac5e-0dc90414a057"
      },
      "execution_count": 4,
      "outputs": [
        {
          "output_type": "execute_result",
          "data": {
            "text/plain": [
              "    Loan_ID  Gender  Married  Dependents  Education  Self_Employed  \\\n",
              "0  LP001002     0.0      0.0    0.000000        1.0            0.0   \n",
              "1  LP001003     0.0      1.0    0.333333        1.0            0.0   \n",
              "2  LP001005     0.0      1.0    0.000000        1.0            1.0   \n",
              "3  LP001006     0.0      1.0    0.000000        0.0            0.0   \n",
              "4  LP001008     0.0      0.0    0.000000        1.0            0.0   \n",
              "\n",
              "   ApplicantIncome  CoapplicantIncome  LoanAmount  Loan_Amount_Term  \\\n",
              "0         0.070489           0.000000    0.198860           0.74359   \n",
              "1         0.054830           0.036192    0.172214           0.74359   \n",
              "2         0.035250           0.000000    0.082489           0.74359   \n",
              "3         0.030093           0.056592    0.160637           0.74359   \n",
              "4         0.072356           0.000000    0.191027           0.74359   \n",
              "\n",
              "   Credit_History  Property_Area  Loan_Status  \n",
              "0             1.0            1.0          1.0  \n",
              "1             1.0            0.0          0.0  \n",
              "2             1.0            1.0          1.0  \n",
              "3             1.0            1.0          1.0  \n",
              "4             1.0            1.0          1.0  "
            ],
            "text/html": [
              "\n",
              "  <div id=\"df-4172ff29-78de-47cd-a4bb-1730dfc7628e\" class=\"colab-df-container\">\n",
              "    <div>\n",
              "<style scoped>\n",
              "    .dataframe tbody tr th:only-of-type {\n",
              "        vertical-align: middle;\n",
              "    }\n",
              "\n",
              "    .dataframe tbody tr th {\n",
              "        vertical-align: top;\n",
              "    }\n",
              "\n",
              "    .dataframe thead th {\n",
              "        text-align: right;\n",
              "    }\n",
              "</style>\n",
              "<table border=\"1\" class=\"dataframe\">\n",
              "  <thead>\n",
              "    <tr style=\"text-align: right;\">\n",
              "      <th></th>\n",
              "      <th>Loan_ID</th>\n",
              "      <th>Gender</th>\n",
              "      <th>Married</th>\n",
              "      <th>Dependents</th>\n",
              "      <th>Education</th>\n",
              "      <th>Self_Employed</th>\n",
              "      <th>ApplicantIncome</th>\n",
              "      <th>CoapplicantIncome</th>\n",
              "      <th>LoanAmount</th>\n",
              "      <th>Loan_Amount_Term</th>\n",
              "      <th>Credit_History</th>\n",
              "      <th>Property_Area</th>\n",
              "      <th>Loan_Status</th>\n",
              "    </tr>\n",
              "  </thead>\n",
              "  <tbody>\n",
              "    <tr>\n",
              "      <th>0</th>\n",
              "      <td>LP001002</td>\n",
              "      <td>0.0</td>\n",
              "      <td>0.0</td>\n",
              "      <td>0.000000</td>\n",
              "      <td>1.0</td>\n",
              "      <td>0.0</td>\n",
              "      <td>0.070489</td>\n",
              "      <td>0.000000</td>\n",
              "      <td>0.198860</td>\n",
              "      <td>0.74359</td>\n",
              "      <td>1.0</td>\n",
              "      <td>1.0</td>\n",
              "      <td>1.0</td>\n",
              "    </tr>\n",
              "    <tr>\n",
              "      <th>1</th>\n",
              "      <td>LP001003</td>\n",
              "      <td>0.0</td>\n",
              "      <td>1.0</td>\n",
              "      <td>0.333333</td>\n",
              "      <td>1.0</td>\n",
              "      <td>0.0</td>\n",
              "      <td>0.054830</td>\n",
              "      <td>0.036192</td>\n",
              "      <td>0.172214</td>\n",
              "      <td>0.74359</td>\n",
              "      <td>1.0</td>\n",
              "      <td>0.0</td>\n",
              "      <td>0.0</td>\n",
              "    </tr>\n",
              "    <tr>\n",
              "      <th>2</th>\n",
              "      <td>LP001005</td>\n",
              "      <td>0.0</td>\n",
              "      <td>1.0</td>\n",
              "      <td>0.000000</td>\n",
              "      <td>1.0</td>\n",
              "      <td>1.0</td>\n",
              "      <td>0.035250</td>\n",
              "      <td>0.000000</td>\n",
              "      <td>0.082489</td>\n",
              "      <td>0.74359</td>\n",
              "      <td>1.0</td>\n",
              "      <td>1.0</td>\n",
              "      <td>1.0</td>\n",
              "    </tr>\n",
              "    <tr>\n",
              "      <th>3</th>\n",
              "      <td>LP001006</td>\n",
              "      <td>0.0</td>\n",
              "      <td>1.0</td>\n",
              "      <td>0.000000</td>\n",
              "      <td>0.0</td>\n",
              "      <td>0.0</td>\n",
              "      <td>0.030093</td>\n",
              "      <td>0.056592</td>\n",
              "      <td>0.160637</td>\n",
              "      <td>0.74359</td>\n",
              "      <td>1.0</td>\n",
              "      <td>1.0</td>\n",
              "      <td>1.0</td>\n",
              "    </tr>\n",
              "    <tr>\n",
              "      <th>4</th>\n",
              "      <td>LP001008</td>\n",
              "      <td>0.0</td>\n",
              "      <td>0.0</td>\n",
              "      <td>0.000000</td>\n",
              "      <td>1.0</td>\n",
              "      <td>0.0</td>\n",
              "      <td>0.072356</td>\n",
              "      <td>0.000000</td>\n",
              "      <td>0.191027</td>\n",
              "      <td>0.74359</td>\n",
              "      <td>1.0</td>\n",
              "      <td>1.0</td>\n",
              "      <td>1.0</td>\n",
              "    </tr>\n",
              "  </tbody>\n",
              "</table>\n",
              "</div>\n",
              "    <div class=\"colab-df-buttons\">\n",
              "\n",
              "  <div class=\"colab-df-container\">\n",
              "    <button class=\"colab-df-convert\" onclick=\"convertToInteractive('df-4172ff29-78de-47cd-a4bb-1730dfc7628e')\"\n",
              "            title=\"Convert this dataframe to an interactive table.\"\n",
              "            style=\"display:none;\">\n",
              "\n",
              "  <svg xmlns=\"http://www.w3.org/2000/svg\" height=\"24px\" viewBox=\"0 -960 960 960\">\n",
              "    <path d=\"M120-120v-720h720v720H120Zm60-500h600v-160H180v160Zm220 220h160v-160H400v160Zm0 220h160v-160H400v160ZM180-400h160v-160H180v160Zm440 0h160v-160H620v160ZM180-180h160v-160H180v160Zm440 0h160v-160H620v160Z\"/>\n",
              "  </svg>\n",
              "    </button>\n",
              "\n",
              "  <style>\n",
              "    .colab-df-container {\n",
              "      display:flex;\n",
              "      gap: 12px;\n",
              "    }\n",
              "\n",
              "    .colab-df-convert {\n",
              "      background-color: #E8F0FE;\n",
              "      border: none;\n",
              "      border-radius: 50%;\n",
              "      cursor: pointer;\n",
              "      display: none;\n",
              "      fill: #1967D2;\n",
              "      height: 32px;\n",
              "      padding: 0 0 0 0;\n",
              "      width: 32px;\n",
              "    }\n",
              "\n",
              "    .colab-df-convert:hover {\n",
              "      background-color: #E2EBFA;\n",
              "      box-shadow: 0px 1px 2px rgba(60, 64, 67, 0.3), 0px 1px 3px 1px rgba(60, 64, 67, 0.15);\n",
              "      fill: #174EA6;\n",
              "    }\n",
              "\n",
              "    .colab-df-buttons div {\n",
              "      margin-bottom: 4px;\n",
              "    }\n",
              "\n",
              "    [theme=dark] .colab-df-convert {\n",
              "      background-color: #3B4455;\n",
              "      fill: #D2E3FC;\n",
              "    }\n",
              "\n",
              "    [theme=dark] .colab-df-convert:hover {\n",
              "      background-color: #434B5C;\n",
              "      box-shadow: 0px 1px 3px 1px rgba(0, 0, 0, 0.15);\n",
              "      filter: drop-shadow(0px 1px 2px rgba(0, 0, 0, 0.3));\n",
              "      fill: #FFFFFF;\n",
              "    }\n",
              "  </style>\n",
              "\n",
              "    <script>\n",
              "      const buttonEl =\n",
              "        document.querySelector('#df-4172ff29-78de-47cd-a4bb-1730dfc7628e button.colab-df-convert');\n",
              "      buttonEl.style.display =\n",
              "        google.colab.kernel.accessAllowed ? 'block' : 'none';\n",
              "\n",
              "      async function convertToInteractive(key) {\n",
              "        const element = document.querySelector('#df-4172ff29-78de-47cd-a4bb-1730dfc7628e');\n",
              "        const dataTable =\n",
              "          await google.colab.kernel.invokeFunction('convertToInteractive',\n",
              "                                                    [key], {});\n",
              "        if (!dataTable) return;\n",
              "\n",
              "        const docLinkHtml = 'Like what you see? Visit the ' +\n",
              "          '<a target=\"_blank\" href=https://colab.research.google.com/notebooks/data_table.ipynb>data table notebook</a>'\n",
              "          + ' to learn more about interactive tables.';\n",
              "        element.innerHTML = '';\n",
              "        dataTable['output_type'] = 'display_data';\n",
              "        await google.colab.output.renderOutput(dataTable, element);\n",
              "        const docLink = document.createElement('div');\n",
              "        docLink.innerHTML = docLinkHtml;\n",
              "        element.appendChild(docLink);\n",
              "      }\n",
              "    </script>\n",
              "  </div>\n",
              "\n",
              "\n",
              "<div id=\"df-8fff435e-b439-47ef-8873-63e8e5c32fa0\">\n",
              "  <button class=\"colab-df-quickchart\" onclick=\"quickchart('df-8fff435e-b439-47ef-8873-63e8e5c32fa0')\"\n",
              "            title=\"Suggest charts\"\n",
              "            style=\"display:none;\">\n",
              "\n",
              "<svg xmlns=\"http://www.w3.org/2000/svg\" height=\"24px\"viewBox=\"0 0 24 24\"\n",
              "     width=\"24px\">\n",
              "    <g>\n",
              "        <path d=\"M19 3H5c-1.1 0-2 .9-2 2v14c0 1.1.9 2 2 2h14c1.1 0 2-.9 2-2V5c0-1.1-.9-2-2-2zM9 17H7v-7h2v7zm4 0h-2V7h2v10zm4 0h-2v-4h2v4z\"/>\n",
              "    </g>\n",
              "</svg>\n",
              "  </button>\n",
              "\n",
              "<style>\n",
              "  .colab-df-quickchart {\n",
              "      --bg-color: #E8F0FE;\n",
              "      --fill-color: #1967D2;\n",
              "      --hover-bg-color: #E2EBFA;\n",
              "      --hover-fill-color: #174EA6;\n",
              "      --disabled-fill-color: #AAA;\n",
              "      --disabled-bg-color: #DDD;\n",
              "  }\n",
              "\n",
              "  [theme=dark] .colab-df-quickchart {\n",
              "      --bg-color: #3B4455;\n",
              "      --fill-color: #D2E3FC;\n",
              "      --hover-bg-color: #434B5C;\n",
              "      --hover-fill-color: #FFFFFF;\n",
              "      --disabled-bg-color: #3B4455;\n",
              "      --disabled-fill-color: #666;\n",
              "  }\n",
              "\n",
              "  .colab-df-quickchart {\n",
              "    background-color: var(--bg-color);\n",
              "    border: none;\n",
              "    border-radius: 50%;\n",
              "    cursor: pointer;\n",
              "    display: none;\n",
              "    fill: var(--fill-color);\n",
              "    height: 32px;\n",
              "    padding: 0;\n",
              "    width: 32px;\n",
              "  }\n",
              "\n",
              "  .colab-df-quickchart:hover {\n",
              "    background-color: var(--hover-bg-color);\n",
              "    box-shadow: 0 1px 2px rgba(60, 64, 67, 0.3), 0 1px 3px 1px rgba(60, 64, 67, 0.15);\n",
              "    fill: var(--button-hover-fill-color);\n",
              "  }\n",
              "\n",
              "  .colab-df-quickchart-complete:disabled,\n",
              "  .colab-df-quickchart-complete:disabled:hover {\n",
              "    background-color: var(--disabled-bg-color);\n",
              "    fill: var(--disabled-fill-color);\n",
              "    box-shadow: none;\n",
              "  }\n",
              "\n",
              "  .colab-df-spinner {\n",
              "    border: 2px solid var(--fill-color);\n",
              "    border-color: transparent;\n",
              "    border-bottom-color: var(--fill-color);\n",
              "    animation:\n",
              "      spin 1s steps(1) infinite;\n",
              "  }\n",
              "\n",
              "  @keyframes spin {\n",
              "    0% {\n",
              "      border-color: transparent;\n",
              "      border-bottom-color: var(--fill-color);\n",
              "      border-left-color: var(--fill-color);\n",
              "    }\n",
              "    20% {\n",
              "      border-color: transparent;\n",
              "      border-left-color: var(--fill-color);\n",
              "      border-top-color: var(--fill-color);\n",
              "    }\n",
              "    30% {\n",
              "      border-color: transparent;\n",
              "      border-left-color: var(--fill-color);\n",
              "      border-top-color: var(--fill-color);\n",
              "      border-right-color: var(--fill-color);\n",
              "    }\n",
              "    40% {\n",
              "      border-color: transparent;\n",
              "      border-right-color: var(--fill-color);\n",
              "      border-top-color: var(--fill-color);\n",
              "    }\n",
              "    60% {\n",
              "      border-color: transparent;\n",
              "      border-right-color: var(--fill-color);\n",
              "    }\n",
              "    80% {\n",
              "      border-color: transparent;\n",
              "      border-right-color: var(--fill-color);\n",
              "      border-bottom-color: var(--fill-color);\n",
              "    }\n",
              "    90% {\n",
              "      border-color: transparent;\n",
              "      border-bottom-color: var(--fill-color);\n",
              "    }\n",
              "  }\n",
              "</style>\n",
              "\n",
              "  <script>\n",
              "    async function quickchart(key) {\n",
              "      const quickchartButtonEl =\n",
              "        document.querySelector('#' + key + ' button');\n",
              "      quickchartButtonEl.disabled = true;  // To prevent multiple clicks.\n",
              "      quickchartButtonEl.classList.add('colab-df-spinner');\n",
              "      try {\n",
              "        const charts = await google.colab.kernel.invokeFunction(\n",
              "            'suggestCharts', [key], {});\n",
              "      } catch (error) {\n",
              "        console.error('Error during call to suggestCharts:', error);\n",
              "      }\n",
              "      quickchartButtonEl.classList.remove('colab-df-spinner');\n",
              "      quickchartButtonEl.classList.add('colab-df-quickchart-complete');\n",
              "    }\n",
              "    (() => {\n",
              "      let quickchartButtonEl =\n",
              "        document.querySelector('#df-8fff435e-b439-47ef-8873-63e8e5c32fa0 button');\n",
              "      quickchartButtonEl.style.display =\n",
              "        google.colab.kernel.accessAllowed ? 'block' : 'none';\n",
              "    })();\n",
              "  </script>\n",
              "</div>\n",
              "\n",
              "    </div>\n",
              "  </div>\n"
            ],
            "application/vnd.google.colaboratory.intrinsic+json": {
              "type": "dataframe",
              "variable_name": "data",
              "summary": "{\n  \"name\": \"data\",\n  \"rows\": 614,\n  \"fields\": [\n    {\n      \"column\": \"Loan_ID\",\n      \"properties\": {\n        \"dtype\": \"string\",\n        \"samples\": [\n          \"LP002139\",\n          \"LP002223\",\n          \"LP001570\"\n        ],\n        \"num_unique_values\": 614,\n        \"semantic_type\": \"\",\n        \"description\": \"\"\n      }\n    },\n    {\n      \"column\": \"Gender\",\n      \"properties\": {\n        \"dtype\": \"number\",\n        \"std\": 0.38649728461761046,\n        \"min\": 0.0,\n        \"max\": 1.0,\n        \"samples\": [\n          1.0,\n          0.0\n        ],\n        \"num_unique_values\": 2,\n        \"semantic_type\": \"\",\n        \"description\": \"\"\n      }\n    },\n    {\n      \"column\": \"Married\",\n      \"properties\": {\n        \"dtype\": \"number\",\n        \"std\": 0.47637346810166864,\n        \"min\": 0.0,\n        \"max\": 1.0,\n        \"samples\": [\n          1.0,\n          0.0\n        ],\n        \"num_unique_values\": 2,\n        \"semantic_type\": \"\",\n        \"description\": \"\"\n      }\n    },\n    {\n      \"column\": \"Dependents\",\n      \"properties\": {\n        \"dtype\": \"number\",\n        \"std\": 0.33654113081155484,\n        \"min\": 0.0,\n        \"max\": 1.0,\n        \"samples\": [\n          0.3333333333333333,\n          1.0\n        ],\n        \"num_unique_values\": 4,\n        \"semantic_type\": \"\",\n        \"description\": \"\"\n      }\n    },\n    {\n      \"column\": \"Education\",\n      \"properties\": {\n        \"dtype\": \"number\",\n        \"std\": 0.4133886943339805,\n        \"min\": 0.0,\n        \"max\": 1.0,\n        \"samples\": [\n          0.0,\n          1.0\n        ],\n        \"num_unique_values\": 2,\n        \"semantic_type\": \"\",\n        \"description\": \"\"\n      }\n    },\n    {\n      \"column\": \"Self_Employed\",\n      \"properties\": {\n        \"dtype\": \"number\",\n        \"std\": 0.3404460655491334,\n        \"min\": 0.0,\n        \"max\": 1.0,\n        \"samples\": [\n          1.0,\n          0.0\n        ],\n        \"num_unique_values\": 2,\n        \"semantic_type\": \"\",\n        \"description\": \"\"\n      }\n    },\n    {\n      \"column\": \"ApplicantIncome\",\n      \"properties\": {\n        \"dtype\": \"number\",\n        \"std\": 0.07556019385760271,\n        \"min\": 0.0,\n        \"max\": 1.0,\n        \"samples\": [\n          0.1012121212121212,\n          0.0518491032776747\n        ],\n        \"num_unique_values\": 505,\n        \"semantic_type\": \"\",\n        \"description\": \"\"\n      }\n    },\n    {\n      \"column\": \"CoapplicantIncome\",\n      \"properties\": {\n        \"dtype\": \"number\",\n        \"std\": 0.0702293990261883,\n        \"min\": 0.0,\n        \"max\": 1.0,\n        \"samples\": [\n          0.0441596467228262,\n          0.0490076079391364\n        ],\n        \"num_unique_values\": 287,\n        \"semantic_type\": \"\",\n        \"description\": \"\"\n      }\n    },\n    {\n      \"column\": \"LoanAmount\",\n      \"properties\": {\n        \"dtype\": \"number\",\n        \"std\": 0.12161717465006727,\n        \"min\": 0.0,\n        \"max\": 1.0,\n        \"samples\": [\n          0.1678726483357453,\n          0.492040520984081\n        ],\n        \"num_unique_values\": 204,\n        \"semantic_type\": \"\",\n        \"description\": \"\"\n      }\n    },\n    {\n      \"column\": \"Loan_Amount_Term\",\n      \"properties\": {\n        \"dtype\": \"number\",\n        \"std\": 0.13766801082836128,\n        \"min\": 0.0,\n        \"max\": 1.0,\n        \"samples\": [\n          0.1538461538461538,\n          0.2307692307692307\n        ],\n        \"num_unique_values\": 10,\n        \"semantic_type\": \"\",\n        \"description\": \"\"\n      }\n    },\n    {\n      \"column\": \"Credit_History\",\n      \"properties\": {\n        \"dtype\": \"number\",\n        \"std\": 0.3523386063582998,\n        \"min\": 0.0,\n        \"max\": 1.0,\n        \"samples\": [\n          0.0,\n          1.0\n        ],\n        \"num_unique_values\": 2,\n        \"semantic_type\": \"\",\n        \"description\": \"\"\n      }\n    },\n    {\n      \"column\": \"Property_Area\",\n      \"properties\": {\n        \"dtype\": \"number\",\n        \"std\": 0.39374101739259926,\n        \"min\": 0.0,\n        \"max\": 1.0,\n        \"samples\": [\n          1.0,\n          0.0\n        ],\n        \"num_unique_values\": 3,\n        \"semantic_type\": \"\",\n        \"description\": \"\"\n      }\n    },\n    {\n      \"column\": \"Loan_Status\",\n      \"properties\": {\n        \"dtype\": \"number\",\n        \"std\": 0.46397268871800085,\n        \"min\": 0.0,\n        \"max\": 1.0,\n        \"samples\": [\n          0.0,\n          1.0\n        ],\n        \"num_unique_values\": 2,\n        \"semantic_type\": \"\",\n        \"description\": \"\"\n      }\n    }\n  ]\n}"
            }
          },
          "metadata": {},
          "execution_count": 4
        }
      ]
    },
    {
      "cell_type": "code",
      "source": [
        "# data types again\n",
        "data.dtypes"
      ],
      "metadata": {
        "colab": {
          "base_uri": "https://localhost:8080/"
        },
        "id": "rGVtLoOK1Vxz",
        "outputId": "bdea73f8-f00a-42c9-ca74-2faf004ec426"
      },
      "execution_count": 5,
      "outputs": [
        {
          "output_type": "execute_result",
          "data": {
            "text/plain": [
              "Loan_ID               object\n",
              "Gender               float64\n",
              "Married              float64\n",
              "Dependents           float64\n",
              "Education            float64\n",
              "Self_Employed        float64\n",
              "ApplicantIncome      float64\n",
              "CoapplicantIncome    float64\n",
              "LoanAmount           float64\n",
              "Loan_Amount_Term     float64\n",
              "Credit_History       float64\n",
              "Property_Area        float64\n",
              "Loan_Status          float64\n",
              "dtype: object"
            ]
          },
          "metadata": {},
          "execution_count": 5
        }
      ]
    },
    {
      "cell_type": "code",
      "source": [
        "# remove loan_ID column => unique for each row\n",
        "data = data.drop('Loan_ID', axis=1)"
      ],
      "metadata": {
        "id": "pJJBH5Vd1cc2"
      },
      "execution_count": 6,
      "outputs": []
    },
    {
      "cell_type": "code",
      "source": [
        "# check shape\n",
        "data.shape"
      ],
      "metadata": {
        "colab": {
          "base_uri": "https://localhost:8080/"
        },
        "id": "8G3qu6ao1lG9",
        "outputId": "543bf84f-a20a-4e40-8aa6-ab12a4c3f89d"
      },
      "execution_count": 7,
      "outputs": [
        {
          "output_type": "execute_result",
          "data": {
            "text/plain": [
              "(614, 12)"
            ]
          },
          "metadata": {},
          "execution_count": 7
        }
      ]
    },
    {
      "cell_type": "code",
      "source": [
        "# separate independent and dependent variables\n",
        "\n",
        "# store all independent variables as X\n",
        "X = data.drop('Loan_Status', axis=1)\n",
        "\n",
        "# storing dependent variable as y\n",
        "y = data['Loan_Status']"
      ],
      "metadata": {
        "id": "GhtJ6She1nQi"
      },
      "execution_count": 8,
      "outputs": []
    },
    {
      "cell_type": "code",
      "source": [
        "# shape of ind and dep vars\n",
        "X.shape, y.shape"
      ],
      "metadata": {
        "colab": {
          "base_uri": "https://localhost:8080/"
        },
        "id": "5NeEDvkQ2CDk",
        "outputId": "6974a960-b592-495e-e2b8-f12f40330acf"
      },
      "execution_count": 9,
      "outputs": [
        {
          "output_type": "execute_result",
          "data": {
            "text/plain": [
              "((614, 11), (614,))"
            ]
          },
          "metadata": {},
          "execution_count": 9
        }
      ]
    },
    {
      "cell_type": "markdown",
      "source": [
        "# 2. Create training and validation set"
      ],
      "metadata": {
        "id": "gMmYyuOU2G42"
      }
    },
    {
      "cell_type": "code",
      "source": [
        "# Creating training and validation set\n",
        "\n",
        "# stratify makes sure distribution of classes in train and validation set are similar\n",
        "# random state regenerates same train and validation set\n",
        "# test size 0.2 keeps 20% of data in validation and remaining 80% in train set\n",
        "\n",
        "X_train, X_test, y_train, y_test = train_test_split(X, y, stratify=data['Loan_Status'],\n",
        "                                                    random_state=10, test_size=0.2)"
      ],
      "metadata": {
        "id": "VE-82iId2Fkw"
      },
      "execution_count": 10,
      "outputs": []
    },
    {
      "cell_type": "code",
      "source": [
        "# shape of training and validation set\n",
        "(X_train.shape, y_train.shape), (X_test.shape, y_test.shape)"
      ],
      "metadata": {
        "colab": {
          "base_uri": "https://localhost:8080/"
        },
        "id": "96PkyS5u2nxC",
        "outputId": "e0693c15-2f67-4357-f11c-ae85e9ca6d93"
      },
      "execution_count": 11,
      "outputs": [
        {
          "output_type": "execute_result",
          "data": {
            "text/plain": [
              "(((491, 11), (491,)), ((123, 11), (123,)))"
            ]
          },
          "metadata": {},
          "execution_count": 11
        }
      ]
    },
    {
      "cell_type": "markdown",
      "source": [
        "# 3. Defining architecture of model"
      ],
      "metadata": {
        "id": "0qTo6yHR2wkX"
      }
    },
    {
      "cell_type": "code",
      "source": [
        "# import libraries\n",
        "import keras\n",
        "from keras import Input, Model\n",
        "from keras.models import Sequential\n",
        "from keras.layers import InputLayer, Dense, concatenate"
      ],
      "metadata": {
        "id": "ZS4Rmk4m2vLC"
      },
      "execution_count": 12,
      "outputs": []
    },
    {
      "cell_type": "code",
      "source": [
        "# number of input neurons\n",
        "X_train.shape"
      ],
      "metadata": {
        "colab": {
          "base_uri": "https://localhost:8080/"
        },
        "id": "LLbIHHjA29_b",
        "outputId": "89b2de9f-ac94-4d5b-a5ff-7f3bae2b6807"
      },
      "execution_count": 13,
      "outputs": [
        {
          "output_type": "execute_result",
          "data": {
            "text/plain": [
              "(491, 11)"
            ]
          },
          "metadata": {},
          "execution_count": 13
        }
      ]
    },
    {
      "cell_type": "code",
      "source": [
        "# number of features in the data\n",
        "X_train.shape[1]"
      ],
      "metadata": {
        "colab": {
          "base_uri": "https://localhost:8080/"
        },
        "id": "E4BQAiGn3BJt",
        "outputId": "01eda1ca-c2cc-4bc5-e66b-914aa2053f64"
      },
      "execution_count": 14,
      "outputs": [
        {
          "output_type": "execute_result",
          "data": {
            "text/plain": [
              "11"
            ]
          },
          "metadata": {},
          "execution_count": 14
        }
      ]
    },
    {
      "cell_type": "code",
      "source": [
        "# define input neurons\n",
        "input_neurons = X_train.shape[1]\n",
        "\n",
        "# define number of output neurons\n",
        "output_neurons = 1"
      ],
      "metadata": {
        "id": "b_aMoLvD3FU7"
      },
      "execution_count": 15,
      "outputs": []
    },
    {
      "cell_type": "code",
      "source": [
        "# define hidden layers and neuron in each layer\n",
        "number_of_hidden_layers = 2\n",
        "neuron_hidden_layer_1_1 = 10 #two hidden layers in parallel\n",
        "neuron_hidden_layer_1_2 = 20 #two hidden layers in parallel\n",
        "neuron_hidden_layer_2 = 5"
      ],
      "metadata": {
        "id": "qCZ1HdE-3Msf"
      },
      "execution_count": 16,
      "outputs": []
    },
    {
      "cell_type": "code",
      "source": [
        "# defining architecture of model using Functional API\n",
        "x = Input(shape = (input_neurons,))\n",
        "hidden1_1 = Dense(units=neuron_hidden_layer_1_1, activation = 'relu')(x) #input via input layer\n",
        "hidden1_2 = Dense(units=neuron_hidden_layer_1_2, activation = 'relu')(x) #input via input layer\n",
        "\n",
        "# concatenate output of both hidden layers\n",
        "combined = concatenate([hidden1_1, hidden1_2])\n",
        "\n",
        "# next single hidden layer - output is combined output of previous hidden layers\n",
        "hidden2 = Dense(units=neuron_hidden_layer_2, activation='relu')(combined)\n",
        "output = Dense(units=output_neurons, activation='sigmoid')(hidden2)\n",
        "\n",
        "model_functional = Model(x, output)"
      ],
      "metadata": {
        "id": "jgW_eUJP3tRH"
      },
      "execution_count": 17,
      "outputs": []
    },
    {
      "cell_type": "code",
      "source": [
        "# summary of model\n",
        "model_functional.summary()"
      ],
      "metadata": {
        "colab": {
          "base_uri": "https://localhost:8080/"
        },
        "id": "c8Zp2Uyu4XEn",
        "outputId": "573d1b6a-46f2-457e-8f13-3c51ccb8df82"
      },
      "execution_count": 20,
      "outputs": [
        {
          "output_type": "stream",
          "name": "stdout",
          "text": [
            "Model: \"model\"\n",
            "__________________________________________________________________________________________________\n",
            " Layer (type)                Output Shape                 Param #   Connected to                  \n",
            "==================================================================================================\n",
            " input_1 (InputLayer)        [(None, 11)]                 0         []                            \n",
            "                                                                                                  \n",
            " dense (Dense)               (None, 10)                   120       ['input_1[0][0]']             \n",
            "                                                                                                  \n",
            " dense_1 (Dense)             (None, 20)                   240       ['input_1[0][0]']             \n",
            "                                                                                                  \n",
            " concatenate (Concatenate)   (None, 30)                   0         ['dense[0][0]',               \n",
            "                                                                     'dense_1[0][0]']             \n",
            "                                                                                                  \n",
            " dense_2 (Dense)             (None, 5)                    155       ['concatenate[0][0]']         \n",
            "                                                                                                  \n",
            " dense_3 (Dense)             (None, 1)                    6         ['dense_2[0][0]']             \n",
            "                                                                                                  \n",
            "==================================================================================================\n",
            "Total params: 521 (2.04 KB)\n",
            "Trainable params: 521 (2.04 KB)\n",
            "Non-trainable params: 0 (0.00 Byte)\n",
            "__________________________________________________________________________________________________\n"
          ]
        }
      ]
    },
    {
      "cell_type": "markdown",
      "source": [
        "summary:\n",
        "* concatenate layer is sum of dense + dense_1 hidden layers\n",
        "* notice the architectures input and output of each layer"
      ],
      "metadata": {
        "id": "lmhd7uJH49c_"
      }
    },
    {
      "cell_type": "markdown",
      "source": [
        "# 4. Compiling the model (define loss function, optimizer)"
      ],
      "metadata": {
        "id": "-AR2xLfb5Qde"
      }
    },
    {
      "cell_type": "code",
      "source": [
        "# compiling the model\n",
        "\n",
        "# loss as binary_crossentropy, since we have binary classification problem\n",
        "# defining the optimizer as adam\n",
        "# evaluation metric as accuracy\n",
        "\n",
        "model_functional.compile(loss='binary_crossentropy', optimizer='Adam', metrics=['accuracy'])"
      ],
      "metadata": {
        "id": "GzsJB85i4ay3"
      },
      "execution_count": 24,
      "outputs": []
    },
    {
      "cell_type": "markdown",
      "source": [
        "# 5. Training model"
      ],
      "metadata": {
        "id": "yvmgwrxP7gNS"
      }
    },
    {
      "cell_type": "code",
      "source": [
        "# training model\n",
        "\n",
        "# passing independent and dependent features for training set to train model\n",
        "\n",
        "# validation data will be evaluated at end of each epoch\n",
        "\n",
        "# setting epochs at 50\n",
        "\n",
        "# storing trained model in model_history variable which will be used to visualize training process\n",
        "\n",
        "model_history = model_functional.fit(X_train, y_train, validation_data=(X_test, y_test), epochs=50)"
      ],
      "metadata": {
        "colab": {
          "base_uri": "https://localhost:8080/"
        },
        "id": "4tlVUb2M6wjj",
        "outputId": "3877cfa5-b786-4fed-8e24-8061e345da1f"
      },
      "execution_count": 25,
      "outputs": [
        {
          "output_type": "stream",
          "name": "stdout",
          "text": [
            "Epoch 1/50\n",
            "16/16 [==============================] - 3s 47ms/step - loss: 0.6295 - accuracy: 0.6864 - val_loss: 0.6144 - val_accuracy: 0.6911\n",
            "Epoch 2/50\n",
            "16/16 [==============================] - 0s 9ms/step - loss: 0.6027 - accuracy: 0.6884 - val_loss: 0.5975 - val_accuracy: 0.6911\n",
            "Epoch 3/50\n",
            "16/16 [==============================] - 0s 10ms/step - loss: 0.5901 - accuracy: 0.6864 - val_loss: 0.5895 - val_accuracy: 0.6911\n",
            "Epoch 4/50\n",
            "16/16 [==============================] - 0s 11ms/step - loss: 0.5828 - accuracy: 0.6864 - val_loss: 0.5837 - val_accuracy: 0.6911\n",
            "Epoch 5/50\n",
            "16/16 [==============================] - 0s 12ms/step - loss: 0.5777 - accuracy: 0.6904 - val_loss: 0.5778 - val_accuracy: 0.6911\n",
            "Epoch 6/50\n",
            "16/16 [==============================] - 0s 12ms/step - loss: 0.5720 - accuracy: 0.6904 - val_loss: 0.5725 - val_accuracy: 0.6911\n",
            "Epoch 7/50\n",
            "16/16 [==============================] - 0s 10ms/step - loss: 0.5669 - accuracy: 0.6904 - val_loss: 0.5669 - val_accuracy: 0.6911\n",
            "Epoch 8/50\n",
            "16/16 [==============================] - 0s 7ms/step - loss: 0.5621 - accuracy: 0.6904 - val_loss: 0.5615 - val_accuracy: 0.6911\n",
            "Epoch 9/50\n",
            "16/16 [==============================] - 0s 6ms/step - loss: 0.5575 - accuracy: 0.6904 - val_loss: 0.5572 - val_accuracy: 0.6911\n",
            "Epoch 10/50\n",
            "16/16 [==============================] - 0s 8ms/step - loss: 0.5528 - accuracy: 0.6904 - val_loss: 0.5519 - val_accuracy: 0.6992\n",
            "Epoch 11/50\n",
            "16/16 [==============================] - 0s 9ms/step - loss: 0.5486 - accuracy: 0.6925 - val_loss: 0.5480 - val_accuracy: 0.7073\n",
            "Epoch 12/50\n",
            "16/16 [==============================] - 0s 6ms/step - loss: 0.5437 - accuracy: 0.6945 - val_loss: 0.5440 - val_accuracy: 0.7154\n",
            "Epoch 13/50\n",
            "16/16 [==============================] - 0s 7ms/step - loss: 0.5397 - accuracy: 0.7047 - val_loss: 0.5403 - val_accuracy: 0.7154\n",
            "Epoch 14/50\n",
            "16/16 [==============================] - 0s 9ms/step - loss: 0.5368 - accuracy: 0.7149 - val_loss: 0.5373 - val_accuracy: 0.7317\n",
            "Epoch 15/50\n",
            "16/16 [==============================] - 0s 7ms/step - loss: 0.5337 - accuracy: 0.7413 - val_loss: 0.5351 - val_accuracy: 0.7480\n",
            "Epoch 16/50\n",
            "16/16 [==============================] - 0s 9ms/step - loss: 0.5310 - accuracy: 0.7699 - val_loss: 0.5334 - val_accuracy: 0.7561\n",
            "Epoch 17/50\n",
            "16/16 [==============================] - 0s 7ms/step - loss: 0.5302 - accuracy: 0.7800 - val_loss: 0.5312 - val_accuracy: 0.7561\n",
            "Epoch 18/50\n",
            "16/16 [==============================] - 0s 6ms/step - loss: 0.5270 - accuracy: 0.7963 - val_loss: 0.5294 - val_accuracy: 0.7642\n",
            "Epoch 19/50\n",
            "16/16 [==============================] - 0s 7ms/step - loss: 0.5254 - accuracy: 0.7963 - val_loss: 0.5289 - val_accuracy: 0.7642\n",
            "Epoch 20/50\n",
            "16/16 [==============================] - 0s 7ms/step - loss: 0.5230 - accuracy: 0.8045 - val_loss: 0.5277 - val_accuracy: 0.7805\n",
            "Epoch 21/50\n",
            "16/16 [==============================] - 0s 9ms/step - loss: 0.5212 - accuracy: 0.8106 - val_loss: 0.5260 - val_accuracy: 0.7886\n",
            "Epoch 22/50\n",
            "16/16 [==============================] - 0s 7ms/step - loss: 0.5192 - accuracy: 0.8045 - val_loss: 0.5245 - val_accuracy: 0.7805\n",
            "Epoch 23/50\n",
            "16/16 [==============================] - 0s 9ms/step - loss: 0.5174 - accuracy: 0.8086 - val_loss: 0.5233 - val_accuracy: 0.8049\n",
            "Epoch 24/50\n",
            "16/16 [==============================] - 0s 7ms/step - loss: 0.5151 - accuracy: 0.8106 - val_loss: 0.5224 - val_accuracy: 0.8130\n",
            "Epoch 25/50\n",
            "16/16 [==============================] - 0s 10ms/step - loss: 0.5125 - accuracy: 0.8106 - val_loss: 0.5204 - val_accuracy: 0.8130\n",
            "Epoch 26/50\n",
            "16/16 [==============================] - 0s 8ms/step - loss: 0.5102 - accuracy: 0.8106 - val_loss: 0.5184 - val_accuracy: 0.8130\n",
            "Epoch 27/50\n",
            "16/16 [==============================] - 0s 8ms/step - loss: 0.5052 - accuracy: 0.8106 - val_loss: 0.5164 - val_accuracy: 0.8130\n",
            "Epoch 28/50\n",
            "16/16 [==============================] - 0s 8ms/step - loss: 0.5010 - accuracy: 0.8106 - val_loss: 0.5119 - val_accuracy: 0.8130\n",
            "Epoch 29/50\n",
            "16/16 [==============================] - 0s 8ms/step - loss: 0.4954 - accuracy: 0.8106 - val_loss: 0.5068 - val_accuracy: 0.8130\n",
            "Epoch 30/50\n",
            "16/16 [==============================] - 0s 13ms/step - loss: 0.4897 - accuracy: 0.8106 - val_loss: 0.5038 - val_accuracy: 0.8130\n",
            "Epoch 31/50\n",
            "16/16 [==============================] - 0s 16ms/step - loss: 0.4851 - accuracy: 0.8106 - val_loss: 0.5000 - val_accuracy: 0.8130\n",
            "Epoch 32/50\n",
            "16/16 [==============================] - 0s 17ms/step - loss: 0.4822 - accuracy: 0.8106 - val_loss: 0.4968 - val_accuracy: 0.8130\n",
            "Epoch 33/50\n",
            "16/16 [==============================] - 0s 20ms/step - loss: 0.4779 - accuracy: 0.8126 - val_loss: 0.4955 - val_accuracy: 0.8130\n",
            "Epoch 34/50\n",
            "16/16 [==============================] - 0s 10ms/step - loss: 0.4756 - accuracy: 0.8126 - val_loss: 0.4917 - val_accuracy: 0.8130\n",
            "Epoch 35/50\n",
            "16/16 [==============================] - 0s 6ms/step - loss: 0.4721 - accuracy: 0.8126 - val_loss: 0.4907 - val_accuracy: 0.8130\n",
            "Epoch 36/50\n",
            "16/16 [==============================] - 0s 8ms/step - loss: 0.4699 - accuracy: 0.8126 - val_loss: 0.4904 - val_accuracy: 0.8130\n",
            "Epoch 37/50\n",
            "16/16 [==============================] - 0s 7ms/step - loss: 0.4676 - accuracy: 0.8147 - val_loss: 0.4865 - val_accuracy: 0.8130\n",
            "Epoch 38/50\n",
            "16/16 [==============================] - 0s 9ms/step - loss: 0.4652 - accuracy: 0.8147 - val_loss: 0.4868 - val_accuracy: 0.8130\n",
            "Epoch 39/50\n",
            "16/16 [==============================] - 0s 7ms/step - loss: 0.4630 - accuracy: 0.8147 - val_loss: 0.4847 - val_accuracy: 0.8130\n",
            "Epoch 40/50\n",
            "16/16 [==============================] - 0s 9ms/step - loss: 0.4618 - accuracy: 0.8147 - val_loss: 0.4843 - val_accuracy: 0.8130\n",
            "Epoch 41/50\n",
            "16/16 [==============================] - 0s 8ms/step - loss: 0.4597 - accuracy: 0.8147 - val_loss: 0.4838 - val_accuracy: 0.8130\n",
            "Epoch 42/50\n",
            "16/16 [==============================] - 0s 6ms/step - loss: 0.4579 - accuracy: 0.8147 - val_loss: 0.4833 - val_accuracy: 0.8130\n",
            "Epoch 43/50\n",
            "16/16 [==============================] - 0s 7ms/step - loss: 0.4584 - accuracy: 0.8126 - val_loss: 0.4831 - val_accuracy: 0.8130\n",
            "Epoch 44/50\n",
            "16/16 [==============================] - 0s 9ms/step - loss: 0.4568 - accuracy: 0.8126 - val_loss: 0.4833 - val_accuracy: 0.8130\n",
            "Epoch 45/50\n",
            "16/16 [==============================] - 0s 7ms/step - loss: 0.4552 - accuracy: 0.8147 - val_loss: 0.4827 - val_accuracy: 0.8130\n",
            "Epoch 46/50\n",
            "16/16 [==============================] - 0s 7ms/step - loss: 0.4549 - accuracy: 0.8147 - val_loss: 0.4829 - val_accuracy: 0.8130\n",
            "Epoch 47/50\n",
            "16/16 [==============================] - 0s 8ms/step - loss: 0.4526 - accuracy: 0.8147 - val_loss: 0.4841 - val_accuracy: 0.8130\n",
            "Epoch 48/50\n",
            "16/16 [==============================] - 0s 7ms/step - loss: 0.4506 - accuracy: 0.8147 - val_loss: 0.4828 - val_accuracy: 0.8130\n",
            "Epoch 49/50\n",
            "16/16 [==============================] - 0s 9ms/step - loss: 0.4518 - accuracy: 0.8147 - val_loss: 0.4844 - val_accuracy: 0.8130\n",
            "Epoch 50/50\n",
            "16/16 [==============================] - 0s 6ms/step - loss: 0.4498 - accuracy: 0.8147 - val_loss: 0.4830 - val_accuracy: 0.8130\n"
          ]
        }
      ]
    },
    {
      "cell_type": "markdown",
      "source": [
        "# 6. Evaluating model performance on validation set"
      ],
      "metadata": {
        "id": "mo-72Y0S79fV"
      }
    },
    {
      "cell_type": "code",
      "source": [
        "# getting predictions for validation set\n",
        "prediction = model_functional.predict(X_test)"
      ],
      "metadata": {
        "colab": {
          "base_uri": "https://localhost:8080/"
        },
        "id": "1wY29YGy74sE",
        "outputId": "2e0cecb5-282a-4f4d-a539-9a1d9e96839b"
      },
      "execution_count": 26,
      "outputs": [
        {
          "output_type": "stream",
          "name": "stdout",
          "text": [
            "4/4 [==============================] - 0s 7ms/step\n"
          ]
        }
      ]
    },
    {
      "cell_type": "code",
      "source": [
        "prediction = prediction.reshape(123,)\n",
        "\n",
        "# converting probabilities to classes\n",
        "prediction_int = prediction >= 0.5\n",
        "prediction_int = prediction_int.astype(np.int64)"
      ],
      "metadata": {
        "id": "-c28HFfC8Djv"
      },
      "execution_count": 27,
      "outputs": []
    },
    {
      "cell_type": "code",
      "source": [
        "# calculating accuracy on validation set\n",
        "accuracy_score(y_test, prediction_int)"
      ],
      "metadata": {
        "colab": {
          "base_uri": "https://localhost:8080/"
        },
        "id": "DDa2IHt78X43",
        "outputId": "b8e75f6e-5550-4b00-c9d7-71a2d4b793e5"
      },
      "execution_count": 28,
      "outputs": [
        {
          "output_type": "execute_result",
          "data": {
            "text/plain": [
              "0.8130081300813008"
            ]
          },
          "metadata": {},
          "execution_count": 28
        }
      ]
    },
    {
      "cell_type": "markdown",
      "source": [
        "summary: accuracy is 81.3%"
      ],
      "metadata": {
        "id": "DRcE98Au8e7Z"
      }
    },
    {
      "cell_type": "markdown",
      "source": [
        "# Visualizing the model performance"
      ],
      "metadata": {
        "id": "4BbjD-JR8SR3"
      }
    },
    {
      "cell_type": "code",
      "source": [
        "# summarize history for model loss\n",
        "plt.plot(model_history.history['loss'])\n",
        "plt.plot(model_history.history['val_loss'])\n",
        "plt.title('model loss')\n",
        "plt.ylabel('loss')\n",
        "plt.xlabel('epoch')\n",
        "plt.legend(['train', 'validation'], loc='upper left')\n",
        "plt.show()"
      ],
      "metadata": {
        "colab": {
          "base_uri": "https://localhost:8080/",
          "height": 472
        },
        "id": "Udz5IKq88RIW",
        "outputId": "43e1ecd8-c9d0-49c1-bee7-ba01292fc47f"
      },
      "execution_count": 29,
      "outputs": [
        {
          "output_type": "display_data",
          "data": {
            "text/plain": [
              "<Figure size 640x480 with 1 Axes>"
            ],
            "image/png": "[encoded data removed]"
          },
          "metadata": {}
        }
      ]
    },
    {
      "cell_type": "code",
      "source": [
        "# summarize and plot history for accuracy of model\n",
        "plt.plot(model_history.history['accuracy'])\n",
        "plt.plot(model_history.history['val_accuracy'])\n",
        "plt.title('model accuracy')\n",
        "plt.ylabel('accuracy')\n",
        "plt.xlabel('epoch')\n",
        "plt.legend(['train', 'validation'], loc='upper left')\n",
        "plt.show()"
      ],
      "metadata": {
        "colab": {
          "base_uri": "https://localhost:8080/",
          "height": 472
        },
        "id": "jwaY-SVQ8z8e",
        "outputId": "45aac56a-d1cc-46ed-f8fc-f35240efd1fe"
      },
      "execution_count": 30,
      "outputs": [
        {
          "output_type": "display_data",
          "data": {
            "text/plain": [
              "<Figure size 640x480 with 1 Axes>"
            ],
            "image/png": "[encoded data removed]"
          },
          "metadata": {}
        }
      ]
    },
    {
      "cell_type": "markdown",
      "source": [
        "summary: Accuracy stabilizes around epoch 15"
      ],
      "metadata": {
        "id": "zmbG_niI9MZO"
      }
    },
    {
      "cell_type": "code",
      "source": [],
      "metadata": {
        "id": "SL51Dk9A9JPp"
      },
      "execution_count": null,
      "outputs": []
    }
  ]
}