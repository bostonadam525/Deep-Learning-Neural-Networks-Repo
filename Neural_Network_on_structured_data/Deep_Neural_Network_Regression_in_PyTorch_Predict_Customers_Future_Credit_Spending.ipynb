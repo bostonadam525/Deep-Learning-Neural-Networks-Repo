{
  "nbformat": 4,
  "nbformat_minor": 0,
  "metadata": {
    "colab": {
      "provenance": [],
      "gpuType": "T4"
    },
    "kernelspec": {
      "name": "python3",
      "display_name": "Python 3"
    },
    "language_info": {
      "name": "python"
    },
    "accelerator": "GPU"
  },
  "cells": [
    {
      "cell_type": "markdown",
      "source": [
        "# Deep Neural Network Regression in PyTorch - Predicting Customer's Future Credit Spending\n",
        "* Notebook by Adam Lang\n",
        "* Date: 11/12/24\n",
        "\n",
        "# Overview\n",
        "* Understanding the consumption pattern for credit cards on an individual consumer level is important for customer relationship management.\n",
        "* This understanding allows banks to customize and make strategic marketing plans for consumers.\n",
        "* Thus it is important to study the relationship between the characteristics of the consumers and their consumption patterns.\n",
        "* Bank of Trust has given a sample of their customers, along with their details like age, gender and other demographics.\n",
        "  * Bank of Trust has also shared information on liabilities, assets and history of transactions with the bank for each customer.\n",
        "  * In addition to the above, data has been provided for a particular set of customers' credit card spend in the previous 3 months (April, May & June) and their expected average spend in the coming 3 months (July, August & September).\n",
        "* The goal here is to **predict the average spend for the customers for the upcomning 3 months.**"
      ],
      "metadata": {
        "id": "RykMcOwIU-Aj"
      }
    },
    {
      "cell_type": "code",
      "execution_count": 1,
      "metadata": {
        "id": "qwgra88PUghq"
      },
      "outputs": [],
      "source": [
        "import pandas as pd"
      ]
    },
    {
      "cell_type": "markdown",
      "source": [
        "# Upload Dataset"
      ],
      "metadata": {
        "id": "CM6N8R_SV5ge"
      }
    },
    {
      "cell_type": "code",
      "source": [
        "## upload data\n",
        "df = pd.read_csv('/content/drive/MyDrive/Colab Notebooks/Deep Learning Notebooks/Bank of Trust Dataset.csv')\n",
        "\n",
        "# head of data\n",
        "df.head()"
      ],
      "metadata": {
        "colab": {
          "base_uri": "https://localhost:8080/",
          "height": 255
        },
        "id": "xW15dWSyV0tc",
        "outputId": "1c480128-b882-492d-c81f-b2e939759220"
      },
      "execution_count": 2,
      "outputs": [
        {
          "output_type": "execute_result",
          "data": {
            "text/plain": [
              "      id account_type gender  age  region_code  cc_cons_apr  dc_cons_apr  \\\n",
              "0  23334       saving      M   63          305      7695.00          NaN   \n",
              "1  20329      current      M   33          326     52702.00       988.72   \n",
              "2  17679      current      M   44          264     10800.49      3215.52   \n",
              "3  16428       saving      M   44          233     20936.00          NaN   \n",
              "4  18721       saving      F   35          324      1183.83          NaN   \n",
              "\n",
              "   cc_cons_may  dc_cons_may  cc_cons_jun  ...  debit_count_may  \\\n",
              "0       479.00          NaN        622.0  ...              2.0   \n",
              "1     29873.00          NaN       1087.0  ...             10.0   \n",
              "2     21659.64       1607.0       1168.0  ...              7.0   \n",
              "3      2094.00          NaN      11778.5  ...              1.0   \n",
              "4      3656.29          NaN        945.0  ...              3.0   \n",
              "\n",
              "   max_credit_amount_may  debit_amount_jun  credit_amount_jun  \\\n",
              "0                45000.0          20215.85            1279.37   \n",
              "1               150000.0         122037.66           55390.00   \n",
              "2                13800.0          46827.00           29297.91   \n",
              "3                19300.0           5426.55            7544.00   \n",
              "4                 3000.0          26178.05           53483.00   \n",
              "\n",
              "   credit_count_jun  debit_count_jun  max_credit_amount_jun  loan_enq  \\\n",
              "0               7.0              3.0                  470.0       NaN   \n",
              "1               8.0             19.0                27000.0       NaN   \n",
              "2               6.0             19.0                20800.0       NaN   \n",
              "3               3.0              1.0                 5300.0       NaN   \n",
              "4               4.0              4.0                45000.0       NaN   \n",
              "\n",
              "   emi_active  cc_cons  \n",
              "0        0.00      435  \n",
              "1     4963.33     1921  \n",
              "2        0.00     1970  \n",
              "3     1238.18    21579  \n",
              "4        0.00     1814  \n",
              "\n",
              "[5 rows x 44 columns]"
            ],
            "text/html": [
              "\n",
              "  <div id=\"df-05edf460-d1ef-4e12-833f-d79573215744\" class=\"colab-df-container\">\n",
              "    <div>\n",
              "<style scoped>\n",
              "    .dataframe tbody tr th:only-of-type {\n",
              "        vertical-align: middle;\n",
              "    }\n",
              "\n",
              "    .dataframe tbody tr th {\n",
              "        vertical-align: top;\n",
              "    }\n",
              "\n",
              "    .dataframe thead th {\n",
              "        text-align: right;\n",
              "    }\n",
              "</style>\n",
              "<table border=\"1\" class=\"dataframe\">\n",
              "  <thead>\n",
              "    <tr style=\"text-align: right;\">\n",
              "      <th></th>\n",
              "      <th>id</th>\n",
              "      <th>account_type</th>\n",
              "      <th>gender</th>\n",
              "      <th>age</th>\n",
              "      <th>region_code</th>\n",
              "      <th>cc_cons_apr</th>\n",
              "      <th>dc_cons_apr</th>\n",
              "      <th>cc_cons_may</th>\n",
              "      <th>dc_cons_may</th>\n",
              "      <th>cc_cons_jun</th>\n",
              "      <th>...</th>\n",
              "      <th>debit_count_may</th>\n",
              "      <th>max_credit_amount_may</th>\n",
              "      <th>debit_amount_jun</th>\n",
              "      <th>credit_amount_jun</th>\n",
              "      <th>credit_count_jun</th>\n",
              "      <th>debit_count_jun</th>\n",
              "      <th>max_credit_amount_jun</th>\n",
              "      <th>loan_enq</th>\n",
              "      <th>emi_active</th>\n",
              "      <th>cc_cons</th>\n",
              "    </tr>\n",
              "  </thead>\n",
              "  <tbody>\n",
              "    <tr>\n",
              "      <th>0</th>\n",
              "      <td>23334</td>\n",
              "      <td>saving</td>\n",
              "      <td>M</td>\n",
              "      <td>63</td>\n",
              "      <td>305</td>\n",
              "      <td>7695.00</td>\n",
              "      <td>NaN</td>\n",
              "      <td>479.00</td>\n",
              "      <td>NaN</td>\n",
              "      <td>622.0</td>\n",
              "      <td>...</td>\n",
              "      <td>2.0</td>\n",
              "      <td>45000.0</td>\n",
              "      <td>20215.85</td>\n",
              "      <td>1279.37</td>\n",
              "      <td>7.0</td>\n",
              "      <td>3.0</td>\n",
              "      <td>470.0</td>\n",
              "      <td>NaN</td>\n",
              "      <td>0.00</td>\n",
              "      <td>435</td>\n",
              "    </tr>\n",
              "    <tr>\n",
              "      <th>1</th>\n",
              "      <td>20329</td>\n",
              "      <td>current</td>\n",
              "      <td>M</td>\n",
              "      <td>33</td>\n",
              "      <td>326</td>\n",
              "      <td>52702.00</td>\n",
              "      <td>988.72</td>\n",
              "      <td>29873.00</td>\n",
              "      <td>NaN</td>\n",
              "      <td>1087.0</td>\n",
              "      <td>...</td>\n",
              "      <td>10.0</td>\n",
              "      <td>150000.0</td>\n",
              "      <td>122037.66</td>\n",
              "      <td>55390.00</td>\n",
              "      <td>8.0</td>\n",
              "      <td>19.0</td>\n",
              "      <td>27000.0</td>\n",
              "      <td>NaN</td>\n",
              "      <td>4963.33</td>\n",
              "      <td>1921</td>\n",
              "    </tr>\n",
              "    <tr>\n",
              "      <th>2</th>\n",
              "      <td>17679</td>\n",
              "      <td>current</td>\n",
              "      <td>M</td>\n",
              "      <td>44</td>\n",
              "      <td>264</td>\n",
              "      <td>10800.49</td>\n",
              "      <td>3215.52</td>\n",
              "      <td>21659.64</td>\n",
              "      <td>1607.0</td>\n",
              "      <td>1168.0</td>\n",
              "      <td>...</td>\n",
              "      <td>7.0</td>\n",
              "      <td>13800.0</td>\n",
              "      <td>46827.00</td>\n",
              "      <td>29297.91</td>\n",
              "      <td>6.0</td>\n",
              "      <td>19.0</td>\n",
              "      <td>20800.0</td>\n",
              "      <td>NaN</td>\n",
              "      <td>0.00</td>\n",
              "      <td>1970</td>\n",
              "    </tr>\n",
              "    <tr>\n",
              "      <th>3</th>\n",
              "      <td>16428</td>\n",
              "      <td>saving</td>\n",
              "      <td>M</td>\n",
              "      <td>44</td>\n",
              "      <td>233</td>\n",
              "      <td>20936.00</td>\n",
              "      <td>NaN</td>\n",
              "      <td>2094.00</td>\n",
              "      <td>NaN</td>\n",
              "      <td>11778.5</td>\n",
              "      <td>...</td>\n",
              "      <td>1.0</td>\n",
              "      <td>19300.0</td>\n",
              "      <td>5426.55</td>\n",
              "      <td>7544.00</td>\n",
              "      <td>3.0</td>\n",
              "      <td>1.0</td>\n",
              "      <td>5300.0</td>\n",
              "      <td>NaN</td>\n",
              "      <td>1238.18</td>\n",
              "      <td>21579</td>\n",
              "    </tr>\n",
              "    <tr>\n",
              "      <th>4</th>\n",
              "      <td>18721</td>\n",
              "      <td>saving</td>\n",
              "      <td>F</td>\n",
              "      <td>35</td>\n",
              "      <td>324</td>\n",
              "      <td>1183.83</td>\n",
              "      <td>NaN</td>\n",
              "      <td>3656.29</td>\n",
              "      <td>NaN</td>\n",
              "      <td>945.0</td>\n",
              "      <td>...</td>\n",
              "      <td>3.0</td>\n",
              "      <td>3000.0</td>\n",
              "      <td>26178.05</td>\n",
              "      <td>53483.00</td>\n",
              "      <td>4.0</td>\n",
              "      <td>4.0</td>\n",
              "      <td>45000.0</td>\n",
              "      <td>NaN</td>\n",
              "      <td>0.00</td>\n",
              "      <td>1814</td>\n",
              "    </tr>\n",
              "  </tbody>\n",
              "</table>\n",
              "<p>5 rows × 44 columns</p>\n",
              "</div>\n",
              "    <div class=\"colab-df-buttons\">\n",
              "\n",
              "  <div class=\"colab-df-container\">\n",
              "    <button class=\"colab-df-convert\" onclick=\"convertToInteractive('df-05edf460-d1ef-4e12-833f-d79573215744')\"\n",
              "            title=\"Convert this dataframe to an interactive table.\"\n",
              "            style=\"display:none;\">\n",
              "\n",
              "  <svg xmlns=\"http://www.w3.org/2000/svg\" height=\"24px\" viewBox=\"0 -960 960 960\">\n",
              "    <path d=\"M120-120v-720h720v720H120Zm60-500h600v-160H180v160Zm220 220h160v-160H400v160Zm0 220h160v-160H400v160ZM180-400h160v-160H180v160Zm440 0h160v-160H620v160ZM180-180h160v-160H180v160Zm440 0h160v-160H620v160Z\"/>\n",
              "  </svg>\n",
              "    </button>\n",
              "\n",
              "  <style>\n",
              "    .colab-df-container {\n",
              "      display:flex;\n",
              "      gap: 12px;\n",
              "    }\n",
              "\n",
              "    .colab-df-convert {\n",
              "      background-color: #E8F0FE;\n",
              "      border: none;\n",
              "      border-radius: 50%;\n",
              "      cursor: pointer;\n",
              "      display: none;\n",
              "      fill: #1967D2;\n",
              "      height: 32px;\n",
              "      padding: 0 0 0 0;\n",
              "      width: 32px;\n",
              "    }\n",
              "\n",
              "    .colab-df-convert:hover {\n",
              "      background-color: #E2EBFA;\n",
              "      box-shadow: 0px 1px 2px rgba(60, 64, 67, 0.3), 0px 1px 3px 1px rgba(60, 64, 67, 0.15);\n",
              "      fill: #174EA6;\n",
              "    }\n",
              "\n",
              "    .colab-df-buttons div {\n",
              "      margin-bottom: 4px;\n",
              "    }\n",
              "\n",
              "    [theme=dark] .colab-df-convert {\n",
              "      background-color: #3B4455;\n",
              "      fill: #D2E3FC;\n",
              "    }\n",
              "\n",
              "    [theme=dark] .colab-df-convert:hover {\n",
              "      background-color: #434B5C;\n",
              "      box-shadow: 0px 1px 3px 1px rgba(0, 0, 0, 0.15);\n",
              "      filter: drop-shadow(0px 1px 2px rgba(0, 0, 0, 0.3));\n",
              "      fill: #FFFFFF;\n",
              "    }\n",
              "  </style>\n",
              "\n",
              "    <script>\n",
              "      const buttonEl =\n",
              "        document.querySelector('#df-05edf460-d1ef-4e12-833f-d79573215744 button.colab-df-convert');\n",
              "      buttonEl.style.display =\n",
              "        google.colab.kernel.accessAllowed ? 'block' : 'none';\n",
              "\n",
              "      async function convertToInteractive(key) {\n",
              "        const element = document.querySelector('#df-05edf460-d1ef-4e12-833f-d79573215744');\n",
              "        const dataTable =\n",
              "          await google.colab.kernel.invokeFunction('convertToInteractive',\n",
              "                                                    [key], {});\n",
              "        if (!dataTable) return;\n",
              "\n",
              "        const docLinkHtml = 'Like what you see? Visit the ' +\n",
              "          '<a target=\"_blank\" href=https://colab.research.google.com/notebooks/data_table.ipynb>data table notebook</a>'\n",
              "          + ' to learn more about interactive tables.';\n",
              "        element.innerHTML = '';\n",
              "        dataTable['output_type'] = 'display_data';\n",
              "        await google.colab.output.renderOutput(dataTable, element);\n",
              "        const docLink = document.createElement('div');\n",
              "        docLink.innerHTML = docLinkHtml;\n",
              "        element.appendChild(docLink);\n",
              "      }\n",
              "    </script>\n",
              "  </div>\n",
              "\n",
              "\n",
              "<div id=\"df-0df2e2c6-692b-4002-8ed3-8340e7aca594\">\n",
              "  <button class=\"colab-df-quickchart\" onclick=\"quickchart('df-0df2e2c6-692b-4002-8ed3-8340e7aca594')\"\n",
              "            title=\"Suggest charts\"\n",
              "            style=\"display:none;\">\n",
              "\n",
              "<svg xmlns=\"http://www.w3.org/2000/svg\" height=\"24px\"viewBox=\"0 0 24 24\"\n",
              "     width=\"24px\">\n",
              "    <g>\n",
              "        <path d=\"M19 3H5c-1.1 0-2 .9-2 2v14c0 1.1.9 2 2 2h14c1.1 0 2-.9 2-2V5c0-1.1-.9-2-2-2zM9 17H7v-7h2v7zm4 0h-2V7h2v10zm4 0h-2v-4h2v4z\"/>\n",
              "    </g>\n",
              "</svg>\n",
              "  </button>\n",
              "\n",
              "<style>\n",
              "  .colab-df-quickchart {\n",
              "      --bg-color: #E8F0FE;\n",
              "      --fill-color: #1967D2;\n",
              "      --hover-bg-color: #E2EBFA;\n",
              "      --hover-fill-color: #174EA6;\n",
              "      --disabled-fill-color: #AAA;\n",
              "      --disabled-bg-color: #DDD;\n",
              "  }\n",
              "\n",
              "  [theme=dark] .colab-df-quickchart {\n",
              "      --bg-color: #3B4455;\n",
              "      --fill-color: #D2E3FC;\n",
              "      --hover-bg-color: #434B5C;\n",
              "      --hover-fill-color: #FFFFFF;\n",
              "      --disabled-bg-color: #3B4455;\n",
              "      --disabled-fill-color: #666;\n",
              "  }\n",
              "\n",
              "  .colab-df-quickchart {\n",
              "    background-color: var(--bg-color);\n",
              "    border: none;\n",
              "    border-radius: 50%;\n",
              "    cursor: pointer;\n",
              "    display: none;\n",
              "    fill: var(--fill-color);\n",
              "    height: 32px;\n",
              "    padding: 0;\n",
              "    width: 32px;\n",
              "  }\n",
              "\n",
              "  .colab-df-quickchart:hover {\n",
              "    background-color: var(--hover-bg-color);\n",
              "    box-shadow: 0 1px 2px rgba(60, 64, 67, 0.3), 0 1px 3px 1px rgba(60, 64, 67, 0.15);\n",
              "    fill: var(--button-hover-fill-color);\n",
              "  }\n",
              "\n",
              "  .colab-df-quickchart-complete:disabled,\n",
              "  .colab-df-quickchart-complete:disabled:hover {\n",
              "    background-color: var(--disabled-bg-color);\n",
              "    fill: var(--disabled-fill-color);\n",
              "    box-shadow: none;\n",
              "  }\n",
              "\n",
              "  .colab-df-spinner {\n",
              "    border: 2px solid var(--fill-color);\n",
              "    border-color: transparent;\n",
              "    border-bottom-color: var(--fill-color);\n",
              "    animation:\n",
              "      spin 1s steps(1) infinite;\n",
              "  }\n",
              "\n",
              "  @keyframes spin {\n",
              "    0% {\n",
              "      border-color: transparent;\n",
              "      border-bottom-color: var(--fill-color);\n",
              "      border-left-color: var(--fill-color);\n",
              "    }\n",
              "    20% {\n",
              "      border-color: transparent;\n",
              "      border-left-color: var(--fill-color);\n",
              "      border-top-color: var(--fill-color);\n",
              "    }\n",
              "    30% {\n",
              "      border-color: transparent;\n",
              "      border-left-color: var(--fill-color);\n",
              "      border-top-color: var(--fill-color);\n",
              "      border-right-color: var(--fill-color);\n",
              "    }\n",
              "    40% {\n",
              "      border-color: transparent;\n",
              "      border-right-color: var(--fill-color);\n",
              "      border-top-color: var(--fill-color);\n",
              "    }\n",
              "    60% {\n",
              "      border-color: transparent;\n",
              "      border-right-color: var(--fill-color);\n",
              "    }\n",
              "    80% {\n",
              "      border-color: transparent;\n",
              "      border-right-color: var(--fill-color);\n",
              "      border-bottom-color: var(--fill-color);\n",
              "    }\n",
              "    90% {\n",
              "      border-color: transparent;\n",
              "      border-bottom-color: var(--fill-color);\n",
              "    }\n",
              "  }\n",
              "</style>\n",
              "\n",
              "  <script>\n",
              "    async function quickchart(key) {\n",
              "      const quickchartButtonEl =\n",
              "        document.querySelector('#' + key + ' button');\n",
              "      quickchartButtonEl.disabled = true;  // To prevent multiple clicks.\n",
              "      quickchartButtonEl.classList.add('colab-df-spinner');\n",
              "      try {\n",
              "        const charts = await google.colab.kernel.invokeFunction(\n",
              "            'suggestCharts', [key], {});\n",
              "      } catch (error) {\n",
              "        console.error('Error during call to suggestCharts:', error);\n",
              "      }\n",
              "      quickchartButtonEl.classList.remove('colab-df-spinner');\n",
              "      quickchartButtonEl.classList.add('colab-df-quickchart-complete');\n",
              "    }\n",
              "    (() => {\n",
              "      let quickchartButtonEl =\n",
              "        document.querySelector('#df-0df2e2c6-692b-4002-8ed3-8340e7aca594 button');\n",
              "      quickchartButtonEl.style.display =\n",
              "        google.colab.kernel.accessAllowed ? 'block' : 'none';\n",
              "    })();\n",
              "  </script>\n",
              "</div>\n",
              "\n",
              "    </div>\n",
              "  </div>\n"
            ],
            "application/vnd.google.colaboratory.intrinsic+json": {
              "type": "dataframe",
              "variable_name": "df"
            }
          },
          "metadata": {},
          "execution_count": 2
        }
      ]
    },
    {
      "cell_type": "markdown",
      "source": [
        "# Data Preprocessing"
      ],
      "metadata": {
        "id": "YQigJsDUWeJp"
      }
    },
    {
      "cell_type": "code",
      "source": [
        "## check nulls\n",
        "df.isna().sum()"
      ],
      "metadata": {
        "colab": {
          "base_uri": "https://localhost:8080/",
          "height": 1000
        },
        "id": "MDsg0YKyWp-U",
        "outputId": "48e03cef-5b3d-440a-f91a-96247cc937a0"
      },
      "execution_count": 3,
      "outputs": [
        {
          "output_type": "execute_result",
          "data": {
            "text/plain": [
              "id                           0\n",
              "account_type                 0\n",
              "gender                       0\n",
              "age                          0\n",
              "region_code                  0\n",
              "cc_cons_apr                  0\n",
              "dc_cons_apr              19052\n",
              "cc_cons_may                  0\n",
              "dc_cons_may              17339\n",
              "cc_cons_jun                  0\n",
              "dc_cons_jun              21297\n",
              "cc_count_apr              2399\n",
              "cc_count_may              1153\n",
              "cc_count_jun              1590\n",
              "dc_count_apr             19052\n",
              "dc_count_may             17339\n",
              "dc_count_jun             15497\n",
              "card_lim                     9\n",
              "personal_loan_active     30078\n",
              "vehicle_loan_active      31974\n",
              "personal_loan_closed     29937\n",
              "vehicle_loan_closed      31195\n",
              "investment_1             31394\n",
              "investment_2             30482\n",
              "investment_3             31488\n",
              "investment_4             32414\n",
              "debit_amount_apr          1890\n",
              "credit_amount_apr         3302\n",
              "debit_count_apr           1758\n",
              "credit_count_apr          1758\n",
              "max_credit_amount_apr     3302\n",
              "debit_amount_may          2301\n",
              "credit_amount_may         3405\n",
              "credit_count_may          2071\n",
              "debit_count_may           2071\n",
              "max_credit_amount_may     3405\n",
              "debit_amount_jun          2195\n",
              "credit_amount_jun         1543\n",
              "credit_count_jun          1528\n",
              "debit_count_jun           1528\n",
              "max_credit_amount_jun     1543\n",
              "loan_enq                 32211\n",
              "emi_active                   0\n",
              "cc_cons                      0\n",
              "dtype: int64"
            ],
            "text/html": [
              "<div>\n",
              "<style scoped>\n",
              "    .dataframe tbody tr th:only-of-type {\n",
              "        vertical-align: middle;\n",
              "    }\n",
              "\n",
              "    .dataframe tbody tr th {\n",
              "        vertical-align: top;\n",
              "    }\n",
              "\n",
              "    .dataframe thead th {\n",
              "        text-align: right;\n",
              "    }\n",
              "</style>\n",
              "<table border=\"1\" class=\"dataframe\">\n",
              "  <thead>\n",
              "    <tr style=\"text-align: right;\">\n",
              "      <th></th>\n",
              "      <th>0</th>\n",
              "    </tr>\n",
              "  </thead>\n",
              "  <tbody>\n",
              "    <tr>\n",
              "      <th>id</th>\n",
              "      <td>0</td>\n",
              "    </tr>\n",
              "    <tr>\n",
              "      <th>account_type</th>\n",
              "      <td>0</td>\n",
              "    </tr>\n",
              "    <tr>\n",
              "      <th>gender</th>\n",
              "      <td>0</td>\n",
              "    </tr>\n",
              "    <tr>\n",
              "      <th>age</th>\n",
              "      <td>0</td>\n",
              "    </tr>\n",
              "    <tr>\n",
              "      <th>region_code</th>\n",
              "      <td>0</td>\n",
              "    </tr>\n",
              "    <tr>\n",
              "      <th>cc_cons_apr</th>\n",
              "      <td>0</td>\n",
              "    </tr>\n",
              "    <tr>\n",
              "      <th>dc_cons_apr</th>\n",
              "      <td>19052</td>\n",
              "    </tr>\n",
              "    <tr>\n",
              "      <th>cc_cons_may</th>\n",
              "      <td>0</td>\n",
              "    </tr>\n",
              "    <tr>\n",
              "      <th>dc_cons_may</th>\n",
              "      <td>17339</td>\n",
              "    </tr>\n",
              "    <tr>\n",
              "      <th>cc_cons_jun</th>\n",
              "      <td>0</td>\n",
              "    </tr>\n",
              "    <tr>\n",
              "      <th>dc_cons_jun</th>\n",
              "      <td>21297</td>\n",
              "    </tr>\n",
              "    <tr>\n",
              "      <th>cc_count_apr</th>\n",
              "      <td>2399</td>\n",
              "    </tr>\n",
              "    <tr>\n",
              "      <th>cc_count_may</th>\n",
              "      <td>1153</td>\n",
              "    </tr>\n",
              "    <tr>\n",
              "      <th>cc_count_jun</th>\n",
              "      <td>1590</td>\n",
              "    </tr>\n",
              "    <tr>\n",
              "      <th>dc_count_apr</th>\n",
              "      <td>19052</td>\n",
              "    </tr>\n",
              "    <tr>\n",
              "      <th>dc_count_may</th>\n",
              "      <td>17339</td>\n",
              "    </tr>\n",
              "    <tr>\n",
              "      <th>dc_count_jun</th>\n",
              "      <td>15497</td>\n",
              "    </tr>\n",
              "    <tr>\n",
              "      <th>card_lim</th>\n",
              "      <td>9</td>\n",
              "    </tr>\n",
              "    <tr>\n",
              "      <th>personal_loan_active</th>\n",
              "      <td>30078</td>\n",
              "    </tr>\n",
              "    <tr>\n",
              "      <th>vehicle_loan_active</th>\n",
              "      <td>31974</td>\n",
              "    </tr>\n",
              "    <tr>\n",
              "      <th>personal_loan_closed</th>\n",
              "      <td>29937</td>\n",
              "    </tr>\n",
              "    <tr>\n",
              "      <th>vehicle_loan_closed</th>\n",
              "      <td>31195</td>\n",
              "    </tr>\n",
              "    <tr>\n",
              "      <th>investment_1</th>\n",
              "      <td>31394</td>\n",
              "    </tr>\n",
              "    <tr>\n",
              "      <th>investment_2</th>\n",
              "      <td>30482</td>\n",
              "    </tr>\n",
              "    <tr>\n",
              "      <th>investment_3</th>\n",
              "      <td>31488</td>\n",
              "    </tr>\n",
              "    <tr>\n",
              "      <th>investment_4</th>\n",
              "      <td>32414</td>\n",
              "    </tr>\n",
              "    <tr>\n",
              "      <th>debit_amount_apr</th>\n",
              "      <td>1890</td>\n",
              "    </tr>\n",
              "    <tr>\n",
              "      <th>credit_amount_apr</th>\n",
              "      <td>3302</td>\n",
              "    </tr>\n",
              "    <tr>\n",
              "      <th>debit_count_apr</th>\n",
              "      <td>1758</td>\n",
              "    </tr>\n",
              "    <tr>\n",
              "      <th>credit_count_apr</th>\n",
              "      <td>1758</td>\n",
              "    </tr>\n",
              "    <tr>\n",
              "      <th>max_credit_amount_apr</th>\n",
              "      <td>3302</td>\n",
              "    </tr>\n",
              "    <tr>\n",
              "      <th>debit_amount_may</th>\n",
              "      <td>2301</td>\n",
              "    </tr>\n",
              "    <tr>\n",
              "      <th>credit_amount_may</th>\n",
              "      <td>3405</td>\n",
              "    </tr>\n",
              "    <tr>\n",
              "      <th>credit_count_may</th>\n",
              "      <td>2071</td>\n",
              "    </tr>\n",
              "    <tr>\n",
              "      <th>debit_count_may</th>\n",
              "      <td>2071</td>\n",
              "    </tr>\n",
              "    <tr>\n",
              "      <th>max_credit_amount_may</th>\n",
              "      <td>3405</td>\n",
              "    </tr>\n",
              "    <tr>\n",
              "      <th>debit_amount_jun</th>\n",
              "      <td>2195</td>\n",
              "    </tr>\n",
              "    <tr>\n",
              "      <th>credit_amount_jun</th>\n",
              "      <td>1543</td>\n",
              "    </tr>\n",
              "    <tr>\n",
              "      <th>credit_count_jun</th>\n",
              "      <td>1528</td>\n",
              "    </tr>\n",
              "    <tr>\n",
              "      <th>debit_count_jun</th>\n",
              "      <td>1528</td>\n",
              "    </tr>\n",
              "    <tr>\n",
              "      <th>max_credit_amount_jun</th>\n",
              "      <td>1543</td>\n",
              "    </tr>\n",
              "    <tr>\n",
              "      <th>loan_enq</th>\n",
              "      <td>32211</td>\n",
              "    </tr>\n",
              "    <tr>\n",
              "      <th>emi_active</th>\n",
              "      <td>0</td>\n",
              "    </tr>\n",
              "    <tr>\n",
              "      <th>cc_cons</th>\n",
              "      <td>0</td>\n",
              "    </tr>\n",
              "  </tbody>\n",
              "</table>\n",
              "</div><br><label><b>dtype:</b> int64</label>"
            ]
          },
          "metadata": {},
          "execution_count": 3
        }
      ]
    },
    {
      "cell_type": "code",
      "source": [
        "## move nulls to list\n",
        "columns_with_nans = df.columns[df.isna().any()].tolist()\n",
        "\n",
        "# Print col names with null values\n",
        "print(\"Columns with NaNs:\", columns_with_nans)\n",
        "print(\"Number of columns with nans:\", len(columns_with_nans))"
      ],
      "metadata": {
        "colab": {
          "base_uri": "https://localhost:8080/"
        },
        "id": "6rJRCfrTWa_p",
        "outputId": "349a3f67-4481-4033-896c-99a2a16e7695"
      },
      "execution_count": 4,
      "outputs": [
        {
          "output_type": "stream",
          "name": "stdout",
          "text": [
            "Columns with NaNs: ['dc_cons_apr', 'dc_cons_may', 'dc_cons_jun', 'cc_count_apr', 'cc_count_may', 'cc_count_jun', 'dc_count_apr', 'dc_count_may', 'dc_count_jun', 'card_lim', 'personal_loan_active', 'vehicle_loan_active', 'personal_loan_closed', 'vehicle_loan_closed', 'investment_1', 'investment_2', 'investment_3', 'investment_4', 'debit_amount_apr', 'credit_amount_apr', 'debit_count_apr', 'credit_count_apr', 'max_credit_amount_apr', 'debit_amount_may', 'credit_amount_may', 'credit_count_may', 'debit_count_may', 'max_credit_amount_may', 'debit_amount_jun', 'credit_amount_jun', 'credit_count_jun', 'debit_count_jun', 'max_credit_amount_jun', 'loan_enq']\n",
            "Number of columns with nans: 34\n"
          ]
        }
      ]
    },
    {
      "cell_type": "markdown",
      "source": [
        "Let's remove null values"
      ],
      "metadata": {
        "id": "jyiVg5R8W_pQ"
      }
    },
    {
      "cell_type": "code",
      "source": [
        "# List of numeric columns where we have to replace NaN values with 0\n",
        "# Note: ideally we have to check with a domain expert whether filling a specific e,pty cells with 0 is appropriate\n",
        "numeric_columns = [\n",
        "    'dc_cons_apr', 'dc_cons_may', 'dc_cons_jun', 'cc_count_apr', 'cc_count_may', 'cc_count_jun',\n",
        "    'dc_count_apr', 'dc_count_may', 'dc_count_jun', 'card_lim', 'personal_loan_active', 'vehicle_loan_active',\n",
        "    'personal_loan_closed', 'vehicle_loan_closed', 'investment_1', 'investment_2', 'investment_3', 'investment_4',\n",
        "    'debit_amount_apr', 'credit_amount_apr', 'debit_count_apr', 'credit_count_apr', 'max_credit_amount_apr',\n",
        "    'debit_amount_may', 'credit_amount_may', 'credit_count_may', 'debit_count_may', 'max_credit_amount_may',\n",
        "    'debit_amount_jun', 'credit_amount_jun', 'credit_count_jun', 'debit_count_jun', 'max_credit_amount_jun'\n",
        "]\n",
        "\n",
        "# Fill NaN values with 0 in the specified columns\n",
        "df[numeric_columns] = df[numeric_columns].fillna(0)"
      ],
      "metadata": {
        "id": "DJr7bjQEWmIV"
      },
      "execution_count": 5,
      "outputs": []
    },
    {
      "cell_type": "code",
      "source": [
        "## find cols with NaN values and test that our zero filling has worked\n",
        "columns_with_nans = df.columns[df.isna().any()].tolist()\n",
        "\n",
        "\n",
        "# Print col names with null values\n",
        "print(\"Columns with NaNs:\", columns_with_nans)\n",
        "print(\"Number of columns with nans:\", len(columns_with_nans))"
      ],
      "metadata": {
        "colab": {
          "base_uri": "https://localhost:8080/"
        },
        "id": "atFa_qPrXCOv",
        "outputId": "b1f74d1f-0a5e-4d65-8b68-6f3dc0f180a0"
      },
      "execution_count": 6,
      "outputs": [
        {
          "output_type": "stream",
          "name": "stdout",
          "text": [
            "Columns with NaNs: ['loan_enq']\n",
            "Number of columns with nans: 1\n"
          ]
        }
      ]
    },
    {
      "cell_type": "markdown",
      "source": [
        "We still need to replace the 1 column `loan_enq` with null values"
      ],
      "metadata": {
        "id": "0CVsmFylXWe0"
      }
    },
    {
      "cell_type": "code",
      "source": [
        "## Replace NaN values in \"loan_enq\" columnn with \"N\"\n",
        "df['loan_enq'].fillna('N', inplace=True)"
      ],
      "metadata": {
        "colab": {
          "base_uri": "https://localhost:8080/"
        },
        "id": "zRkcAy_MXSAv",
        "outputId": "64ba3fe7-6e0a-4132-b063-62607ef3e144"
      },
      "execution_count": 7,
      "outputs": [
        {
          "output_type": "stream",
          "name": "stderr",
          "text": [
            "<ipython-input-7-90f10ca3210f>:2: FutureWarning: A value is trying to be set on a copy of a DataFrame or Series through chained assignment using an inplace method.\n",
            "The behavior will change in pandas 3.0. This inplace method will never work because the intermediate object on which we are setting values always behaves as a copy.\n",
            "\n",
            "For example, when doing 'df[col].method(value, inplace=True)', try using 'df.method({col: value}, inplace=True)' or df[col] = df[col].method(value) instead, to perform the operation inplace on the original object.\n",
            "\n",
            "\n",
            "  df['loan_enq'].fillna('N', inplace=True)\n"
          ]
        }
      ]
    },
    {
      "cell_type": "code",
      "source": [
        "## sklearn imports\n",
        "from sklearn.preprocessing import StandardScaler, OneHotEncoder\n",
        "from sklearn.compose import ColumnTransformer\n",
        "from sklearn.model_selection import train_test_split"
      ],
      "metadata": {
        "id": "DyhuooNIXuRD"
      },
      "execution_count": 8,
      "outputs": []
    },
    {
      "cell_type": "code",
      "source": [
        "# check col names\n",
        "df.columns"
      ],
      "metadata": {
        "colab": {
          "base_uri": "https://localhost:8080/"
        },
        "id": "IasN4kSIYPOt",
        "outputId": "eef0b58a-1d36-45b5-96fe-b567ef019344"
      },
      "execution_count": 9,
      "outputs": [
        {
          "output_type": "execute_result",
          "data": {
            "text/plain": [
              "Index(['id', 'account_type', 'gender', 'age', 'region_code', 'cc_cons_apr',\n",
              "       'dc_cons_apr', 'cc_cons_may', 'dc_cons_may', 'cc_cons_jun',\n",
              "       'dc_cons_jun', 'cc_count_apr', 'cc_count_may', 'cc_count_jun',\n",
              "       'dc_count_apr', 'dc_count_may', 'dc_count_jun', 'card_lim',\n",
              "       'personal_loan_active', 'vehicle_loan_active', 'personal_loan_closed',\n",
              "       'vehicle_loan_closed', 'investment_1', 'investment_2', 'investment_3',\n",
              "       'investment_4', 'debit_amount_apr', 'credit_amount_apr',\n",
              "       'debit_count_apr', 'credit_count_apr', 'max_credit_amount_apr',\n",
              "       'debit_amount_may', 'credit_amount_may', 'credit_count_may',\n",
              "       'debit_count_may', 'max_credit_amount_may', 'debit_amount_jun',\n",
              "       'credit_amount_jun', 'credit_count_jun', 'debit_count_jun',\n",
              "       'max_credit_amount_jun', 'loan_enq', 'emi_active', 'cc_cons'],\n",
              "      dtype='object')"
            ]
          },
          "metadata": {},
          "execution_count": 9
        }
      ]
    },
    {
      "cell_type": "code",
      "source": [
        "## check dtypes\n",
        "df.info()"
      ],
      "metadata": {
        "colab": {
          "base_uri": "https://localhost:8080/"
        },
        "id": "jsgG73BiYyLM",
        "outputId": "ec29557d-8b9b-4f29-924a-0b5bcd82cd07"
      },
      "execution_count": 10,
      "outputs": [
        {
          "output_type": "stream",
          "name": "stdout",
          "text": [
            "<class 'pandas.core.frame.DataFrame'>\n",
            "RangeIndex: 32820 entries, 0 to 32819\n",
            "Data columns (total 44 columns):\n",
            " #   Column                 Non-Null Count  Dtype  \n",
            "---  ------                 --------------  -----  \n",
            " 0   id                     32820 non-null  int64  \n",
            " 1   account_type           32820 non-null  object \n",
            " 2   gender                 32820 non-null  object \n",
            " 3   age                    32820 non-null  int64  \n",
            " 4   region_code            32820 non-null  int64  \n",
            " 5   cc_cons_apr            32820 non-null  float64\n",
            " 6   dc_cons_apr            32820 non-null  float64\n",
            " 7   cc_cons_may            32820 non-null  float64\n",
            " 8   dc_cons_may            32820 non-null  float64\n",
            " 9   cc_cons_jun            32820 non-null  float64\n",
            " 10  dc_cons_jun            32820 non-null  float64\n",
            " 11  cc_count_apr           32820 non-null  float64\n",
            " 12  cc_count_may           32820 non-null  float64\n",
            " 13  cc_count_jun           32820 non-null  float64\n",
            " 14  dc_count_apr           32820 non-null  float64\n",
            " 15  dc_count_may           32820 non-null  float64\n",
            " 16  dc_count_jun           32820 non-null  float64\n",
            " 17  card_lim               32820 non-null  float64\n",
            " 18  personal_loan_active   32820 non-null  float64\n",
            " 19  vehicle_loan_active    32820 non-null  float64\n",
            " 20  personal_loan_closed   32820 non-null  float64\n",
            " 21  vehicle_loan_closed    32820 non-null  float64\n",
            " 22  investment_1           32820 non-null  float64\n",
            " 23  investment_2           32820 non-null  float64\n",
            " 24  investment_3           32820 non-null  float64\n",
            " 25  investment_4           32820 non-null  float64\n",
            " 26  debit_amount_apr       32820 non-null  float64\n",
            " 27  credit_amount_apr      32820 non-null  float64\n",
            " 28  debit_count_apr        32820 non-null  float64\n",
            " 29  credit_count_apr       32820 non-null  float64\n",
            " 30  max_credit_amount_apr  32820 non-null  float64\n",
            " 31  debit_amount_may       32820 non-null  float64\n",
            " 32  credit_amount_may      32820 non-null  float64\n",
            " 33  credit_count_may       32820 non-null  float64\n",
            " 34  debit_count_may        32820 non-null  float64\n",
            " 35  max_credit_amount_may  32820 non-null  float64\n",
            " 36  debit_amount_jun       32820 non-null  float64\n",
            " 37  credit_amount_jun      32820 non-null  float64\n",
            " 38  credit_count_jun       32820 non-null  float64\n",
            " 39  debit_count_jun        32820 non-null  float64\n",
            " 40  max_credit_amount_jun  32820 non-null  float64\n",
            " 41  loan_enq               32820 non-null  object \n",
            " 42  emi_active             32820 non-null  float64\n",
            " 43  cc_cons                32820 non-null  int64  \n",
            "dtypes: float64(37), int64(4), object(3)\n",
            "memory usage: 11.0+ MB\n"
          ]
        }
      ]
    },
    {
      "cell_type": "code",
      "source": [
        "## split data\n",
        "X = df.drop('cc_cons', axis=1)\n",
        "y = df['cc_cons']\n",
        "\n",
        "# define numerical and categorical features\n",
        "numerical_cols = X.select_dtypes(include=['int64', 'float64']).columns\n",
        "categorical_cols = ['account_type', 'gender', 'loan_enq']\n",
        "\n",
        "# create preprocessing pipelines: scaling numerical data and encoding categorical data\n",
        "numerical_transformer = StandardScaler()\n",
        "categorical_transformer = OneHotEncoder(handle_unknown='ignore')\n",
        "\n",
        "\n",
        "preprocessor = ColumnTransformer(\n",
        "    transformers=[\n",
        "        ('num', numerical_transformer, numerical_cols),\n",
        "        ('cat', categorical_transformer, categorical_cols)\n",
        "    ])\n",
        "\n",
        "# split dataset --> train and test sets (80/20 split)\n",
        "X_train, X_test, y_train, y_test = train_test_split(X, y, test_size=0.2, random_state=0)\n",
        "\n",
        "## view result\n",
        "print(X_train.head(2))\n"
      ],
      "metadata": {
        "colab": {
          "base_uri": "https://localhost:8080/"
        },
        "id": "CWgAPwy9YIQi",
        "outputId": "410757bc-dbb5-4ac5-b574-879faac0fdb4"
      },
      "execution_count": 11,
      "outputs": [
        {
          "output_type": "stream",
          "name": "stdout",
          "text": [
            "          id account_type gender  age  region_code  cc_cons_apr  dc_cons_apr  \\\n",
            "12665  29125      current      M   40          424     20011.05          0.0   \n",
            "20050  22432      current      M   22          723      9859.00       3473.0   \n",
            "\n",
            "       cc_cons_may  dc_cons_may  cc_cons_jun  ...  credit_count_may  \\\n",
            "12665      7665.48      19991.0      11681.0  ...               3.0   \n",
            "20050      1037.00       1187.0       5612.5  ...               2.0   \n",
            "\n",
            "       debit_count_may  max_credit_amount_may  debit_amount_jun  \\\n",
            "12665             16.0                41000.0          62879.04   \n",
            "20050             11.0                16901.0          26597.51   \n",
            "\n",
            "       credit_amount_jun  credit_count_jun  debit_count_jun  \\\n",
            "12665           53597.93               6.0             14.0   \n",
            "20050            7612.00               4.0             15.0   \n",
            "\n",
            "       max_credit_amount_jun  loan_enq  emi_active  \n",
            "12665                48000.0         N      1474.3  \n",
            "20050                 5000.0         N         0.0  \n",
            "\n",
            "[2 rows x 43 columns]\n"
          ]
        }
      ]
    },
    {
      "cell_type": "code",
      "source": [
        "## y_train\n",
        "y_train.head()"
      ],
      "metadata": {
        "colab": {
          "base_uri": "https://localhost:8080/",
          "height": 241
        },
        "id": "ccNBwIe7ZSXw",
        "outputId": "07c4f2c0-c8d5-4e97-961b-fdcbad2aea78"
      },
      "execution_count": 12,
      "outputs": [
        {
          "output_type": "execute_result",
          "data": {
            "text/plain": [
              "12665      620\n",
              "20050      372\n",
              "893       1943\n",
              "21491      881\n",
              "21726    32020\n",
              "Name: cc_cons, dtype: int64"
            ],
            "text/html": [
              "<div>\n",
              "<style scoped>\n",
              "    .dataframe tbody tr th:only-of-type {\n",
              "        vertical-align: middle;\n",
              "    }\n",
              "\n",
              "    .dataframe tbody tr th {\n",
              "        vertical-align: top;\n",
              "    }\n",
              "\n",
              "    .dataframe thead th {\n",
              "        text-align: right;\n",
              "    }\n",
              "</style>\n",
              "<table border=\"1\" class=\"dataframe\">\n",
              "  <thead>\n",
              "    <tr style=\"text-align: right;\">\n",
              "      <th></th>\n",
              "      <th>cc_cons</th>\n",
              "    </tr>\n",
              "  </thead>\n",
              "  <tbody>\n",
              "    <tr>\n",
              "      <th>12665</th>\n",
              "      <td>620</td>\n",
              "    </tr>\n",
              "    <tr>\n",
              "      <th>20050</th>\n",
              "      <td>372</td>\n",
              "    </tr>\n",
              "    <tr>\n",
              "      <th>893</th>\n",
              "      <td>1943</td>\n",
              "    </tr>\n",
              "    <tr>\n",
              "      <th>21491</th>\n",
              "      <td>881</td>\n",
              "    </tr>\n",
              "    <tr>\n",
              "      <th>21726</th>\n",
              "      <td>32020</td>\n",
              "    </tr>\n",
              "  </tbody>\n",
              "</table>\n",
              "</div><br><label><b>dtype:</b> int64</label>"
            ]
          },
          "metadata": {},
          "execution_count": 12
        }
      ]
    },
    {
      "cell_type": "code",
      "source": [
        "## apply scaling and encoding transformations\n",
        "X_train = preprocessor.fit_transform(X_train)\n",
        "X_test = preprocessor.transform(X_test)\n",
        "X_train[:2]"
      ],
      "metadata": {
        "colab": {
          "base_uri": "https://localhost:8080/"
        },
        "id": "ZxjH6qw5Zepf",
        "outputId": "df9e5c82-8b02-4292-858f-f79a8dae51bf"
      },
      "execution_count": 13,
      "outputs": [
        {
          "output_type": "execute_result",
          "data": {
            "text/plain": [
              "array([[ 0.41790163,  0.4745146 , -0.69416884,  0.1361498 , -0.29384331,\n",
              "        -0.29183089,  1.69499864,  0.17088608, -0.25094642,  0.7182671 ,\n",
              "         0.08670607,  1.4641179 , -0.46561127,  0.51434489,  0.11224179,\n",
              "        -0.32097467, -0.30053314, -0.16231651, -0.31103353, -0.22952608,\n",
              "        -0.03597118, -0.09708223, -0.08974727, -0.07060041,  0.06925065,\n",
              "         0.16428121,  0.92651539, -0.45717374,  0.04908393,  0.04821203,\n",
              "        -0.15356069, -0.21744647,  0.25178783, -0.03094002, -0.03885138,\n",
              "        -0.08091006,  0.10020071, -0.09427075,  0.05936268, -0.03039879,\n",
              "         1.        ,  0.        ,  0.        ,  1.        ,  1.        ,\n",
              "         0.        ],\n",
              "       [-0.07777052, -1.62230825,  0.89441764, -0.27413141,  0.12727036,\n",
              "        -0.58731224, -0.14295897, -0.216256  , -0.14192995, -0.59589067,\n",
              "        -0.84069138, -0.81919138,  0.59388377, -0.15915283, -0.01792696,\n",
              "        -0.74445332, -0.30053314, -0.16231651, -0.31103353, -0.22952608,\n",
              "        -0.03597118, -0.09708223, -0.08974727, -0.07060041, -0.31916562,\n",
              "        -0.29986038,  1.35208811, -0.45717374, -0.21039366, -0.35581793,\n",
              "        -0.34597159, -0.47467893, -0.17907202, -0.25944434, -0.20277276,\n",
              "        -0.29276148, -0.31789542, -0.01966792, -0.38058529, -0.03545317,\n",
              "         1.        ,  0.        ,  0.        ,  1.        ,  1.        ,\n",
              "         0.        ]])"
            ]
          },
          "metadata": {},
          "execution_count": 13
        }
      ]
    },
    {
      "cell_type": "code",
      "source": [
        "## now we need to convert numpy data to PyTorch tensors\n",
        "import torch\n",
        "\n",
        "## train data\n",
        "X_train_tensor = torch.tensor(X_train, dtype=torch.float32)\n",
        "y_train_tensor = torch.tensor(y_train, dtype=torch.float32)\n",
        "\n",
        "## test data\n",
        "X_test_tensor = torch.tensor(X_test, dtype=torch.float32)\n",
        "y_test_tensor = torch.tensor(y_test.values.reshape(-1,1), dtype=torch.float32)"
      ],
      "metadata": {
        "id": "wE1ONSWOZn9D"
      },
      "execution_count": 14,
      "outputs": []
    },
    {
      "cell_type": "code",
      "source": [
        "## plot a histogram\n",
        "import matplotlib.pyplot as plt\n",
        "%matplotlib inline\n",
        "\n",
        "fig = plt.figure(figsize=(12,8))\n",
        "plt.hist(y_train_tensor, bins=100)\n",
        "plt.title(\"Histogram of y_train_tensor\")\n",
        "plt.show();"
      ],
      "metadata": {
        "colab": {
          "base_uri": "https://localhost:8080/",
          "height": 555
        },
        "id": "Z17tI9OzaImv",
        "outputId": "059d69cd-fc46-4b69-984e-5446a259cc6e"
      },
      "execution_count": 15,
      "outputs": [
        {
          "output_type": "display_data",
          "data": {
            "text/plain": [
              "<Figure size 1200x800 with 1 Axes>"
            ],
            "image/png": "[encoded data removed]"
          },
          "metadata": {}
        }
      ]
    },
    {
      "cell_type": "markdown",
      "source": [
        "Summary:\n",
        "* We need to use the RMSLE (root mean squared logarithmic error) here because of the long tail distribution of y, and we are interested in the true value and predicted values.\n",
        "* In our case the target distribution has a LONG TAIL from 0 to 400k.\n",
        "\n",
        "Root Mean Squared Logarithmic Error (RMSLE) is a metric used to evaluate the accuracy of a model's predictions, especially when the target variable has a wide range of values.\n",
        "\n",
        "It's calculated by taking the square root of the average of the squared logarithmic differences between the predicted and actual values.\n",
        "\n",
        "**Here are some advantages of RMSLE:**\n",
        "1. Robust to outliers\n",
        "2. RMSLE is less sensitive to large errors because it takes the logarithm of the errors. This means that it gives more weight to small errors.\n",
        "\n",
        "3. Scale-invariant\n",
        "  * RMSLE doesn't depend on the scale or units of the data, making it easier to compare different models or datasets.\n",
        "\n",
        "4. Penalizes underestimates more\n",
        "  * RMSLE penalizes the model more if the predicted value is less than the actual value. This can be helpful in situations where underestimation is not acceptable.\n",
        "\n",
        "5. RMSLE is only applicable to positive values, as it takes the logarithm of the values.\n",
        "  * This means that it cannot handle zero or negative values.\n"
      ],
      "metadata": {
        "id": "RPorz_gxbCPq"
      }
    },
    {
      "cell_type": "code",
      "source": [
        "## define rmsle function\n",
        "def rmsle(y_pred, y_true):\n",
        "\n",
        "  # ensure predictions are positive + 1 to avoid Log(0)\n",
        "  y_pred = torch.clamp(y_pred, min=0) + 1\n",
        "  y_true = torch.clamp(y_true, min=0) + 1\n",
        "\n",
        "  # calculate logarithms and compute squared difference\n",
        "  log_pred = torch.log(y_pred)\n",
        "  log_true = torch.log(y_true)\n",
        "  squared_log_error = (log_pred - log_true) ** 2\n",
        "\n",
        "  # compute mean of squared log error and take square root\n",
        "  mean_squared_log_error = torch.mean(squared_log_error)\n",
        "  rmsle = torch.sqrt(mean_squared_log_error)\n",
        "\n",
        "  return rmsle"
      ],
      "metadata": {
        "id": "qda6XQK9aYhX"
      },
      "execution_count": 16,
      "outputs": []
    },
    {
      "cell_type": "markdown",
      "source": [
        "# Build Neural Network Linear Regression model"
      ],
      "metadata": {
        "id": "dDKPKeXKcvOB"
      }
    },
    {
      "cell_type": "code",
      "source": [
        "import torch.nn as nn\n",
        "import torch.nn.functional as F\n",
        "from torch.utils.data import TensorDataset, DataLoader\n",
        "import torch.optim as optim #optimizer"
      ],
      "metadata": {
        "id": "FoBDjDfqcsuR"
      },
      "execution_count": 17,
      "outputs": []
    },
    {
      "cell_type": "code",
      "source": [
        "## Build network model\n",
        "class LinearNet(nn.Module):\n",
        "\n",
        "  def __init__(self):\n",
        "    super(LinearNet, self).__init__()\n",
        "    # Define 3 linear layers\n",
        "    self.fc1 = nn.Linear(X_test_tensor.shape[1], 128)\n",
        "    self.fc2 = nn.Linear(128, 64)\n",
        "    self.fc3 = nn.Linear(64, 32)\n",
        "    self.fc4 = nn.Linear(32, 1) # 1 output\n",
        "\n",
        "  # forward pass- uses Relu activation function\n",
        "  # Outputs the input directly if it's positive\n",
        "  # Outputs zero if the input is negative\n",
        "  # Relu introduces non-linearity\n",
        "\n",
        "  def forward(self, x):\n",
        "    # pass x through linear layers adding activations\n",
        "    x = F.relu(self.fc1(x))\n",
        "    x = F.relu(self.fc2(x))\n",
        "    x = F.relu(self.fc3(x))\n",
        "    x = self.fc4(x)\n",
        "\n",
        "    return x"
      ],
      "metadata": {
        "id": "_eL5LuCac77T"
      },
      "execution_count": 18,
      "outputs": []
    },
    {
      "cell_type": "code",
      "source": [
        "## convert train data to tensor dataset\n",
        "train_data = TensorDataset(X_train_tensor, y_train_tensor)"
      ],
      "metadata": {
        "id": "9glnn59pdkUL"
      },
      "execution_count": 19,
      "outputs": []
    },
    {
      "cell_type": "markdown",
      "source": [
        "# Train Model"
      ],
      "metadata": {
        "id": "UUPrDsVReo4j"
      }
    },
    {
      "cell_type": "code",
      "source": [
        "# init instance of model\n",
        "model = LinearNet()\n",
        "\n",
        "# setup optimizer and loss function\n",
        "optimizer = optim.SGD(model.parameters(), lr = 0.001, momentum=0.9)\n",
        "train_loss_list=[]\n",
        "test_loss_list = []\n",
        "num_epochs = 30\n",
        "train_loader = DataLoader(train_data, batch_size= 64, shuffle=True)\n",
        "\n",
        "# Execute the training loop\n",
        "for epoch in range(num_epochs): # increasing the epochs for effective training\n",
        "    for X_batch, y_batch in train_loader:\n",
        "        # Forward pass\n",
        "        pred = model(X_batch)\n",
        "        loss = rmsle(pred, y_batch)\n",
        "\n",
        "        # Backward pass and optimization\n",
        "        optimizer.zero_grad()\n",
        "        loss.backward()\n",
        "        optimizer.step()\n",
        "\n",
        "    train_loss = rmsle(model(X_train_tensor), y_train_tensor).item()\n",
        "        # print(epoch,': ', train_loss)\n",
        "    test_loss = rmsle(model(X_test_tensor), y_test_tensor).item()\n",
        "    train_loss_list.append(train_loss)\n",
        "    test_loss_list.append(test_loss)\n",
        "    if (epoch+1) % 5 == 0: # printing after every 100 epochs\n",
        "        print(f'Epoch {epoch+1}: Train Loss: {train_loss:.4f} | Test Loss: {test_loss:.4f}')\n",
        ""
      ],
      "metadata": {
        "colab": {
          "base_uri": "https://localhost:8080/"
        },
        "id": "bJZ8PrRpeh9T",
        "outputId": "0911a640-1e7d-465e-bebc-0e4bf438c857"
      },
      "execution_count": 20,
      "outputs": [
        {
          "output_type": "stream",
          "name": "stdout",
          "text": [
            "Epoch 5: Train Loss: 2.2227 | Test Loss: 2.2268\n",
            "Epoch 10: Train Loss: 1.3458 | Test Loss: 1.3622\n",
            "Epoch 15: Train Loss: 1.3167 | Test Loss: 1.3320\n",
            "Epoch 20: Train Loss: 1.3152 | Test Loss: 1.3286\n",
            "Epoch 25: Train Loss: 1.3149 | Test Loss: 1.3266\n",
            "Epoch 30: Train Loss: 1.3147 | Test Loss: 1.3251\n"
          ]
        }
      ]
    },
    {
      "cell_type": "code",
      "source": [
        "plt.plot(range(num_epochs),train_loss_list, label = 'train')\n",
        "plt.plot(range(num_epochs),test_loss_list, label = 'test')\n",
        "plt.legend()\n",
        "plt.show();"
      ],
      "metadata": {
        "colab": {
          "base_uri": "https://localhost:8080/",
          "height": 430
        },
        "id": "Nygq8GaHfAXc",
        "outputId": "a2b2cc24-a3a5-41a1-f06f-eea877f9d070"
      },
      "execution_count": 21,
      "outputs": [
        {
          "output_type": "display_data",
          "data": {
            "text/plain": [
              "<Figure size 640x480 with 1 Axes>"
            ],
            "image/png": "[encoded data removed]"
          },
          "metadata": {}
        }
      ]
    },
    {
      "cell_type": "code",
      "source": [],
      "metadata": {
        "id": "RUtwU5jufozO"
      },
      "execution_count": null,
      "outputs": []
    },
    {
      "cell_type": "markdown",
      "source": [
        "# Network Optimization\n",
        "* Let's optimize/tune this network by:\n",
        "1. Change optimizer to Adam.\n",
        "2. Use larger batch size.\n",
        "3. Use a bigger network."
      ],
      "metadata": {
        "id": "5R9B-l73ftm4"
      }
    },
    {
      "cell_type": "code",
      "source": [
        "class Net(nn.Module):\n",
        "    def __init__(self):\n",
        "        super(Net, self).__init__()\n",
        "        # Define the three linear layers\n",
        "        self.fc1 = nn.Linear(X_test_tensor.shape[1], 512)\n",
        "        self.fc2 = nn.Linear(512, 128)\n",
        "        self.fc3 = nn.Linear(128,32)\n",
        "        self.fc4 = nn.Linear(32,1)\n",
        "\n",
        "    def forward(self, x):\n",
        "        # Pass x through linear layers adding activations\n",
        "        x = F.relu(self.fc1(x))\n",
        "        x = F.relu(self.fc2(x))\n",
        "        x = F.relu(self.fc3(x))\n",
        "        x = self.fc4(x)\n",
        "        return x"
      ],
      "metadata": {
        "id": "4SD4fLdPfowZ"
      },
      "execution_count": 22,
      "outputs": []
    },
    {
      "cell_type": "code",
      "source": [
        "model = Net()\n",
        "optimizer = optim.Adam(model.parameters())\n",
        "train_loss_list=[]\n",
        "test_loss_list = []\n",
        "num_epochs = 30\n",
        "train_loader = DataLoader(train_data, batch_size= 128, shuffle=True)\n",
        "# Execute the training loop\n",
        "for epoch in range(num_epochs): # increasing the epochs for effective training\n",
        "    for X_batch, y_batch in train_loader:\n",
        "        # Forward pass\n",
        "        pred = model(X_batch)\n",
        "        loss = rmsle(pred, y_batch)\n",
        "\n",
        "        # Backward pass and optimization\n",
        "        optimizer.zero_grad()\n",
        "        loss.backward()\n",
        "        optimizer.step()\n",
        "\n",
        "    train_loss = rmsle(model(X_train_tensor), y_train_tensor).item()\n",
        "        # print(epoch,': ', train_loss)\n",
        "    test_loss = rmsle(model(X_test_tensor), y_test_tensor).item()\n",
        "    train_loss_list.append(train_loss)\n",
        "    test_loss_list.append(test_loss)\n",
        "    if (epoch+1) % 5 == 0: # printing after every 100 epochs\n",
        "        print(f'Epoch {epoch+1}: Train Loss: {train_loss:.4f}, Test Loss: {test_loss:.4f}')\n",
        ""
      ],
      "metadata": {
        "id": "ERa4UHQxfsm_",
        "outputId": "32b28e99-69c8-4610-9807-b7b4abfb9c4a",
        "colab": {
          "base_uri": "https://localhost:8080/"
        }
      },
      "execution_count": 23,
      "outputs": [
        {
          "output_type": "stream",
          "name": "stdout",
          "text": [
            "Epoch 5: Train Loss: 1.3180, Test Loss: 1.3208\n",
            "Epoch 10: Train Loss: 1.3122, Test Loss: 1.3170\n",
            "Epoch 15: Train Loss: 1.3109, Test Loss: 1.3155\n",
            "Epoch 20: Train Loss: 1.3107, Test Loss: 1.3121\n",
            "Epoch 25: Train Loss: 1.3112, Test Loss: 1.3142\n",
            "Epoch 30: Train Loss: 1.3108, Test Loss: 1.3149\n"
          ]
        }
      ]
    },
    {
      "cell_type": "code",
      "source": [
        "plt.plot(range(num_epochs),train_loss_list, label = 'train')\n",
        "plt.plot(range(num_epochs),test_loss_list, label = 'test')\n",
        "plt.legend()\n",
        "plt.show()"
      ],
      "metadata": {
        "id": "dHwcPVwlgMPN",
        "outputId": "99788839-6b0c-4d22-afb5-549835ccdff6",
        "colab": {
          "base_uri": "https://localhost:8080/",
          "height": 430
        }
      },
      "execution_count": 24,
      "outputs": [
        {
          "output_type": "display_data",
          "data": {
            "text/plain": [
              "<Figure size 640x480 with 1 Axes>"
            ],
            "image/png": "[encoded data removed]"
          },
          "metadata": {}
        }
      ]
    },
    {
      "cell_type": "code",
      "source": [],
      "metadata": {
        "id": "VykigwHPgoSv"
      },
      "execution_count": null,
      "outputs": []
    }
  ]
}